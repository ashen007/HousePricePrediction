{
 "cells": [
  {
   "cell_type": "code",
   "execution_count": 2,
   "metadata": {
    "collapsed": true
   },
   "outputs": [],
   "source": [
    "import numpy as np\n",
    "import pandas as pd\n",
    "import seaborn as sns\n",
    "\n",
    "from matplotlib import pyplot as plt\n",
    "from feature_engine import imputation\n",
    "from feature_engine import encoding\n",
    "\n",
    "# pipeline utility\n",
    "from sklearn.pipeline import Pipeline\n",
    "\n",
    "# preprocessing\n",
    "from sklearn.preprocessing import RobustScaler\n",
    "from sklearn.preprocessing import MinMaxScaler\n",
    "from sklearn.preprocessing import QuantileTransformer\n",
    "from sklearn.preprocessing import PolynomialFeatures\n",
    "\n",
    "# hyper-parameter tuning\n",
    "from sklearn.model_selection import train_test_split\n",
    "from sklearn.model_selection import RepeatedKFold\n",
    "from sklearn.model_selection import GridSearchCV\n",
    "from sklearn.model_selection import RandomizedSearchCV\n",
    "\n",
    "# metrics to evaluate models\n",
    "from sklearn.metrics import r2_score\n",
    "from sklearn.metrics import max_error\n",
    "from sklearn.metrics import mean_squared_error\n",
    "\n",
    "# feature selection\n",
    "from sklearn.feature_selection import RFECV\n",
    "from sklearn.feature_selection import SelectFromModel\n",
    "from sklearn.feature_selection import SelectKBest\n",
    "from sklearn.feature_selection import f_regression\n",
    "from sklearn.feature_selection import mutual_info_regression\n",
    "\n",
    "# linear models\n",
    "from sklearn.linear_model import LinearRegression\n",
    "from sklearn.linear_model import Ridge\n",
    "from sklearn.linear_model import Lasso\n",
    "from sklearn.linear_model import ElasticNet\n",
    "from sklearn.linear_model import RANSACRegressor\n",
    "from sklearn.linear_model import SGDRegressor\n",
    "from sklearn.linear_model import LogisticRegression\n",
    "\n",
    "# support vector machines\n",
    "from sklearn.svm import SVR\n",
    "from sklearn.svm import LinearSVR\n",
    "\n",
    "# neighbors models\n",
    "from sklearn.neighbors import KNeighborsRegressor\n",
    "from sklearn.neighbors import RadiusNeighborsRegressor\n",
    "\n",
    "# tree models\n",
    "from sklearn.tree import DecisionTreeRegressor\n",
    "from sklearn.tree import ExtraTreeRegressor\n",
    "\n",
    "# ensemble models\n",
    "from sklearn.ensemble import RandomForestRegressor\n",
    "from sklearn.ensemble import GradientBoostingRegressor\n",
    "from sklearn.ensemble import BaggingRegressor\n",
    "from sklearn.ensemble import AdaBoostRegressor\n",
    "from sklearn.ensemble import StackingRegressor\n",
    "from sklearn.ensemble import VotingRegressor\n",
    "from sklearn.ensemble import HistGradientBoostingRegressor"
   ]
  },
  {
   "cell_type": "code",
   "execution_count": 3,
   "outputs": [
    {
     "data": {
      "text/plain": "((1460, 79), (1460,))"
     },
     "execution_count": 3,
     "metadata": {},
     "output_type": "execute_result"
    }
   ],
   "source": [
    "house_data = pd.read_csv('../data/train.csv', index_col='Id')\n",
    "X = house_data.drop(labels='SalePrice', axis=1)\n",
    "Y = house_data['SalePrice']\n",
    "X.shape, Y.shape"
   ],
   "metadata": {
    "collapsed": false,
    "pycharm": {
     "name": "#%%\n"
    }
   }
  },
  {
   "cell_type": "code",
   "execution_count": 4,
   "outputs": [
    {
     "data": {
      "text/plain": "{'memory': None,\n 'steps': [('most_miss_cat',\n   CategoricalImputer(variables=['Alley', 'FireplaceQu', 'PoolQC', 'Fence',\n                                 'MiscFeature'])),\n  ('least_miss_cat',\n   RandomSampleImputer(random_state='LotArea', seed='observation',\n                       variables=['GarageCond', 'GarageType', 'GarageFinish',\n                                  'GarageQual', 'BsmtExposure', 'BsmtFinType2',\n                                  'BsmtCond', 'BsmtQual', 'BsmtFinType1',\n                                  'MasVnrType', 'Electrical'])),\n  ('least_miss_num',\n   RandomSampleImputer(random_state='LotArea', seed='observation',\n                       variables=['LotFrontage', 'GarageYrBlt', 'MasVnrArea'])),\n  ('encode',\n   OrdinalEncoder(variables=['MSZoning', 'Street', 'Alley', 'LotShape',\n                             'LandContour', 'Utilities', 'LotConfig', 'LandSlope',\n                             'Neighborhood', 'Condition1', 'Condition2',\n                             'BldgType', 'HouseStyle', 'RoofStyle', 'RoofMatl',\n                             'Exterior1st', 'Exterior2nd', 'MasVnrType',\n                             'ExterQual', 'ExterCond', 'Foundation', 'BsmtQual',\n                             'BsmtCond', 'BsmtExposure', 'BsmtFinType1',\n                             'BsmtFinType2', 'Heating', 'HeatingQC', 'CentralAir',\n                             'Electrical', ...])),\n  ('scaling', RobustScaler()),\n  ('transform', QuantileTransformer(output_distribution='normal')),\n  ('scale_to_range', MinMaxScaler())],\n 'verbose': False,\n 'most_miss_cat': CategoricalImputer(variables=['Alley', 'FireplaceQu', 'PoolQC', 'Fence',\n                               'MiscFeature']),\n 'least_miss_cat': RandomSampleImputer(random_state='LotArea', seed='observation',\n                     variables=['GarageCond', 'GarageType', 'GarageFinish',\n                                'GarageQual', 'BsmtExposure', 'BsmtFinType2',\n                                'BsmtCond', 'BsmtQual', 'BsmtFinType1',\n                                'MasVnrType', 'Electrical']),\n 'least_miss_num': RandomSampleImputer(random_state='LotArea', seed='observation',\n                     variables=['LotFrontage', 'GarageYrBlt', 'MasVnrArea']),\n 'encode': OrdinalEncoder(variables=['MSZoning', 'Street', 'Alley', 'LotShape',\n                           'LandContour', 'Utilities', 'LotConfig', 'LandSlope',\n                           'Neighborhood', 'Condition1', 'Condition2',\n                           'BldgType', 'HouseStyle', 'RoofStyle', 'RoofMatl',\n                           'Exterior1st', 'Exterior2nd', 'MasVnrType',\n                           'ExterQual', 'ExterCond', 'Foundation', 'BsmtQual',\n                           'BsmtCond', 'BsmtExposure', 'BsmtFinType1',\n                           'BsmtFinType2', 'Heating', 'HeatingQC', 'CentralAir',\n                           'Electrical', ...]),\n 'scaling': RobustScaler(),\n 'transform': QuantileTransformer(output_distribution='normal'),\n 'scale_to_range': MinMaxScaler(),\n 'most_miss_cat__fill_value': 'Missing',\n 'most_miss_cat__ignore_format': False,\n 'most_miss_cat__imputation_method': 'missing',\n 'most_miss_cat__return_object': False,\n 'most_miss_cat__variables': ['Alley',\n  'FireplaceQu',\n  'PoolQC',\n  'Fence',\n  'MiscFeature'],\n 'least_miss_cat__random_state': 'LotArea',\n 'least_miss_cat__seed': 'observation',\n 'least_miss_cat__seeding_method': 'add',\n 'least_miss_cat__variables': ['GarageCond',\n  'GarageType',\n  'GarageFinish',\n  'GarageQual',\n  'BsmtExposure',\n  'BsmtFinType2',\n  'BsmtCond',\n  'BsmtQual',\n  'BsmtFinType1',\n  'MasVnrType',\n  'Electrical'],\n 'least_miss_num__random_state': 'LotArea',\n 'least_miss_num__seed': 'observation',\n 'least_miss_num__seeding_method': 'add',\n 'least_miss_num__variables': ['LotFrontage', 'GarageYrBlt', 'MasVnrArea'],\n 'encode__encoding_method': 'ordered',\n 'encode__ignore_format': False,\n 'encode__variables': ['MSZoning',\n  'Street',\n  'Alley',\n  'LotShape',\n  'LandContour',\n  'Utilities',\n  'LotConfig',\n  'LandSlope',\n  'Neighborhood',\n  'Condition1',\n  'Condition2',\n  'BldgType',\n  'HouseStyle',\n  'RoofStyle',\n  'RoofMatl',\n  'Exterior1st',\n  'Exterior2nd',\n  'MasVnrType',\n  'ExterQual',\n  'ExterCond',\n  'Foundation',\n  'BsmtQual',\n  'BsmtCond',\n  'BsmtExposure',\n  'BsmtFinType1',\n  'BsmtFinType2',\n  'Heating',\n  'HeatingQC',\n  'CentralAir',\n  'Electrical',\n  'KitchenQual',\n  'Functional',\n  'FireplaceQu',\n  'GarageType',\n  'GarageFinish',\n  'GarageQual',\n  'GarageCond',\n  'PavedDrive',\n  'PoolQC',\n  'Fence',\n  'MiscFeature',\n  'SaleType',\n  'SaleCondition'],\n 'scaling__copy': True,\n 'scaling__quantile_range': (25.0, 75.0),\n 'scaling__unit_variance': False,\n 'scaling__with_centering': True,\n 'scaling__with_scaling': True,\n 'transform__copy': True,\n 'transform__ignore_implicit_zeros': False,\n 'transform__n_quantiles': 1000,\n 'transform__output_distribution': 'normal',\n 'transform__random_state': None,\n 'transform__subsample': 100000,\n 'scale_to_range__clip': False,\n 'scale_to_range__copy': True,\n 'scale_to_range__feature_range': (0, 1)}"
     },
     "execution_count": 4,
     "metadata": {},
     "output_type": "execute_result"
    }
   ],
   "source": [
    "clean_pipeline = Pipeline(steps=[('most_miss_cat', imputation.CategoricalImputer(variables=['Alley',\n",
    "                                                                                            'FireplaceQu',\n",
    "                                                                                            'PoolQC',\n",
    "                                                                                            'Fence',\n",
    "                                                                                            'MiscFeature'])),\n",
    "                                 ('least_miss_cat', imputation.RandomSampleImputer(random_state='LotArea',\n",
    "                                                                                   seed='observation',\n",
    "                                                                                   variables=['GarageCond',\n",
    "                                                                                              'GarageType',\n",
    "                                                                                              'GarageFinish',\n",
    "                                                                                              'GarageQual',\n",
    "                                                                                              'BsmtExposure',\n",
    "                                                                                              'BsmtFinType2',\n",
    "                                                                                              'BsmtCond',\n",
    "                                                                                              'BsmtQual',\n",
    "                                                                                              'BsmtFinType1',\n",
    "                                                                                              'MasVnrType',\n",
    "                                                                                              'Electrical'])),\n",
    "                                 ('least_miss_num', imputation.RandomSampleImputer(random_state='LotArea',\n",
    "                                                                                   seed='observation',\n",
    "                                                                                   variables=['LotFrontage',\n",
    "                                                                                              'GarageYrBlt',\n",
    "                                                                                              'MasVnrArea'])),\n",
    "                                 ('encode', encoding.OrdinalEncoder(\n",
    "                                     variables=X.select_dtypes(include=object).columns.to_list())),\n",
    "                                 ('scaling', RobustScaler()),\n",
    "                                 ('transform', QuantileTransformer(output_distribution='normal')),\n",
    "                                 ('scale_to_range', MinMaxScaler())],\n",
    "                          )\n",
    "\n",
    "clean_pipeline.get_params()"
   ],
   "metadata": {
    "collapsed": false,
    "pycharm": {
     "name": "#%%\n"
    }
   }
  },
  {
   "cell_type": "code",
   "execution_count": 5,
   "outputs": [
    {
     "data": {
      "text/plain": "array([[0.53092803, 0.51489897, 0.48546724, ..., 0.51075999, 0.49396369,\n        0.50096519],\n       [0.        , 0.51489897, 0.55885325, ..., 0.4571177 , 0.49396369,\n        0.50096519],\n       [0.53092803, 0.51489897, 0.49746612, ..., 0.51075999, 0.49396369,\n        0.50096519],\n       ...,\n       [0.56463603, 0.51489897, 0.49154383, ..., 1.        , 0.49396369,\n        0.50096519],\n       [0.        , 0.51489897, 0.49746612, ..., 1.        , 0.49396369,\n        0.50096519],\n       [0.        , 0.51489897, 0.53143667, ..., 0.51075999, 0.49396369,\n        0.50096519]])"
     },
     "execution_count": 5,
     "metadata": {},
     "output_type": "execute_result"
    }
   ],
   "source": [
    "X_ = clean_pipeline.fit_transform(X, Y)\n",
    "X_"
   ],
   "metadata": {
    "collapsed": false,
    "pycharm": {
     "name": "#%%\n"
    }
   }
  },
  {
   "cell_type": "code",
   "execution_count": 6,
   "outputs": [
    {
     "data": {
      "text/plain": "(1460, 79)"
     },
     "execution_count": 6,
     "metadata": {},
     "output_type": "execute_result"
    }
   ],
   "source": [
    "X_.shape"
   ],
   "metadata": {
    "collapsed": false,
    "pycharm": {
     "name": "#%%\n"
    }
   }
  },
  {
   "cell_type": "code",
   "execution_count": 7,
   "outputs": [
    {
     "data": {
      "text/plain": "((1168, 79), (292, 79), (1168,), (292,))"
     },
     "execution_count": 7,
     "metadata": {},
     "output_type": "execute_result"
    }
   ],
   "source": [
    "train_x, test_x, train_y, test_y = train_test_split(X_, Y, test_size=0.2, random_state=48)\n",
    "train_x.shape, test_x.shape, train_y.shape, test_y.shape"
   ],
   "metadata": {
    "collapsed": false,
    "pycharm": {
     "name": "#%%\n"
    }
   }
  }
 ],
 "metadata": {
  "kernelspec": {
   "display_name": "Python 3",
   "language": "python",
   "name": "python3"
  },
  "language_info": {
   "codemirror_mode": {
    "name": "ipython",
    "version": 2
   },
   "file_extension": ".py",
   "mimetype": "text/x-python",
   "name": "python",
   "nbconvert_exporter": "python",
   "pygments_lexer": "ipython2",
   "version": "2.7.6"
  }
 },
 "nbformat": 4,
 "nbformat_minor": 0
}