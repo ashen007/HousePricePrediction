{
 "cells": [
  {
   "cell_type": "code",
   "execution_count": 1,
   "metadata": {
    "collapsed": true
   },
   "outputs": [],
   "source": [
    "import numpy as np\n",
    "import pandas as pd\n",
    "import seaborn as sns\n",
    "\n",
    "from matplotlib import pyplot as plt\n",
    "from feature_engine import imputation\n",
    "from feature_engine import encoding\n",
    "\n",
    "# pipeline utility\n",
    "from sklearn.pipeline import Pipeline\n",
    "\n",
    "# preprocessing\n",
    "from sklearn.preprocessing import RobustScaler\n",
    "from sklearn.preprocessing import MinMaxScaler\n",
    "from sklearn.preprocessing import QuantileTransformer\n",
    "from sklearn.preprocessing import PolynomialFeatures\n",
    "\n",
    "# hyper-parameter tuning\n",
    "from sklearn.model_selection import train_test_split\n",
    "from sklearn.model_selection import RepeatedKFold\n",
    "from sklearn.model_selection import RandomizedSearchCV\n",
    "from sklearn.model_selection import GridSearchCV\n",
    "\n",
    "# metrics to evaluate models\n",
    "from sklearn.metrics import r2_score\n",
    "from sklearn.metrics import max_error\n",
    "from sklearn.metrics import mean_squared_error\n",
    "from sklearn.metrics import make_scorer\n",
    "\n",
    "# feature selection\n",
    "from sklearn.feature_selection import SelectKBest\n",
    "from sklearn.feature_selection import mutual_info_regression\n",
    "\n",
    "# linear models\n",
    "from sklearn.linear_model import Ridge\n",
    "from sklearn.linear_model import Lasso\n",
    "\n",
    "# tree models\n",
    "from sklearn.tree import DecisionTreeRegressor\n",
    "from sklearn.tree import ExtraTreeRegressor\n",
    "\n",
    "# ensemble models\n",
    "from sklearn.ensemble import BaggingRegressor\n",
    "from sklearn.ensemble import RandomForestRegressor\n",
    "from sklearn.ensemble import VotingRegressor\n",
    "from sklearn.ensemble import StackingRegressor\n",
    "from sklearn.ensemble import ExtraTreesRegressor"
   ]
  },
  {
   "cell_type": "code",
   "execution_count": 2,
   "outputs": [
    {
     "data": {
      "text/plain": "((1460, 79), (1460,))"
     },
     "execution_count": 2,
     "metadata": {},
     "output_type": "execute_result"
    }
   ],
   "source": [
    "house_data = pd.read_csv('../data/train.csv', index_col='Id')\n",
    "X = house_data.drop(labels='SalePrice', axis=1)\n",
    "Y = house_data['SalePrice']\n",
    "X.shape, Y.shape"
   ],
   "metadata": {
    "collapsed": false,
    "pycharm": {
     "name": "#%%\n"
    }
   }
  },
  {
   "cell_type": "code",
   "execution_count": 4,
   "outputs": [],
   "source": [
    "cv = RepeatedKFold(n_splits=6, n_repeats=12, random_state=64)"
   ],
   "metadata": {
    "collapsed": false,
    "pycharm": {
     "name": "#%%\n"
    }
   }
  },
  {
   "cell_type": "code",
   "execution_count": 3,
   "outputs": [],
   "source": [
    "base_pipeline = Pipeline(steps=[('most_miss_cat', imputation.CategoricalImputer(variables=['Alley',\n",
    "                                                                                           'FireplaceQu',\n",
    "                                                                                           'PoolQC',\n",
    "                                                                                           'Fence',\n",
    "                                                                                           'MiscFeature'])),\n",
    "                                ('least_miss_cat', imputation.RandomSampleImputer(random_state='LotArea',\n",
    "                                                                                  seed='observation',\n",
    "                                                                                  variables=['GarageCond',\n",
    "                                                                                             'GarageType',\n",
    "                                                                                             'GarageFinish',\n",
    "                                                                                             'GarageQual',\n",
    "                                                                                             'BsmtExposure',\n",
    "                                                                                             'BsmtFinType2',\n",
    "                                                                                             'BsmtCond',\n",
    "                                                                                             'BsmtQual',\n",
    "                                                                                             'BsmtFinType1',\n",
    "                                                                                             'MasVnrType',\n",
    "                                                                                             'Electrical'])),\n",
    "                                ('least_miss_num', imputation.RandomSampleImputer(random_state='LotArea',\n",
    "                                                                                  seed='observation',\n",
    "                                                                                  variables=['LotFrontage',\n",
    "                                                                                             'GarageYrBlt',\n",
    "                                                                                             'MasVnrArea'])),\n",
    "                                ('undetected', imputation.RandomSampleImputer(random_state='LotArea',\n",
    "                                                                              seed='observation')),\n",
    "                                ('encode', encoding.OrdinalEncoder(\n",
    "                                    variables=X.select_dtypes(include=object).columns.to_list())),\n",
    "                                ('scaling', RobustScaler()),\n",
    "                                ('transform', QuantileTransformer(output_distribution='normal')),\n",
    "                                ('scale_to_range', MinMaxScaler()),\n",
    "                                ('feature_selection', SelectKBest(score_func=mutual_info_regression,\n",
    "                                                                  k=20))]\n",
    "                         )"
   ],
   "metadata": {
    "collapsed": false,
    "pycharm": {
     "name": "#%%\n"
    }
   }
  },
  {
   "cell_type": "code",
   "execution_count": 5,
   "outputs": [
    {
     "data": {
      "text/plain": "((1168, 20), (292, 20), (1168,), (292,))"
     },
     "execution_count": 5,
     "metadata": {},
     "output_type": "execute_result"
    }
   ],
   "source": [
    "X_ = base_pipeline.fit_transform(X, Y)\n",
    "train_x, test_x, train_y, test_y = train_test_split(X_, Y, test_size=0.2, random_state=48)\n",
    "train_x.shape, test_x.shape, train_y.shape, test_y.shape"
   ],
   "metadata": {
    "collapsed": false,
    "pycharm": {
     "name": "#%%\n"
    }
   }
  },
  {
   "cell_type": "markdown",
   "source": [
    "### bagging"
   ],
   "metadata": {
    "collapsed": false
   }
  },
  {
   "cell_type": "code",
   "execution_count": 8,
   "outputs": [
    {
     "data": {
      "text/plain": "{'base_estimator__memory': None,\n 'base_estimator__steps': [('poly', PolynomialFeatures()),\n  ('lasso', Lasso(alpha=12.807147786982478, max_iter=20687))],\n 'base_estimator__verbose': False,\n 'base_estimator__poly': PolynomialFeatures(),\n 'base_estimator__lasso': Lasso(alpha=12.807147786982478, max_iter=20687),\n 'base_estimator__poly__degree': 2,\n 'base_estimator__poly__include_bias': True,\n 'base_estimator__poly__interaction_only': False,\n 'base_estimator__poly__order': 'C',\n 'base_estimator__lasso__alpha': 12.807147786982478,\n 'base_estimator__lasso__copy_X': True,\n 'base_estimator__lasso__fit_intercept': True,\n 'base_estimator__lasso__max_iter': 20687,\n 'base_estimator__lasso__normalize': 'deprecated',\n 'base_estimator__lasso__positive': False,\n 'base_estimator__lasso__precompute': False,\n 'base_estimator__lasso__random_state': None,\n 'base_estimator__lasso__selection': 'cyclic',\n 'base_estimator__lasso__tol': 0.0001,\n 'base_estimator__lasso__warm_start': False,\n 'base_estimator': Pipeline(steps=[('poly', PolynomialFeatures()),\n                 ('lasso', Lasso(alpha=12.807147786982478, max_iter=20687))]),\n 'bootstrap': True,\n 'bootstrap_features': False,\n 'max_features': 1.0,\n 'max_samples': 1.0,\n 'n_estimators': 10,\n 'n_jobs': None,\n 'oob_score': False,\n 'random_state': None,\n 'verbose': 0,\n 'warm_start': False}"
     },
     "execution_count": 8,
     "metadata": {},
     "output_type": "execute_result"
    }
   ],
   "source": [
    "L1_model = Pipeline(steps=[('poly', PolynomialFeatures(degree=2)),\n",
    "                           ('lasso', Lasso(alpha=12.807147786982478,\n",
    "                                           max_iter=20687))])\n",
    "L1_bagging = BaggingRegressor(base_estimator=L1_model)\n",
    "L1_bagging.get_params()"
   ],
   "metadata": {
    "collapsed": false,
    "pycharm": {
     "name": "#%%\n"
    }
   }
  },
  {
   "cell_type": "code",
   "execution_count": 9,
   "outputs": [
    {
     "data": {
      "text/plain": "RandomizedSearchCV(cv=RepeatedKFold(n_repeats=12, n_splits=6, random_state=64),\n                   estimator=BaggingRegressor(base_estimator=Pipeline(steps=[('poly',\n                                                                              PolynomialFeatures()),\n                                                                             ('lasso',\n                                                                              Lasso(alpha=12.807147786982478,\n                                                                                    max_iter=20687))])),\n                   n_iter=15, n_jobs=-1,\n                   param_distributions={'max_samples': [0.5, 0.67, 0.75, 0.8,\n                                                        0.9],\n                                        'n_estimators': array([30, 45, 18, 27, 39, 26, 45, 79, 66, 33, 53, 65, 90, 84, 18, 38, 18,\n       99, 25, 30])},\n                   refit='mse', return_train_score=True,\n                   scoring={'me': make_scorer(max_error),\n                            'mse': make_scorer(mean_squared_error),\n                            'r2': make_scorer(r2_score)})"
     },
     "execution_count": 9,
     "metadata": {},
     "output_type": "execute_result"
    }
   ],
   "source": [
    "L1_bagging_GS = RandomizedSearchCV(estimator=L1_bagging,\n",
    "                                   param_distributions={'n_estimators': np.random.randint(10, 100, 20),\n",
    "                                                        'max_samples': [0.5, 0.67, 0.75, 0.8, 0.9]},\n",
    "                                   cv=cv,\n",
    "                                   scoring={'r2': make_scorer(r2_score),\n",
    "                                            'me': make_scorer(max_error),\n",
    "                                            'mse': make_scorer(mean_squared_error)\n",
    "                                            },\n",
    "                                   refit='mse',\n",
    "                                   return_train_score=True,\n",
    "                                   n_jobs=-1,\n",
    "                                   n_iter=15)\n",
    "\n",
    "L1_bagging_GS.fit(train_x, train_y)"
   ],
   "metadata": {
    "collapsed": false,
    "pycharm": {
     "name": "#%%\n"
    }
   }
  },
  {
   "cell_type": "code",
   "execution_count": 18,
   "outputs": [
    {
     "data": {
      "text/plain": "(BaggingRegressor(base_estimator=Pipeline(steps=[('poly', PolynomialFeatures()),\n                                                 ('lasso',\n                                                  Lasso(alpha=12.807147786982478,\n                                                        max_iter=20687))]),\n                  max_samples=0.5, n_estimators=18),\n 86.15027990703051,\n 90.12425790601924)"
     },
     "execution_count": 18,
     "metadata": {},
     "output_type": "execute_result"
    }
   ],
   "source": [
    "L1_bagging_GS.best_estimator_, np.mean(L1_bagging_GS.cv_results_['mean_test_r2']) * 100, np.mean(\n",
    "    L1_bagging_GS.cv_results_['mean_train_r2']) * 100"
   ],
   "metadata": {
    "collapsed": false,
    "pycharm": {
     "name": "#%%\n"
    }
   }
  },
  {
   "cell_type": "code",
   "execution_count": 36,
   "outputs": [
    {
     "data": {
      "text/plain": "(0.7504144125481214, 39246.38222405792)"
     },
     "execution_count": 36,
     "metadata": {},
     "output_type": "execute_result"
    }
   ],
   "source": [
    "l1_model = BaggingRegressor(base_estimator=Pipeline(steps=[('poly', PolynomialFeatures()),\n",
    "                                                           ('lasso',\n",
    "                                                            Lasso(alpha=12.807147786982478,\n",
    "                                                                  max_iter=20687))]),\n",
    "                            n_estimators=25)\n",
    "\n",
    "l1_model.fit(train_x, train_y)\n",
    "r2_score(test_y, l1_model.predict(test_x)), mean_squared_error(test_y, l1_model.predict(test_x), squared=False)"
   ],
   "metadata": {
    "collapsed": false,
    "pycharm": {
     "name": "#%%\n"
    }
   }
  },
  {
   "cell_type": "code",
   "execution_count": 19,
   "outputs": [],
   "source": [
    "pd.to_pickle(pd.DataFrame(L1_bagging_GS.cv_results_),\n",
    "             '../data/cv_results/ensemble/l1_bagging_gs.pkl')"
   ],
   "metadata": {
    "collapsed": false,
    "pycharm": {
     "name": "#%%\n"
    }
   }
  },
  {
   "cell_type": "code",
   "execution_count": 23,
   "outputs": [
    {
     "data": {
      "text/plain": "{'memory': None,\n 'steps': [('poly', PolynomialFeatures()),\n  ('ridge', Ridge(alpha=0.5378845624526254, max_iter=6055))],\n 'verbose': False,\n 'poly': PolynomialFeatures(),\n 'ridge': Ridge(alpha=0.5378845624526254, max_iter=6055),\n 'poly__degree': 2,\n 'poly__include_bias': True,\n 'poly__interaction_only': False,\n 'poly__order': 'C',\n 'ridge__alpha': 0.5378845624526254,\n 'ridge__copy_X': True,\n 'ridge__fit_intercept': True,\n 'ridge__max_iter': 6055,\n 'ridge__normalize': 'deprecated',\n 'ridge__positive': False,\n 'ridge__random_state': None,\n 'ridge__solver': 'auto',\n 'ridge__tol': 0.001}"
     },
     "execution_count": 23,
     "metadata": {},
     "output_type": "execute_result"
    }
   ],
   "source": [
    "L2_model = Pipeline(steps=[('poly', PolynomialFeatures(degree=2)),\n",
    "                           ('ridge', Ridge(alpha=0.5378845624526254, max_iter=6055))])\n",
    "L2_bagging = BaggingRegressor(base_estimator=L2_model)\n",
    "L2_model.get_params()"
   ],
   "metadata": {
    "collapsed": false,
    "pycharm": {
     "name": "#%%\n"
    }
   }
  },
  {
   "cell_type": "code",
   "execution_count": 26,
   "outputs": [
    {
     "data": {
      "text/plain": "RandomizedSearchCV(cv=RepeatedKFold(n_repeats=12, n_splits=6, random_state=64),\n                   estimator=BaggingRegressor(base_estimator=Pipeline(steps=[('poly',\n                                                                              PolynomialFeatures()),\n                                                                             ('ridge',\n                                                                              Ridge(alpha=0.5378845624526254,\n                                                                                    max_iter=6055))])),\n                   n_iter=15, n_jobs=-1,\n                   param_distributions={'n_estimators': array([65, 74, 66, 36, 69, 19, 84, 98, 25, 52, 27, 43, 11, 23, 74, 65, 38,\n       47, 21, 90])},\n                   refit='mse', return_train_score=True,\n                   scoring={'me': make_scorer(max_error),\n                            'mse': make_scorer(mean_squared_error),\n                            'r2': make_scorer(r2_score)})"
     },
     "execution_count": 26,
     "metadata": {},
     "output_type": "execute_result"
    }
   ],
   "source": [
    "L2_bagging_GS = RandomizedSearchCV(estimator=L2_bagging,\n",
    "                                   param_distributions={'n_estimators': np.random.randint(10, 100, 20)},\n",
    "                                   cv=cv,\n",
    "                                   scoring={'r2': make_scorer(r2_score),\n",
    "                                            'me': make_scorer(max_error),\n",
    "                                            'mse': make_scorer(mean_squared_error)\n",
    "                                            },\n",
    "                                   refit='mse',\n",
    "                                   return_train_score=True,\n",
    "                                   n_jobs=-1,\n",
    "                                   n_iter=15)\n",
    "\n",
    "L2_bagging_GS.fit(train_x, train_y)"
   ],
   "metadata": {
    "collapsed": false,
    "pycharm": {
     "name": "#%%\n"
    }
   }
  },
  {
   "cell_type": "code",
   "execution_count": 27,
   "outputs": [
    {
     "data": {
      "text/plain": "(BaggingRegressor(base_estimator=Pipeline(steps=[('poly', PolynomialFeatures()),\n                                                 ('ridge',\n                                                  Ridge(alpha=0.5378845624526254,\n                                                        max_iter=6055))]),\n                  n_estimators=11),\n 86.09059311980134,\n 89.28613115345779)"
     },
     "execution_count": 27,
     "metadata": {},
     "output_type": "execute_result"
    }
   ],
   "source": [
    "L2_bagging_GS.best_estimator_, np.mean(L2_bagging_GS.cv_results_['mean_test_r2']) * 100, np.mean(\n",
    "    L2_bagging_GS.cv_results_['mean_train_r2']) * 100"
   ],
   "metadata": {
    "collapsed": false,
    "pycharm": {
     "name": "#%%\n"
    }
   }
  },
  {
   "cell_type": "code",
   "execution_count": 45,
   "outputs": [
    {
     "data": {
      "text/plain": "(0.7372383025068575, 40269.005765315305)"
     },
     "execution_count": 45,
     "metadata": {},
     "output_type": "execute_result"
    }
   ],
   "source": [
    "l2_model = BaggingRegressor(base_estimator=Pipeline(steps=[('poly', PolynomialFeatures()),\n",
    "                                                           ('ridge', Ridge(alpha=0.5378845624526254,\n",
    "                                                                           max_iter=6055))]),\n",
    "                            n_estimators=11)\n",
    "\n",
    "l2_model.fit(train_x, train_y)\n",
    "r2_score(test_y, l2_model.predict(test_x)), mean_squared_error(test_y, l2_model.predict(test_x), squared=False)"
   ],
   "metadata": {
    "collapsed": false,
    "pycharm": {
     "name": "#%%\n"
    }
   }
  },
  {
   "cell_type": "code",
   "execution_count": 48,
   "outputs": [],
   "source": [
    "pd.to_pickle(pd.DataFrame(L2_bagging_GS.cv_results_),\n",
    "             '../data/cv_results/ensemble/l2_bagging_gs.pkl')"
   ],
   "metadata": {
    "collapsed": false,
    "pycharm": {
     "name": "#%%\n"
    }
   }
  },
  {
   "cell_type": "code",
   "execution_count": 18,
   "outputs": [
    {
     "data": {
      "text/plain": "{'base_estimator__memory': None,\n 'base_estimator__steps': [('poly', PolynomialFeatures(degree=4)),\n  ('DT',\n   DecisionTreeRegressor(ccp_alpha=6, max_depth=36, max_features='auto',\n                         min_samples_leaf=21, min_samples_split=20))],\n 'base_estimator__verbose': False,\n 'base_estimator__poly': PolynomialFeatures(degree=4),\n 'base_estimator__DT': DecisionTreeRegressor(ccp_alpha=6, max_depth=36, max_features='auto',\n                       min_samples_leaf=21, min_samples_split=20),\n 'base_estimator__poly__degree': 4,\n 'base_estimator__poly__include_bias': True,\n 'base_estimator__poly__interaction_only': False,\n 'base_estimator__poly__order': 'C',\n 'base_estimator__DT__ccp_alpha': 6,\n 'base_estimator__DT__criterion': 'squared_error',\n 'base_estimator__DT__max_depth': 36,\n 'base_estimator__DT__max_features': 'auto',\n 'base_estimator__DT__max_leaf_nodes': None,\n 'base_estimator__DT__min_impurity_decrease': 0.0,\n 'base_estimator__DT__min_samples_leaf': 21,\n 'base_estimator__DT__min_samples_split': 20,\n 'base_estimator__DT__min_weight_fraction_leaf': 0.0,\n 'base_estimator__DT__random_state': None,\n 'base_estimator__DT__splitter': 'best',\n 'base_estimator': Pipeline(steps=[('poly', PolynomialFeatures(degree=4)),\n                 ('DT',\n                  DecisionTreeRegressor(ccp_alpha=6, max_depth=36,\n                                        max_features='auto', min_samples_leaf=21,\n                                        min_samples_split=20))]),\n 'bootstrap': True,\n 'bootstrap_features': False,\n 'max_features': 1.0,\n 'max_samples': 1.0,\n 'n_estimators': 10,\n 'n_jobs': None,\n 'oob_score': False,\n 'random_state': None,\n 'verbose': 0,\n 'warm_start': False}"
     },
     "execution_count": 18,
     "metadata": {},
     "output_type": "execute_result"
    }
   ],
   "source": [
    "DT_model = Pipeline(steps=[('poly', PolynomialFeatures(degree=4)),\n",
    "                           ('DT', DecisionTreeRegressor(splitter='best',\n",
    "                                                        min_samples_split=20,\n",
    "                                                        min_samples_leaf=21,\n",
    "                                                        max_features='auto',\n",
    "                                                        max_depth=36,\n",
    "                                                        ccp_alpha=6))])\n",
    "DT_bagging = BaggingRegressor(base_estimator=DT_model)\n",
    "DT_bagging.get_params()"
   ],
   "metadata": {
    "collapsed": false,
    "pycharm": {
     "name": "#%%\n"
    }
   }
  },
  {
   "cell_type": "code",
   "execution_count": 19,
   "outputs": [
    {
     "data": {
      "text/plain": "GridSearchCV(cv=RepeatedKFold(n_repeats=12, n_splits=6, random_state=64),\n             estimator=BaggingRegressor(base_estimator=Pipeline(steps=[('poly',\n                                                                        PolynomialFeatures(degree=4)),\n                                                                       ('DT',\n                                                                        DecisionTreeRegressor(ccp_alpha=6,\n                                                                                              max_depth=36,\n                                                                                              max_features='auto',\n                                                                                              min_samples_leaf=21,\n                                                                                              min_samples_split=20))])),\n             n_jobs=-1,\n             param_grid={'n_estimators': array([10, 11, 12, 13, 14, 15, 16, 17, 18, 19])},\n             refit='mse', return_train_score=True,\n             scoring={'me': make_scorer(max_error),\n                      'mse': make_scorer(mean_squared_error),\n                      'r2': make_scorer(r2_score)})"
     },
     "execution_count": 19,
     "metadata": {},
     "output_type": "execute_result"
    }
   ],
   "source": [
    "DT_bagging_GS = GridSearchCV(estimator=DT_bagging,\n",
    "                             param_grid={'n_estimators': np.arange(10, 20)},\n",
    "                             cv=cv,\n",
    "                             scoring={'r2': make_scorer(r2_score),\n",
    "                                      'me': make_scorer(max_error),\n",
    "                                      'mse': make_scorer(mean_squared_error)\n",
    "                                      },\n",
    "                             refit='mse',\n",
    "                             return_train_score=True,\n",
    "                             n_jobs=-1)\n",
    "\n",
    "DT_bagging_GS.fit(train_x, train_y)"
   ],
   "metadata": {
    "collapsed": false,
    "pycharm": {
     "name": "#%%\n"
    }
   }
  },
  {
   "cell_type": "code",
   "execution_count": 20,
   "outputs": [
    {
     "data": {
      "text/plain": "(BaggingRegressor(base_estimator=Pipeline(steps=[('poly',\n                                                  PolynomialFeatures(degree=4)),\n                                                 ('DT',\n                                                  DecisionTreeRegressor(ccp_alpha=6,\n                                                                        max_depth=36,\n                                                                        max_features='auto',\n                                                                        min_samples_leaf=21,\n                                                                        min_samples_split=20))])),\n 85.38757435080538,\n 91.31868736174906)"
     },
     "execution_count": 20,
     "metadata": {},
     "output_type": "execute_result"
    }
   ],
   "source": [
    "DT_bagging_GS.best_estimator_, np.mean(DT_bagging_GS.cv_results_['mean_test_r2']) * 100, np.mean(\n",
    "    DT_bagging_GS.cv_results_['mean_train_r2']) * 100"
   ],
   "metadata": {
    "collapsed": false,
    "pycharm": {
     "name": "#%%\n"
    }
   }
  },
  {
   "cell_type": "code",
   "execution_count": 28,
   "outputs": [
    {
     "data": {
      "text/plain": "(0.8349538933490716, 31914.82884255128)"
     },
     "execution_count": 28,
     "metadata": {},
     "output_type": "execute_result"
    }
   ],
   "source": [
    "dt_model = BaggingRegressor(base_estimator=Pipeline(steps=[('poly',\n",
    "                                                            PolynomialFeatures(degree=4)),\n",
    "                                                           ('DT',\n",
    "                                                            DecisionTreeRegressor(ccp_alpha=6,\n",
    "                                                                                  max_depth=36,\n",
    "                                                                                  max_features='auto',\n",
    "                                                                                  min_samples_leaf=21,\n",
    "                                                                                  min_samples_split=20))]))\n",
    "\n",
    "dt_model.fit(train_x, train_y)\n",
    "r2_score(test_y, dt_model.predict(test_x)), mean_squared_error(test_y, dt_model.predict(test_x), squared=False)"
   ],
   "metadata": {
    "collapsed": false,
    "pycharm": {
     "name": "#%%\n"
    }
   }
  },
  {
   "cell_type": "code",
   "execution_count": 23,
   "outputs": [],
   "source": [
    "pd.to_pickle(pd.DataFrame(DT_bagging_GS.cv_results_),\n",
    "             '../data/cv_results/ensemble/dt_bagging_gs.pkl')"
   ],
   "metadata": {
    "collapsed": false,
    "pycharm": {
     "name": "#%%\n"
    }
   }
  },
  {
   "cell_type": "markdown",
   "source": [
    "## Predictions on Test Data"
   ],
   "metadata": {
    "collapsed": false
   }
  },
  {
   "cell_type": "code",
   "execution_count": 52,
   "outputs": [
    {
     "data": {
      "text/plain": "      MSSubClass MSZoning  LotFrontage  LotArea Street Alley LotShape  \\\nId                                                                      \n1461          20       RH         80.0    11622   Pave   NaN      Reg   \n1462          20       RL         81.0    14267   Pave   NaN      IR1   \n1463          60       RL         74.0    13830   Pave   NaN      IR1   \n1464          60       RL         78.0     9978   Pave   NaN      IR1   \n1465         120       RL         43.0     5005   Pave   NaN      IR1   \n...          ...      ...          ...      ...    ...   ...      ...   \n2915         160       RM         21.0     1936   Pave   NaN      Reg   \n2916         160       RM         21.0     1894   Pave   NaN      Reg   \n2917          20       RL        160.0    20000   Pave   NaN      Reg   \n2918          85       RL         62.0    10441   Pave   NaN      Reg   \n2919          60       RL         74.0     9627   Pave   NaN      Reg   \n\n     LandContour Utilities LotConfig  ... ScreenPorch PoolArea PoolQC  Fence  \\\nId                                    ...                                      \n1461         Lvl    AllPub    Inside  ...         120        0    NaN  MnPrv   \n1462         Lvl    AllPub    Corner  ...           0        0    NaN    NaN   \n1463         Lvl    AllPub    Inside  ...           0        0    NaN  MnPrv   \n1464         Lvl    AllPub    Inside  ...           0        0    NaN    NaN   \n1465         HLS    AllPub    Inside  ...         144        0    NaN    NaN   \n...          ...       ...       ...  ...         ...      ...    ...    ...   \n2915         Lvl    AllPub    Inside  ...           0        0    NaN    NaN   \n2916         Lvl    AllPub    Inside  ...           0        0    NaN    NaN   \n2917         Lvl    AllPub    Inside  ...           0        0    NaN    NaN   \n2918         Lvl    AllPub    Inside  ...           0        0    NaN  MnPrv   \n2919         Lvl    AllPub    Inside  ...           0        0    NaN    NaN   \n\n     MiscFeature MiscVal  MoSold  YrSold  SaleType  SaleCondition  \nId                                                                 \n1461         NaN       0       6    2010        WD         Normal  \n1462        Gar2   12500       6    2010        WD         Normal  \n1463         NaN       0       3    2010        WD         Normal  \n1464         NaN       0       6    2010        WD         Normal  \n1465         NaN       0       1    2010        WD         Normal  \n...          ...     ...     ...     ...       ...            ...  \n2915         NaN       0       6    2006        WD         Normal  \n2916         NaN       0       4    2006        WD        Abnorml  \n2917         NaN       0       9    2006        WD        Abnorml  \n2918        Shed     700       7    2006        WD         Normal  \n2919         NaN       0      11    2006        WD         Normal  \n\n[1459 rows x 79 columns]",
      "text/html": "<div>\n<style scoped>\n    .dataframe tbody tr th:only-of-type {\n        vertical-align: middle;\n    }\n\n    .dataframe tbody tr th {\n        vertical-align: top;\n    }\n\n    .dataframe thead th {\n        text-align: right;\n    }\n</style>\n<table border=\"1\" class=\"dataframe\">\n  <thead>\n    <tr style=\"text-align: right;\">\n      <th></th>\n      <th>MSSubClass</th>\n      <th>MSZoning</th>\n      <th>LotFrontage</th>\n      <th>LotArea</th>\n      <th>Street</th>\n      <th>Alley</th>\n      <th>LotShape</th>\n      <th>LandContour</th>\n      <th>Utilities</th>\n      <th>LotConfig</th>\n      <th>...</th>\n      <th>ScreenPorch</th>\n      <th>PoolArea</th>\n      <th>PoolQC</th>\n      <th>Fence</th>\n      <th>MiscFeature</th>\n      <th>MiscVal</th>\n      <th>MoSold</th>\n      <th>YrSold</th>\n      <th>SaleType</th>\n      <th>SaleCondition</th>\n    </tr>\n    <tr>\n      <th>Id</th>\n      <th></th>\n      <th></th>\n      <th></th>\n      <th></th>\n      <th></th>\n      <th></th>\n      <th></th>\n      <th></th>\n      <th></th>\n      <th></th>\n      <th></th>\n      <th></th>\n      <th></th>\n      <th></th>\n      <th></th>\n      <th></th>\n      <th></th>\n      <th></th>\n      <th></th>\n      <th></th>\n      <th></th>\n    </tr>\n  </thead>\n  <tbody>\n    <tr>\n      <th>1461</th>\n      <td>20</td>\n      <td>RH</td>\n      <td>80.0</td>\n      <td>11622</td>\n      <td>Pave</td>\n      <td>NaN</td>\n      <td>Reg</td>\n      <td>Lvl</td>\n      <td>AllPub</td>\n      <td>Inside</td>\n      <td>...</td>\n      <td>120</td>\n      <td>0</td>\n      <td>NaN</td>\n      <td>MnPrv</td>\n      <td>NaN</td>\n      <td>0</td>\n      <td>6</td>\n      <td>2010</td>\n      <td>WD</td>\n      <td>Normal</td>\n    </tr>\n    <tr>\n      <th>1462</th>\n      <td>20</td>\n      <td>RL</td>\n      <td>81.0</td>\n      <td>14267</td>\n      <td>Pave</td>\n      <td>NaN</td>\n      <td>IR1</td>\n      <td>Lvl</td>\n      <td>AllPub</td>\n      <td>Corner</td>\n      <td>...</td>\n      <td>0</td>\n      <td>0</td>\n      <td>NaN</td>\n      <td>NaN</td>\n      <td>Gar2</td>\n      <td>12500</td>\n      <td>6</td>\n      <td>2010</td>\n      <td>WD</td>\n      <td>Normal</td>\n    </tr>\n    <tr>\n      <th>1463</th>\n      <td>60</td>\n      <td>RL</td>\n      <td>74.0</td>\n      <td>13830</td>\n      <td>Pave</td>\n      <td>NaN</td>\n      <td>IR1</td>\n      <td>Lvl</td>\n      <td>AllPub</td>\n      <td>Inside</td>\n      <td>...</td>\n      <td>0</td>\n      <td>0</td>\n      <td>NaN</td>\n      <td>MnPrv</td>\n      <td>NaN</td>\n      <td>0</td>\n      <td>3</td>\n      <td>2010</td>\n      <td>WD</td>\n      <td>Normal</td>\n    </tr>\n    <tr>\n      <th>1464</th>\n      <td>60</td>\n      <td>RL</td>\n      <td>78.0</td>\n      <td>9978</td>\n      <td>Pave</td>\n      <td>NaN</td>\n      <td>IR1</td>\n      <td>Lvl</td>\n      <td>AllPub</td>\n      <td>Inside</td>\n      <td>...</td>\n      <td>0</td>\n      <td>0</td>\n      <td>NaN</td>\n      <td>NaN</td>\n      <td>NaN</td>\n      <td>0</td>\n      <td>6</td>\n      <td>2010</td>\n      <td>WD</td>\n      <td>Normal</td>\n    </tr>\n    <tr>\n      <th>1465</th>\n      <td>120</td>\n      <td>RL</td>\n      <td>43.0</td>\n      <td>5005</td>\n      <td>Pave</td>\n      <td>NaN</td>\n      <td>IR1</td>\n      <td>HLS</td>\n      <td>AllPub</td>\n      <td>Inside</td>\n      <td>...</td>\n      <td>144</td>\n      <td>0</td>\n      <td>NaN</td>\n      <td>NaN</td>\n      <td>NaN</td>\n      <td>0</td>\n      <td>1</td>\n      <td>2010</td>\n      <td>WD</td>\n      <td>Normal</td>\n    </tr>\n    <tr>\n      <th>...</th>\n      <td>...</td>\n      <td>...</td>\n      <td>...</td>\n      <td>...</td>\n      <td>...</td>\n      <td>...</td>\n      <td>...</td>\n      <td>...</td>\n      <td>...</td>\n      <td>...</td>\n      <td>...</td>\n      <td>...</td>\n      <td>...</td>\n      <td>...</td>\n      <td>...</td>\n      <td>...</td>\n      <td>...</td>\n      <td>...</td>\n      <td>...</td>\n      <td>...</td>\n      <td>...</td>\n    </tr>\n    <tr>\n      <th>2915</th>\n      <td>160</td>\n      <td>RM</td>\n      <td>21.0</td>\n      <td>1936</td>\n      <td>Pave</td>\n      <td>NaN</td>\n      <td>Reg</td>\n      <td>Lvl</td>\n      <td>AllPub</td>\n      <td>Inside</td>\n      <td>...</td>\n      <td>0</td>\n      <td>0</td>\n      <td>NaN</td>\n      <td>NaN</td>\n      <td>NaN</td>\n      <td>0</td>\n      <td>6</td>\n      <td>2006</td>\n      <td>WD</td>\n      <td>Normal</td>\n    </tr>\n    <tr>\n      <th>2916</th>\n      <td>160</td>\n      <td>RM</td>\n      <td>21.0</td>\n      <td>1894</td>\n      <td>Pave</td>\n      <td>NaN</td>\n      <td>Reg</td>\n      <td>Lvl</td>\n      <td>AllPub</td>\n      <td>Inside</td>\n      <td>...</td>\n      <td>0</td>\n      <td>0</td>\n      <td>NaN</td>\n      <td>NaN</td>\n      <td>NaN</td>\n      <td>0</td>\n      <td>4</td>\n      <td>2006</td>\n      <td>WD</td>\n      <td>Abnorml</td>\n    </tr>\n    <tr>\n      <th>2917</th>\n      <td>20</td>\n      <td>RL</td>\n      <td>160.0</td>\n      <td>20000</td>\n      <td>Pave</td>\n      <td>NaN</td>\n      <td>Reg</td>\n      <td>Lvl</td>\n      <td>AllPub</td>\n      <td>Inside</td>\n      <td>...</td>\n      <td>0</td>\n      <td>0</td>\n      <td>NaN</td>\n      <td>NaN</td>\n      <td>NaN</td>\n      <td>0</td>\n      <td>9</td>\n      <td>2006</td>\n      <td>WD</td>\n      <td>Abnorml</td>\n    </tr>\n    <tr>\n      <th>2918</th>\n      <td>85</td>\n      <td>RL</td>\n      <td>62.0</td>\n      <td>10441</td>\n      <td>Pave</td>\n      <td>NaN</td>\n      <td>Reg</td>\n      <td>Lvl</td>\n      <td>AllPub</td>\n      <td>Inside</td>\n      <td>...</td>\n      <td>0</td>\n      <td>0</td>\n      <td>NaN</td>\n      <td>MnPrv</td>\n      <td>Shed</td>\n      <td>700</td>\n      <td>7</td>\n      <td>2006</td>\n      <td>WD</td>\n      <td>Normal</td>\n    </tr>\n    <tr>\n      <th>2919</th>\n      <td>60</td>\n      <td>RL</td>\n      <td>74.0</td>\n      <td>9627</td>\n      <td>Pave</td>\n      <td>NaN</td>\n      <td>Reg</td>\n      <td>Lvl</td>\n      <td>AllPub</td>\n      <td>Inside</td>\n      <td>...</td>\n      <td>0</td>\n      <td>0</td>\n      <td>NaN</td>\n      <td>NaN</td>\n      <td>NaN</td>\n      <td>0</td>\n      <td>11</td>\n      <td>2006</td>\n      <td>WD</td>\n      <td>Normal</td>\n    </tr>\n  </tbody>\n</table>\n<p>1459 rows × 79 columns</p>\n</div>"
     },
     "execution_count": 52,
     "metadata": {},
     "output_type": "execute_result"
    }
   ],
   "source": [
    "house_test_data = pd.read_csv('../data/test.csv', index_col='Id')\n",
    "house_test_data"
   ],
   "metadata": {
    "collapsed": false,
    "pycharm": {
     "name": "#%%\n"
    }
   }
  },
  {
   "cell_type": "code",
   "execution_count": 53,
   "outputs": [
    {
     "data": {
      "text/plain": "array([[0.        , 0.47210624, 0.42965303, ..., 0.        , 0.41258743,\n        0.61663878],\n       [0.        , 0.47210624, 0.49915546, ..., 0.        , 0.41258743,\n        0.43137602],\n       [0.53092803, 0.52789376, 0.42965303, ..., 1.        , 0.52202823,\n        0.50419355],\n       ...,\n       [0.        , 0.49505129, 0.42965303, ..., 0.        , 0.52202823,\n        0.5626834 ],\n       [0.59093623, 0.49505129, 0.42965303, ..., 0.52264797, 0.        ,\n        0.        ],\n       [0.53092803, 0.49505129, 0.56016822, ..., 1.        , 0.64555594,\n        0.59182204]])"
     },
     "execution_count": 53,
     "metadata": {},
     "output_type": "execute_result"
    }
   ],
   "source": [
    "X_t = base_pipeline.transform(house_test_data)\n",
    "X_t"
   ],
   "metadata": {
    "collapsed": false,
    "pycharm": {
     "name": "#%%\n"
    }
   }
  },
  {
   "cell_type": "code",
   "execution_count": 55,
   "outputs": [
    {
     "data": {
      "text/plain": "          SalePrice\nId                 \n1461  122299.045163\n1462  153330.912332\n1463  176605.603058\n1464  183236.115771\n1465  202194.582268\n...             ...\n2915   78068.154066\n2916   81561.069130\n2917  152985.516352\n2918  122618.412468\n2919  205565.096337\n\n[1459 rows x 1 columns]",
      "text/html": "<div>\n<style scoped>\n    .dataframe tbody tr th:only-of-type {\n        vertical-align: middle;\n    }\n\n    .dataframe tbody tr th {\n        vertical-align: top;\n    }\n\n    .dataframe thead th {\n        text-align: right;\n    }\n</style>\n<table border=\"1\" class=\"dataframe\">\n  <thead>\n    <tr style=\"text-align: right;\">\n      <th></th>\n      <th>SalePrice</th>\n    </tr>\n    <tr>\n      <th>Id</th>\n      <th></th>\n    </tr>\n  </thead>\n  <tbody>\n    <tr>\n      <th>1461</th>\n      <td>122299.045163</td>\n    </tr>\n    <tr>\n      <th>1462</th>\n      <td>153330.912332</td>\n    </tr>\n    <tr>\n      <th>1463</th>\n      <td>176605.603058</td>\n    </tr>\n    <tr>\n      <th>1464</th>\n      <td>183236.115771</td>\n    </tr>\n    <tr>\n      <th>1465</th>\n      <td>202194.582268</td>\n    </tr>\n    <tr>\n      <th>...</th>\n      <td>...</td>\n    </tr>\n    <tr>\n      <th>2915</th>\n      <td>78068.154066</td>\n    </tr>\n    <tr>\n      <th>2916</th>\n      <td>81561.069130</td>\n    </tr>\n    <tr>\n      <th>2917</th>\n      <td>152985.516352</td>\n    </tr>\n    <tr>\n      <th>2918</th>\n      <td>122618.412468</td>\n    </tr>\n    <tr>\n      <th>2919</th>\n      <td>205565.096337</td>\n    </tr>\n  </tbody>\n</table>\n<p>1459 rows × 1 columns</p>\n</div>"
     },
     "execution_count": 55,
     "metadata": {},
     "output_type": "execute_result"
    }
   ],
   "source": [
    "prediction = pd.DataFrame(data=dt_model.predict(X_t), index=house_test_data.index, columns=['SalePrice'])\n",
    "prediction"
   ],
   "metadata": {
    "collapsed": false,
    "pycharm": {
     "name": "#%%\n"
    }
   }
  },
  {
   "cell_type": "code",
   "execution_count": 56,
   "outputs": [],
   "source": [
    "prediction.to_csv('../data/predictions_v_2.csv')"
   ],
   "metadata": {
    "collapsed": false,
    "pycharm": {
     "name": "#%%\n"
    }
   }
  }
 ],
 "metadata": {
  "kernelspec": {
   "display_name": "Python 3",
   "language": "python",
   "name": "python3"
  },
  "language_info": {
   "codemirror_mode": {
    "name": "ipython",
    "version": 2
   },
   "file_extension": ".py",
   "mimetype": "text/x-python",
   "name": "python",
   "nbconvert_exporter": "python",
   "pygments_lexer": "ipython2",
   "version": "2.7.6"
  }
 },
 "nbformat": 4,
 "nbformat_minor": 0
}