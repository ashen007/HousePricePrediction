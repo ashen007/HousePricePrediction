{
 "cells": [
  {
   "cell_type": "code",
   "execution_count": 7,
   "metadata": {
    "collapsed": true
   },
   "outputs": [],
   "source": [
    "import numpy as np\n",
    "import pandas as pd\n",
    "import seaborn as sns\n",
    "\n",
    "from matplotlib import pyplot as plt\n",
    "from feature_engine import imputation\n",
    "from feature_engine import encoding\n",
    "\n",
    "# pipeline utility\n",
    "from sklearn.pipeline import Pipeline\n",
    "\n",
    "# preprocessing\n",
    "from sklearn.preprocessing import RobustScaler\n",
    "from sklearn.preprocessing import MinMaxScaler\n",
    "from sklearn.preprocessing import QuantileTransformer\n",
    "from sklearn.preprocessing import PolynomialFeatures\n",
    "\n",
    "# hyper-parameter tuning\n",
    "from sklearn.model_selection import train_test_split\n",
    "from sklearn.model_selection import RepeatedKFold\n",
    "from sklearn.model_selection import RandomizedSearchCV\n",
    "from sklearn.model_selection import GridSearchCV\n",
    "\n",
    "# metrics to evaluate models\n",
    "from sklearn.metrics import r2_score\n",
    "from sklearn.metrics import max_error\n",
    "from sklearn.metrics import mean_squared_error\n",
    "from sklearn.metrics import make_scorer\n",
    "\n",
    "# feature selection\n",
    "from sklearn.feature_selection import SelectKBest\n",
    "from sklearn.feature_selection import mutual_info_regression\n",
    "\n",
    "# linear models\n",
    "from sklearn.linear_model import Ridge\n",
    "from sklearn.linear_model import Lasso\n",
    "\n",
    "# neighbors models\n",
    "from sklearn.neighbors import KNeighborsRegressor\n",
    "\n",
    "# tree models\n",
    "from sklearn.tree import DecisionTreeRegressor\n",
    "from sklearn.tree import ExtraTreeRegressor\n",
    "\n",
    "# ensemble models\n",
    "from sklearn.ensemble import BaggingRegressor\n",
    "from sklearn.ensemble import RandomForestRegressor\n",
    "from sklearn.ensemble import GradientBoostingRegressor\n",
    "from sklearn.ensemble import VotingRegressor\n",
    "from sklearn.ensemble import AdaBoostRegressor\n",
    "from sklearn.ensemble import StackingRegressor\n",
    "from sklearn.ensemble import ExtraTreesRegressor"
   ]
  },
  {
   "cell_type": "code",
   "execution_count": 2,
   "outputs": [
    {
     "data": {
      "text/plain": "((1460, 79), (1460,))"
     },
     "execution_count": 2,
     "metadata": {},
     "output_type": "execute_result"
    }
   ],
   "source": [
    "house_data = pd.read_csv('../data/train.csv', index_col='Id')\n",
    "X = house_data.drop(labels='SalePrice', axis=1)\n",
    "Y = house_data['SalePrice']\n",
    "X.shape, Y.shape"
   ],
   "metadata": {
    "collapsed": false,
    "pycharm": {
     "name": "#%%\n"
    }
   }
  },
  {
   "cell_type": "code",
   "execution_count": 3,
   "outputs": [],
   "source": [
    "cv = RepeatedKFold(n_splits=6, n_repeats=12, random_state=64)"
   ],
   "metadata": {
    "collapsed": false,
    "pycharm": {
     "name": "#%%\n"
    }
   }
  },
  {
   "cell_type": "code",
   "execution_count": 4,
   "outputs": [],
   "source": [
    "base_pipeline = Pipeline(steps=[('most_miss_cat', imputation.CategoricalImputer(variables=['Alley',\n",
    "                                                                                           'FireplaceQu',\n",
    "                                                                                           'PoolQC',\n",
    "                                                                                           'Fence',\n",
    "                                                                                           'MiscFeature'])),\n",
    "                                ('least_miss_cat', imputation.RandomSampleImputer(random_state='LotArea',\n",
    "                                                                                  seed='observation',\n",
    "                                                                                  variables=['GarageCond',\n",
    "                                                                                             'GarageType',\n",
    "                                                                                             'GarageFinish',\n",
    "                                                                                             'GarageQual',\n",
    "                                                                                             'BsmtExposure',\n",
    "                                                                                             'BsmtFinType2',\n",
    "                                                                                             'BsmtCond',\n",
    "                                                                                             'BsmtQual',\n",
    "                                                                                             'BsmtFinType1',\n",
    "                                                                                             'MasVnrType',\n",
    "                                                                                             'Electrical'])),\n",
    "                                ('least_miss_num', imputation.RandomSampleImputer(random_state='LotArea',\n",
    "                                                                                  seed='observation',\n",
    "                                                                                  variables=['LotFrontage',\n",
    "                                                                                             'GarageYrBlt',\n",
    "                                                                                             'MasVnrArea'])),\n",
    "                                ('undetected', imputation.RandomSampleImputer(random_state='LotArea',\n",
    "                                                                              seed='observation')),\n",
    "                                ('encode', encoding.OrdinalEncoder(\n",
    "                                    variables=X.select_dtypes(include=object).columns.to_list())),\n",
    "                                ('scaling', RobustScaler()),\n",
    "                                ('transform', QuantileTransformer(output_distribution='normal')),\n",
    "                                ('scale_to_range', MinMaxScaler()),\n",
    "                                ('feature_selection', SelectKBest(score_func=mutual_info_regression,\n",
    "                                                                  k=20))]\n",
    "                         )"
   ],
   "metadata": {
    "collapsed": false,
    "pycharm": {
     "name": "#%%\n"
    }
   }
  },
  {
   "cell_type": "code",
   "execution_count": 5,
   "outputs": [
    {
     "data": {
      "text/plain": "((1168, 20), (292, 20), (1168,), (292,))"
     },
     "execution_count": 5,
     "metadata": {},
     "output_type": "execute_result"
    }
   ],
   "source": [
    "X_ = base_pipeline.fit_transform(X, Y)\n",
    "train_x, test_x, train_y, test_y = train_test_split(X_, Y, test_size=0.2, random_state=48)\n",
    "train_x.shape, test_x.shape, train_y.shape, test_y.shape"
   ],
   "metadata": {
    "collapsed": false,
    "pycharm": {
     "name": "#%%\n"
    }
   }
  },
  {
   "cell_type": "markdown",
   "source": [
    "### bagging"
   ],
   "metadata": {
    "collapsed": false
   }
  },
  {
   "cell_type": "code",
   "execution_count": 8,
   "outputs": [
    {
     "data": {
      "text/plain": "{'base_estimator__memory': None,\n 'base_estimator__steps': [('poly', PolynomialFeatures()),\n  ('lasso', Lasso(alpha=12.807147786982478, max_iter=20687))],\n 'base_estimator__verbose': False,\n 'base_estimator__poly': PolynomialFeatures(),\n 'base_estimator__lasso': Lasso(alpha=12.807147786982478, max_iter=20687),\n 'base_estimator__poly__degree': 2,\n 'base_estimator__poly__include_bias': True,\n 'base_estimator__poly__interaction_only': False,\n 'base_estimator__poly__order': 'C',\n 'base_estimator__lasso__alpha': 12.807147786982478,\n 'base_estimator__lasso__copy_X': True,\n 'base_estimator__lasso__fit_intercept': True,\n 'base_estimator__lasso__max_iter': 20687,\n 'base_estimator__lasso__normalize': 'deprecated',\n 'base_estimator__lasso__positive': False,\n 'base_estimator__lasso__precompute': False,\n 'base_estimator__lasso__random_state': None,\n 'base_estimator__lasso__selection': 'cyclic',\n 'base_estimator__lasso__tol': 0.0001,\n 'base_estimator__lasso__warm_start': False,\n 'base_estimator': Pipeline(steps=[('poly', PolynomialFeatures()),\n                 ('lasso', Lasso(alpha=12.807147786982478, max_iter=20687))]),\n 'bootstrap': True,\n 'bootstrap_features': False,\n 'max_features': 1.0,\n 'max_samples': 1.0,\n 'n_estimators': 10,\n 'n_jobs': None,\n 'oob_score': False,\n 'random_state': None,\n 'verbose': 0,\n 'warm_start': False}"
     },
     "execution_count": 8,
     "metadata": {},
     "output_type": "execute_result"
    }
   ],
   "source": [
    "L1_model = Pipeline(steps=[('poly', PolynomialFeatures(degree=2)),\n",
    "                           ('lasso', Lasso(alpha=12.807147786982478,\n",
    "                                           max_iter=20687))])\n",
    "L1_bagging = BaggingRegressor(base_estimator=L1_model)\n",
    "L1_bagging.get_params()"
   ],
   "metadata": {
    "collapsed": false,
    "pycharm": {
     "name": "#%%\n"
    }
   }
  },
  {
   "cell_type": "code",
   "execution_count": 9,
   "outputs": [
    {
     "data": {
      "text/plain": "RandomizedSearchCV(cv=RepeatedKFold(n_repeats=12, n_splits=6, random_state=64),\n                   estimator=BaggingRegressor(base_estimator=Pipeline(steps=[('poly',\n                                                                              PolynomialFeatures()),\n                                                                             ('lasso',\n                                                                              Lasso(alpha=12.807147786982478,\n                                                                                    max_iter=20687))])),\n                   n_iter=15, n_jobs=-1,\n                   param_distributions={'max_samples': [0.5, 0.67, 0.75, 0.8,\n                                                        0.9],\n                                        'n_estimators': array([30, 45, 18, 27, 39, 26, 45, 79, 66, 33, 53, 65, 90, 84, 18, 38, 18,\n       99, 25, 30])},\n                   refit='mse', return_train_score=True,\n                   scoring={'me': make_scorer(max_error),\n                            'mse': make_scorer(mean_squared_error),\n                            'r2': make_scorer(r2_score)})"
     },
     "execution_count": 9,
     "metadata": {},
     "output_type": "execute_result"
    }
   ],
   "source": [
    "L1_bagging_GS = RandomizedSearchCV(estimator=L1_bagging,\n",
    "                                   param_distributions={'n_estimators': np.random.randint(10, 100, 20),\n",
    "                                                        'max_samples': [0.5, 0.67, 0.75, 0.8, 0.9]},\n",
    "                                   cv=cv,\n",
    "                                   scoring={'r2': make_scorer(r2_score),\n",
    "                                            'me': make_scorer(max_error),\n",
    "                                            'mse': make_scorer(mean_squared_error)\n",
    "                                            },\n",
    "                                   refit='mse',\n",
    "                                   return_train_score=True,\n",
    "                                   n_jobs=-1,\n",
    "                                   n_iter=15)\n",
    "\n",
    "L1_bagging_GS.fit(train_x, train_y)"
   ],
   "metadata": {
    "collapsed": false,
    "pycharm": {
     "name": "#%%\n"
    }
   }
  },
  {
   "cell_type": "code",
   "execution_count": 18,
   "outputs": [
    {
     "data": {
      "text/plain": "(BaggingRegressor(base_estimator=Pipeline(steps=[('poly', PolynomialFeatures()),\n                                                 ('lasso',\n                                                  Lasso(alpha=12.807147786982478,\n                                                        max_iter=20687))]),\n                  max_samples=0.5, n_estimators=18),\n 86.15027990703051,\n 90.12425790601924)"
     },
     "execution_count": 18,
     "metadata": {},
     "output_type": "execute_result"
    }
   ],
   "source": [
    "L1_bagging_GS.best_estimator_, np.mean(L1_bagging_GS.cv_results_['mean_test_r2']) * 100, np.mean(\n",
    "    L1_bagging_GS.cv_results_['mean_train_r2']) * 100"
   ],
   "metadata": {
    "collapsed": false,
    "pycharm": {
     "name": "#%%\n"
    }
   }
  },
  {
   "cell_type": "code",
   "execution_count": 25,
   "outputs": [
    {
     "data": {
      "text/plain": "(74.14627965818734, 39943.986019962256)"
     },
     "execution_count": 25,
     "metadata": {},
     "output_type": "execute_result"
    }
   ],
   "source": [
    "r2_score(test_y, L1_bagging_GS.predict(test_x)) * 100, mean_squared_error(test_y, L1_bagging_GS.predict(test_x),\n",
    "                                                                          squared=False)"
   ],
   "metadata": {
    "collapsed": false,
    "pycharm": {
     "name": "#%%\n"
    }
   }
  },
  {
   "cell_type": "code",
   "execution_count": 19,
   "outputs": [],
   "source": [
    "pd.to_pickle(pd.DataFrame(L1_bagging_GS.cv_results_),\n",
    "             '../data/cv_results/ensemble/l1_bagging_gs.pkl')"
   ],
   "metadata": {
    "collapsed": false,
    "pycharm": {
     "name": "#%%\n"
    }
   }
  },
  {
   "cell_type": "code",
   "execution_count": 23,
   "outputs": [
    {
     "data": {
      "text/plain": "{'memory': None,\n 'steps': [('poly', PolynomialFeatures()),\n  ('ridge', Ridge(alpha=0.5378845624526254, max_iter=6055))],\n 'verbose': False,\n 'poly': PolynomialFeatures(),\n 'ridge': Ridge(alpha=0.5378845624526254, max_iter=6055),\n 'poly__degree': 2,\n 'poly__include_bias': True,\n 'poly__interaction_only': False,\n 'poly__order': 'C',\n 'ridge__alpha': 0.5378845624526254,\n 'ridge__copy_X': True,\n 'ridge__fit_intercept': True,\n 'ridge__max_iter': 6055,\n 'ridge__normalize': 'deprecated',\n 'ridge__positive': False,\n 'ridge__random_state': None,\n 'ridge__solver': 'auto',\n 'ridge__tol': 0.001}"
     },
     "execution_count": 23,
     "metadata": {},
     "output_type": "execute_result"
    }
   ],
   "source": [
    "L2_model = Pipeline(steps=[('poly', PolynomialFeatures(degree=2)),\n",
    "                           ('ridge', Ridge(alpha=0.5378845624526254, max_iter=6055))])\n",
    "L2_bagging = BaggingRegressor(base_estimator=L2_model)\n",
    "L2_model.get_params()"
   ],
   "metadata": {
    "collapsed": false,
    "pycharm": {
     "name": "#%%\n"
    }
   }
  },
  {
   "cell_type": "code",
   "execution_count": 26,
   "outputs": [
    {
     "data": {
      "text/plain": "RandomizedSearchCV(cv=RepeatedKFold(n_repeats=12, n_splits=6, random_state=64),\n                   estimator=BaggingRegressor(base_estimator=Pipeline(steps=[('poly',\n                                                                              PolynomialFeatures()),\n                                                                             ('ridge',\n                                                                              Ridge(alpha=0.5378845624526254,\n                                                                                    max_iter=6055))])),\n                   n_iter=15, n_jobs=-1,\n                   param_distributions={'n_estimators': array([65, 74, 66, 36, 69, 19, 84, 98, 25, 52, 27, 43, 11, 23, 74, 65, 38,\n       47, 21, 90])},\n                   refit='mse', return_train_score=True,\n                   scoring={'me': make_scorer(max_error),\n                            'mse': make_scorer(mean_squared_error),\n                            'r2': make_scorer(r2_score)})"
     },
     "execution_count": 26,
     "metadata": {},
     "output_type": "execute_result"
    }
   ],
   "source": [
    "L2_bagging_GS = RandomizedSearchCV(estimator=L2_bagging,\n",
    "                                   param_distributions={'n_estimators': np.random.randint(10, 100, 20)},\n",
    "                                   cv=cv,\n",
    "                                   scoring={'r2': make_scorer(r2_score),\n",
    "                                            'me': make_scorer(max_error),\n",
    "                                            'mse': make_scorer(mean_squared_error)\n",
    "                                            },\n",
    "                                   refit='mse',\n",
    "                                   return_train_score=True,\n",
    "                                   n_jobs=-1,\n",
    "                                   n_iter=15)\n",
    "\n",
    "L2_bagging_GS.fit(train_x, train_y)"
   ],
   "metadata": {
    "collapsed": false,
    "pycharm": {
     "name": "#%%\n"
    }
   }
  },
  {
   "cell_type": "code",
   "execution_count": 27,
   "outputs": [
    {
     "data": {
      "text/plain": "(BaggingRegressor(base_estimator=Pipeline(steps=[('poly', PolynomialFeatures()),\n                                                 ('ridge',\n                                                  Ridge(alpha=0.5378845624526254,\n                                                        max_iter=6055))]),\n                  n_estimators=11),\n 86.09059311980134,\n 89.28613115345779)"
     },
     "execution_count": 27,
     "metadata": {},
     "output_type": "execute_result"
    }
   ],
   "source": [
    "L2_bagging_GS.best_estimator_, np.mean(L2_bagging_GS.cv_results_['mean_test_r2']) * 100, np.mean(\n",
    "    L2_bagging_GS.cv_results_['mean_train_r2']) * 100"
   ],
   "metadata": {
    "collapsed": false,
    "pycharm": {
     "name": "#%%\n"
    }
   }
  },
  {
   "cell_type": "code",
   "execution_count": 28,
   "outputs": [
    {
     "data": {
      "text/plain": "(74.12505640031279, 39960.377618516635)"
     },
     "execution_count": 28,
     "metadata": {},
     "output_type": "execute_result"
    }
   ],
   "source": [
    "r2_score(test_y, L2_bagging_GS.predict(test_x)) * 100, mean_squared_error(test_y, L2_bagging_GS.predict(test_x),\n",
    "                                                                          squared=False)"
   ],
   "metadata": {
    "collapsed": false,
    "pycharm": {
     "name": "#%%\n"
    }
   }
  }
 ],
 "metadata": {
  "kernelspec": {
   "display_name": "Python 3",
   "language": "python",
   "name": "python3"
  },
  "language_info": {
   "codemirror_mode": {
    "name": "ipython",
    "version": 2
   },
   "file_extension": ".py",
   "mimetype": "text/x-python",
   "name": "python",
   "nbconvert_exporter": "python",
   "pygments_lexer": "ipython2",
   "version": "2.7.6"
  }
 },
 "nbformat": 4,
 "nbformat_minor": 0
}