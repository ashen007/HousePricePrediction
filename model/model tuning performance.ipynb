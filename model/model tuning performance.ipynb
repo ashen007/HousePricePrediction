{
 "cells": [
  {
   "cell_type": "code",
   "execution_count": 1,
   "metadata": {
    "collapsed": true
   },
   "outputs": [],
   "source": [
    "import numpy as np\n",
    "import pandas as pd\n",
    "import seaborn as sns\n",
    "from matplotlib import pyplot as plt"
   ]
  },
  {
   "cell_type": "code",
   "execution_count": 2,
   "outputs": [],
   "source": [
    "decision_tree = pd.read_pickle('../data/cv_results/DT_cv_result.pkl')\n",
    "elastic_net = pd.read_pickle('../data/cv_results/elasticNet_cv_result.pkl')\n",
    "extra_tree = pd.read_pickle('../data/cv_results/ET_cv_result.pkl')\n",
    "k_nearest_neighbor = pd.read_pickle('../data/cv_results/KNN_cv_result.pkl')\n",
    "lasso = pd.read_pickle('../data/cv_results/l1_cv_result.pkl')\n",
    "ridge = pd.read_pickle('../data/cv_results/l2_cv_result.pkl')\n",
    "stocastic_gradient_descent = pd.read_pickle('../data/cv_results/SDG_cv_result.pkl')"
   ],
   "metadata": {
    "collapsed": false,
    "pycharm": {
     "name": "#%%\n"
    }
   }
  },
  {
   "cell_type": "code",
   "execution_count": 3,
   "outputs": [],
   "source": [],
   "metadata": {
    "collapsed": false,
    "pycharm": {
     "name": "#%%\n"
    }
   }
  }
 ],
 "metadata": {
  "kernelspec": {
   "display_name": "Python 3",
   "language": "python",
   "name": "python3"
  },
  "language_info": {
   "codemirror_mode": {
    "name": "ipython",
    "version": 2
   },
   "file_extension": ".py",
   "mimetype": "text/x-python",
   "name": "python",
   "nbconvert_exporter": "python",
   "pygments_lexer": "ipython2",
   "version": "2.7.6"
  }
 },
 "nbformat": 4,
 "nbformat_minor": 0
}