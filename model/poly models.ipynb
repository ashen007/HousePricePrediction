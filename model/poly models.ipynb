{
 "cells": [
  {
   "cell_type": "code",
   "execution_count": null,
   "metadata": {
    "collapsed": true
   },
   "outputs": [],
   "source": [
    "import pandas as pd\n",
    "import seaborn as sns\n",
    "\n",
    "from matplotlib import pyplot as plt\n",
    "from feature_engine import imputation\n",
    "from feature_engine import encoding\n",
    "\n",
    "# pipeline utility\n",
    "from sklearn.pipeline import Pipeline\n",
    "\n",
    "# preprocessing\n",
    "from sklearn.preprocessing import RobustScaler\n",
    "from sklearn.preprocessing import MinMaxScaler\n",
    "from sklearn.preprocessing import QuantileTransformer\n",
    "from sklearn.preprocessing import PolynomialFeatures\n",
    "\n",
    "# hyper-parameter tuning\n",
    "from sklearn.model_selection import train_test_split\n",
    "from sklearn.model_selection import RepeatedKFold\n",
    "from sklearn.model_selection import GridSearchCV\n",
    "from sklearn.model_selection import RandomizedSearchCV\n",
    "\n",
    "# metrics to evaluate models\n",
    "from sklearn.metrics import r2_score\n",
    "from sklearn.metrics import max_error\n",
    "from sklearn.metrics import mean_squared_error\n",
    "from sklearn.metrics import make_scorer\n",
    "\n",
    "# feature selection\n",
    "from sklearn.feature_selection import SelectKBest\n",
    "from sklearn.feature_selection import mutual_info_regression\n",
    "\n",
    "# linear models\n",
    "from sklearn.linear_model import LinearRegression\n",
    "from sklearn.linear_model import Ridge\n",
    "from sklearn.linear_model import Lasso\n",
    "from sklearn.linear_model import ElasticNet\n",
    "from sklearn.linear_model import RANSACRegressor\n",
    "from sklearn.linear_model import SGDRegressor\n",
    "\n",
    "# neighbors models\n",
    "from sklearn.neighbors import KNeighborsRegressor\n",
    "\n",
    "# tree models\n",
    "from sklearn.tree import DecisionTreeRegressor\n",
    "from sklearn.tree import ExtraTreeRegressor"
   ]
  },
  {
   "cell_type": "code",
   "execution_count": null,
   "outputs": [],
   "source": [
    "house_data = pd.read_csv('../data/train.csv', index_col='Id')\n",
    "X = house_data.drop(labels='SalePrice', axis=1)\n",
    "Y = house_data['SalePrice']\n",
    "X.shape, Y.shape"
   ],
   "metadata": {
    "collapsed": false,
    "pycharm": {
     "name": "#%%\n"
    }
   }
  },
  {
   "cell_type": "code",
   "execution_count": null,
   "outputs": [],
   "source": [
    "base_pipeline = Pipeline(steps=[('most_miss_cat', imputation.CategoricalImputer(variables=['Alley',\n",
    "                                                                                           'FireplaceQu',\n",
    "                                                                                           'PoolQC',\n",
    "                                                                                           'Fence',\n",
    "                                                                                           'MiscFeature'])),\n",
    "                                ('least_miss_cat', imputation.RandomSampleImputer(random_state='LotArea',\n",
    "                                                                                  seed='observation',\n",
    "                                                                                  variables=['GarageCond',\n",
    "                                                                                             'GarageType',\n",
    "                                                                                             'GarageFinish',\n",
    "                                                                                             'GarageQual',\n",
    "                                                                                             'BsmtExposure',\n",
    "                                                                                             'BsmtFinType2',\n",
    "                                                                                             'BsmtCond',\n",
    "                                                                                             'BsmtQual',\n",
    "                                                                                             'BsmtFinType1',\n",
    "                                                                                             'MasVnrType',\n",
    "                                                                                             'Electrical'])),\n",
    "                                ('least_miss_num', imputation.RandomSampleImputer(random_state='LotArea',\n",
    "                                                                                  seed='observation',\n",
    "                                                                                  variables=['LotFrontage',\n",
    "                                                                                             'GarageYrBlt',\n",
    "                                                                                             'MasVnrArea'])),\n",
    "                                ('encode', encoding.OrdinalEncoder(\n",
    "                                    variables=X.select_dtypes(include=object).columns.to_list())),\n",
    "                                ('scaling', RobustScaler()),\n",
    "                                ('transform', QuantileTransformer(output_distribution='normal')),\n",
    "                                ('scale_to_range', MinMaxScaler()),\n",
    "                                ('feature_selection', SelectKBest(score_func=mutual_info_regression,\n",
    "                                                                  k=20))],\n",
    "                         )\n",
    "\n",
    "base_pipeline.get_params()"
   ],
   "metadata": {
    "collapsed": false,
    "pycharm": {
     "name": "#%%\n"
    }
   }
  },
  {
   "cell_type": "code",
   "execution_count": null,
   "outputs": [],
   "source": [
    "X_ = base_pipeline.fit_transform(X, Y)\n",
    "X_"
   ],
   "metadata": {
    "collapsed": false,
    "pycharm": {
     "name": "#%%\n"
    }
   }
  },
  {
   "cell_type": "code",
   "execution_count": null,
   "outputs": [],
   "source": [
    "train_x, test_x, train_y, test_y = train_test_split(X_, Y, test_size=0.2, random_state=48)\n",
    "train_x.shape, test_x.shape, train_y.shape, test_y.shape"
   ],
   "metadata": {
    "collapsed": false,
    "pycharm": {
     "name": "#%%\n"
    }
   }
  },
  {
   "cell_type": "code",
   "execution_count": null,
   "outputs": [],
   "source": [
    "cv = RepeatedKFold(n_splits=12, n_repeats=24, random_state=64)\n"
   ],
   "metadata": {
    "collapsed": false,
    "pycharm": {
     "name": "#%%\n"
    }
   }
  }
 ],
 "metadata": {
  "kernelspec": {
   "display_name": "Python 3",
   "language": "python",
   "name": "python3"
  },
  "language_info": {
   "codemirror_mode": {
    "name": "ipython",
    "version": 2
   },
   "file_extension": ".py",
   "mimetype": "text/x-python",
   "name": "python",
   "nbconvert_exporter": "python",
   "pygments_lexer": "ipython2",
   "version": "2.7.6"
  }
 },
 "nbformat": 4,
 "nbformat_minor": 0
}