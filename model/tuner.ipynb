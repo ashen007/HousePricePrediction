{
 "cells": [
  {
   "cell_type": "code",
   "execution_count": 1,
   "metadata": {
    "collapsed": true
   },
   "outputs": [],
   "source": [
    "import np as np\n",
    "import numpy as np\n",
    "import pandas as pd\n",
    "import seaborn as sns\n",
    "\n",
    "from matplotlib import pyplot as plt\n",
    "from feature_engine import imputation\n",
    "from feature_engine import encoding\n",
    "\n",
    "# pipeline utility\n",
    "from sklearn.pipeline import Pipeline\n",
    "\n",
    "# preprocessing\n",
    "from sklearn.preprocessing import RobustScaler\n",
    "from sklearn.preprocessing import MinMaxScaler\n",
    "from sklearn.preprocessing import QuantileTransformer\n",
    "from sklearn.preprocessing import PolynomialFeatures\n",
    "\n",
    "# hyper-parameter tuning\n",
    "from sklearn.model_selection import train_test_split\n",
    "from sklearn.model_selection import RepeatedKFold\n",
    "from sklearn.model_selection import RandomizedSearchCV\n",
    "from sklearn.model_selection import GridSearchCV\n",
    "\n",
    "# metrics to evaluate models\n",
    "from sklearn.metrics import r2_score\n",
    "from sklearn.metrics import max_error\n",
    "from sklearn.metrics import mean_squared_error\n",
    "from sklearn.metrics import make_scorer\n",
    "\n",
    "# feature selection\n",
    "from sklearn.feature_selection import SelectKBest\n",
    "from sklearn.feature_selection import mutual_info_regression\n",
    "\n",
    "# linear models\n",
    "from sklearn.linear_model import Ridge\n",
    "from sklearn.linear_model import Lasso\n",
    "from sklearn.linear_model import ElasticNet\n",
    "from sklearn.linear_model import SGDRegressor\n",
    "\n",
    "# neighbors models\n",
    "from sklearn.neighbors import KNeighborsRegressor\n",
    "\n",
    "# tree models\n",
    "from sklearn.tree import DecisionTreeRegressor\n",
    "from sklearn.tree import ExtraTreeRegressor"
   ]
  },
  {
   "cell_type": "code",
   "execution_count": 2,
   "outputs": [
    {
     "data": {
      "text/plain": "((1460, 79), (1460,))"
     },
     "execution_count": 2,
     "metadata": {},
     "output_type": "execute_result"
    }
   ],
   "source": [
    "house_data = pd.read_csv('../data/train.csv', index_col='Id')\n",
    "X = house_data.drop(labels='SalePrice', axis=1)\n",
    "Y = house_data['SalePrice']\n",
    "X.shape, Y.shape"
   ],
   "metadata": {
    "collapsed": false,
    "pycharm": {
     "name": "#%%\n"
    }
   }
  },
  {
   "cell_type": "code",
   "execution_count": 3,
   "outputs": [],
   "source": [
    "cv = RepeatedKFold(n_splits=6, n_repeats=12, random_state=64)"
   ],
   "metadata": {
    "collapsed": false,
    "pycharm": {
     "name": "#%%\n"
    }
   }
  },
  {
   "cell_type": "code",
   "execution_count": 4,
   "outputs": [],
   "source": [
    "base_pipeline = Pipeline(steps=[('most_miss_cat', imputation.CategoricalImputer(variables=['Alley',\n",
    "                                                                                           'FireplaceQu',\n",
    "                                                                                           'PoolQC',\n",
    "                                                                                           'Fence',\n",
    "                                                                                           'MiscFeature'])),\n",
    "                                ('least_miss_cat', imputation.RandomSampleImputer(random_state='LotArea',\n",
    "                                                                                  seed='observation',\n",
    "                                                                                  variables=['GarageCond',\n",
    "                                                                                             'GarageType',\n",
    "                                                                                             'GarageFinish',\n",
    "                                                                                             'GarageQual',\n",
    "                                                                                             'BsmtExposure',\n",
    "                                                                                             'BsmtFinType2',\n",
    "                                                                                             'BsmtCond',\n",
    "                                                                                             'BsmtQual',\n",
    "                                                                                             'BsmtFinType1',\n",
    "                                                                                             'MasVnrType',\n",
    "                                                                                             'Electrical'])),\n",
    "                                ('least_miss_num', imputation.RandomSampleImputer(random_state='LotArea',\n",
    "                                                                                  seed='observation',\n",
    "                                                                                  variables=['LotFrontage',\n",
    "                                                                                             'GarageYrBlt',\n",
    "                                                                                             'MasVnrArea'])),\n",
    "                                ('encode', encoding.OrdinalEncoder(\n",
    "                                    variables=X.select_dtypes(include=object).columns.to_list())),\n",
    "                                ('scaling', RobustScaler()),\n",
    "                                ('transform', QuantileTransformer(output_distribution='normal')),\n",
    "                                ('scale_to_range', MinMaxScaler()),\n",
    "                                ('feature_selection', SelectKBest(score_func=mutual_info_regression,\n",
    "                                                                  k=20))]\n",
    "                         )"
   ],
   "metadata": {
    "collapsed": false,
    "pycharm": {
     "name": "#%%\n"
    }
   }
  },
  {
   "cell_type": "code",
   "execution_count": 5,
   "outputs": [
    {
     "data": {
      "text/plain": "((1168, 20), (292, 20), (1168,), (292,))"
     },
     "execution_count": 5,
     "metadata": {},
     "output_type": "execute_result"
    }
   ],
   "source": [
    "X_ = base_pipeline.fit_transform(X, Y)\n",
    "train_x, test_x, train_y, test_y = train_test_split(X_, Y, test_size=0.2, random_state=48)\n",
    "train_x.shape, test_x.shape, train_y.shape, test_y.shape"
   ],
   "metadata": {
    "collapsed": false,
    "pycharm": {
     "name": "#%%\n"
    }
   }
  },
  {
   "cell_type": "code",
   "execution_count": 6,
   "outputs": [
    {
     "data": {
      "text/plain": "{'memory': None,\n 'steps': [('poly', PolynomialFeatures()), ('lasso', Lasso())],\n 'verbose': False,\n 'poly': PolynomialFeatures(),\n 'lasso': Lasso(),\n 'poly__degree': 2,\n 'poly__include_bias': True,\n 'poly__interaction_only': False,\n 'poly__order': 'C',\n 'lasso__alpha': 1.0,\n 'lasso__copy_X': True,\n 'lasso__fit_intercept': True,\n 'lasso__max_iter': 1000,\n 'lasso__normalize': 'deprecated',\n 'lasso__positive': False,\n 'lasso__precompute': False,\n 'lasso__random_state': None,\n 'lasso__selection': 'cyclic',\n 'lasso__tol': 0.0001,\n 'lasso__warm_start': False}"
     },
     "execution_count": 6,
     "metadata": {},
     "output_type": "execute_result"
    }
   ],
   "source": [
    "L1_model = Pipeline(steps=[('poly', PolynomialFeatures(degree=2)),\n",
    "                           ('lasso', Lasso())])\n",
    "L1_model.get_params()"
   ],
   "metadata": {
    "collapsed": false,
    "pycharm": {
     "name": "#%%\n"
    }
   }
  },
  {
   "cell_type": "code",
   "execution_count": 9,
   "outputs": [
    {
     "name": "stderr",
     "output_type": "stream",
     "text": [
      "C:\\Users\\hewar\\AppData\\Local\\Programs\\Python\\Python39\\lib\\site-packages\\sklearn\\linear_model\\_coordinate_descent.py:645: ConvergenceWarning: Objective did not converge. You might want to increase the number of iterations, check the scale of the features or consider increasing regularisation. Duality gap: 5.397e+09, tolerance: 7.405e+08\n",
      "  model = cd_fast.enet_coordinate_descent(\n"
     ]
    },
    {
     "data": {
      "text/plain": "GridSearchCV(cv=RepeatedKFold(n_repeats=12, n_splits=6, random_state=64),\n             estimator=Pipeline(steps=[('poly', PolynomialFeatures()),\n                                       ('lasso', Lasso())]),\n             n_jobs=-1,\n             param_grid={'lasso__alpha': array([1.36240559e+00, 5.09650935e-04, 1.36518178e-03, 2.34427570e+00,\n       3.94148561e-02, 1.19543881e-03, 1.34546427e+03, 1.39763998e-01,\n       8.91411678e+00, 3.89664653e+00, 2.22187391e+00, 7.39601408e+02,\n       6.53411636e-02, 4.27754032e-03, 4.99826970e-02, 5.16190912e+01,\n       2.01002633e-01, 5.62079557e+00, 1.40125439e-02, 3.13203511e-01,\n       6.56560299e+00, 9.63509355e+01, 5.52455953e-03, 3.22991033e-03,\n       1.28071478e+01]),\n                         'lasso__max_iter': array([3411, 5502, 5985, 2687])},\n             refit='r2',\n             scoring={'me': make_scorer(max_error),\n                      'r2': make_scorer(r2_score)})"
     },
     "execution_count": 9,
     "metadata": {},
     "output_type": "execute_result"
    }
   ],
   "source": [
    "l1_grid = {'lasso__alpha': np.exp(np.random.normal(0, 5, 25)),\n",
    "           'lasso__max_iter': np.random.randint(1000, 6580, 4)\n",
    "           }\n",
    "\n",
    "l1_grid_search = GridSearchCV(estimator=L1_model,\n",
    "                              param_grid=l1_grid,\n",
    "                              scoring={'r2': make_scorer(r2_score),\n",
    "                                       'me': make_scorer(max_error)\n",
    "                                       },\n",
    "                              refit='r2',\n",
    "                              n_jobs=-1,\n",
    "                              cv=cv)\n",
    "\n",
    "l1_grid_search.fit(train_x, train_y)"
   ],
   "metadata": {
    "collapsed": false,
    "pycharm": {
     "name": "#%%\n"
    }
   }
  },
  {
   "cell_type": "code",
   "execution_count": 12,
   "outputs": [
    {
     "data": {
      "text/plain": "({'lasso__alpha': 12.807147786982478, 'lasso__max_iter': 2687},\n 0.8582179183379455)"
     },
     "execution_count": 12,
     "metadata": {},
     "output_type": "execute_result"
    }
   ],
   "source": [
    "l1_grid_search.best_params_, l1_grid_search.best_score_"
   ],
   "metadata": {
    "collapsed": false,
    "pycharm": {
     "name": "#%%\n"
    }
   }
  },
  {
   "cell_type": "code",
   "execution_count": 17,
   "outputs": [],
   "source": [
    "temp_l1_cv_result = pd.DataFrame(l1_grid_search.cv_results_)\n",
    "temp_l1_cv_result.to_pickle('../data/cv_results/l1_cv_result.pkl')"
   ],
   "metadata": {
    "collapsed": false,
    "pycharm": {
     "name": "#%%\n"
    }
   }
  },
  {
   "cell_type": "code",
   "execution_count": 8,
   "outputs": [
    {
     "data": {
      "text/plain": "{'memory': None,\n 'steps': [('poly', PolynomialFeatures()), ('ridge', Ridge())],\n 'verbose': False,\n 'poly': PolynomialFeatures(),\n 'ridge': Ridge(),\n 'poly__degree': 2,\n 'poly__include_bias': True,\n 'poly__interaction_only': False,\n 'poly__order': 'C',\n 'ridge__alpha': 1.0,\n 'ridge__copy_X': True,\n 'ridge__fit_intercept': True,\n 'ridge__max_iter': None,\n 'ridge__normalize': 'deprecated',\n 'ridge__positive': False,\n 'ridge__random_state': None,\n 'ridge__solver': 'auto',\n 'ridge__tol': 0.001}"
     },
     "execution_count": 8,
     "metadata": {},
     "output_type": "execute_result"
    }
   ],
   "source": [
    "L2_model = Pipeline(steps=[('poly', PolynomialFeatures(degree=2)),\n",
    "                           ('ridge', Ridge())])\n",
    "L2_model.get_params()"
   ],
   "metadata": {
    "collapsed": false,
    "pycharm": {
     "name": "#%%\n"
    }
   }
  },
  {
   "cell_type": "code",
   "execution_count": 10,
   "outputs": [
    {
     "data": {
      "text/plain": "GridSearchCV(cv=RepeatedKFold(n_repeats=12, n_splits=6, random_state=64),\n             estimator=Pipeline(steps=[('poly', PolynomialFeatures()),\n                                       ('ridge', Ridge())]),\n             n_jobs=-1,\n             param_grid={'ridge__alpha': array([1.31126344e+02, 3.89911045e-01, 1.57619448e+00, 1.25777725e+00,\n       3.31674693e-02, 3.75486593e-03, 9.82609112e-03, 6.72825549e+05,\n       1.38327667e+03, 1.18260102e+06, 2.23209131e+00, 3.55747948e+00,\n       3.69327214e+00, 6.40218447e+01, 4.37709079e-01, 4.89488876e-03,\n       1.28600521e-01, 2.07991834e-03, 5.37884562e-01, 1.55284967e+01,\n       6.75642940e-03, 2.62140261e+01, 3.40807308e-01, 1.51681554e-02,\n       2.47807479e+00]),\n                         'ridge__max_iter': array([6055, 5819, 1835, 3678])},\n             refit='r2',\n             scoring={'me': make_scorer(max_error),\n                      'r2': make_scorer(r2_score)})"
     },
     "execution_count": 10,
     "metadata": {},
     "output_type": "execute_result"
    }
   ],
   "source": [
    "l2_grid = {'ridge__alpha': np.exp(np.random.normal(0, 5, 25)),\n",
    "           'ridge__max_iter': np.random.randint(1000, 6580, 4)\n",
    "           }\n",
    "\n",
    "l2_grid_search = GridSearchCV(estimator=L2_model,\n",
    "                              param_grid=l2_grid,\n",
    "                              scoring={'r2': make_scorer(r2_score),\n",
    "                                       'me': make_scorer(max_error)\n",
    "                                       },\n",
    "                              refit='r2',\n",
    "                              n_jobs=-1,\n",
    "                              cv=cv)\n",
    "\n",
    "l2_grid_search.fit(train_x, train_y)"
   ],
   "metadata": {
    "collapsed": false,
    "pycharm": {
     "name": "#%%\n"
    }
   }
  },
  {
   "cell_type": "code",
   "execution_count": 11,
   "outputs": [
    {
     "data": {
      "text/plain": "({'ridge__alpha': 0.5378845624526254, 'ridge__max_iter': 6055},\n 0.8602809816793933)"
     },
     "execution_count": 11,
     "metadata": {},
     "output_type": "execute_result"
    }
   ],
   "source": [
    "l2_grid_search.best_params_, l2_grid_search.best_score_"
   ],
   "metadata": {
    "collapsed": false,
    "pycharm": {
     "name": "#%%\n"
    }
   }
  },
  {
   "cell_type": "code",
   "execution_count": 18,
   "outputs": [],
   "source": [
    "temp_l2_cv_result = pd.DataFrame(l2_grid_search.cv_results_)\n",
    "temp_l2_cv_result.to_pickle('../data/cv_results/l2_cv_result.pkl')"
   ],
   "metadata": {
    "collapsed": false,
    "pycharm": {
     "name": "#%%\n"
    }
   }
  },
  {
   "cell_type": "code",
   "execution_count": 2,
   "outputs": [
    {
     "data": {
      "text/plain": "{'memory': None,\n 'steps': [('poly', PolynomialFeatures(degree=3)),\n  ('elasticNet', ElasticNet())],\n 'verbose': False,\n 'poly': PolynomialFeatures(degree=3),\n 'elasticNet': ElasticNet(),\n 'poly__degree': 3,\n 'poly__include_bias': True,\n 'poly__interaction_only': False,\n 'poly__order': 'C',\n 'elasticNet__alpha': 1.0,\n 'elasticNet__copy_X': True,\n 'elasticNet__fit_intercept': True,\n 'elasticNet__l1_ratio': 0.5,\n 'elasticNet__max_iter': 1000,\n 'elasticNet__normalize': 'deprecated',\n 'elasticNet__positive': False,\n 'elasticNet__precompute': False,\n 'elasticNet__random_state': None,\n 'elasticNet__selection': 'cyclic',\n 'elasticNet__tol': 0.0001,\n 'elasticNet__warm_start': False}"
     },
     "execution_count": 2,
     "metadata": {},
     "output_type": "execute_result"
    }
   ],
   "source": [
    "elasticNet_model = Pipeline(steps=[('poly', PolynomialFeatures(degree=3)),\n",
    "                                   ('elasticNet', ElasticNet())])\n",
    "elasticNet_model.get_params()"
   ],
   "metadata": {
    "collapsed": false,
    "pycharm": {
     "name": "#%%\n"
    }
   }
  },
  {
   "cell_type": "code",
   "execution_count": 8,
   "outputs": [
    {
     "name": "stderr",
     "output_type": "stream",
     "text": [
      "C:\\Users\\hewar\\AppData\\Local\\Programs\\Python\\Python39\\lib\\site-packages\\sklearn\\linear_model\\_coordinate_descent.py:645: ConvergenceWarning: Objective did not converge. You might want to increase the number of iterations, check the scale of the features or consider increasing regularisation. Duality gap: 4.758e+11, tolerance: 7.405e+08\n",
      "  model = cd_fast.enet_coordinate_descent(\n"
     ]
    },
    {
     "data": {
      "text/plain": "RandomizedSearchCV(cv=RepeatedKFold(n_repeats=12, n_splits=6, random_state=64),\n                   estimator=Pipeline(steps=[('poly',\n                                              PolynomialFeatures(degree=3)),\n                                             ('elasticNet', ElasticNet())]),\n                   n_jobs=-1,\n                   param_distributions={'elasticNet__alpha': array([1.39233193e-01, 3.81326433e-02, 7.55360589e+02, 6.97434347e-01,\n       6.97421159e+00, 9.03409319e+00, 5.36540303e+00, 4.26474421e+02,\n       1.15198366e+02, 7.54807993e+02, 3.78955228e+01, 1.73782951e-03]),\n                                        'elasticNet__l1_ratio': array([0.   , 0.125, 0.25 , 0.375, 0.5  , 0.625, 0.75 , 0.875, 1.   ]),\n                                        'elasticNet__max_iter': array([2788, 3849, 2977, 2358])},\n                   refit='r2',\n                   scoring={'me': make_scorer(max_error),\n                            'r2': make_scorer(r2_score)})"
     },
     "execution_count": 8,
     "metadata": {},
     "output_type": "execute_result"
    }
   ],
   "source": [
    "iteration = 64\n",
    "elasticNet_grid = {'elasticNet__alpha': np.exp(np.random.normal(0, 5, 12)),\n",
    "                   'elasticNet__max_iter': np.random.randint(1000, 5000, 4),\n",
    "                   'elasticNet__l1_ratio': np.linspace(0, 1, 9)\n",
    "                   }\n",
    "\n",
    "elasticNet_grid_search = RandomizedSearchCV(estimator=elasticNet_model,\n",
    "                                            param_distributions=elasticNet_grid,\n",
    "                                            scoring={'r2': make_scorer(r2_score),\n",
    "                                                     'me': make_scorer(max_error)\n",
    "                                                     },\n",
    "                                            refit='r2',\n",
    "                                            n_jobs=-1,\n",
    "                                            cv=cv)\n",
    "\n",
    "elasticNet_grid_search.fit(train_x, train_y)"
   ],
   "metadata": {
    "collapsed": false,
    "pycharm": {
     "name": "#%%\n"
    }
   }
  },
  {
   "cell_type": "code",
   "execution_count": 9,
   "outputs": [
    {
     "data": {
      "text/plain": "({'elasticNet__max_iter': 2977,\n  'elasticNet__l1_ratio': 0.25,\n  'elasticNet__alpha': 0.03813264333947848},\n 0.8604811592475424)"
     },
     "execution_count": 9,
     "metadata": {},
     "output_type": "execute_result"
    }
   ],
   "source": [
    "elasticNet_grid_search.best_params_, elasticNet_grid_search.best_score_"
   ],
   "metadata": {
    "collapsed": false,
    "pycharm": {
     "name": "#%%\n"
    }
   }
  },
  {
   "cell_type": "code",
   "execution_count": 10,
   "outputs": [],
   "source": [
    "temp_elasticNet_cv_result = pd.DataFrame(elasticNet_grid_search.cv_results_)\n",
    "temp_elasticNet_cv_result.to_pickle('../data/cv_results/elasticNet_cv_result.pkl')"
   ],
   "metadata": {
    "collapsed": false,
    "pycharm": {
     "name": "#%%\n"
    }
   }
  },
  {
   "cell_type": "code",
   "execution_count": 7,
   "outputs": [
    {
     "data": {
      "text/plain": "{'memory': None,\n 'steps': [('poly', PolynomialFeatures()), ('SDG', SGDRegressor())],\n 'verbose': False,\n 'poly': PolynomialFeatures(),\n 'SDG': SGDRegressor(),\n 'poly__degree': 2,\n 'poly__include_bias': True,\n 'poly__interaction_only': False,\n 'poly__order': 'C',\n 'SDG__alpha': 0.0001,\n 'SDG__average': False,\n 'SDG__early_stopping': False,\n 'SDG__epsilon': 0.1,\n 'SDG__eta0': 0.01,\n 'SDG__fit_intercept': True,\n 'SDG__l1_ratio': 0.15,\n 'SDG__learning_rate': 'invscaling',\n 'SDG__loss': 'squared_error',\n 'SDG__max_iter': 1000,\n 'SDG__n_iter_no_change': 5,\n 'SDG__penalty': 'l2',\n 'SDG__power_t': 0.25,\n 'SDG__random_state': None,\n 'SDG__shuffle': True,\n 'SDG__tol': 0.001,\n 'SDG__validation_fraction': 0.1,\n 'SDG__verbose': 0,\n 'SDG__warm_start': False}"
     },
     "execution_count": 7,
     "metadata": {},
     "output_type": "execute_result"
    }
   ],
   "source": [
    "SDG_model = Pipeline(steps=[('poly', PolynomialFeatures(degree=2)),\n",
    "                            ('SDG', SGDRegressor())])\n",
    "SDG_model.get_params()"
   ],
   "metadata": {
    "collapsed": false,
    "pycharm": {
     "name": "#%%\n"
    }
   }
  },
  {
   "cell_type": "code",
   "execution_count": 8,
   "outputs": [
    {
     "name": "stderr",
     "output_type": "stream",
     "text": [
      "C:\\Users\\hewar\\AppData\\Local\\Programs\\Python\\Python39\\lib\\site-packages\\sklearn\\linear_model\\_stochastic_gradient.py:1509: ConvergenceWarning: Maximum number of iteration reached before convergence. Consider increasing max_iter to improve the fit.\n",
      "  warnings.warn(\n"
     ]
    },
    {
     "data": {
      "text/plain": "RandomizedSearchCV(cv=RepeatedKFold(n_repeats=12, n_splits=6, random_state=64),\n                   estimator=Pipeline(steps=[('poly', PolynomialFeatures()),\n                                             ('SDG', SGDRegressor())]),\n                   n_iter=100, n_jobs=-1,\n                   param_distributions={'SDG__alpha': array([3.71135299e+01, 2.73985790e+00, 1.17096216e+01, 1.56372274e-01,\n       6.94351611e+01, 1.33771364e+00, 4.00236601e+05, 4.00155904e-02,\n       5.86957500...1, 5.84622268e+04, 2.44566533e-01]),\n                                        'SDG__l1_ratio': array([0.   , 0.125, 0.25 , 0.375, 0.5  , 0.625, 0.75 , 0.875, 1.   ]),\n                                        'SDG__learning_rate': ['constant',\n                                                               'optimal',\n                                                               'adaptive'],\n                                        'SDG__max_iter': array([7039, 5594, 4742, 7416, 4149, 8988, 9774, 2297, 7699, 3373]),\n                                        'SDG__penalty': ['l2', 'l1',\n                                                         'elasticnet']},\n                   refit='r2',\n                   scoring={'me': make_scorer(max_error),\n                            'r2': make_scorer(r2_score)})"
     },
     "execution_count": 8,
     "metadata": {},
     "output_type": "execute_result"
    }
   ],
   "source": [
    "sdg_iteration = 100\n",
    "\n",
    "SDG_grid = {'SDG__alpha': np.exp(np.random.normal(0, 5, 12)),\n",
    "            'SDG__max_iter': np.random.randint(1000, 10000, 10),\n",
    "            'SDG__l1_ratio': np.linspace(0, 1, 9),\n",
    "            'SDG__penalty': ['l2', 'l1', 'elasticnet'],\n",
    "            'SDG__learning_rate': ['constant', 'optimal', 'adaptive']\n",
    "            }\n",
    "\n",
    "SDG_grid_search = RandomizedSearchCV(estimator=SDG_model,\n",
    "                                     param_distributions=SDG_grid,\n",
    "                                     scoring={'r2': make_scorer(r2_score),\n",
    "                                              'me': make_scorer(max_error)\n",
    "                                              },\n",
    "                                     refit='r2',\n",
    "                                     n_jobs=-1,\n",
    "                                     n_iter=sdg_iteration,\n",
    "                                     cv=cv)\n",
    "\n",
    "SDG_grid_search.fit(train_x, train_y)"
   ],
   "metadata": {
    "collapsed": false,
    "pycharm": {
     "name": "#%%\n"
    }
   }
  },
  {
   "cell_type": "code",
   "execution_count": 9,
   "outputs": [
    {
     "data": {
      "text/plain": "({'SDG__penalty': 'l1',\n  'SDG__max_iter': 4742,\n  'SDG__learning_rate': 'adaptive',\n  'SDG__l1_ratio': 0.5,\n  'SDG__alpha': 5.869575002873918e-05},\n 0.8567255105682428)"
     },
     "execution_count": 9,
     "metadata": {},
     "output_type": "execute_result"
    }
   ],
   "source": [
    "SDG_grid_search.best_params_, SDG_grid_search.best_score_"
   ],
   "metadata": {
    "collapsed": false,
    "pycharm": {
     "name": "#%%\n"
    }
   }
  },
  {
   "cell_type": "code",
   "execution_count": 10,
   "outputs": [],
   "source": [
    "temp_SDG_cv_result = pd.DataFrame(SDG_grid_search.cv_results_)\n",
    "temp_SDG_cv_result.to_pickle('../data/cv_results/SDG_cv_result.pkl')"
   ],
   "metadata": {
    "collapsed": false,
    "pycharm": {
     "name": "#%%\n"
    }
   }
  },
  {
   "cell_type": "code",
   "execution_count": 17,
   "outputs": [
    {
     "data": {
      "text/plain": "{'memory': None,\n 'steps': [('poly', PolynomialFeatures(degree=4)),\n  ('KNN', KNeighborsRegressor())],\n 'verbose': False,\n 'poly': PolynomialFeatures(degree=4),\n 'KNN': KNeighborsRegressor(),\n 'poly__degree': 4,\n 'poly__include_bias': True,\n 'poly__interaction_only': False,\n 'poly__order': 'C',\n 'KNN__algorithm': 'auto',\n 'KNN__leaf_size': 30,\n 'KNN__metric': 'minkowski',\n 'KNN__metric_params': None,\n 'KNN__n_jobs': None,\n 'KNN__n_neighbors': 5,\n 'KNN__p': 2,\n 'KNN__weights': 'uniform'}"
     },
     "execution_count": 17,
     "metadata": {},
     "output_type": "execute_result"
    }
   ],
   "source": [
    "KNN_model = Pipeline(steps=[('poly', PolynomialFeatures(degree=4)),\n",
    "                            ('KNN', KNeighborsRegressor())])\n",
    "KNN_model.get_params()"
   ],
   "metadata": {
    "collapsed": false,
    "pycharm": {
     "name": "#%%\n"
    }
   }
  },
  {
   "cell_type": "code",
   "execution_count": 21,
   "outputs": [
    {
     "data": {
      "text/plain": "RandomizedSearchCV(cv=RepeatedKFold(n_repeats=12, n_splits=6, random_state=64),\n                   estimator=Pipeline(steps=[('poly',\n                                              PolynomialFeatures(degree=4)),\n                                             ('KNN', KNeighborsRegressor())]),\n                   n_iter=24, n_jobs=-1,\n                   param_distributions={'KNN__algorithm': ['brute', 'kd_tree',\n                                                           'ball_tree'],\n                                        'KNN__leaf_size': array([77, 77, 83, 69, 37, 90, 42, 44, 64, 66, 39, 55]),\n                                        'KNN__n_neighbors': array([46, 48, 37, 29, 30, 46, 11, 13, 41, 24, 20, 25])},\n                   refit='r2',\n                   scoring={'me': make_scorer(max_error),\n                            'r2': make_scorer(r2_score)})"
     },
     "execution_count": 21,
     "metadata": {},
     "output_type": "execute_result"
    }
   ],
   "source": [
    "KNN_iteration = 24\n",
    "\n",
    "KNN_grid = {'KNN__algorithm': ['brute', 'kd_tree', 'ball_tree'],\n",
    "            'KNN__leaf_size': np.random.randint(30, 100, 12),\n",
    "            'KNN__n_neighbors': np.random.randint(7, 51, 12),\n",
    "            }\n",
    "\n",
    "KNN_grid_search = RandomizedSearchCV(estimator=KNN_model,\n",
    "                                     param_distributions=KNN_grid,\n",
    "                                     scoring={'r2': make_scorer(r2_score),\n",
    "                                              'me': make_scorer(max_error)\n",
    "                                              },\n",
    "                                     refit='r2',\n",
    "                                     n_jobs=-1,\n",
    "                                     n_iter=KNN_iteration,\n",
    "                                     cv=cv)\n",
    "\n",
    "KNN_grid_search.fit(train_x, train_y)"
   ],
   "metadata": {
    "collapsed": false,
    "pycharm": {
     "name": "#%%\n"
    }
   }
  },
  {
   "cell_type": "code",
   "execution_count": 22,
   "outputs": [
    {
     "data": {
      "text/plain": "({'KNN__n_neighbors': 11, 'KNN__leaf_size': 77, 'KNN__algorithm': 'ball_tree'},\n 0.7853041378821608)"
     },
     "execution_count": 22,
     "metadata": {},
     "output_type": "execute_result"
    }
   ],
   "source": [
    "KNN_grid_search.best_params_, KNN_grid_search.best_score_"
   ],
   "metadata": {
    "collapsed": false,
    "pycharm": {
     "name": "#%%\n"
    }
   }
  },
  {
   "cell_type": "code",
   "execution_count": 23,
   "outputs": [],
   "source": [
    "temp_KNN_cv_result = pd.DataFrame(KNN_grid_search.cv_results_)\n",
    "temp_KNN_cv_result.to_pickle('../data/cv_results/KNN_cv_result.pkl')"
   ],
   "metadata": {
    "collapsed": false,
    "pycharm": {
     "name": "#%%\n"
    }
   }
  },
  {
   "cell_type": "code",
   "execution_count": 24,
   "outputs": [
    {
     "data": {
      "text/plain": "{'memory': None,\n 'steps': [('poly', PolynomialFeatures(degree=4)),\n  ('DT', DecisionTreeRegressor())],\n 'verbose': False,\n 'poly': PolynomialFeatures(degree=4),\n 'DT': DecisionTreeRegressor(),\n 'poly__degree': 4,\n 'poly__include_bias': True,\n 'poly__interaction_only': False,\n 'poly__order': 'C',\n 'DT__ccp_alpha': 0.0,\n 'DT__criterion': 'squared_error',\n 'DT__max_depth': None,\n 'DT__max_features': None,\n 'DT__max_leaf_nodes': None,\n 'DT__min_impurity_decrease': 0.0,\n 'DT__min_samples_leaf': 1,\n 'DT__min_samples_split': 2,\n 'DT__min_weight_fraction_leaf': 0.0,\n 'DT__random_state': None,\n 'DT__splitter': 'best'}"
     },
     "execution_count": 24,
     "metadata": {},
     "output_type": "execute_result"
    }
   ],
   "source": [
    "DT_model = Pipeline(steps=[('poly', PolynomialFeatures(degree=4)),\n",
    "                           ('DT', DecisionTreeRegressor())])\n",
    "DT_model.get_params()"
   ],
   "metadata": {
    "collapsed": false,
    "pycharm": {
     "name": "#%%\n"
    }
   }
  },
  {
   "cell_type": "code",
   "execution_count": 28,
   "outputs": [
    {
     "data": {
      "text/plain": "RandomizedSearchCV(cv=RepeatedKFold(n_repeats=12, n_splits=6, random_state=64),\n                   estimator=Pipeline(steps=[('poly',\n                                              PolynomialFeatures(degree=4)),\n                                             ('DT', DecisionTreeRegressor())]),\n                   n_iter=64, n_jobs=-1,\n                   param_distributions={'DT__ccp_alpha': array([6, 7, 3, 6, 3, 6]),\n                                        'DT__max_depth': array([27, 25, 36, 77, 36, 73, 41, 95, 74, 98, 98, 70]),\n                                        'DT__max_features': ['auto', 'sqrt',\n                                                             'log2'],\n                                        'DT__min_samples_leaf': array([21, 94, 36, 89, 88, 15, 86, 33, 60, 44, 27, 90]),\n                                        'DT__min_samples_split': array([38, 24, 50, 22, 54, 59, 54, 79, 32, 20, 37, 23]),\n                                        'DT__splitter': ['best', 'random']},\n                   refit='r2',\n                   scoring={'me': make_scorer(max_error),\n                            'r2': make_scorer(r2_score)})"
     },
     "execution_count": 28,
     "metadata": {},
     "output_type": "execute_result"
    }
   ],
   "source": [
    "DT_iteration = 64\n",
    "\n",
    "DT_grid = {'DT__splitter': ['best', 'random'],\n",
    "           'DT__max_depth': np.random.randint(25, 100, 12),\n",
    "           'DT__min_samples_split': np.random.randint(20, 90, 12),\n",
    "           'DT__min_samples_leaf': np.random.randint(14, 100, 12),\n",
    "           'DT__max_features': ['auto', 'sqrt', 'log2'],\n",
    "           'DT__ccp_alpha': np.random.randint(0, 12, 6)\n",
    "           }\n",
    "\n",
    "DT_grid_search = RandomizedSearchCV(estimator=DT_model,\n",
    "                                    param_distributions=DT_grid,\n",
    "                                    scoring={'r2': make_scorer(r2_score),\n",
    "                                             'me': make_scorer(max_error)\n",
    "                                             },\n",
    "                                    refit='r2',\n",
    "                                    n_jobs=-1,\n",
    "                                    n_iter=DT_iteration,\n",
    "                                    cv=cv)\n",
    "\n",
    "DT_grid_search.fit(train_x, train_y)"
   ],
   "metadata": {
    "collapsed": false,
    "pycharm": {
     "name": "#%%\n"
    }
   }
  },
  {
   "cell_type": "code",
   "execution_count": 29,
   "outputs": [
    {
     "data": {
      "text/plain": "({'DT__splitter': 'best',\n  'DT__min_samples_split': 20,\n  'DT__min_samples_leaf': 21,\n  'DT__max_features': 'auto',\n  'DT__max_depth': 36,\n  'DT__ccp_alpha': 6},\n 0.8068847016905996)"
     },
     "execution_count": 29,
     "metadata": {},
     "output_type": "execute_result"
    }
   ],
   "source": [
    "DT_grid_search.best_params_, DT_grid_search.best_score_"
   ],
   "metadata": {
    "collapsed": false,
    "pycharm": {
     "name": "#%%\n"
    }
   }
  },
  {
   "cell_type": "code",
   "execution_count": 30,
   "outputs": [],
   "source": [
    "temp_DT_cv_result = pd.DataFrame(DT_grid_search.cv_results_)\n",
    "temp_DT_cv_result.to_pickle('../data/cv_results/DT_cv_result.pkl')"
   ],
   "metadata": {
    "collapsed": false,
    "pycharm": {
     "name": "#%%\n"
    }
   }
  },
  {
   "cell_type": "code",
   "execution_count": 7,
   "outputs": [
    {
     "data": {
      "text/plain": "{'memory': None,\n 'steps': [('poly', PolynomialFeatures(degree=4)),\n  ('ET', ExtraTreeRegressor())],\n 'verbose': False,\n 'poly': PolynomialFeatures(degree=4),\n 'ET': ExtraTreeRegressor(),\n 'poly__degree': 4,\n 'poly__include_bias': True,\n 'poly__interaction_only': False,\n 'poly__order': 'C',\n 'ET__ccp_alpha': 0.0,\n 'ET__criterion': 'squared_error',\n 'ET__max_depth': None,\n 'ET__max_features': 'auto',\n 'ET__max_leaf_nodes': None,\n 'ET__min_impurity_decrease': 0.0,\n 'ET__min_samples_leaf': 1,\n 'ET__min_samples_split': 2,\n 'ET__min_weight_fraction_leaf': 0.0,\n 'ET__random_state': None,\n 'ET__splitter': 'random'}"
     },
     "execution_count": 7,
     "metadata": {},
     "output_type": "execute_result"
    }
   ],
   "source": [
    "ET_model = Pipeline(steps=[('poly', PolynomialFeatures(degree=4)),\n",
    "                           ('ET', ExtraTreeRegressor())])\n",
    "ET_model.get_params()"
   ],
   "metadata": {
    "collapsed": false,
    "pycharm": {
     "name": "#%%\n"
    }
   }
  },
  {
   "cell_type": "code",
   "execution_count": 12,
   "outputs": [
    {
     "data": {
      "text/plain": "RandomizedSearchCV(cv=RepeatedKFold(n_repeats=12, n_splits=6, random_state=64),\n                   estimator=Pipeline(steps=[('poly',\n                                              PolynomialFeatures(degree=4)),\n                                             ('ET', ExtraTreeRegressor())]),\n                   n_iter=128, n_jobs=-1,\n                   param_distributions={'ET__ccp_alpha': array([ 5,  6, 11,  2,  2,  8]),\n                                        'ET__max_depth': array([67, 57, 31, 94, 82, 27, 59, 90, 35, 98, 82, 66]),\n                                        'ET__max_features': ['auto', 'sqrt',\n                                                             'log2'],\n                                        'ET__min_samples_leaf': array([75, 34, 40, 15, 91, 52, 26, 46, 97, 26, 63, 41]),\n                                        'ET__min_samples_split': array([64, 38, 53, 49, 73, 28, 61, 58, 21, 20, 49, 27])},\n                   refit='r2',\n                   scoring={'me': make_scorer(max_error),\n                            'r2': make_scorer(r2_score)})"
     },
     "execution_count": 12,
     "metadata": {},
     "output_type": "execute_result"
    }
   ],
   "source": [
    "ET_iteration = 128\n",
    "\n",
    "ET_grid = {'ET__max_depth': np.random.randint(25, 100, 12),\n",
    "           'ET__min_samples_split': np.random.randint(20, 90, 12),\n",
    "           'ET__min_samples_leaf': np.random.randint(14, 100, 12),\n",
    "           'ET__max_features': ['auto', 'sqrt', 'log2'],\n",
    "           'ET__ccp_alpha': np.random.randint(0, 12, 6)\n",
    "           }\n",
    "\n",
    "ET_grid_search = RandomizedSearchCV(estimator=ET_model,\n",
    "                                    param_distributions=ET_grid,\n",
    "                                    scoring={'r2': make_scorer(r2_score),\n",
    "                                             'me': make_scorer(max_error)\n",
    "                                             },\n",
    "                                    refit='r2',\n",
    "                                    n_jobs=-1,\n",
    "                                    n_iter=ET_iteration,\n",
    "                                    cv=cv)\n",
    "\n",
    "ET_grid_search.fit(train_x, train_y)"
   ],
   "metadata": {
    "collapsed": false,
    "pycharm": {
     "name": "#%%\n"
    }
   }
  },
  {
   "cell_type": "code",
   "execution_count": 13,
   "outputs": [
    {
     "data": {
      "text/plain": "({'ET__min_samples_split': 53,\n  'ET__min_samples_leaf': 26,\n  'ET__max_features': 'auto',\n  'ET__max_depth': 66,\n  'ET__ccp_alpha': 6},\n 0.7979352579753282)"
     },
     "execution_count": 13,
     "metadata": {},
     "output_type": "execute_result"
    }
   ],
   "source": [
    "ET_grid_search.best_params_, ET_grid_search.best_score_"
   ],
   "metadata": {
    "collapsed": false,
    "pycharm": {
     "name": "#%%\n"
    }
   }
  },
  {
   "cell_type": "code",
   "execution_count": 14,
   "outputs": [],
   "source": [
    "temp_ET_cv_result = pd.DataFrame(ET_grid_search.cv_results_)\n",
    "temp_ET_cv_result.to_pickle('../data/cv_results/ET_cv_result.pkl')"
   ],
   "metadata": {
    "collapsed": false,
    "pycharm": {
     "name": "#%%\n"
    }
   }
  }
 ],
 "metadata": {
  "kernelspec": {
   "display_name": "Python 3",
   "language": "python",
   "name": "python3"
  },
  "language_info": {
   "codemirror_mode": {
    "name": "ipython",
    "version": 2
   },
   "file_extension": ".py",
   "mimetype": "text/x-python",
   "name": "python",
   "nbconvert_exporter": "python",
   "pygments_lexer": "ipython2",
   "version": "2.7.6"
  }
 },
 "nbformat": 4,
 "nbformat_minor": 0
}