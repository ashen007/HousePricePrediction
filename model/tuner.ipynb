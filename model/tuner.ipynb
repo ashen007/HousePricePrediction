{
 "cells": [
  {
   "cell_type": "code",
   "execution_count": 1,
   "metadata": {
    "collapsed": true
   },
   "outputs": [],
   "source": [
    "import numpy as np\n",
    "import pandas as pd\n",
    "import seaborn as sns\n",
    "\n",
    "from matplotlib import pyplot as plt\n",
    "from feature_engine import imputation\n",
    "from feature_engine import encoding\n",
    "\n",
    "# pipeline utility\n",
    "from sklearn.pipeline import Pipeline\n",
    "\n",
    "# preprocessing\n",
    "from sklearn.preprocessing import RobustScaler\n",
    "from sklearn.preprocessing import MinMaxScaler\n",
    "from sklearn.preprocessing import QuantileTransformer\n",
    "from sklearn.preprocessing import PolynomialFeatures\n",
    "\n",
    "# hyper-parameter tuning\n",
    "from sklearn.model_selection import train_test_split\n",
    "from sklearn.model_selection import RepeatedKFold\n",
    "from sklearn.model_selection import GridSearchCV\n",
    "\n",
    "# metrics to evaluate models\n",
    "from sklearn.metrics import r2_score\n",
    "from sklearn.metrics import max_error\n",
    "from sklearn.metrics import mean_squared_error\n",
    "from sklearn.metrics import make_scorer\n",
    "\n",
    "# feature selection\n",
    "from sklearn.feature_selection import SelectKBest\n",
    "from sklearn.feature_selection import mutual_info_regression\n",
    "\n",
    "# linear models\n",
    "from sklearn.linear_model import Ridge\n",
    "from sklearn.linear_model import Lasso\n",
    "from sklearn.linear_model import ElasticNet\n",
    "from sklearn.linear_model import SGDRegressor\n",
    "\n",
    "# neighbors models\n",
    "from sklearn.neighbors import KNeighborsRegressor\n",
    "\n",
    "# tree models\n",
    "from sklearn.tree import DecisionTreeRegressor\n",
    "from sklearn.tree import ExtraTreeRegressor"
   ]
  },
  {
   "cell_type": "code",
   "execution_count": 2,
   "outputs": [
    {
     "data": {
      "text/plain": "((1460, 79), (1460,))"
     },
     "execution_count": 2,
     "metadata": {},
     "output_type": "execute_result"
    }
   ],
   "source": [
    "house_data = pd.read_csv('../data/train.csv', index_col='Id')\n",
    "X = house_data.drop(labels='SalePrice', axis=1)\n",
    "Y = house_data['SalePrice']\n",
    "X.shape, Y.shape"
   ],
   "metadata": {
    "collapsed": false,
    "pycharm": {
     "name": "#%%\n"
    }
   }
  },
  {
   "cell_type": "code",
   "execution_count": 3,
   "outputs": [],
   "source": [
    "cv = RepeatedKFold(n_splits=6, n_repeats=12, random_state=64)"
   ],
   "metadata": {
    "collapsed": false,
    "pycharm": {
     "name": "#%%\n"
    }
   }
  },
  {
   "cell_type": "code",
   "execution_count": 4,
   "outputs": [],
   "source": [
    "base_pipeline = Pipeline(steps=[('most_miss_cat', imputation.CategoricalImputer(variables=['Alley',\n",
    "                                                                                           'FireplaceQu',\n",
    "                                                                                           'PoolQC',\n",
    "                                                                                           'Fence',\n",
    "                                                                                           'MiscFeature'])),\n",
    "                                ('least_miss_cat', imputation.RandomSampleImputer(random_state='LotArea',\n",
    "                                                                                  seed='observation',\n",
    "                                                                                  variables=['GarageCond',\n",
    "                                                                                             'GarageType',\n",
    "                                                                                             'GarageFinish',\n",
    "                                                                                             'GarageQual',\n",
    "                                                                                             'BsmtExposure',\n",
    "                                                                                             'BsmtFinType2',\n",
    "                                                                                             'BsmtCond',\n",
    "                                                                                             'BsmtQual',\n",
    "                                                                                             'BsmtFinType1',\n",
    "                                                                                             'MasVnrType',\n",
    "                                                                                             'Electrical'])),\n",
    "                                ('least_miss_num', imputation.RandomSampleImputer(random_state='LotArea',\n",
    "                                                                                  seed='observation',\n",
    "                                                                                  variables=['LotFrontage',\n",
    "                                                                                             'GarageYrBlt',\n",
    "                                                                                             'MasVnrArea'])),\n",
    "                                ('encode', encoding.OrdinalEncoder(\n",
    "                                    variables=X.select_dtypes(include=object).columns.to_list())),\n",
    "                                ('scaling', RobustScaler()),\n",
    "                                ('transform', QuantileTransformer(output_distribution='normal')),\n",
    "                                ('scale_to_range', MinMaxScaler()),\n",
    "                                ('feature_selection', SelectKBest(score_func=mutual_info_regression,\n",
    "                                                                  k=20))]\n",
    "                         )"
   ],
   "metadata": {
    "collapsed": false,
    "pycharm": {
     "name": "#%%\n"
    }
   }
  },
  {
   "cell_type": "code",
   "execution_count": 5,
   "outputs": [
    {
     "data": {
      "text/plain": "((1168, 20), (292, 20), (1168,), (292,))"
     },
     "execution_count": 5,
     "metadata": {},
     "output_type": "execute_result"
    }
   ],
   "source": [
    "X_ = base_pipeline.fit_transform(X, Y)\n",
    "train_x, test_x, train_y, test_y = train_test_split(X_, Y, test_size=0.2, random_state=48)\n",
    "train_x.shape, test_x.shape, train_y.shape, test_y.shape"
   ],
   "metadata": {
    "collapsed": false,
    "pycharm": {
     "name": "#%%\n"
    }
   }
  },
  {
   "cell_type": "code",
   "execution_count": 6,
   "outputs": [
    {
     "data": {
      "text/plain": "{'memory': None,\n 'steps': [('poly', PolynomialFeatures()), ('lasso', Lasso())],\n 'verbose': False,\n 'poly': PolynomialFeatures(),\n 'lasso': Lasso(),\n 'poly__degree': 2,\n 'poly__include_bias': True,\n 'poly__interaction_only': False,\n 'poly__order': 'C',\n 'lasso__alpha': 1.0,\n 'lasso__copy_X': True,\n 'lasso__fit_intercept': True,\n 'lasso__max_iter': 1000,\n 'lasso__normalize': 'deprecated',\n 'lasso__positive': False,\n 'lasso__precompute': False,\n 'lasso__random_state': None,\n 'lasso__selection': 'cyclic',\n 'lasso__tol': 0.0001,\n 'lasso__warm_start': False}"
     },
     "execution_count": 6,
     "metadata": {},
     "output_type": "execute_result"
    }
   ],
   "source": [
    "L1_model = Pipeline(steps=[('poly', PolynomialFeatures(degree=2)),\n",
    "                           ('lasso', Lasso())])\n",
    "L1_model.get_params()"
   ],
   "metadata": {
    "collapsed": false,
    "pycharm": {
     "name": "#%%\n"
    }
   }
  },
  {
   "cell_type": "code",
   "execution_count": 9,
   "outputs": [
    {
     "name": "stderr",
     "output_type": "stream",
     "text": [
      "C:\\Users\\hewar\\AppData\\Local\\Programs\\Python\\Python39\\lib\\site-packages\\sklearn\\linear_model\\_coordinate_descent.py:645: ConvergenceWarning: Objective did not converge. You might want to increase the number of iterations, check the scale of the features or consider increasing regularisation. Duality gap: 5.397e+09, tolerance: 7.405e+08\n",
      "  model = cd_fast.enet_coordinate_descent(\n"
     ]
    },
    {
     "data": {
      "text/plain": "GridSearchCV(cv=RepeatedKFold(n_repeats=12, n_splits=6, random_state=64),\n             estimator=Pipeline(steps=[('poly', PolynomialFeatures()),\n                                       ('lasso', Lasso())]),\n             n_jobs=-1,\n             param_grid={'lasso__alpha': array([1.36240559e+00, 5.09650935e-04, 1.36518178e-03, 2.34427570e+00,\n       3.94148561e-02, 1.19543881e-03, 1.34546427e+03, 1.39763998e-01,\n       8.91411678e+00, 3.89664653e+00, 2.22187391e+00, 7.39601408e+02,\n       6.53411636e-02, 4.27754032e-03, 4.99826970e-02, 5.16190912e+01,\n       2.01002633e-01, 5.62079557e+00, 1.40125439e-02, 3.13203511e-01,\n       6.56560299e+00, 9.63509355e+01, 5.52455953e-03, 3.22991033e-03,\n       1.28071478e+01]),\n                         'lasso__max_iter': array([3411, 5502, 5985, 2687])},\n             refit='r2',\n             scoring={'me': make_scorer(max_error),\n                      'r2': make_scorer(r2_score)})"
     },
     "execution_count": 9,
     "metadata": {},
     "output_type": "execute_result"
    }
   ],
   "source": [
    "l1_grid = {'lasso__alpha': np.exp(np.random.normal(0, 5, 25)),\n",
    "           'lasso__max_iter': np.random.randint(1000, 6580, 4)\n",
    "           }\n",
    "\n",
    "l1_grid_search = GridSearchCV(estimator=L1_model,\n",
    "                              param_grid=l1_grid,\n",
    "                              scoring={'r2': make_scorer(r2_score),\n",
    "                                       'me': make_scorer(max_error)\n",
    "                                       },\n",
    "                              refit='r2',\n",
    "                              n_jobs=-1,\n",
    "                              cv=cv)\n",
    "\n",
    "l1_grid_search.fit(train_x, train_y)"
   ],
   "metadata": {
    "collapsed": false,
    "pycharm": {
     "name": "#%%\n"
    }
   }
  },
  {
   "cell_type": "code",
   "execution_count": 12,
   "outputs": [
    {
     "data": {
      "text/plain": "({'lasso__alpha': 12.807147786982478, 'lasso__max_iter': 2687},\n 0.8582179183379455)"
     },
     "execution_count": 12,
     "metadata": {},
     "output_type": "execute_result"
    }
   ],
   "source": [
    "l1_grid_search.best_params_, l1_grid_search.best_score_"
   ],
   "metadata": {
    "collapsed": false,
    "pycharm": {
     "name": "#%%\n"
    }
   }
  },
  {
   "cell_type": "code",
   "execution_count": 8,
   "outputs": [
    {
     "data": {
      "text/plain": "{'memory': None,\n 'steps': [('poly', PolynomialFeatures()), ('ridge', Ridge())],\n 'verbose': False,\n 'poly': PolynomialFeatures(),\n 'ridge': Ridge(),\n 'poly__degree': 2,\n 'poly__include_bias': True,\n 'poly__interaction_only': False,\n 'poly__order': 'C',\n 'ridge__alpha': 1.0,\n 'ridge__copy_X': True,\n 'ridge__fit_intercept': True,\n 'ridge__max_iter': None,\n 'ridge__normalize': 'deprecated',\n 'ridge__positive': False,\n 'ridge__random_state': None,\n 'ridge__solver': 'auto',\n 'ridge__tol': 0.001}"
     },
     "execution_count": 8,
     "metadata": {},
     "output_type": "execute_result"
    }
   ],
   "source": [
    "L2_model = Pipeline(steps=[('poly', PolynomialFeatures(degree=2)),\n",
    "                           ('ridge', Ridge())])\n",
    "L2_model.get_params()"
   ],
   "metadata": {
    "collapsed": false,
    "pycharm": {
     "name": "#%%\n"
    }
   }
  },
  {
   "cell_type": "code",
   "execution_count": 10,
   "outputs": [
    {
     "data": {
      "text/plain": "GridSearchCV(cv=RepeatedKFold(n_repeats=12, n_splits=6, random_state=64),\n             estimator=Pipeline(steps=[('poly', PolynomialFeatures()),\n                                       ('ridge', Ridge())]),\n             n_jobs=-1,\n             param_grid={'ridge__alpha': array([1.31126344e+02, 3.89911045e-01, 1.57619448e+00, 1.25777725e+00,\n       3.31674693e-02, 3.75486593e-03, 9.82609112e-03, 6.72825549e+05,\n       1.38327667e+03, 1.18260102e+06, 2.23209131e+00, 3.55747948e+00,\n       3.69327214e+00, 6.40218447e+01, 4.37709079e-01, 4.89488876e-03,\n       1.28600521e-01, 2.07991834e-03, 5.37884562e-01, 1.55284967e+01,\n       6.75642940e-03, 2.62140261e+01, 3.40807308e-01, 1.51681554e-02,\n       2.47807479e+00]),\n                         'ridge__max_iter': array([6055, 5819, 1835, 3678])},\n             refit='r2',\n             scoring={'me': make_scorer(max_error),\n                      'r2': make_scorer(r2_score)})"
     },
     "execution_count": 10,
     "metadata": {},
     "output_type": "execute_result"
    }
   ],
   "source": [
    "l2_grid = {'ridge__alpha': np.exp(np.random.normal(0, 5, 25)),\n",
    "           'ridge__max_iter': np.random.randint(1000, 6580, 4)\n",
    "           }\n",
    "\n",
    "l2_grid_search = GridSearchCV(estimator=L2_model,\n",
    "                              param_grid=l2_grid,\n",
    "                              scoring={'r2': make_scorer(r2_score),\n",
    "                                       'me': make_scorer(max_error)\n",
    "                                       },\n",
    "                              refit='r2',\n",
    "                              n_jobs=-1,\n",
    "                              cv=cv)\n",
    "\n",
    "l2_grid_search.fit(train_x, train_y)"
   ],
   "metadata": {
    "collapsed": false,
    "pycharm": {
     "name": "#%%\n"
    }
   }
  },
  {
   "cell_type": "code",
   "execution_count": 11,
   "outputs": [
    {
     "data": {
      "text/plain": "({'ridge__alpha': 0.5378845624526254, 'ridge__max_iter': 6055},\n 0.8602809816793933)"
     },
     "execution_count": 11,
     "metadata": {},
     "output_type": "execute_result"
    }
   ],
   "source": [
    "l2_grid_search.best_params_, l2_grid_search.best_score_"
   ],
   "metadata": {
    "collapsed": false,
    "pycharm": {
     "name": "#%%\n"
    }
   }
  }
 ],
 "metadata": {
  "kernelspec": {
   "display_name": "Python 3",
   "language": "python",
   "name": "python3"
  },
  "language_info": {
   "codemirror_mode": {
    "name": "ipython",
    "version": 2
   },
   "file_extension": ".py",
   "mimetype": "text/x-python",
   "name": "python",
   "nbconvert_exporter": "python",
   "pygments_lexer": "ipython2",
   "version": "2.7.6"
  }
 },
 "nbformat": 4,
 "nbformat_minor": 0
}