{
 "cells": [
  {
   "cell_type": "code",
   "execution_count": 1,
   "metadata": {
    "collapsed": true
   },
   "outputs": [],
   "source": [
    "import numpy as np\n",
    "import pandas as pd\n",
    "import seaborn as sns\n",
    "\n",
    "from matplotlib import pyplot as plt\n",
    "from feature_engine import imputation\n",
    "from feature_engine import encoding\n",
    "\n",
    "# pipeline utility\n",
    "from sklearn.pipeline import Pipeline\n",
    "\n",
    "# preprocessing\n",
    "from sklearn.preprocessing import RobustScaler\n",
    "from sklearn.preprocessing import MinMaxScaler\n",
    "from sklearn.preprocessing import QuantileTransformer\n",
    "from sklearn.preprocessing import PolynomialFeatures\n",
    "\n",
    "# hyper-parameter tuning\n",
    "from sklearn.model_selection import train_test_split\n",
    "from sklearn.model_selection import RepeatedKFold\n",
    "from sklearn.model_selection import GridSearchCV\n",
    "\n",
    "# metrics to evaluate models\n",
    "from sklearn.metrics import r2_score\n",
    "from sklearn.metrics import max_error\n",
    "from sklearn.metrics import mean_squared_error\n",
    "from sklearn.metrics import make_scorer\n",
    "\n",
    "# feature selection\n",
    "from sklearn.feature_selection import SelectKBest\n",
    "from sklearn.feature_selection import mutual_info_regression\n",
    "\n",
    "# linear models\n",
    "from sklearn.linear_model import Ridge\n",
    "from sklearn.linear_model import Lasso\n",
    "from sklearn.linear_model import ElasticNet\n",
    "from sklearn.linear_model import SGDRegressor\n",
    "\n",
    "# neighbors models\n",
    "from sklearn.neighbors import KNeighborsRegressor\n",
    "\n",
    "# tree models\n",
    "from sklearn.tree import DecisionTreeRegressor\n",
    "from sklearn.tree import ExtraTreeRegressor"
   ]
  },
  {
   "cell_type": "code",
   "execution_count": 2,
   "outputs": [
    {
     "data": {
      "text/plain": "((1460, 79), (1460,))"
     },
     "execution_count": 2,
     "metadata": {},
     "output_type": "execute_result"
    }
   ],
   "source": [
    "house_data = pd.read_csv('../data/train.csv', index_col='Id')\n",
    "X = house_data.drop(labels='SalePrice', axis=1)\n",
    "Y = house_data['SalePrice']\n",
    "X.shape, Y.shape"
   ],
   "metadata": {
    "collapsed": false,
    "pycharm": {
     "name": "#%%\n"
    }
   }
  },
  {
   "cell_type": "code",
   "execution_count": 3,
   "outputs": [],
   "source": [
    "cv = RepeatedKFold(n_splits=6, n_repeats=12, random_state=64)"
   ],
   "metadata": {
    "collapsed": false,
    "pycharm": {
     "name": "#%%\n"
    }
   }
  },
  {
   "cell_type": "code",
   "execution_count": 4,
   "outputs": [],
   "source": [
    "base_pipeline = Pipeline(steps=[('most_miss_cat', imputation.CategoricalImputer(variables=['Alley',\n",
    "                                                                                           'FireplaceQu',\n",
    "                                                                                           'PoolQC',\n",
    "                                                                                           'Fence',\n",
    "                                                                                           'MiscFeature'])),\n",
    "                                ('least_miss_cat', imputation.RandomSampleImputer(random_state='LotArea',\n",
    "                                                                                  seed='observation',\n",
    "                                                                                  variables=['GarageCond',\n",
    "                                                                                             'GarageType',\n",
    "                                                                                             'GarageFinish',\n",
    "                                                                                             'GarageQual',\n",
    "                                                                                             'BsmtExposure',\n",
    "                                                                                             'BsmtFinType2',\n",
    "                                                                                             'BsmtCond',\n",
    "                                                                                             'BsmtQual',\n",
    "                                                                                             'BsmtFinType1',\n",
    "                                                                                             'MasVnrType',\n",
    "                                                                                             'Electrical'])),\n",
    "                                ('least_miss_num', imputation.RandomSampleImputer(random_state='LotArea',\n",
    "                                                                                  seed='observation',\n",
    "                                                                                  variables=['LotFrontage',\n",
    "                                                                                             'GarageYrBlt',\n",
    "                                                                                             'MasVnrArea'])),\n",
    "                                ('encode', encoding.OrdinalEncoder(\n",
    "                                    variables=X.select_dtypes(include=object).columns.to_list())),\n",
    "                                ('scaling', RobustScaler()),\n",
    "                                ('transform', QuantileTransformer(output_distribution='normal')),\n",
    "                                ('scale_to_range', MinMaxScaler()),\n",
    "                                ('feature_selection', SelectKBest(score_func=mutual_info_regression,\n",
    "                                                                  k=20))]\n",
    "                         )"
   ],
   "metadata": {
    "collapsed": false,
    "pycharm": {
     "name": "#%%\n"
    }
   }
  },
  {
   "cell_type": "code",
   "execution_count": 5,
   "outputs": [
    {
     "data": {
      "text/plain": "((1168, 20), (292, 20), (1168,), (292,))"
     },
     "execution_count": 5,
     "metadata": {},
     "output_type": "execute_result"
    }
   ],
   "source": [
    "X_ = base_pipeline.fit_transform(X, Y)\n",
    "train_x, test_x, train_y, test_y = train_test_split(X_, Y, test_size=0.2, random_state=48)\n",
    "train_x.shape, test_x.shape, train_y.shape, test_y.shape"
   ],
   "metadata": {
    "collapsed": false,
    "pycharm": {
     "name": "#%%\n"
    }
   }
  },
  {
   "cell_type": "code",
   "execution_count": 6,
   "outputs": [
    {
     "data": {
      "text/plain": "{'memory': None,\n 'steps': [('poly', PolynomialFeatures()), ('lasso', Lasso())],\n 'verbose': False,\n 'poly': PolynomialFeatures(),\n 'lasso': Lasso(),\n 'poly__degree': 2,\n 'poly__include_bias': True,\n 'poly__interaction_only': False,\n 'poly__order': 'C',\n 'lasso__alpha': 1.0,\n 'lasso__copy_X': True,\n 'lasso__fit_intercept': True,\n 'lasso__max_iter': 1000,\n 'lasso__normalize': 'deprecated',\n 'lasso__positive': False,\n 'lasso__precompute': False,\n 'lasso__random_state': None,\n 'lasso__selection': 'cyclic',\n 'lasso__tol': 0.0001,\n 'lasso__warm_start': False}"
     },
     "execution_count": 6,
     "metadata": {},
     "output_type": "execute_result"
    }
   ],
   "source": [
    "L1_model = Pipeline(steps=[('poly', PolynomialFeatures(degree=2)),\n",
    "                           ('lasso', Lasso())])\n",
    "L1_model.get_params()"
   ],
   "metadata": {
    "collapsed": false,
    "pycharm": {
     "name": "#%%\n"
    }
   }
  },
  {
   "cell_type": "code",
   "execution_count": 19,
   "outputs": [
    {
     "data": {
      "text/plain": "GridSearchCV(cv=RepeatedKFold(n_repeats=12, n_splits=6, random_state=64),\n             estimator=Pipeline(steps=[('poly', PolynomialFeatures()),\n                                       ('lasso', Lasso())]),\n             n_jobs=-1,\n             param_grid={'lasso__alpha': array([9.86806311e-04, 3.81430696e+00, 1.53425497e-02, 3.91884000e+00,\n       7.96058440e+02, 2.03425451e-02, 6.95414589e-01, 1.25299019e+01,\n       9.74090183e-02, 8.71121918e+02, 9.44227064e-01, 1.11936352e+01,\n       5.41601376e-02, 1.20546714e+01, 8.57357934e+00, 3.08929287e+02,\n       9.12962041e-04, 9.38644213e-03, 2.36389524e+00, 3.70308296e-02,\n       7.01168270e-01, 4.82841423e-03, 1.36398950e-05, 7.17478394e+00,\n       3.13054565e-03]),\n                         'lasso__max_iter': array([4971, 4360, 1132, 6330])})"
     },
     "execution_count": 19,
     "metadata": {},
     "output_type": "execute_result"
    }
   ],
   "source": [
    "l1_grid = {'lasso__alpha': np.exp(np.random.normal(0, 5, 25)),\n",
    "           'lasso__max_iter': np.random.randint(1000, 6580, 4)\n",
    "           }\n",
    "\n",
    "l1_grid_search = GridSearchCV(estimator=L1_model,\n",
    "                              param_grid=l1_grid,\n",
    "                              scoring={'r2': make_scorer(r2_score),\n",
    "                                       'me': make_scorer(max_error)\n",
    "                                       },\n",
    "                              refit='r2',\n",
    "                              n_jobs=-1,\n",
    "                              cv=cv)\n",
    "\n",
    "l1_grid_search.fit(train_x, train_y)"
   ],
   "metadata": {
    "collapsed": false,
    "pycharm": {
     "name": "#%%\n"
    }
   }
  },
  {
   "cell_type": "code",
   "execution_count": 22,
   "outputs": [
    {
     "data": {
      "text/plain": "{'memory': None,\n 'steps': [('poly', PolynomialFeatures()), ('ridge', Ridge())],\n 'verbose': False,\n 'poly': PolynomialFeatures(),\n 'ridge': Ridge(),\n 'poly__degree': 2,\n 'poly__include_bias': True,\n 'poly__interaction_only': False,\n 'poly__order': 'C',\n 'ridge__alpha': 1.0,\n 'ridge__copy_X': True,\n 'ridge__fit_intercept': True,\n 'ridge__max_iter': None,\n 'ridge__normalize': 'deprecated',\n 'ridge__positive': False,\n 'ridge__random_state': None,\n 'ridge__solver': 'auto',\n 'ridge__tol': 0.001}"
     },
     "execution_count": 22,
     "metadata": {},
     "output_type": "execute_result"
    }
   ],
   "source": [
    "L2_model = Pipeline(steps=[('poly', PolynomialFeatures(degree=2)),\n",
    "                           ('ridge', Ridge())])\n",
    "L2_model.get_params()"
   ],
   "metadata": {
    "collapsed": false,
    "pycharm": {
     "name": "#%%\n"
    }
   }
  },
  {
   "cell_type": "code",
   "execution_count": null,
   "outputs": [],
   "source": [
    "l1_grid = {'ridge__alpha': np.exp(np.random.normal(0, 5, 25)),\n",
    "           'lasso__max_iter': np.random.randint(1000, 6580, 4)\n",
    "           }\n",
    "\n",
    "l1_grid_search = GridSearchCV(estimator=L1_model,\n",
    "                              param_grid=l1_grid,\n",
    "                              scoring={'r2': make_scorer(r2_score),\n",
    "                                       'me': make_scorer(max_error)\n",
    "                                       },\n",
    "                              refit='r2',\n",
    "                              n_jobs=-1,\n",
    "                              cv=cv)\n",
    "\n",
    "l1_grid_search.fit(train_x, train_y)"
   ],
   "metadata": {
    "collapsed": false,
    "pycharm": {
     "name": "#%%\n"
    }
   }
  },
  {
   "cell_type": "code",
   "execution_count": 18,
   "outputs": [
    {
     "data": {
      "text/plain": "array([4.17862549e-05, 5.19053030e-01, 2.90003534e+02, 4.00091571e-02,\n       2.21592788e+00, 4.14039177e+00, 5.12886532e-05, 2.75553689e+01,\n       1.75310390e+01, 4.20822692e-02, 3.18512936e+00, 8.60916792e-04,\n       4.25265143e+01, 2.31982973e+05, 1.05347118e-02, 3.76209160e-01,\n       3.19664350e+00, 4.08110251e+00, 3.09746290e+04, 6.21856298e-06,\n       1.10332036e-04, 4.69693245e+00, 2.69553197e-01, 1.03493772e+02,\n       3.98737158e-02])"
     },
     "execution_count": 18,
     "metadata": {},
     "output_type": "execute_result"
    }
   ],
   "source": [],
   "metadata": {
    "collapsed": false,
    "pycharm": {
     "name": "#%%\n"
    }
   }
  }
 ],
 "metadata": {
  "kernelspec": {
   "display_name": "Python 3",
   "language": "python",
   "name": "python3"
  },
  "language_info": {
   "codemirror_mode": {
    "name": "ipython",
    "version": 2
   },
   "file_extension": ".py",
   "mimetype": "text/x-python",
   "name": "python",
   "nbconvert_exporter": "python",
   "pygments_lexer": "ipython2",
   "version": "2.7.6"
  }
 },
 "nbformat": 4,
 "nbformat_minor": 0
}