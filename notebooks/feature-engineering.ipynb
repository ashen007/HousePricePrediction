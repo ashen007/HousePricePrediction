{
 "cells": [
  {
   "cell_type": "code",
   "execution_count": 1,
   "metadata": {
    "collapsed": true,
    "pycharm": {
     "name": "#%%\n"
    }
   },
   "outputs": [],
   "source": [
    "import numpy as pn\n",
    "import pandas as pd\n",
    "import seaborn as sns\n",
    "\n",
    "from src.data.create_data import *\n",
    "from src.features.create_features import *"
   ]
  },
  {
   "cell_type": "code",
   "execution_count": 2,
   "outputs": [],
   "source": [
    "train_features, target = load_train_data('../data/external/train.csv')\n",
    "test_features = load_test_data('../data/external/test.csv')"
   ],
   "metadata": {
    "collapsed": false,
    "pycharm": {
     "name": "#%%\n"
    }
   }
  },
  {
   "cell_type": "code",
   "execution_count": 3,
   "outputs": [
    {
     "data": {
      "text/plain": "    mssubclass mszoning  lotfrontage  lotarea street alley lotshape  \\\nId                                                                    \n1           60       RL         65.0     8450   Pave    NO      Reg   \n2           20       RL         80.0     9600   Pave    NO      Reg   \n3           60       RL         68.0    11250   Pave    NO      IR1   \n4           70       RL         60.0     9550   Pave    NO      IR1   \n5           60       RL         84.0    14260   Pave    NO      IR1   \n\n   landcontour utilities lotconfig  ... screenporch poolarea poolqc fence  \\\nId                                  ...                                     \n1          Lvl    AllPub    Inside  ...           0        0     NO    NO   \n2          Lvl    AllPub       FR2  ...           0        0     NO    NO   \n3          Lvl    AllPub    Inside  ...           0        0     NO    NO   \n4          Lvl    AllPub    Corner  ...           0        0     NO    NO   \n5          Lvl    AllPub       FR2  ...           0        0     NO    NO   \n\n   miscfeature miscval  mosold  yrsold  saletype  salecondition  \nId                                                               \n1           NO       0       2    2008        WD         Normal  \n2           NO       0       5    2007        WD         Normal  \n3           NO       0       9    2008        WD         Normal  \n4           NO       0       2    2006        WD        Abnorml  \n5           NO       0      12    2008        WD         Normal  \n\n[5 rows x 79 columns]",
      "text/html": "<div>\n<style scoped>\n    .dataframe tbody tr th:only-of-type {\n        vertical-align: middle;\n    }\n\n    .dataframe tbody tr th {\n        vertical-align: top;\n    }\n\n    .dataframe thead th {\n        text-align: right;\n    }\n</style>\n<table border=\"1\" class=\"dataframe\">\n  <thead>\n    <tr style=\"text-align: right;\">\n      <th></th>\n      <th>mssubclass</th>\n      <th>mszoning</th>\n      <th>lotfrontage</th>\n      <th>lotarea</th>\n      <th>street</th>\n      <th>alley</th>\n      <th>lotshape</th>\n      <th>landcontour</th>\n      <th>utilities</th>\n      <th>lotconfig</th>\n      <th>...</th>\n      <th>screenporch</th>\n      <th>poolarea</th>\n      <th>poolqc</th>\n      <th>fence</th>\n      <th>miscfeature</th>\n      <th>miscval</th>\n      <th>mosold</th>\n      <th>yrsold</th>\n      <th>saletype</th>\n      <th>salecondition</th>\n    </tr>\n    <tr>\n      <th>Id</th>\n      <th></th>\n      <th></th>\n      <th></th>\n      <th></th>\n      <th></th>\n      <th></th>\n      <th></th>\n      <th></th>\n      <th></th>\n      <th></th>\n      <th></th>\n      <th></th>\n      <th></th>\n      <th></th>\n      <th></th>\n      <th></th>\n      <th></th>\n      <th></th>\n      <th></th>\n      <th></th>\n      <th></th>\n    </tr>\n  </thead>\n  <tbody>\n    <tr>\n      <th>1</th>\n      <td>60</td>\n      <td>RL</td>\n      <td>65.0</td>\n      <td>8450</td>\n      <td>Pave</td>\n      <td>NO</td>\n      <td>Reg</td>\n      <td>Lvl</td>\n      <td>AllPub</td>\n      <td>Inside</td>\n      <td>...</td>\n      <td>0</td>\n      <td>0</td>\n      <td>NO</td>\n      <td>NO</td>\n      <td>NO</td>\n      <td>0</td>\n      <td>2</td>\n      <td>2008</td>\n      <td>WD</td>\n      <td>Normal</td>\n    </tr>\n    <tr>\n      <th>2</th>\n      <td>20</td>\n      <td>RL</td>\n      <td>80.0</td>\n      <td>9600</td>\n      <td>Pave</td>\n      <td>NO</td>\n      <td>Reg</td>\n      <td>Lvl</td>\n      <td>AllPub</td>\n      <td>FR2</td>\n      <td>...</td>\n      <td>0</td>\n      <td>0</td>\n      <td>NO</td>\n      <td>NO</td>\n      <td>NO</td>\n      <td>0</td>\n      <td>5</td>\n      <td>2007</td>\n      <td>WD</td>\n      <td>Normal</td>\n    </tr>\n    <tr>\n      <th>3</th>\n      <td>60</td>\n      <td>RL</td>\n      <td>68.0</td>\n      <td>11250</td>\n      <td>Pave</td>\n      <td>NO</td>\n      <td>IR1</td>\n      <td>Lvl</td>\n      <td>AllPub</td>\n      <td>Inside</td>\n      <td>...</td>\n      <td>0</td>\n      <td>0</td>\n      <td>NO</td>\n      <td>NO</td>\n      <td>NO</td>\n      <td>0</td>\n      <td>9</td>\n      <td>2008</td>\n      <td>WD</td>\n      <td>Normal</td>\n    </tr>\n    <tr>\n      <th>4</th>\n      <td>70</td>\n      <td>RL</td>\n      <td>60.0</td>\n      <td>9550</td>\n      <td>Pave</td>\n      <td>NO</td>\n      <td>IR1</td>\n      <td>Lvl</td>\n      <td>AllPub</td>\n      <td>Corner</td>\n      <td>...</td>\n      <td>0</td>\n      <td>0</td>\n      <td>NO</td>\n      <td>NO</td>\n      <td>NO</td>\n      <td>0</td>\n      <td>2</td>\n      <td>2006</td>\n      <td>WD</td>\n      <td>Abnorml</td>\n    </tr>\n    <tr>\n      <th>5</th>\n      <td>60</td>\n      <td>RL</td>\n      <td>84.0</td>\n      <td>14260</td>\n      <td>Pave</td>\n      <td>NO</td>\n      <td>IR1</td>\n      <td>Lvl</td>\n      <td>AllPub</td>\n      <td>FR2</td>\n      <td>...</td>\n      <td>0</td>\n      <td>0</td>\n      <td>NO</td>\n      <td>NO</td>\n      <td>NO</td>\n      <td>0</td>\n      <td>12</td>\n      <td>2008</td>\n      <td>WD</td>\n      <td>Normal</td>\n    </tr>\n  </tbody>\n</table>\n<p>5 rows × 79 columns</p>\n</div>"
     },
     "execution_count": 3,
     "metadata": {},
     "output_type": "execute_result"
    }
   ],
   "source": [
    "train_features.head()"
   ],
   "metadata": {
    "collapsed": false,
    "pycharm": {
     "name": "#%%\n"
    }
   }
  },
  {
   "cell_type": "code",
   "execution_count": 4,
   "outputs": [
    {
     "data": {
      "text/plain": "      mssubclass mszoning  lotfrontage  lotarea street alley lotshape  \\\nId                                                                      \n1461          20       RH         80.0    11622   Pave    NO      Reg   \n1462          20       RL         81.0    14267   Pave    NO      IR1   \n1463          60       RL         74.0    13830   Pave    NO      IR1   \n1464          60       RL         78.0     9978   Pave    NO      IR1   \n1465         120       RL         43.0     5005   Pave    NO      IR1   \n\n     landcontour utilities lotconfig  ... screenporch poolarea poolqc  fence  \\\nId                                    ...                                      \n1461         Lvl    AllPub    Inside  ...         120        0     NO  MnPrv   \n1462         Lvl    AllPub    Corner  ...           0        0     NO     NO   \n1463         Lvl    AllPub    Inside  ...           0        0     NO  MnPrv   \n1464         Lvl    AllPub    Inside  ...           0        0     NO     NO   \n1465         HLS    AllPub    Inside  ...         144        0     NO     NO   \n\n     miscfeature miscval  mosold  yrsold  saletype  salecondition  \nId                                                                 \n1461          NO       0       6    2010        WD         Normal  \n1462        Gar2   12500       6    2010        WD         Normal  \n1463          NO       0       3    2010        WD         Normal  \n1464          NO       0       6    2010        WD         Normal  \n1465          NO       0       1    2010        WD         Normal  \n\n[5 rows x 79 columns]",
      "text/html": "<div>\n<style scoped>\n    .dataframe tbody tr th:only-of-type {\n        vertical-align: middle;\n    }\n\n    .dataframe tbody tr th {\n        vertical-align: top;\n    }\n\n    .dataframe thead th {\n        text-align: right;\n    }\n</style>\n<table border=\"1\" class=\"dataframe\">\n  <thead>\n    <tr style=\"text-align: right;\">\n      <th></th>\n      <th>mssubclass</th>\n      <th>mszoning</th>\n      <th>lotfrontage</th>\n      <th>lotarea</th>\n      <th>street</th>\n      <th>alley</th>\n      <th>lotshape</th>\n      <th>landcontour</th>\n      <th>utilities</th>\n      <th>lotconfig</th>\n      <th>...</th>\n      <th>screenporch</th>\n      <th>poolarea</th>\n      <th>poolqc</th>\n      <th>fence</th>\n      <th>miscfeature</th>\n      <th>miscval</th>\n      <th>mosold</th>\n      <th>yrsold</th>\n      <th>saletype</th>\n      <th>salecondition</th>\n    </tr>\n    <tr>\n      <th>Id</th>\n      <th></th>\n      <th></th>\n      <th></th>\n      <th></th>\n      <th></th>\n      <th></th>\n      <th></th>\n      <th></th>\n      <th></th>\n      <th></th>\n      <th></th>\n      <th></th>\n      <th></th>\n      <th></th>\n      <th></th>\n      <th></th>\n      <th></th>\n      <th></th>\n      <th></th>\n      <th></th>\n      <th></th>\n    </tr>\n  </thead>\n  <tbody>\n    <tr>\n      <th>1461</th>\n      <td>20</td>\n      <td>RH</td>\n      <td>80.0</td>\n      <td>11622</td>\n      <td>Pave</td>\n      <td>NO</td>\n      <td>Reg</td>\n      <td>Lvl</td>\n      <td>AllPub</td>\n      <td>Inside</td>\n      <td>...</td>\n      <td>120</td>\n      <td>0</td>\n      <td>NO</td>\n      <td>MnPrv</td>\n      <td>NO</td>\n      <td>0</td>\n      <td>6</td>\n      <td>2010</td>\n      <td>WD</td>\n      <td>Normal</td>\n    </tr>\n    <tr>\n      <th>1462</th>\n      <td>20</td>\n      <td>RL</td>\n      <td>81.0</td>\n      <td>14267</td>\n      <td>Pave</td>\n      <td>NO</td>\n      <td>IR1</td>\n      <td>Lvl</td>\n      <td>AllPub</td>\n      <td>Corner</td>\n      <td>...</td>\n      <td>0</td>\n      <td>0</td>\n      <td>NO</td>\n      <td>NO</td>\n      <td>Gar2</td>\n      <td>12500</td>\n      <td>6</td>\n      <td>2010</td>\n      <td>WD</td>\n      <td>Normal</td>\n    </tr>\n    <tr>\n      <th>1463</th>\n      <td>60</td>\n      <td>RL</td>\n      <td>74.0</td>\n      <td>13830</td>\n      <td>Pave</td>\n      <td>NO</td>\n      <td>IR1</td>\n      <td>Lvl</td>\n      <td>AllPub</td>\n      <td>Inside</td>\n      <td>...</td>\n      <td>0</td>\n      <td>0</td>\n      <td>NO</td>\n      <td>MnPrv</td>\n      <td>NO</td>\n      <td>0</td>\n      <td>3</td>\n      <td>2010</td>\n      <td>WD</td>\n      <td>Normal</td>\n    </tr>\n    <tr>\n      <th>1464</th>\n      <td>60</td>\n      <td>RL</td>\n      <td>78.0</td>\n      <td>9978</td>\n      <td>Pave</td>\n      <td>NO</td>\n      <td>IR1</td>\n      <td>Lvl</td>\n      <td>AllPub</td>\n      <td>Inside</td>\n      <td>...</td>\n      <td>0</td>\n      <td>0</td>\n      <td>NO</td>\n      <td>NO</td>\n      <td>NO</td>\n      <td>0</td>\n      <td>6</td>\n      <td>2010</td>\n      <td>WD</td>\n      <td>Normal</td>\n    </tr>\n    <tr>\n      <th>1465</th>\n      <td>120</td>\n      <td>RL</td>\n      <td>43.0</td>\n      <td>5005</td>\n      <td>Pave</td>\n      <td>NO</td>\n      <td>IR1</td>\n      <td>HLS</td>\n      <td>AllPub</td>\n      <td>Inside</td>\n      <td>...</td>\n      <td>144</td>\n      <td>0</td>\n      <td>NO</td>\n      <td>NO</td>\n      <td>NO</td>\n      <td>0</td>\n      <td>1</td>\n      <td>2010</td>\n      <td>WD</td>\n      <td>Normal</td>\n    </tr>\n  </tbody>\n</table>\n<p>5 rows × 79 columns</p>\n</div>"
     },
     "execution_count": 4,
     "metadata": {},
     "output_type": "execute_result"
    }
   ],
   "source": [
    "test_features.head()"
   ],
   "metadata": {
    "collapsed": false,
    "pycharm": {
     "name": "#%%\n"
    }
   }
  },
  {
   "cell_type": "code",
   "execution_count": 5,
   "outputs": [
    {
     "data": {
      "text/plain": "Index(['mssubclass', 'mszoning', 'lotfrontage', 'lotarea', 'street', 'alley',\n       'lotshape', 'landcontour', 'utilities', 'lotconfig', 'landslope',\n       'neighborhood', 'condition1', 'condition2', 'bldgtype', 'housestyle',\n       'overallqual', 'overallcond', 'yearbuilt', 'yearremodadd', 'roofstyle',\n       'roofmatl', 'exterior1st', 'exterior2nd', 'masvnrtype', 'masvnrarea',\n       'exterqual', 'extercond', 'foundation', 'bsmtqual', 'bsmtcond',\n       'bsmtexposure', 'bsmtfintype1', 'bsmtfinsf1', 'bsmtfintype2',\n       'bsmtfinsf2', 'bsmtunfsf', 'totalbsmtsf', 'heating', 'heatingqc',\n       'centralair', 'electrical', '1stflrsf', '2ndflrsf', 'lowqualfinsf',\n       'grlivarea', 'bsmtfullbath', 'bsmthalfbath', 'fullbath', 'halfbath',\n       'bedroomabvgr', 'kitchenabvgr', 'kitchenqual', 'totrmsabvgrd',\n       'functional', 'fireplaces', 'fireplacequ', 'garagetype', 'garageyrblt',\n       'garagefinish', 'garagecars', 'garagearea', 'garagequal', 'garagecond',\n       'paveddrive', 'wooddecksf', 'openporchsf', 'enclosedporch', '3ssnporch',\n       'screenporch', 'poolarea', 'poolqc', 'fence', 'miscfeature', 'miscval',\n       'mosold', 'yrsold', 'saletype', 'salecondition'],\n      dtype='object')"
     },
     "execution_count": 5,
     "metadata": {},
     "output_type": "execute_result"
    }
   ],
   "source": [
    "train_features.columns"
   ],
   "metadata": {
    "collapsed": false,
    "pycharm": {
     "name": "#%%\n"
    }
   }
  },
  {
   "cell_type": "code",
   "execution_count": 6,
   "outputs": [],
   "source": [
    "ordinal_feat = ['exterqual', 'extercond', 'bsmtqual', 'bsmtcond',\n",
    "                'bsmtexposure', 'heatingqc', 'kitchenqual', 'fireplacequ',\n",
    "                'housestyle', 'garagequal', 'garagecond', 'poolqc']\n",
    "\n",
    "nominal_feat = ['salecondition', 'saletype', 'fence', 'miscfeature',\n",
    "                'garagetype', 'garagefinish', 'functional', 'electrical',\n",
    "                'heating', 'foundation', 'roofstyle', 'roofmatl',\n",
    "                'exterior1st', 'exterior2nd', 'masvnrtype',\n",
    "                'street', 'alley', 'lotshape', 'landcontour',\n",
    "                'bsmtfintype1', 'bsmtfintype2',\n",
    "                'utilities', 'lotconfig', 'landslope', 'neighborhood',\n",
    "                'condition1', 'condition2', 'bldgtype', 'mszoning']"
   ],
   "metadata": {
    "collapsed": false,
    "pycharm": {
     "name": "#%%\n"
    }
   }
  },
  {
   "cell_type": "code",
   "execution_count": 7,
   "outputs": [
    {
     "data": {
      "text/plain": "      exterqual  extercond  bsmtqual  bsmtcond  bsmtexposure  heatingqc  \\\nId                                                                        \n1             4          3         4         3            -1          5   \n2             3          3         4         3             4          5   \n3             4          3         4         3             2          5   \n4             3          3         3         4            -1          4   \n5             4          3         4         3             3          5   \n...         ...        ...       ...       ...           ...        ...   \n1456          3          3         4         3            -1          5   \n1457          3          3         4         3            -1          3   \n1458          5          4         3         4            -1          5   \n1459          3          3         3         3             2          4   \n1460          4          3         3         3            -1          4   \n\n      kitchenqual  fireplacequ  housestyle  garagequal  garagecond  poolqc  \nId                                                                          \n1               4           -1          20           3           3      -1  \n2               3            3          10           3           3      -1  \n3               4            3          20           3           3      -1  \n4               4            4          20           3           3      -1  \n5               4            3          20           3           3      -1  \n...           ...          ...         ...         ...         ...     ...  \n1456            3            3          20           3           3      -1  \n1457            3            3          10           3           3      -1  \n1458            4            4          20           3           3      -1  \n1459            4           -1          10           3           3      -1  \n1460            3           -1          10           3           3      -1  \n\n[1460 rows x 12 columns]",
      "text/html": "<div>\n<style scoped>\n    .dataframe tbody tr th:only-of-type {\n        vertical-align: middle;\n    }\n\n    .dataframe tbody tr th {\n        vertical-align: top;\n    }\n\n    .dataframe thead th {\n        text-align: right;\n    }\n</style>\n<table border=\"1\" class=\"dataframe\">\n  <thead>\n    <tr style=\"text-align: right;\">\n      <th></th>\n      <th>exterqual</th>\n      <th>extercond</th>\n      <th>bsmtqual</th>\n      <th>bsmtcond</th>\n      <th>bsmtexposure</th>\n      <th>heatingqc</th>\n      <th>kitchenqual</th>\n      <th>fireplacequ</th>\n      <th>housestyle</th>\n      <th>garagequal</th>\n      <th>garagecond</th>\n      <th>poolqc</th>\n    </tr>\n    <tr>\n      <th>Id</th>\n      <th></th>\n      <th></th>\n      <th></th>\n      <th></th>\n      <th></th>\n      <th></th>\n      <th></th>\n      <th></th>\n      <th></th>\n      <th></th>\n      <th></th>\n      <th></th>\n    </tr>\n  </thead>\n  <tbody>\n    <tr>\n      <th>1</th>\n      <td>4</td>\n      <td>3</td>\n      <td>4</td>\n      <td>3</td>\n      <td>-1</td>\n      <td>5</td>\n      <td>4</td>\n      <td>-1</td>\n      <td>20</td>\n      <td>3</td>\n      <td>3</td>\n      <td>-1</td>\n    </tr>\n    <tr>\n      <th>2</th>\n      <td>3</td>\n      <td>3</td>\n      <td>4</td>\n      <td>3</td>\n      <td>4</td>\n      <td>5</td>\n      <td>3</td>\n      <td>3</td>\n      <td>10</td>\n      <td>3</td>\n      <td>3</td>\n      <td>-1</td>\n    </tr>\n    <tr>\n      <th>3</th>\n      <td>4</td>\n      <td>3</td>\n      <td>4</td>\n      <td>3</td>\n      <td>2</td>\n      <td>5</td>\n      <td>4</td>\n      <td>3</td>\n      <td>20</td>\n      <td>3</td>\n      <td>3</td>\n      <td>-1</td>\n    </tr>\n    <tr>\n      <th>4</th>\n      <td>3</td>\n      <td>3</td>\n      <td>3</td>\n      <td>4</td>\n      <td>-1</td>\n      <td>4</td>\n      <td>4</td>\n      <td>4</td>\n      <td>20</td>\n      <td>3</td>\n      <td>3</td>\n      <td>-1</td>\n    </tr>\n    <tr>\n      <th>5</th>\n      <td>4</td>\n      <td>3</td>\n      <td>4</td>\n      <td>3</td>\n      <td>3</td>\n      <td>5</td>\n      <td>4</td>\n      <td>3</td>\n      <td>20</td>\n      <td>3</td>\n      <td>3</td>\n      <td>-1</td>\n    </tr>\n    <tr>\n      <th>...</th>\n      <td>...</td>\n      <td>...</td>\n      <td>...</td>\n      <td>...</td>\n      <td>...</td>\n      <td>...</td>\n      <td>...</td>\n      <td>...</td>\n      <td>...</td>\n      <td>...</td>\n      <td>...</td>\n      <td>...</td>\n    </tr>\n    <tr>\n      <th>1456</th>\n      <td>3</td>\n      <td>3</td>\n      <td>4</td>\n      <td>3</td>\n      <td>-1</td>\n      <td>5</td>\n      <td>3</td>\n      <td>3</td>\n      <td>20</td>\n      <td>3</td>\n      <td>3</td>\n      <td>-1</td>\n    </tr>\n    <tr>\n      <th>1457</th>\n      <td>3</td>\n      <td>3</td>\n      <td>4</td>\n      <td>3</td>\n      <td>-1</td>\n      <td>3</td>\n      <td>3</td>\n      <td>3</td>\n      <td>10</td>\n      <td>3</td>\n      <td>3</td>\n      <td>-1</td>\n    </tr>\n    <tr>\n      <th>1458</th>\n      <td>5</td>\n      <td>4</td>\n      <td>3</td>\n      <td>4</td>\n      <td>-1</td>\n      <td>5</td>\n      <td>4</td>\n      <td>4</td>\n      <td>20</td>\n      <td>3</td>\n      <td>3</td>\n      <td>-1</td>\n    </tr>\n    <tr>\n      <th>1459</th>\n      <td>3</td>\n      <td>3</td>\n      <td>3</td>\n      <td>3</td>\n      <td>2</td>\n      <td>4</td>\n      <td>4</td>\n      <td>-1</td>\n      <td>10</td>\n      <td>3</td>\n      <td>3</td>\n      <td>-1</td>\n    </tr>\n    <tr>\n      <th>1460</th>\n      <td>4</td>\n      <td>3</td>\n      <td>3</td>\n      <td>3</td>\n      <td>-1</td>\n      <td>4</td>\n      <td>3</td>\n      <td>-1</td>\n      <td>10</td>\n      <td>3</td>\n      <td>3</td>\n      <td>-1</td>\n    </tr>\n  </tbody>\n</table>\n<p>1460 rows × 12 columns</p>\n</div>"
     },
     "execution_count": 7,
     "metadata": {},
     "output_type": "execute_result"
    }
   ],
   "source": [
    "ordinal_mapping = {'Ex': 5, 'Gd': 4, 'TA': 3, 'Fa': 2, 'Po': 1, 'NA': -1,\n",
    "                   'NO': -1, 'No': -1, 'Av': 3, 'Mn': 2,\n",
    "                   '1Story': 10, '1.5Fin': 15, '1.5Unf': 12,\n",
    "                   '2Story': 20, '2.5Fin': 25, '2.5Unf': 22,\n",
    "                   'SFoyer': 21, 'SLvl': 23}\n",
    "\n",
    "train_features[ordinal_feat].apply(lambda x: x.map(ordinal_mapping))"
   ],
   "metadata": {
    "collapsed": false,
    "pycharm": {
     "name": "#%%\n"
    }
   }
  },
  {
   "cell_type": "code",
   "execution_count": 37,
   "outputs": [
    {
     "data": {
      "text/plain": "{'Abnorml': 100000.0,\n 'AdjLand': 10000.0,\n 'Alloca': 1000.0,\n 'Family': 100.0,\n 'Normal': 10.0,\n 'Partial': 1.0}"
     },
     "execution_count": 37,
     "metadata": {},
     "output_type": "execute_result"
    }
   ],
   "source": [
    "f = lambda x: int(''.join(x.astype(str)))\n",
    "mapper = pd.get_dummies(train_features[nominal_feat[0]]).apply(f, axis=1)\n",
    "pd.concat([train_features[nominal_feat[0]], mapper],\n",
    "          axis=1).groupby(nominal_feat[0])[0].median().to_dict()"
   ],
   "metadata": {
    "collapsed": false,
    "pycharm": {
     "name": "#%%\n"
    }
   }
  },
  {
   "cell_type": "code",
   "execution_count": 50,
   "outputs": [
    {
     "data": {
      "text/plain": "{'Abnorml': 101,\n 'AdjLand': 4,\n 'Alloca': 12,\n 'Family': 20,\n 'Normal': 1198,\n 'Partial': 125}"
     },
     "execution_count": 50,
     "metadata": {},
     "output_type": "execute_result"
    }
   ],
   "source": [
    "f = lambda x: x.count()\n",
    "mapper = train_features.groupby(nominal_feat[0])[nominal_feat[0]].apply(f).to_dict()\n",
    "mapper"
   ],
   "metadata": {
    "collapsed": false,
    "pycharm": {
     "name": "#%%\n"
    }
   }
  },
  {
   "cell_type": "code",
   "execution_count": 51,
   "outputs": [
    {
     "data": {
      "text/plain": "      mssubclass  mszoning  lotfrontage  lotarea  street  alley  lotshape  \\\nId                                                                          \n1             60      1151         65.0     8450    1454   1369       925   \n2             20      1151         80.0     9600    1454   1369       925   \n3             60      1151         68.0    11250    1454   1369       484   \n4             70      1151         60.0     9550    1454   1369       484   \n5             60      1151         84.0    14260    1454   1369       484   \n...          ...       ...          ...      ...     ...    ...       ...   \n1456          60      1151         62.0     7917    1454   1369       925   \n1457          20      1151         85.0    13175    1454   1369       925   \n1458          70      1151         66.0     9042    1454   1369       925   \n1459          20      1151         68.0     9717    1454   1369       925   \n1460          20      1151         75.0     9937    1454   1369       925   \n\n      landcontour  utilities  lotconfig  ...  screenporch  poolarea  poolqc  \\\nId                                       ...                                  \n1            1311       1459       1052  ...            0         0      NO   \n2            1311       1459         47  ...            0         0      NO   \n3            1311       1459       1052  ...            0         0      NO   \n4            1311       1459        263  ...            0         0      NO   \n5            1311       1459         47  ...            0         0      NO   \n...           ...        ...        ...  ...          ...       ...     ...   \n1456         1311       1459       1052  ...            0         0      NO   \n1457         1311       1459       1052  ...            0         0      NO   \n1458         1311       1459       1052  ...            0         0      NO   \n1459         1311       1459       1052  ...            0         0      NO   \n1460         1311       1459       1052  ...            0         0      NO   \n\n      fence  miscfeature miscval  mosold  yrsold  saletype  salecondition  \nId                                                                         \n1      1179         1406       0       2    2008      1267           1198  \n2      1179         1406       0       5    2007      1267           1198  \n3      1179         1406       0       9    2008      1267           1198  \n4      1179         1406       0       2    2006      1267            101  \n5      1179         1406       0      12    2008      1267           1198  \n...     ...          ...     ...     ...     ...       ...            ...  \n1456   1179         1406       0       8    2007      1267           1198  \n1457    157         1406       0       2    2010      1267           1198  \n1458     59           49    2500       5    2010      1267           1198  \n1459   1179         1406       0       4    2010      1267           1198  \n1460   1179         1406       0       6    2008      1267           1198  \n\n[1460 rows x 79 columns]",
      "text/html": "<div>\n<style scoped>\n    .dataframe tbody tr th:only-of-type {\n        vertical-align: middle;\n    }\n\n    .dataframe tbody tr th {\n        vertical-align: top;\n    }\n\n    .dataframe thead th {\n        text-align: right;\n    }\n</style>\n<table border=\"1\" class=\"dataframe\">\n  <thead>\n    <tr style=\"text-align: right;\">\n      <th></th>\n      <th>mssubclass</th>\n      <th>mszoning</th>\n      <th>lotfrontage</th>\n      <th>lotarea</th>\n      <th>street</th>\n      <th>alley</th>\n      <th>lotshape</th>\n      <th>landcontour</th>\n      <th>utilities</th>\n      <th>lotconfig</th>\n      <th>...</th>\n      <th>screenporch</th>\n      <th>poolarea</th>\n      <th>poolqc</th>\n      <th>fence</th>\n      <th>miscfeature</th>\n      <th>miscval</th>\n      <th>mosold</th>\n      <th>yrsold</th>\n      <th>saletype</th>\n      <th>salecondition</th>\n    </tr>\n    <tr>\n      <th>Id</th>\n      <th></th>\n      <th></th>\n      <th></th>\n      <th></th>\n      <th></th>\n      <th></th>\n      <th></th>\n      <th></th>\n      <th></th>\n      <th></th>\n      <th></th>\n      <th></th>\n      <th></th>\n      <th></th>\n      <th></th>\n      <th></th>\n      <th></th>\n      <th></th>\n      <th></th>\n      <th></th>\n      <th></th>\n    </tr>\n  </thead>\n  <tbody>\n    <tr>\n      <th>1</th>\n      <td>60</td>\n      <td>1151</td>\n      <td>65.0</td>\n      <td>8450</td>\n      <td>1454</td>\n      <td>1369</td>\n      <td>925</td>\n      <td>1311</td>\n      <td>1459</td>\n      <td>1052</td>\n      <td>...</td>\n      <td>0</td>\n      <td>0</td>\n      <td>NO</td>\n      <td>1179</td>\n      <td>1406</td>\n      <td>0</td>\n      <td>2</td>\n      <td>2008</td>\n      <td>1267</td>\n      <td>1198</td>\n    </tr>\n    <tr>\n      <th>2</th>\n      <td>20</td>\n      <td>1151</td>\n      <td>80.0</td>\n      <td>9600</td>\n      <td>1454</td>\n      <td>1369</td>\n      <td>925</td>\n      <td>1311</td>\n      <td>1459</td>\n      <td>47</td>\n      <td>...</td>\n      <td>0</td>\n      <td>0</td>\n      <td>NO</td>\n      <td>1179</td>\n      <td>1406</td>\n      <td>0</td>\n      <td>5</td>\n      <td>2007</td>\n      <td>1267</td>\n      <td>1198</td>\n    </tr>\n    <tr>\n      <th>3</th>\n      <td>60</td>\n      <td>1151</td>\n      <td>68.0</td>\n      <td>11250</td>\n      <td>1454</td>\n      <td>1369</td>\n      <td>484</td>\n      <td>1311</td>\n      <td>1459</td>\n      <td>1052</td>\n      <td>...</td>\n      <td>0</td>\n      <td>0</td>\n      <td>NO</td>\n      <td>1179</td>\n      <td>1406</td>\n      <td>0</td>\n      <td>9</td>\n      <td>2008</td>\n      <td>1267</td>\n      <td>1198</td>\n    </tr>\n    <tr>\n      <th>4</th>\n      <td>70</td>\n      <td>1151</td>\n      <td>60.0</td>\n      <td>9550</td>\n      <td>1454</td>\n      <td>1369</td>\n      <td>484</td>\n      <td>1311</td>\n      <td>1459</td>\n      <td>263</td>\n      <td>...</td>\n      <td>0</td>\n      <td>0</td>\n      <td>NO</td>\n      <td>1179</td>\n      <td>1406</td>\n      <td>0</td>\n      <td>2</td>\n      <td>2006</td>\n      <td>1267</td>\n      <td>101</td>\n    </tr>\n    <tr>\n      <th>5</th>\n      <td>60</td>\n      <td>1151</td>\n      <td>84.0</td>\n      <td>14260</td>\n      <td>1454</td>\n      <td>1369</td>\n      <td>484</td>\n      <td>1311</td>\n      <td>1459</td>\n      <td>47</td>\n      <td>...</td>\n      <td>0</td>\n      <td>0</td>\n      <td>NO</td>\n      <td>1179</td>\n      <td>1406</td>\n      <td>0</td>\n      <td>12</td>\n      <td>2008</td>\n      <td>1267</td>\n      <td>1198</td>\n    </tr>\n    <tr>\n      <th>...</th>\n      <td>...</td>\n      <td>...</td>\n      <td>...</td>\n      <td>...</td>\n      <td>...</td>\n      <td>...</td>\n      <td>...</td>\n      <td>...</td>\n      <td>...</td>\n      <td>...</td>\n      <td>...</td>\n      <td>...</td>\n      <td>...</td>\n      <td>...</td>\n      <td>...</td>\n      <td>...</td>\n      <td>...</td>\n      <td>...</td>\n      <td>...</td>\n      <td>...</td>\n      <td>...</td>\n    </tr>\n    <tr>\n      <th>1456</th>\n      <td>60</td>\n      <td>1151</td>\n      <td>62.0</td>\n      <td>7917</td>\n      <td>1454</td>\n      <td>1369</td>\n      <td>925</td>\n      <td>1311</td>\n      <td>1459</td>\n      <td>1052</td>\n      <td>...</td>\n      <td>0</td>\n      <td>0</td>\n      <td>NO</td>\n      <td>1179</td>\n      <td>1406</td>\n      <td>0</td>\n      <td>8</td>\n      <td>2007</td>\n      <td>1267</td>\n      <td>1198</td>\n    </tr>\n    <tr>\n      <th>1457</th>\n      <td>20</td>\n      <td>1151</td>\n      <td>85.0</td>\n      <td>13175</td>\n      <td>1454</td>\n      <td>1369</td>\n      <td>925</td>\n      <td>1311</td>\n      <td>1459</td>\n      <td>1052</td>\n      <td>...</td>\n      <td>0</td>\n      <td>0</td>\n      <td>NO</td>\n      <td>157</td>\n      <td>1406</td>\n      <td>0</td>\n      <td>2</td>\n      <td>2010</td>\n      <td>1267</td>\n      <td>1198</td>\n    </tr>\n    <tr>\n      <th>1458</th>\n      <td>70</td>\n      <td>1151</td>\n      <td>66.0</td>\n      <td>9042</td>\n      <td>1454</td>\n      <td>1369</td>\n      <td>925</td>\n      <td>1311</td>\n      <td>1459</td>\n      <td>1052</td>\n      <td>...</td>\n      <td>0</td>\n      <td>0</td>\n      <td>NO</td>\n      <td>59</td>\n      <td>49</td>\n      <td>2500</td>\n      <td>5</td>\n      <td>2010</td>\n      <td>1267</td>\n      <td>1198</td>\n    </tr>\n    <tr>\n      <th>1459</th>\n      <td>20</td>\n      <td>1151</td>\n      <td>68.0</td>\n      <td>9717</td>\n      <td>1454</td>\n      <td>1369</td>\n      <td>925</td>\n      <td>1311</td>\n      <td>1459</td>\n      <td>1052</td>\n      <td>...</td>\n      <td>0</td>\n      <td>0</td>\n      <td>NO</td>\n      <td>1179</td>\n      <td>1406</td>\n      <td>0</td>\n      <td>4</td>\n      <td>2010</td>\n      <td>1267</td>\n      <td>1198</td>\n    </tr>\n    <tr>\n      <th>1460</th>\n      <td>20</td>\n      <td>1151</td>\n      <td>75.0</td>\n      <td>9937</td>\n      <td>1454</td>\n      <td>1369</td>\n      <td>925</td>\n      <td>1311</td>\n      <td>1459</td>\n      <td>1052</td>\n      <td>...</td>\n      <td>0</td>\n      <td>0</td>\n      <td>NO</td>\n      <td>1179</td>\n      <td>1406</td>\n      <td>0</td>\n      <td>6</td>\n      <td>2008</td>\n      <td>1267</td>\n      <td>1198</td>\n    </tr>\n  </tbody>\n</table>\n<p>1460 rows × 79 columns</p>\n</div>"
     },
     "execution_count": 51,
     "metadata": {},
     "output_type": "execute_result"
    }
   ],
   "source": [
    "for col in nominal_feat:\n",
    "    mapper = train_features.groupby(col)[col].apply(f).to_dict()\n",
    "    train_features[col] = train_features[col].map(mapper)\n",
    "\n",
    "train_features"
   ],
   "metadata": {
    "collapsed": false,
    "pycharm": {
     "name": "#%%\n"
    }
   }
  },
  {
   "cell_type": "code",
   "execution_count": 53,
   "outputs": [
    {
     "data": {
      "text/plain": "      salecondition  saletype     fence  miscfeature  garagetype  \\\nId                                                                 \n1           1.00000       1.0  1.000000     1.000000    1.000000   \n2           1.00000       1.0  1.000000     1.000000    1.000000   \n3           1.00000       1.0  1.000000     1.000000    1.000000   \n4           0.08124       1.0  1.000000     1.000000    0.440972   \n5           1.00000       1.0  1.000000     1.000000    1.000000   \n...             ...       ...       ...          ...         ...   \n1456        1.00000       1.0  1.000000     1.000000    1.000000   \n1457        1.00000       1.0  0.125000     1.000000    1.000000   \n1458        1.00000       1.0  0.041096     0.034164    1.000000   \n1459        1.00000       1.0  1.000000     1.000000    1.000000   \n1460        1.00000       1.0  1.000000     1.000000    1.000000   \n\n      garagefinish  functional  electrical  heating  foundation  ...  \\\nId                                                               ...   \n1         0.650763    1.000000    1.000000      1.0    1.000000  ...   \n2         0.650763    1.000000    1.000000      1.0    0.979814  ...   \n3         0.650763    1.000000    1.000000      1.0    1.000000  ...   \n4         1.000000    1.000000    1.000000      1.0    0.222050  ...   \n5         0.650763    1.000000    1.000000      1.0    1.000000  ...   \n...            ...         ...         ...      ...         ...  ...   \n1456      0.650763    1.000000    1.000000      1.0    1.000000  ...   \n1457      1.000000    0.022075    1.000000      1.0    0.979814  ...   \n1458      0.650763    1.000000    1.000000      1.0    0.004658  ...   \n1459      1.000000    1.000000    0.069715      1.0    0.979814  ...   \n1460      0.517176    1.000000    1.000000      1.0    0.979814  ...   \n\n      bsmtfintype1  bsmtfintype2  utilities  lotconfig  landslope  \\\nId                                                                  \n1         0.969466      1.000000        1.0   1.000000        1.0   \n2         0.465649      1.000000        1.0   0.041031        1.0   \n3         0.969466      1.000000        1.0   1.000000        1.0   \n4         0.465649      1.000000        1.0   0.247137        1.0   \n5         0.969466      1.000000        1.0   0.041031        1.0   \n...            ...           ...        ...        ...        ...   \n1456      1.000000      1.000000        1.0   1.000000        1.0   \n1457      0.465649      0.032206        1.0   1.000000        1.0   \n1458      0.969466      1.000000        1.0   1.000000        1.0   \n1459      0.969466      0.032206        1.0   1.000000        1.0   \n1460      0.282443      0.025765        1.0   1.000000        1.0   \n\n      neighborhood  condition1  condition2  bldgtype  mszoning  \nId                                                              \n1         0.663677    1.000000         1.0       1.0       1.0  \n2         0.040359    0.062798         1.0       1.0       1.0  \n3         0.663677    1.000000         1.0       1.0       1.0  \n4         0.219731    1.000000         1.0       1.0       1.0  \n5         0.174888    1.000000         1.0       1.0       1.0  \n...            ...         ...         ...       ...       ...  \n1456      0.345291    1.000000         1.0       1.0       1.0  \n1457      0.318386    1.000000         1.0       1.0       1.0  \n1458      0.219731    1.000000         1.0       1.0       1.0  \n1459      1.000000    1.000000         1.0       1.0       1.0  \n1460      0.439462    1.000000         1.0       1.0       1.0  \n\n[1460 rows x 29 columns]",
      "text/html": "<div>\n<style scoped>\n    .dataframe tbody tr th:only-of-type {\n        vertical-align: middle;\n    }\n\n    .dataframe tbody tr th {\n        vertical-align: top;\n    }\n\n    .dataframe thead th {\n        text-align: right;\n    }\n</style>\n<table border=\"1\" class=\"dataframe\">\n  <thead>\n    <tr style=\"text-align: right;\">\n      <th></th>\n      <th>salecondition</th>\n      <th>saletype</th>\n      <th>fence</th>\n      <th>miscfeature</th>\n      <th>garagetype</th>\n      <th>garagefinish</th>\n      <th>functional</th>\n      <th>electrical</th>\n      <th>heating</th>\n      <th>foundation</th>\n      <th>...</th>\n      <th>bsmtfintype1</th>\n      <th>bsmtfintype2</th>\n      <th>utilities</th>\n      <th>lotconfig</th>\n      <th>landslope</th>\n      <th>neighborhood</th>\n      <th>condition1</th>\n      <th>condition2</th>\n      <th>bldgtype</th>\n      <th>mszoning</th>\n    </tr>\n    <tr>\n      <th>Id</th>\n      <th></th>\n      <th></th>\n      <th></th>\n      <th></th>\n      <th></th>\n      <th></th>\n      <th></th>\n      <th></th>\n      <th></th>\n      <th></th>\n      <th></th>\n      <th></th>\n      <th></th>\n      <th></th>\n      <th></th>\n      <th></th>\n      <th></th>\n      <th></th>\n      <th></th>\n      <th></th>\n      <th></th>\n    </tr>\n  </thead>\n  <tbody>\n    <tr>\n      <th>1</th>\n      <td>1.00000</td>\n      <td>1.0</td>\n      <td>1.000000</td>\n      <td>1.000000</td>\n      <td>1.000000</td>\n      <td>0.650763</td>\n      <td>1.000000</td>\n      <td>1.000000</td>\n      <td>1.0</td>\n      <td>1.000000</td>\n      <td>...</td>\n      <td>0.969466</td>\n      <td>1.000000</td>\n      <td>1.0</td>\n      <td>1.000000</td>\n      <td>1.0</td>\n      <td>0.663677</td>\n      <td>1.000000</td>\n      <td>1.0</td>\n      <td>1.0</td>\n      <td>1.0</td>\n    </tr>\n    <tr>\n      <th>2</th>\n      <td>1.00000</td>\n      <td>1.0</td>\n      <td>1.000000</td>\n      <td>1.000000</td>\n      <td>1.000000</td>\n      <td>0.650763</td>\n      <td>1.000000</td>\n      <td>1.000000</td>\n      <td>1.0</td>\n      <td>0.979814</td>\n      <td>...</td>\n      <td>0.465649</td>\n      <td>1.000000</td>\n      <td>1.0</td>\n      <td>0.041031</td>\n      <td>1.0</td>\n      <td>0.040359</td>\n      <td>0.062798</td>\n      <td>1.0</td>\n      <td>1.0</td>\n      <td>1.0</td>\n    </tr>\n    <tr>\n      <th>3</th>\n      <td>1.00000</td>\n      <td>1.0</td>\n      <td>1.000000</td>\n      <td>1.000000</td>\n      <td>1.000000</td>\n      <td>0.650763</td>\n      <td>1.000000</td>\n      <td>1.000000</td>\n      <td>1.0</td>\n      <td>1.000000</td>\n      <td>...</td>\n      <td>0.969466</td>\n      <td>1.000000</td>\n      <td>1.0</td>\n      <td>1.000000</td>\n      <td>1.0</td>\n      <td>0.663677</td>\n      <td>1.000000</td>\n      <td>1.0</td>\n      <td>1.0</td>\n      <td>1.0</td>\n    </tr>\n    <tr>\n      <th>4</th>\n      <td>0.08124</td>\n      <td>1.0</td>\n      <td>1.000000</td>\n      <td>1.000000</td>\n      <td>0.440972</td>\n      <td>1.000000</td>\n      <td>1.000000</td>\n      <td>1.000000</td>\n      <td>1.0</td>\n      <td>0.222050</td>\n      <td>...</td>\n      <td>0.465649</td>\n      <td>1.000000</td>\n      <td>1.0</td>\n      <td>0.247137</td>\n      <td>1.0</td>\n      <td>0.219731</td>\n      <td>1.000000</td>\n      <td>1.0</td>\n      <td>1.0</td>\n      <td>1.0</td>\n    </tr>\n    <tr>\n      <th>5</th>\n      <td>1.00000</td>\n      <td>1.0</td>\n      <td>1.000000</td>\n      <td>1.000000</td>\n      <td>1.000000</td>\n      <td>0.650763</td>\n      <td>1.000000</td>\n      <td>1.000000</td>\n      <td>1.0</td>\n      <td>1.000000</td>\n      <td>...</td>\n      <td>0.969466</td>\n      <td>1.000000</td>\n      <td>1.0</td>\n      <td>0.041031</td>\n      <td>1.0</td>\n      <td>0.174888</td>\n      <td>1.000000</td>\n      <td>1.0</td>\n      <td>1.0</td>\n      <td>1.0</td>\n    </tr>\n    <tr>\n      <th>...</th>\n      <td>...</td>\n      <td>...</td>\n      <td>...</td>\n      <td>...</td>\n      <td>...</td>\n      <td>...</td>\n      <td>...</td>\n      <td>...</td>\n      <td>...</td>\n      <td>...</td>\n      <td>...</td>\n      <td>...</td>\n      <td>...</td>\n      <td>...</td>\n      <td>...</td>\n      <td>...</td>\n      <td>...</td>\n      <td>...</td>\n      <td>...</td>\n      <td>...</td>\n      <td>...</td>\n    </tr>\n    <tr>\n      <th>1456</th>\n      <td>1.00000</td>\n      <td>1.0</td>\n      <td>1.000000</td>\n      <td>1.000000</td>\n      <td>1.000000</td>\n      <td>0.650763</td>\n      <td>1.000000</td>\n      <td>1.000000</td>\n      <td>1.0</td>\n      <td>1.000000</td>\n      <td>...</td>\n      <td>1.000000</td>\n      <td>1.000000</td>\n      <td>1.0</td>\n      <td>1.000000</td>\n      <td>1.0</td>\n      <td>0.345291</td>\n      <td>1.000000</td>\n      <td>1.0</td>\n      <td>1.0</td>\n      <td>1.0</td>\n    </tr>\n    <tr>\n      <th>1457</th>\n      <td>1.00000</td>\n      <td>1.0</td>\n      <td>0.125000</td>\n      <td>1.000000</td>\n      <td>1.000000</td>\n      <td>1.000000</td>\n      <td>0.022075</td>\n      <td>1.000000</td>\n      <td>1.0</td>\n      <td>0.979814</td>\n      <td>...</td>\n      <td>0.465649</td>\n      <td>0.032206</td>\n      <td>1.0</td>\n      <td>1.000000</td>\n      <td>1.0</td>\n      <td>0.318386</td>\n      <td>1.000000</td>\n      <td>1.0</td>\n      <td>1.0</td>\n      <td>1.0</td>\n    </tr>\n    <tr>\n      <th>1458</th>\n      <td>1.00000</td>\n      <td>1.0</td>\n      <td>0.041096</td>\n      <td>0.034164</td>\n      <td>1.000000</td>\n      <td>0.650763</td>\n      <td>1.000000</td>\n      <td>1.000000</td>\n      <td>1.0</td>\n      <td>0.004658</td>\n      <td>...</td>\n      <td>0.969466</td>\n      <td>1.000000</td>\n      <td>1.0</td>\n      <td>1.000000</td>\n      <td>1.0</td>\n      <td>0.219731</td>\n      <td>1.000000</td>\n      <td>1.0</td>\n      <td>1.0</td>\n      <td>1.0</td>\n    </tr>\n    <tr>\n      <th>1459</th>\n      <td>1.00000</td>\n      <td>1.0</td>\n      <td>1.000000</td>\n      <td>1.000000</td>\n      <td>1.000000</td>\n      <td>1.000000</td>\n      <td>1.000000</td>\n      <td>0.069715</td>\n      <td>1.0</td>\n      <td>0.979814</td>\n      <td>...</td>\n      <td>0.969466</td>\n      <td>0.032206</td>\n      <td>1.0</td>\n      <td>1.000000</td>\n      <td>1.0</td>\n      <td>1.000000</td>\n      <td>1.000000</td>\n      <td>1.0</td>\n      <td>1.0</td>\n      <td>1.0</td>\n    </tr>\n    <tr>\n      <th>1460</th>\n      <td>1.00000</td>\n      <td>1.0</td>\n      <td>1.000000</td>\n      <td>1.000000</td>\n      <td>1.000000</td>\n      <td>0.517176</td>\n      <td>1.000000</td>\n      <td>1.000000</td>\n      <td>1.0</td>\n      <td>0.979814</td>\n      <td>...</td>\n      <td>0.282443</td>\n      <td>0.025765</td>\n      <td>1.0</td>\n      <td>1.000000</td>\n      <td>1.0</td>\n      <td>0.439462</td>\n      <td>1.000000</td>\n      <td>1.0</td>\n      <td>1.0</td>\n      <td>1.0</td>\n    </tr>\n  </tbody>\n</table>\n<p>1460 rows × 29 columns</p>\n</div>"
     },
     "execution_count": 53,
     "metadata": {},
     "output_type": "execute_result"
    }
   ],
   "source": [
    "train_features[nominal_feat].apply(lambda x: (x - np.min(x)) / (np.max(x) - np.min(x)))"
   ],
   "metadata": {
    "collapsed": false,
    "pycharm": {
     "name": "#%%\n"
    }
   }
  },
  {
   "cell_type": "code",
   "execution_count": 5,
   "outputs": [
    {
     "data": {
      "text/plain": "      mssubclass mszoning  lotfrontage  lotarea street alley lotshape  \\\nId                                                                      \n1             60       RL         65.0     8450   Pave    NO      Reg   \n2             20       RL         80.0     9600   Pave    NO      Reg   \n3             60       RL         68.0    11250   Pave    NO      IR1   \n4             70       RL         60.0     9550   Pave    NO      IR1   \n5             60       RL         84.0    14260   Pave    NO      IR1   \n...          ...      ...          ...      ...    ...   ...      ...   \n1456          60       RL         62.0     7917   Pave    NO      Reg   \n1457          20       RL         85.0    13175   Pave    NO      Reg   \n1458          70       RL         66.0     9042   Pave    NO      Reg   \n1459          20       RL         68.0     9717   Pave    NO      Reg   \n1460          20       RL         75.0     9937   Pave    NO      Reg   \n\n     landcontour utilities lotconfig  ... screenporch poolarea poolqc  fence  \\\nId                                    ...                                      \n1            Lvl    AllPub    Inside  ...           0        0     -1     NO   \n2            Lvl    AllPub       FR2  ...           0        0     -1     NO   \n3            Lvl    AllPub    Inside  ...           0        0     -1     NO   \n4            Lvl    AllPub    Corner  ...           0        0     -1     NO   \n5            Lvl    AllPub       FR2  ...           0        0     -1     NO   \n...          ...       ...       ...  ...         ...      ...    ...    ...   \n1456         Lvl    AllPub    Inside  ...           0        0     -1     NO   \n1457         Lvl    AllPub    Inside  ...           0        0     -1  MnPrv   \n1458         Lvl    AllPub    Inside  ...           0        0     -1  GdPrv   \n1459         Lvl    AllPub    Inside  ...           0        0     -1     NO   \n1460         Lvl    AllPub    Inside  ...           0        0     -1     NO   \n\n     miscfeature  miscval  mosold  yrsold  saletype  salecondition  \nId                                                                  \n1             NO        0       2    2008        WD         Normal  \n2             NO        0       5    2007        WD         Normal  \n3             NO        0       9    2008        WD         Normal  \n4             NO        0       2    2006        WD        Abnorml  \n5             NO        0      12    2008        WD         Normal  \n...          ...      ...     ...     ...       ...            ...  \n1456          NO        0       8    2007        WD         Normal  \n1457          NO        0       2    2010        WD         Normal  \n1458        Shed     2500       5    2010        WD         Normal  \n1459          NO        0       4    2010        WD         Normal  \n1460          NO        0       6    2008        WD         Normal  \n\n[1460 rows x 79 columns]",
      "text/html": "<div>\n<style scoped>\n    .dataframe tbody tr th:only-of-type {\n        vertical-align: middle;\n    }\n\n    .dataframe tbody tr th {\n        vertical-align: top;\n    }\n\n    .dataframe thead th {\n        text-align: right;\n    }\n</style>\n<table border=\"1\" class=\"dataframe\">\n  <thead>\n    <tr style=\"text-align: right;\">\n      <th></th>\n      <th>mssubclass</th>\n      <th>mszoning</th>\n      <th>lotfrontage</th>\n      <th>lotarea</th>\n      <th>street</th>\n      <th>alley</th>\n      <th>lotshape</th>\n      <th>landcontour</th>\n      <th>utilities</th>\n      <th>lotconfig</th>\n      <th>...</th>\n      <th>screenporch</th>\n      <th>poolarea</th>\n      <th>poolqc</th>\n      <th>fence</th>\n      <th>miscfeature</th>\n      <th>miscval</th>\n      <th>mosold</th>\n      <th>yrsold</th>\n      <th>saletype</th>\n      <th>salecondition</th>\n    </tr>\n    <tr>\n      <th>Id</th>\n      <th></th>\n      <th></th>\n      <th></th>\n      <th></th>\n      <th></th>\n      <th></th>\n      <th></th>\n      <th></th>\n      <th></th>\n      <th></th>\n      <th></th>\n      <th></th>\n      <th></th>\n      <th></th>\n      <th></th>\n      <th></th>\n      <th></th>\n      <th></th>\n      <th></th>\n      <th></th>\n      <th></th>\n    </tr>\n  </thead>\n  <tbody>\n    <tr>\n      <th>1</th>\n      <td>60</td>\n      <td>RL</td>\n      <td>65.0</td>\n      <td>8450</td>\n      <td>Pave</td>\n      <td>NO</td>\n      <td>Reg</td>\n      <td>Lvl</td>\n      <td>AllPub</td>\n      <td>Inside</td>\n      <td>...</td>\n      <td>0</td>\n      <td>0</td>\n      <td>-1</td>\n      <td>NO</td>\n      <td>NO</td>\n      <td>0</td>\n      <td>2</td>\n      <td>2008</td>\n      <td>WD</td>\n      <td>Normal</td>\n    </tr>\n    <tr>\n      <th>2</th>\n      <td>20</td>\n      <td>RL</td>\n      <td>80.0</td>\n      <td>9600</td>\n      <td>Pave</td>\n      <td>NO</td>\n      <td>Reg</td>\n      <td>Lvl</td>\n      <td>AllPub</td>\n      <td>FR2</td>\n      <td>...</td>\n      <td>0</td>\n      <td>0</td>\n      <td>-1</td>\n      <td>NO</td>\n      <td>NO</td>\n      <td>0</td>\n      <td>5</td>\n      <td>2007</td>\n      <td>WD</td>\n      <td>Normal</td>\n    </tr>\n    <tr>\n      <th>3</th>\n      <td>60</td>\n      <td>RL</td>\n      <td>68.0</td>\n      <td>11250</td>\n      <td>Pave</td>\n      <td>NO</td>\n      <td>IR1</td>\n      <td>Lvl</td>\n      <td>AllPub</td>\n      <td>Inside</td>\n      <td>...</td>\n      <td>0</td>\n      <td>0</td>\n      <td>-1</td>\n      <td>NO</td>\n      <td>NO</td>\n      <td>0</td>\n      <td>9</td>\n      <td>2008</td>\n      <td>WD</td>\n      <td>Normal</td>\n    </tr>\n    <tr>\n      <th>4</th>\n      <td>70</td>\n      <td>RL</td>\n      <td>60.0</td>\n      <td>9550</td>\n      <td>Pave</td>\n      <td>NO</td>\n      <td>IR1</td>\n      <td>Lvl</td>\n      <td>AllPub</td>\n      <td>Corner</td>\n      <td>...</td>\n      <td>0</td>\n      <td>0</td>\n      <td>-1</td>\n      <td>NO</td>\n      <td>NO</td>\n      <td>0</td>\n      <td>2</td>\n      <td>2006</td>\n      <td>WD</td>\n      <td>Abnorml</td>\n    </tr>\n    <tr>\n      <th>5</th>\n      <td>60</td>\n      <td>RL</td>\n      <td>84.0</td>\n      <td>14260</td>\n      <td>Pave</td>\n      <td>NO</td>\n      <td>IR1</td>\n      <td>Lvl</td>\n      <td>AllPub</td>\n      <td>FR2</td>\n      <td>...</td>\n      <td>0</td>\n      <td>0</td>\n      <td>-1</td>\n      <td>NO</td>\n      <td>NO</td>\n      <td>0</td>\n      <td>12</td>\n      <td>2008</td>\n      <td>WD</td>\n      <td>Normal</td>\n    </tr>\n    <tr>\n      <th>...</th>\n      <td>...</td>\n      <td>...</td>\n      <td>...</td>\n      <td>...</td>\n      <td>...</td>\n      <td>...</td>\n      <td>...</td>\n      <td>...</td>\n      <td>...</td>\n      <td>...</td>\n      <td>...</td>\n      <td>...</td>\n      <td>...</td>\n      <td>...</td>\n      <td>...</td>\n      <td>...</td>\n      <td>...</td>\n      <td>...</td>\n      <td>...</td>\n      <td>...</td>\n      <td>...</td>\n    </tr>\n    <tr>\n      <th>1456</th>\n      <td>60</td>\n      <td>RL</td>\n      <td>62.0</td>\n      <td>7917</td>\n      <td>Pave</td>\n      <td>NO</td>\n      <td>Reg</td>\n      <td>Lvl</td>\n      <td>AllPub</td>\n      <td>Inside</td>\n      <td>...</td>\n      <td>0</td>\n      <td>0</td>\n      <td>-1</td>\n      <td>NO</td>\n      <td>NO</td>\n      <td>0</td>\n      <td>8</td>\n      <td>2007</td>\n      <td>WD</td>\n      <td>Normal</td>\n    </tr>\n    <tr>\n      <th>1457</th>\n      <td>20</td>\n      <td>RL</td>\n      <td>85.0</td>\n      <td>13175</td>\n      <td>Pave</td>\n      <td>NO</td>\n      <td>Reg</td>\n      <td>Lvl</td>\n      <td>AllPub</td>\n      <td>Inside</td>\n      <td>...</td>\n      <td>0</td>\n      <td>0</td>\n      <td>-1</td>\n      <td>MnPrv</td>\n      <td>NO</td>\n      <td>0</td>\n      <td>2</td>\n      <td>2010</td>\n      <td>WD</td>\n      <td>Normal</td>\n    </tr>\n    <tr>\n      <th>1458</th>\n      <td>70</td>\n      <td>RL</td>\n      <td>66.0</td>\n      <td>9042</td>\n      <td>Pave</td>\n      <td>NO</td>\n      <td>Reg</td>\n      <td>Lvl</td>\n      <td>AllPub</td>\n      <td>Inside</td>\n      <td>...</td>\n      <td>0</td>\n      <td>0</td>\n      <td>-1</td>\n      <td>GdPrv</td>\n      <td>Shed</td>\n      <td>2500</td>\n      <td>5</td>\n      <td>2010</td>\n      <td>WD</td>\n      <td>Normal</td>\n    </tr>\n    <tr>\n      <th>1459</th>\n      <td>20</td>\n      <td>RL</td>\n      <td>68.0</td>\n      <td>9717</td>\n      <td>Pave</td>\n      <td>NO</td>\n      <td>Reg</td>\n      <td>Lvl</td>\n      <td>AllPub</td>\n      <td>Inside</td>\n      <td>...</td>\n      <td>0</td>\n      <td>0</td>\n      <td>-1</td>\n      <td>NO</td>\n      <td>NO</td>\n      <td>0</td>\n      <td>4</td>\n      <td>2010</td>\n      <td>WD</td>\n      <td>Normal</td>\n    </tr>\n    <tr>\n      <th>1460</th>\n      <td>20</td>\n      <td>RL</td>\n      <td>75.0</td>\n      <td>9937</td>\n      <td>Pave</td>\n      <td>NO</td>\n      <td>Reg</td>\n      <td>Lvl</td>\n      <td>AllPub</td>\n      <td>Inside</td>\n      <td>...</td>\n      <td>0</td>\n      <td>0</td>\n      <td>-1</td>\n      <td>NO</td>\n      <td>NO</td>\n      <td>0</td>\n      <td>6</td>\n      <td>2008</td>\n      <td>WD</td>\n      <td>Normal</td>\n    </tr>\n  </tbody>\n</table>\n<p>1460 rows × 79 columns</p>\n</div>"
     },
     "execution_count": 5,
     "metadata": {},
     "output_type": "execute_result"
    }
   ],
   "source": [
    "encode_ordinal_features(train_features)\n",
    "train_features"
   ],
   "metadata": {
    "collapsed": false,
    "pycharm": {
     "name": "#%%\n"
    }
   }
  },
  {
   "cell_type": "code",
   "execution_count": 6,
   "outputs": [
    {
     "data": {
      "text/plain": "      mssubclass  mszoning  lotfrontage  lotarea  street  alley  lotshape  \\\nId                                                                          \n1             60      1151         65.0     8450    1454   1369       925   \n2             20      1151         80.0     9600    1454   1369       925   \n3             60      1151         68.0    11250    1454   1369       484   \n4             70      1151         60.0     9550    1454   1369       484   \n5             60      1151         84.0    14260    1454   1369       484   \n...          ...       ...          ...      ...     ...    ...       ...   \n1456          60      1151         62.0     7917    1454   1369       925   \n1457          20      1151         85.0    13175    1454   1369       925   \n1458          70      1151         66.0     9042    1454   1369       925   \n1459          20      1151         68.0     9717    1454   1369       925   \n1460          20      1151         75.0     9937    1454   1369       925   \n\n      landcontour  utilities  lotconfig  ...  screenporch  poolarea  poolqc  \\\nId                                       ...                                  \n1            1311       1459       1052  ...            0         0      -1   \n2            1311       1459         47  ...            0         0      -1   \n3            1311       1459       1052  ...            0         0      -1   \n4            1311       1459        263  ...            0         0      -1   \n5            1311       1459         47  ...            0         0      -1   \n...           ...        ...        ...  ...          ...       ...     ...   \n1456         1311       1459       1052  ...            0         0      -1   \n1457         1311       1459       1052  ...            0         0      -1   \n1458         1311       1459       1052  ...            0         0      -1   \n1459         1311       1459       1052  ...            0         0      -1   \n1460         1311       1459       1052  ...            0         0      -1   \n\n      fence  miscfeature  miscval  mosold  yrsold  saletype  salecondition  \nId                                                                          \n1      1179         1406        0       2    2008      1267           1198  \n2      1179         1406        0       5    2007      1267           1198  \n3      1179         1406        0       9    2008      1267           1198  \n4      1179         1406        0       2    2006      1267            101  \n5      1179         1406        0      12    2008      1267           1198  \n...     ...          ...      ...     ...     ...       ...            ...  \n1456   1179         1406        0       8    2007      1267           1198  \n1457    157         1406        0       2    2010      1267           1198  \n1458     59           49     2500       5    2010      1267           1198  \n1459   1179         1406        0       4    2010      1267           1198  \n1460   1179         1406        0       6    2008      1267           1198  \n\n[1460 rows x 79 columns]",
      "text/html": "<div>\n<style scoped>\n    .dataframe tbody tr th:only-of-type {\n        vertical-align: middle;\n    }\n\n    .dataframe tbody tr th {\n        vertical-align: top;\n    }\n\n    .dataframe thead th {\n        text-align: right;\n    }\n</style>\n<table border=\"1\" class=\"dataframe\">\n  <thead>\n    <tr style=\"text-align: right;\">\n      <th></th>\n      <th>mssubclass</th>\n      <th>mszoning</th>\n      <th>lotfrontage</th>\n      <th>lotarea</th>\n      <th>street</th>\n      <th>alley</th>\n      <th>lotshape</th>\n      <th>landcontour</th>\n      <th>utilities</th>\n      <th>lotconfig</th>\n      <th>...</th>\n      <th>screenporch</th>\n      <th>poolarea</th>\n      <th>poolqc</th>\n      <th>fence</th>\n      <th>miscfeature</th>\n      <th>miscval</th>\n      <th>mosold</th>\n      <th>yrsold</th>\n      <th>saletype</th>\n      <th>salecondition</th>\n    </tr>\n    <tr>\n      <th>Id</th>\n      <th></th>\n      <th></th>\n      <th></th>\n      <th></th>\n      <th></th>\n      <th></th>\n      <th></th>\n      <th></th>\n      <th></th>\n      <th></th>\n      <th></th>\n      <th></th>\n      <th></th>\n      <th></th>\n      <th></th>\n      <th></th>\n      <th></th>\n      <th></th>\n      <th></th>\n      <th></th>\n      <th></th>\n    </tr>\n  </thead>\n  <tbody>\n    <tr>\n      <th>1</th>\n      <td>60</td>\n      <td>1151</td>\n      <td>65.0</td>\n      <td>8450</td>\n      <td>1454</td>\n      <td>1369</td>\n      <td>925</td>\n      <td>1311</td>\n      <td>1459</td>\n      <td>1052</td>\n      <td>...</td>\n      <td>0</td>\n      <td>0</td>\n      <td>-1</td>\n      <td>1179</td>\n      <td>1406</td>\n      <td>0</td>\n      <td>2</td>\n      <td>2008</td>\n      <td>1267</td>\n      <td>1198</td>\n    </tr>\n    <tr>\n      <th>2</th>\n      <td>20</td>\n      <td>1151</td>\n      <td>80.0</td>\n      <td>9600</td>\n      <td>1454</td>\n      <td>1369</td>\n      <td>925</td>\n      <td>1311</td>\n      <td>1459</td>\n      <td>47</td>\n      <td>...</td>\n      <td>0</td>\n      <td>0</td>\n      <td>-1</td>\n      <td>1179</td>\n      <td>1406</td>\n      <td>0</td>\n      <td>5</td>\n      <td>2007</td>\n      <td>1267</td>\n      <td>1198</td>\n    </tr>\n    <tr>\n      <th>3</th>\n      <td>60</td>\n      <td>1151</td>\n      <td>68.0</td>\n      <td>11250</td>\n      <td>1454</td>\n      <td>1369</td>\n      <td>484</td>\n      <td>1311</td>\n      <td>1459</td>\n      <td>1052</td>\n      <td>...</td>\n      <td>0</td>\n      <td>0</td>\n      <td>-1</td>\n      <td>1179</td>\n      <td>1406</td>\n      <td>0</td>\n      <td>9</td>\n      <td>2008</td>\n      <td>1267</td>\n      <td>1198</td>\n    </tr>\n    <tr>\n      <th>4</th>\n      <td>70</td>\n      <td>1151</td>\n      <td>60.0</td>\n      <td>9550</td>\n      <td>1454</td>\n      <td>1369</td>\n      <td>484</td>\n      <td>1311</td>\n      <td>1459</td>\n      <td>263</td>\n      <td>...</td>\n      <td>0</td>\n      <td>0</td>\n      <td>-1</td>\n      <td>1179</td>\n      <td>1406</td>\n      <td>0</td>\n      <td>2</td>\n      <td>2006</td>\n      <td>1267</td>\n      <td>101</td>\n    </tr>\n    <tr>\n      <th>5</th>\n      <td>60</td>\n      <td>1151</td>\n      <td>84.0</td>\n      <td>14260</td>\n      <td>1454</td>\n      <td>1369</td>\n      <td>484</td>\n      <td>1311</td>\n      <td>1459</td>\n      <td>47</td>\n      <td>...</td>\n      <td>0</td>\n      <td>0</td>\n      <td>-1</td>\n      <td>1179</td>\n      <td>1406</td>\n      <td>0</td>\n      <td>12</td>\n      <td>2008</td>\n      <td>1267</td>\n      <td>1198</td>\n    </tr>\n    <tr>\n      <th>...</th>\n      <td>...</td>\n      <td>...</td>\n      <td>...</td>\n      <td>...</td>\n      <td>...</td>\n      <td>...</td>\n      <td>...</td>\n      <td>...</td>\n      <td>...</td>\n      <td>...</td>\n      <td>...</td>\n      <td>...</td>\n      <td>...</td>\n      <td>...</td>\n      <td>...</td>\n      <td>...</td>\n      <td>...</td>\n      <td>...</td>\n      <td>...</td>\n      <td>...</td>\n      <td>...</td>\n    </tr>\n    <tr>\n      <th>1456</th>\n      <td>60</td>\n      <td>1151</td>\n      <td>62.0</td>\n      <td>7917</td>\n      <td>1454</td>\n      <td>1369</td>\n      <td>925</td>\n      <td>1311</td>\n      <td>1459</td>\n      <td>1052</td>\n      <td>...</td>\n      <td>0</td>\n      <td>0</td>\n      <td>-1</td>\n      <td>1179</td>\n      <td>1406</td>\n      <td>0</td>\n      <td>8</td>\n      <td>2007</td>\n      <td>1267</td>\n      <td>1198</td>\n    </tr>\n    <tr>\n      <th>1457</th>\n      <td>20</td>\n      <td>1151</td>\n      <td>85.0</td>\n      <td>13175</td>\n      <td>1454</td>\n      <td>1369</td>\n      <td>925</td>\n      <td>1311</td>\n      <td>1459</td>\n      <td>1052</td>\n      <td>...</td>\n      <td>0</td>\n      <td>0</td>\n      <td>-1</td>\n      <td>157</td>\n      <td>1406</td>\n      <td>0</td>\n      <td>2</td>\n      <td>2010</td>\n      <td>1267</td>\n      <td>1198</td>\n    </tr>\n    <tr>\n      <th>1458</th>\n      <td>70</td>\n      <td>1151</td>\n      <td>66.0</td>\n      <td>9042</td>\n      <td>1454</td>\n      <td>1369</td>\n      <td>925</td>\n      <td>1311</td>\n      <td>1459</td>\n      <td>1052</td>\n      <td>...</td>\n      <td>0</td>\n      <td>0</td>\n      <td>-1</td>\n      <td>59</td>\n      <td>49</td>\n      <td>2500</td>\n      <td>5</td>\n      <td>2010</td>\n      <td>1267</td>\n      <td>1198</td>\n    </tr>\n    <tr>\n      <th>1459</th>\n      <td>20</td>\n      <td>1151</td>\n      <td>68.0</td>\n      <td>9717</td>\n      <td>1454</td>\n      <td>1369</td>\n      <td>925</td>\n      <td>1311</td>\n      <td>1459</td>\n      <td>1052</td>\n      <td>...</td>\n      <td>0</td>\n      <td>0</td>\n      <td>-1</td>\n      <td>1179</td>\n      <td>1406</td>\n      <td>0</td>\n      <td>4</td>\n      <td>2010</td>\n      <td>1267</td>\n      <td>1198</td>\n    </tr>\n    <tr>\n      <th>1460</th>\n      <td>20</td>\n      <td>1151</td>\n      <td>75.0</td>\n      <td>9937</td>\n      <td>1454</td>\n      <td>1369</td>\n      <td>925</td>\n      <td>1311</td>\n      <td>1459</td>\n      <td>1052</td>\n      <td>...</td>\n      <td>0</td>\n      <td>0</td>\n      <td>-1</td>\n      <td>1179</td>\n      <td>1406</td>\n      <td>0</td>\n      <td>6</td>\n      <td>2008</td>\n      <td>1267</td>\n      <td>1198</td>\n    </tr>\n  </tbody>\n</table>\n<p>1460 rows × 79 columns</p>\n</div>"
     },
     "execution_count": 6,
     "metadata": {},
     "output_type": "execute_result"
    }
   ],
   "source": [
    "freq_encode_nominal_features(train_features)\n",
    "train_features"
   ],
   "metadata": {
    "collapsed": false,
    "pycharm": {
     "name": "#%%\n"
    }
   }
  },
  {
   "cell_type": "code",
   "execution_count": 7,
   "outputs": [
    {
     "data": {
      "text/plain": "mssubclass       0\nmszoning         0\nlotfrontage      0\nlotarea          0\nstreet           0\n                ..\nmiscval          0\nmosold           0\nyrsold           0\nsaletype         0\nsalecondition    0\nLength: 79, dtype: int64"
     },
     "execution_count": 7,
     "metadata": {},
     "output_type": "execute_result"
    }
   ],
   "source": [
    "train_features.isna().sum()"
   ],
   "metadata": {
    "collapsed": false,
    "pycharm": {
     "name": "#%%\n"
    }
   }
  }
 ],
 "metadata": {
  "kernelspec": {
   "display_name": "Python 3",
   "language": "python",
   "name": "python3"
  },
  "language_info": {
   "codemirror_mode": {
    "name": "ipython",
    "version": 2
   },
   "file_extension": ".py",
   "mimetype": "text/x-python",
   "name": "python",
   "nbconvert_exporter": "python",
   "pygments_lexer": "ipython2",
   "version": "2.7.6"
  }
 },
 "nbformat": 4,
 "nbformat_minor": 0
}