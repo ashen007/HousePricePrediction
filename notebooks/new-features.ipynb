{
 "cells": [
  {
   "cell_type": "code",
   "execution_count": 2,
   "metadata": {
    "collapsed": true,
    "pycharm": {
     "name": "#%%\n"
    }
   },
   "outputs": [],
   "source": [
    "import json\n",
    "import numpy as np\n",
    "import numpy as pn\n",
    "import pandas as pd\n",
    "import seaborn as sns\n",
    "import sklearn.metrics\n",
    "import xgboost as xgb\n",
    "\n",
    "from sklearn.tree import DecisionTreeRegressor\n",
    "from sklearn.linear_model import LinearRegression\n",
    "from sklearn.ensemble import RandomForestRegressor, BaggingRegressor, GradientBoostingRegressor, StackingRegressor\n",
    "from sklearn.model_selection import train_test_split, KFold\n",
    "from sklearn.metrics import mean_squared_error, make_scorer\n",
    "from sklearn.model_selection import GridSearchCV, RandomizedSearchCV\n",
    "from matplotlib import pyplot as plt\n",
    "from numpyencoder import NumpyEncoder\n",
    "from src.data.create_data import *\n",
    "from src.features.create_features import *\n",
    "from src.models.create_model import FitEstimator"
   ]
  },
  {
   "cell_type": "code",
   "execution_count": 8,
   "outputs": [],
   "source": [
    "train_features, target = load_train_data('../data/external/train.csv')\n",
    "test_features = load_test_data('../data/external/test.csv')"
   ],
   "metadata": {
    "collapsed": false,
    "pycharm": {
     "name": "#%%\n"
    }
   }
  },
  {
   "cell_type": "code",
   "execution_count": 9,
   "outputs": [
    {
     "data": {
      "text/plain": "((1460, 79), (1460,))"
     },
     "execution_count": 9,
     "metadata": {},
     "output_type": "execute_result"
    }
   ],
   "source": [
    "train_features.shape, target.shape"
   ],
   "metadata": {
    "collapsed": false,
    "pycharm": {
     "name": "#%%\n"
    }
   }
  },
  {
   "cell_type": "code",
   "execution_count": 10,
   "outputs": [],
   "source": [
    "cat = train_features.select_dtypes(include=object).columns\n",
    "num = train_features.select_dtypes(include=[int, float]).columns\n",
    "disc_cols = [*cat, 'mssubclass', 'overallqual', 'overallcond']"
   ],
   "metadata": {
    "collapsed": false,
    "pycharm": {
     "name": "#%%\n"
    }
   }
  },
  {
   "cell_type": "code",
   "execution_count": 11,
   "outputs": [
    {
     "data": {
      "text/plain": "      mssubclass  mszoning  lotfrontage  lotarea  street  alley  lotshape  \\\nId                                                                          \n1             60      1151         65.0     8450    1454   1369       925   \n2             20      1151         80.0     9600    1454   1369       925   \n3             60      1151         68.0    11250    1454   1369       484   \n4             70      1151         60.0     9550    1454   1369       484   \n5             60      1151         84.0    14260    1454   1369       484   \n...          ...       ...          ...      ...     ...    ...       ...   \n1456          60      1151         62.0     7917    1454   1369       925   \n1457          20      1151         85.0    13175    1454   1369       925   \n1458          70      1151         66.0     9042    1454   1369       925   \n1459          20      1151         68.0     9717    1454   1369       925   \n1460          20      1151         75.0     9937    1454   1369       925   \n\n      landcontour  utilities  lotconfig  ...  screenporch  poolarea  poolqc  \\\nId                                       ...                                  \n1            1311       1459       1052  ...            0         0      -1   \n2            1311       1459         47  ...            0         0      -1   \n3            1311       1459       1052  ...            0         0      -1   \n4            1311       1459        263  ...            0         0      -1   \n5            1311       1459         47  ...            0         0      -1   \n...           ...        ...        ...  ...          ...       ...     ...   \n1456         1311       1459       1052  ...            0         0      -1   \n1457         1311       1459       1052  ...            0         0      -1   \n1458         1311       1459       1052  ...            0         0      -1   \n1459         1311       1459       1052  ...            0         0      -1   \n1460         1311       1459       1052  ...            0         0      -1   \n\n      fence  miscfeature  miscval  mosold  yrsold  saletype  salecondition  \nId                                                                          \n1      1179         1406        0       2    2008      1267           1198  \n2      1179         1406        0       5    2007      1267           1198  \n3      1179         1406        0       9    2008      1267           1198  \n4      1179         1406        0       2    2006      1267            101  \n5      1179         1406        0      12    2008      1267           1198  \n...     ...          ...      ...     ...     ...       ...            ...  \n1456   1179         1406        0       8    2007      1267           1198  \n1457    157         1406        0       2    2010      1267           1198  \n1458     59           49     2500       5    2010      1267           1198  \n1459   1179         1406        0       4    2010      1267           1198  \n1460   1179         1406        0       6    2008      1267           1198  \n\n[1460 rows x 79 columns]",
      "text/html": "<div>\n<style scoped>\n    .dataframe tbody tr th:only-of-type {\n        vertical-align: middle;\n    }\n\n    .dataframe tbody tr th {\n        vertical-align: top;\n    }\n\n    .dataframe thead th {\n        text-align: right;\n    }\n</style>\n<table border=\"1\" class=\"dataframe\">\n  <thead>\n    <tr style=\"text-align: right;\">\n      <th></th>\n      <th>mssubclass</th>\n      <th>mszoning</th>\n      <th>lotfrontage</th>\n      <th>lotarea</th>\n      <th>street</th>\n      <th>alley</th>\n      <th>lotshape</th>\n      <th>landcontour</th>\n      <th>utilities</th>\n      <th>lotconfig</th>\n      <th>...</th>\n      <th>screenporch</th>\n      <th>poolarea</th>\n      <th>poolqc</th>\n      <th>fence</th>\n      <th>miscfeature</th>\n      <th>miscval</th>\n      <th>mosold</th>\n      <th>yrsold</th>\n      <th>saletype</th>\n      <th>salecondition</th>\n    </tr>\n    <tr>\n      <th>Id</th>\n      <th></th>\n      <th></th>\n      <th></th>\n      <th></th>\n      <th></th>\n      <th></th>\n      <th></th>\n      <th></th>\n      <th></th>\n      <th></th>\n      <th></th>\n      <th></th>\n      <th></th>\n      <th></th>\n      <th></th>\n      <th></th>\n      <th></th>\n      <th></th>\n      <th></th>\n      <th></th>\n      <th></th>\n    </tr>\n  </thead>\n  <tbody>\n    <tr>\n      <th>1</th>\n      <td>60</td>\n      <td>1151</td>\n      <td>65.0</td>\n      <td>8450</td>\n      <td>1454</td>\n      <td>1369</td>\n      <td>925</td>\n      <td>1311</td>\n      <td>1459</td>\n      <td>1052</td>\n      <td>...</td>\n      <td>0</td>\n      <td>0</td>\n      <td>-1</td>\n      <td>1179</td>\n      <td>1406</td>\n      <td>0</td>\n      <td>2</td>\n      <td>2008</td>\n      <td>1267</td>\n      <td>1198</td>\n    </tr>\n    <tr>\n      <th>2</th>\n      <td>20</td>\n      <td>1151</td>\n      <td>80.0</td>\n      <td>9600</td>\n      <td>1454</td>\n      <td>1369</td>\n      <td>925</td>\n      <td>1311</td>\n      <td>1459</td>\n      <td>47</td>\n      <td>...</td>\n      <td>0</td>\n      <td>0</td>\n      <td>-1</td>\n      <td>1179</td>\n      <td>1406</td>\n      <td>0</td>\n      <td>5</td>\n      <td>2007</td>\n      <td>1267</td>\n      <td>1198</td>\n    </tr>\n    <tr>\n      <th>3</th>\n      <td>60</td>\n      <td>1151</td>\n      <td>68.0</td>\n      <td>11250</td>\n      <td>1454</td>\n      <td>1369</td>\n      <td>484</td>\n      <td>1311</td>\n      <td>1459</td>\n      <td>1052</td>\n      <td>...</td>\n      <td>0</td>\n      <td>0</td>\n      <td>-1</td>\n      <td>1179</td>\n      <td>1406</td>\n      <td>0</td>\n      <td>9</td>\n      <td>2008</td>\n      <td>1267</td>\n      <td>1198</td>\n    </tr>\n    <tr>\n      <th>4</th>\n      <td>70</td>\n      <td>1151</td>\n      <td>60.0</td>\n      <td>9550</td>\n      <td>1454</td>\n      <td>1369</td>\n      <td>484</td>\n      <td>1311</td>\n      <td>1459</td>\n      <td>263</td>\n      <td>...</td>\n      <td>0</td>\n      <td>0</td>\n      <td>-1</td>\n      <td>1179</td>\n      <td>1406</td>\n      <td>0</td>\n      <td>2</td>\n      <td>2006</td>\n      <td>1267</td>\n      <td>101</td>\n    </tr>\n    <tr>\n      <th>5</th>\n      <td>60</td>\n      <td>1151</td>\n      <td>84.0</td>\n      <td>14260</td>\n      <td>1454</td>\n      <td>1369</td>\n      <td>484</td>\n      <td>1311</td>\n      <td>1459</td>\n      <td>47</td>\n      <td>...</td>\n      <td>0</td>\n      <td>0</td>\n      <td>-1</td>\n      <td>1179</td>\n      <td>1406</td>\n      <td>0</td>\n      <td>12</td>\n      <td>2008</td>\n      <td>1267</td>\n      <td>1198</td>\n    </tr>\n    <tr>\n      <th>...</th>\n      <td>...</td>\n      <td>...</td>\n      <td>...</td>\n      <td>...</td>\n      <td>...</td>\n      <td>...</td>\n      <td>...</td>\n      <td>...</td>\n      <td>...</td>\n      <td>...</td>\n      <td>...</td>\n      <td>...</td>\n      <td>...</td>\n      <td>...</td>\n      <td>...</td>\n      <td>...</td>\n      <td>...</td>\n      <td>...</td>\n      <td>...</td>\n      <td>...</td>\n      <td>...</td>\n    </tr>\n    <tr>\n      <th>1456</th>\n      <td>60</td>\n      <td>1151</td>\n      <td>62.0</td>\n      <td>7917</td>\n      <td>1454</td>\n      <td>1369</td>\n      <td>925</td>\n      <td>1311</td>\n      <td>1459</td>\n      <td>1052</td>\n      <td>...</td>\n      <td>0</td>\n      <td>0</td>\n      <td>-1</td>\n      <td>1179</td>\n      <td>1406</td>\n      <td>0</td>\n      <td>8</td>\n      <td>2007</td>\n      <td>1267</td>\n      <td>1198</td>\n    </tr>\n    <tr>\n      <th>1457</th>\n      <td>20</td>\n      <td>1151</td>\n      <td>85.0</td>\n      <td>13175</td>\n      <td>1454</td>\n      <td>1369</td>\n      <td>925</td>\n      <td>1311</td>\n      <td>1459</td>\n      <td>1052</td>\n      <td>...</td>\n      <td>0</td>\n      <td>0</td>\n      <td>-1</td>\n      <td>157</td>\n      <td>1406</td>\n      <td>0</td>\n      <td>2</td>\n      <td>2010</td>\n      <td>1267</td>\n      <td>1198</td>\n    </tr>\n    <tr>\n      <th>1458</th>\n      <td>70</td>\n      <td>1151</td>\n      <td>66.0</td>\n      <td>9042</td>\n      <td>1454</td>\n      <td>1369</td>\n      <td>925</td>\n      <td>1311</td>\n      <td>1459</td>\n      <td>1052</td>\n      <td>...</td>\n      <td>0</td>\n      <td>0</td>\n      <td>-1</td>\n      <td>59</td>\n      <td>49</td>\n      <td>2500</td>\n      <td>5</td>\n      <td>2010</td>\n      <td>1267</td>\n      <td>1198</td>\n    </tr>\n    <tr>\n      <th>1459</th>\n      <td>20</td>\n      <td>1151</td>\n      <td>68.0</td>\n      <td>9717</td>\n      <td>1454</td>\n      <td>1369</td>\n      <td>925</td>\n      <td>1311</td>\n      <td>1459</td>\n      <td>1052</td>\n      <td>...</td>\n      <td>0</td>\n      <td>0</td>\n      <td>-1</td>\n      <td>1179</td>\n      <td>1406</td>\n      <td>0</td>\n      <td>4</td>\n      <td>2010</td>\n      <td>1267</td>\n      <td>1198</td>\n    </tr>\n    <tr>\n      <th>1460</th>\n      <td>20</td>\n      <td>1151</td>\n      <td>75.0</td>\n      <td>9937</td>\n      <td>1454</td>\n      <td>1369</td>\n      <td>925</td>\n      <td>1311</td>\n      <td>1459</td>\n      <td>1052</td>\n      <td>...</td>\n      <td>0</td>\n      <td>0</td>\n      <td>-1</td>\n      <td>1179</td>\n      <td>1406</td>\n      <td>0</td>\n      <td>6</td>\n      <td>2008</td>\n      <td>1267</td>\n      <td>1198</td>\n    </tr>\n  </tbody>\n</table>\n<p>1460 rows × 79 columns</p>\n</div>"
     },
     "execution_count": 11,
     "metadata": {},
     "output_type": "execute_result"
    }
   ],
   "source": [
    "encode_ordinal_features(train_features)\n",
    "freq_encode_nominal_features(train_features)\n",
    "train_features"
   ],
   "metadata": {
    "collapsed": false,
    "pycharm": {
     "name": "#%%\n"
    }
   }
  },
  {
   "cell_type": "code",
   "execution_count": 12,
   "outputs": [
    {
     "data": {
      "text/plain": "      mssubclass  mszoning  lotfrontage  lotarea  street  alley  lotshape  \\\nId                                                                          \n1461          20        10         80.0    11622    1453   1352       934   \n1462          20      1114         81.0    14267    1453   1352       484   \n1463          60      1114         74.0    13830    1453   1352       484   \n1464          60      1114         78.0     9978    1453   1352       484   \n1465         120      1114         43.0     5005    1453   1352       484   \n...          ...       ...          ...      ...     ...    ...       ...   \n2915         160       242         21.0     1936    1453   1352       934   \n2916         160       242         21.0     1894    1453   1352       934   \n2917          20      1114        160.0    20000    1453   1352       934   \n2918          85      1114         62.0    10441    1453   1352       934   \n2919          60      1114         74.0     9627    1453   1352       934   \n\n      landcontour  utilities  lotconfig  ...  screenporch  poolarea  poolqc  \\\nId                                       ...                                  \n1461         1311       1457       1081  ...          120         0      -1   \n1462         1311       1457        248  ...            0         0      -1   \n1463         1311       1457       1081  ...            0         0      -1   \n1464         1311       1457       1081  ...            0         0      -1   \n1465           70       1457       1081  ...          144         0      -1   \n...           ...        ...        ...  ...          ...       ...     ...   \n2915         1311       1457       1081  ...            0         0      -1   \n2916         1311       1457       1081  ...            0         0      -1   \n2917         1311       1457       1081  ...            0         0      -1   \n2918         1311       1457       1081  ...            0         0      -1   \n2919         1311       1457       1081  ...            0         0      -1   \n\n      fence  miscfeature  miscval  mosold  yrsold  saletype  salecondition  \nId                                                                          \n1461    172         1408        0       6    2010      1258           1204  \n1462   1169            3    12500       6    2010      1258           1204  \n1463    172         1408        0       3    2010      1258           1204  \n1464   1169         1408        0       6    2010      1258           1204  \n1465   1169         1408        0       1    2010      1258           1204  \n...     ...          ...      ...     ...     ...       ...            ...  \n2915   1169         1408        0       6    2006      1258           1204  \n2916   1169         1408        0       4    2006      1258             89  \n2917   1169         1408        0       9    2006      1258             89  \n2918    172           46      700       7    2006      1258           1204  \n2919   1169         1408        0      11    2006      1258           1204  \n\n[1459 rows x 79 columns]",
      "text/html": "<div>\n<style scoped>\n    .dataframe tbody tr th:only-of-type {\n        vertical-align: middle;\n    }\n\n    .dataframe tbody tr th {\n        vertical-align: top;\n    }\n\n    .dataframe thead th {\n        text-align: right;\n    }\n</style>\n<table border=\"1\" class=\"dataframe\">\n  <thead>\n    <tr style=\"text-align: right;\">\n      <th></th>\n      <th>mssubclass</th>\n      <th>mszoning</th>\n      <th>lotfrontage</th>\n      <th>lotarea</th>\n      <th>street</th>\n      <th>alley</th>\n      <th>lotshape</th>\n      <th>landcontour</th>\n      <th>utilities</th>\n      <th>lotconfig</th>\n      <th>...</th>\n      <th>screenporch</th>\n      <th>poolarea</th>\n      <th>poolqc</th>\n      <th>fence</th>\n      <th>miscfeature</th>\n      <th>miscval</th>\n      <th>mosold</th>\n      <th>yrsold</th>\n      <th>saletype</th>\n      <th>salecondition</th>\n    </tr>\n    <tr>\n      <th>Id</th>\n      <th></th>\n      <th></th>\n      <th></th>\n      <th></th>\n      <th></th>\n      <th></th>\n      <th></th>\n      <th></th>\n      <th></th>\n      <th></th>\n      <th></th>\n      <th></th>\n      <th></th>\n      <th></th>\n      <th></th>\n      <th></th>\n      <th></th>\n      <th></th>\n      <th></th>\n      <th></th>\n      <th></th>\n    </tr>\n  </thead>\n  <tbody>\n    <tr>\n      <th>1461</th>\n      <td>20</td>\n      <td>10</td>\n      <td>80.0</td>\n      <td>11622</td>\n      <td>1453</td>\n      <td>1352</td>\n      <td>934</td>\n      <td>1311</td>\n      <td>1457</td>\n      <td>1081</td>\n      <td>...</td>\n      <td>120</td>\n      <td>0</td>\n      <td>-1</td>\n      <td>172</td>\n      <td>1408</td>\n      <td>0</td>\n      <td>6</td>\n      <td>2010</td>\n      <td>1258</td>\n      <td>1204</td>\n    </tr>\n    <tr>\n      <th>1462</th>\n      <td>20</td>\n      <td>1114</td>\n      <td>81.0</td>\n      <td>14267</td>\n      <td>1453</td>\n      <td>1352</td>\n      <td>484</td>\n      <td>1311</td>\n      <td>1457</td>\n      <td>248</td>\n      <td>...</td>\n      <td>0</td>\n      <td>0</td>\n      <td>-1</td>\n      <td>1169</td>\n      <td>3</td>\n      <td>12500</td>\n      <td>6</td>\n      <td>2010</td>\n      <td>1258</td>\n      <td>1204</td>\n    </tr>\n    <tr>\n      <th>1463</th>\n      <td>60</td>\n      <td>1114</td>\n      <td>74.0</td>\n      <td>13830</td>\n      <td>1453</td>\n      <td>1352</td>\n      <td>484</td>\n      <td>1311</td>\n      <td>1457</td>\n      <td>1081</td>\n      <td>...</td>\n      <td>0</td>\n      <td>0</td>\n      <td>-1</td>\n      <td>172</td>\n      <td>1408</td>\n      <td>0</td>\n      <td>3</td>\n      <td>2010</td>\n      <td>1258</td>\n      <td>1204</td>\n    </tr>\n    <tr>\n      <th>1464</th>\n      <td>60</td>\n      <td>1114</td>\n      <td>78.0</td>\n      <td>9978</td>\n      <td>1453</td>\n      <td>1352</td>\n      <td>484</td>\n      <td>1311</td>\n      <td>1457</td>\n      <td>1081</td>\n      <td>...</td>\n      <td>0</td>\n      <td>0</td>\n      <td>-1</td>\n      <td>1169</td>\n      <td>1408</td>\n      <td>0</td>\n      <td>6</td>\n      <td>2010</td>\n      <td>1258</td>\n      <td>1204</td>\n    </tr>\n    <tr>\n      <th>1465</th>\n      <td>120</td>\n      <td>1114</td>\n      <td>43.0</td>\n      <td>5005</td>\n      <td>1453</td>\n      <td>1352</td>\n      <td>484</td>\n      <td>70</td>\n      <td>1457</td>\n      <td>1081</td>\n      <td>...</td>\n      <td>144</td>\n      <td>0</td>\n      <td>-1</td>\n      <td>1169</td>\n      <td>1408</td>\n      <td>0</td>\n      <td>1</td>\n      <td>2010</td>\n      <td>1258</td>\n      <td>1204</td>\n    </tr>\n    <tr>\n      <th>...</th>\n      <td>...</td>\n      <td>...</td>\n      <td>...</td>\n      <td>...</td>\n      <td>...</td>\n      <td>...</td>\n      <td>...</td>\n      <td>...</td>\n      <td>...</td>\n      <td>...</td>\n      <td>...</td>\n      <td>...</td>\n      <td>...</td>\n      <td>...</td>\n      <td>...</td>\n      <td>...</td>\n      <td>...</td>\n      <td>...</td>\n      <td>...</td>\n      <td>...</td>\n      <td>...</td>\n    </tr>\n    <tr>\n      <th>2915</th>\n      <td>160</td>\n      <td>242</td>\n      <td>21.0</td>\n      <td>1936</td>\n      <td>1453</td>\n      <td>1352</td>\n      <td>934</td>\n      <td>1311</td>\n      <td>1457</td>\n      <td>1081</td>\n      <td>...</td>\n      <td>0</td>\n      <td>0</td>\n      <td>-1</td>\n      <td>1169</td>\n      <td>1408</td>\n      <td>0</td>\n      <td>6</td>\n      <td>2006</td>\n      <td>1258</td>\n      <td>1204</td>\n    </tr>\n    <tr>\n      <th>2916</th>\n      <td>160</td>\n      <td>242</td>\n      <td>21.0</td>\n      <td>1894</td>\n      <td>1453</td>\n      <td>1352</td>\n      <td>934</td>\n      <td>1311</td>\n      <td>1457</td>\n      <td>1081</td>\n      <td>...</td>\n      <td>0</td>\n      <td>0</td>\n      <td>-1</td>\n      <td>1169</td>\n      <td>1408</td>\n      <td>0</td>\n      <td>4</td>\n      <td>2006</td>\n      <td>1258</td>\n      <td>89</td>\n    </tr>\n    <tr>\n      <th>2917</th>\n      <td>20</td>\n      <td>1114</td>\n      <td>160.0</td>\n      <td>20000</td>\n      <td>1453</td>\n      <td>1352</td>\n      <td>934</td>\n      <td>1311</td>\n      <td>1457</td>\n      <td>1081</td>\n      <td>...</td>\n      <td>0</td>\n      <td>0</td>\n      <td>-1</td>\n      <td>1169</td>\n      <td>1408</td>\n      <td>0</td>\n      <td>9</td>\n      <td>2006</td>\n      <td>1258</td>\n      <td>89</td>\n    </tr>\n    <tr>\n      <th>2918</th>\n      <td>85</td>\n      <td>1114</td>\n      <td>62.0</td>\n      <td>10441</td>\n      <td>1453</td>\n      <td>1352</td>\n      <td>934</td>\n      <td>1311</td>\n      <td>1457</td>\n      <td>1081</td>\n      <td>...</td>\n      <td>0</td>\n      <td>0</td>\n      <td>-1</td>\n      <td>172</td>\n      <td>46</td>\n      <td>700</td>\n      <td>7</td>\n      <td>2006</td>\n      <td>1258</td>\n      <td>1204</td>\n    </tr>\n    <tr>\n      <th>2919</th>\n      <td>60</td>\n      <td>1114</td>\n      <td>74.0</td>\n      <td>9627</td>\n      <td>1453</td>\n      <td>1352</td>\n      <td>934</td>\n      <td>1311</td>\n      <td>1457</td>\n      <td>1081</td>\n      <td>...</td>\n      <td>0</td>\n      <td>0</td>\n      <td>-1</td>\n      <td>1169</td>\n      <td>1408</td>\n      <td>0</td>\n      <td>11</td>\n      <td>2006</td>\n      <td>1258</td>\n      <td>1204</td>\n    </tr>\n  </tbody>\n</table>\n<p>1459 rows × 79 columns</p>\n</div>"
     },
     "execution_count": 12,
     "metadata": {},
     "output_type": "execute_result"
    }
   ],
   "source": [
    "encode_ordinal_features(test_features)\n",
    "freq_encode_nominal_features(test_features)\n",
    "test_features"
   ],
   "metadata": {
    "collapsed": false,
    "pycharm": {
     "name": "#%%\n"
    }
   }
  },
  {
   "cell_type": "code",
   "execution_count": 13,
   "outputs": [
    {
     "data": {
      "text/plain": "      mssubclass  lotfrontage  lotarea  overallqual  overallcond  yearbuilt  \\\nId                                                                            \n1             60         65.0     8450            7            5       2003   \n2             20         80.0     9600            6            8       1976   \n3             60         68.0    11250            7            5       2001   \n4             70         60.0     9550            7            5       1915   \n5             60         84.0    14260            8            5       2000   \n...          ...          ...      ...          ...          ...        ...   \n1456          60         62.0     7917            6            5       1999   \n1457          20         85.0    13175            6            6       1978   \n1458          70         66.0     9042            7            9       1941   \n1459          20         68.0     9717            5            6       1950   \n1460          20         75.0     9937            5            6       1965   \n\n      yearremodadd  masvnrarea  bsmtfinsf1  bsmtfinsf2  ...  garagearea  \\\nId                                                      ...               \n1             2003       196.0         706           0  ...         548   \n2             1976         0.0         978           0  ...         460   \n3             2002       162.0         486           0  ...         608   \n4             1970         0.0         216           0  ...         642   \n5             2000       350.0         655           0  ...         836   \n...            ...         ...         ...         ...  ...         ...   \n1456          2000         0.0           0           0  ...         460   \n1457          1988       119.0         790         163  ...         500   \n1458          2006         0.0         275           0  ...         252   \n1459          1996         0.0          49        1029  ...         240   \n1460          1965         0.0         830         290  ...         276   \n\n      wooddecksf  openporchsf  enclosedporch  3ssnporch  screenporch  \\\nId                                                                     \n1              0           61              0          0            0   \n2            298            0              0          0            0   \n3              0           42              0          0            0   \n4              0           35            272          0            0   \n5            192           84              0          0            0   \n...          ...          ...            ...        ...          ...   \n1456           0           40              0          0            0   \n1457         349            0              0          0            0   \n1458           0           60              0          0            0   \n1459         366            0            112          0            0   \n1460         736           68              0          0            0   \n\n      poolarea  miscval  mosold  yrsold  \nId                                       \n1            0        0       2    2008  \n2            0        0       5    2007  \n3            0        0       9    2008  \n4            0        0       2    2006  \n5            0        0      12    2008  \n...        ...      ...     ...     ...  \n1456         0        0       8    2007  \n1457         0        0       2    2010  \n1458         0     2500       5    2010  \n1459         0        0       4    2010  \n1460         0        0       6    2008  \n\n[1460 rows x 36 columns]",
      "text/html": "<div>\n<style scoped>\n    .dataframe tbody tr th:only-of-type {\n        vertical-align: middle;\n    }\n\n    .dataframe tbody tr th {\n        vertical-align: top;\n    }\n\n    .dataframe thead th {\n        text-align: right;\n    }\n</style>\n<table border=\"1\" class=\"dataframe\">\n  <thead>\n    <tr style=\"text-align: right;\">\n      <th></th>\n      <th>mssubclass</th>\n      <th>lotfrontage</th>\n      <th>lotarea</th>\n      <th>overallqual</th>\n      <th>overallcond</th>\n      <th>yearbuilt</th>\n      <th>yearremodadd</th>\n      <th>masvnrarea</th>\n      <th>bsmtfinsf1</th>\n      <th>bsmtfinsf2</th>\n      <th>...</th>\n      <th>garagearea</th>\n      <th>wooddecksf</th>\n      <th>openporchsf</th>\n      <th>enclosedporch</th>\n      <th>3ssnporch</th>\n      <th>screenporch</th>\n      <th>poolarea</th>\n      <th>miscval</th>\n      <th>mosold</th>\n      <th>yrsold</th>\n    </tr>\n    <tr>\n      <th>Id</th>\n      <th></th>\n      <th></th>\n      <th></th>\n      <th></th>\n      <th></th>\n      <th></th>\n      <th></th>\n      <th></th>\n      <th></th>\n      <th></th>\n      <th></th>\n      <th></th>\n      <th></th>\n      <th></th>\n      <th></th>\n      <th></th>\n      <th></th>\n      <th></th>\n      <th></th>\n      <th></th>\n      <th></th>\n    </tr>\n  </thead>\n  <tbody>\n    <tr>\n      <th>1</th>\n      <td>60</td>\n      <td>65.0</td>\n      <td>8450</td>\n      <td>7</td>\n      <td>5</td>\n      <td>2003</td>\n      <td>2003</td>\n      <td>196.0</td>\n      <td>706</td>\n      <td>0</td>\n      <td>...</td>\n      <td>548</td>\n      <td>0</td>\n      <td>61</td>\n      <td>0</td>\n      <td>0</td>\n      <td>0</td>\n      <td>0</td>\n      <td>0</td>\n      <td>2</td>\n      <td>2008</td>\n    </tr>\n    <tr>\n      <th>2</th>\n      <td>20</td>\n      <td>80.0</td>\n      <td>9600</td>\n      <td>6</td>\n      <td>8</td>\n      <td>1976</td>\n      <td>1976</td>\n      <td>0.0</td>\n      <td>978</td>\n      <td>0</td>\n      <td>...</td>\n      <td>460</td>\n      <td>298</td>\n      <td>0</td>\n      <td>0</td>\n      <td>0</td>\n      <td>0</td>\n      <td>0</td>\n      <td>0</td>\n      <td>5</td>\n      <td>2007</td>\n    </tr>\n    <tr>\n      <th>3</th>\n      <td>60</td>\n      <td>68.0</td>\n      <td>11250</td>\n      <td>7</td>\n      <td>5</td>\n      <td>2001</td>\n      <td>2002</td>\n      <td>162.0</td>\n      <td>486</td>\n      <td>0</td>\n      <td>...</td>\n      <td>608</td>\n      <td>0</td>\n      <td>42</td>\n      <td>0</td>\n      <td>0</td>\n      <td>0</td>\n      <td>0</td>\n      <td>0</td>\n      <td>9</td>\n      <td>2008</td>\n    </tr>\n    <tr>\n      <th>4</th>\n      <td>70</td>\n      <td>60.0</td>\n      <td>9550</td>\n      <td>7</td>\n      <td>5</td>\n      <td>1915</td>\n      <td>1970</td>\n      <td>0.0</td>\n      <td>216</td>\n      <td>0</td>\n      <td>...</td>\n      <td>642</td>\n      <td>0</td>\n      <td>35</td>\n      <td>272</td>\n      <td>0</td>\n      <td>0</td>\n      <td>0</td>\n      <td>0</td>\n      <td>2</td>\n      <td>2006</td>\n    </tr>\n    <tr>\n      <th>5</th>\n      <td>60</td>\n      <td>84.0</td>\n      <td>14260</td>\n      <td>8</td>\n      <td>5</td>\n      <td>2000</td>\n      <td>2000</td>\n      <td>350.0</td>\n      <td>655</td>\n      <td>0</td>\n      <td>...</td>\n      <td>836</td>\n      <td>192</td>\n      <td>84</td>\n      <td>0</td>\n      <td>0</td>\n      <td>0</td>\n      <td>0</td>\n      <td>0</td>\n      <td>12</td>\n      <td>2008</td>\n    </tr>\n    <tr>\n      <th>...</th>\n      <td>...</td>\n      <td>...</td>\n      <td>...</td>\n      <td>...</td>\n      <td>...</td>\n      <td>...</td>\n      <td>...</td>\n      <td>...</td>\n      <td>...</td>\n      <td>...</td>\n      <td>...</td>\n      <td>...</td>\n      <td>...</td>\n      <td>...</td>\n      <td>...</td>\n      <td>...</td>\n      <td>...</td>\n      <td>...</td>\n      <td>...</td>\n      <td>...</td>\n      <td>...</td>\n    </tr>\n    <tr>\n      <th>1456</th>\n      <td>60</td>\n      <td>62.0</td>\n      <td>7917</td>\n      <td>6</td>\n      <td>5</td>\n      <td>1999</td>\n      <td>2000</td>\n      <td>0.0</td>\n      <td>0</td>\n      <td>0</td>\n      <td>...</td>\n      <td>460</td>\n      <td>0</td>\n      <td>40</td>\n      <td>0</td>\n      <td>0</td>\n      <td>0</td>\n      <td>0</td>\n      <td>0</td>\n      <td>8</td>\n      <td>2007</td>\n    </tr>\n    <tr>\n      <th>1457</th>\n      <td>20</td>\n      <td>85.0</td>\n      <td>13175</td>\n      <td>6</td>\n      <td>6</td>\n      <td>1978</td>\n      <td>1988</td>\n      <td>119.0</td>\n      <td>790</td>\n      <td>163</td>\n      <td>...</td>\n      <td>500</td>\n      <td>349</td>\n      <td>0</td>\n      <td>0</td>\n      <td>0</td>\n      <td>0</td>\n      <td>0</td>\n      <td>0</td>\n      <td>2</td>\n      <td>2010</td>\n    </tr>\n    <tr>\n      <th>1458</th>\n      <td>70</td>\n      <td>66.0</td>\n      <td>9042</td>\n      <td>7</td>\n      <td>9</td>\n      <td>1941</td>\n      <td>2006</td>\n      <td>0.0</td>\n      <td>275</td>\n      <td>0</td>\n      <td>...</td>\n      <td>252</td>\n      <td>0</td>\n      <td>60</td>\n      <td>0</td>\n      <td>0</td>\n      <td>0</td>\n      <td>0</td>\n      <td>2500</td>\n      <td>5</td>\n      <td>2010</td>\n    </tr>\n    <tr>\n      <th>1459</th>\n      <td>20</td>\n      <td>68.0</td>\n      <td>9717</td>\n      <td>5</td>\n      <td>6</td>\n      <td>1950</td>\n      <td>1996</td>\n      <td>0.0</td>\n      <td>49</td>\n      <td>1029</td>\n      <td>...</td>\n      <td>240</td>\n      <td>366</td>\n      <td>0</td>\n      <td>112</td>\n      <td>0</td>\n      <td>0</td>\n      <td>0</td>\n      <td>0</td>\n      <td>4</td>\n      <td>2010</td>\n    </tr>\n    <tr>\n      <th>1460</th>\n      <td>20</td>\n      <td>75.0</td>\n      <td>9937</td>\n      <td>5</td>\n      <td>6</td>\n      <td>1965</td>\n      <td>1965</td>\n      <td>0.0</td>\n      <td>830</td>\n      <td>290</td>\n      <td>...</td>\n      <td>276</td>\n      <td>736</td>\n      <td>68</td>\n      <td>0</td>\n      <td>0</td>\n      <td>0</td>\n      <td>0</td>\n      <td>0</td>\n      <td>6</td>\n      <td>2008</td>\n    </tr>\n  </tbody>\n</table>\n<p>1460 rows × 36 columns</p>\n</div>"
     },
     "execution_count": 13,
     "metadata": {},
     "output_type": "execute_result"
    }
   ],
   "source": [
    "train_features[num]"
   ],
   "metadata": {
    "collapsed": false,
    "pycharm": {
     "name": "#%%\n"
    }
   }
  },
  {
   "cell_type": "code",
   "execution_count": 14,
   "outputs": [
    {
     "data": {
      "text/plain": "      mssubclass  mszoning  lotfrontage     lotarea  street  alley  lotshape  \\\nId                                                                             \n1             60      1151         65.0   91.923882    1454   1369       925   \n2             20      1151         80.0   97.979590    1454   1369       925   \n3             60      1151         68.0  106.066017    1454   1369       484   \n4             70      1151         60.0   97.724101    1454   1369       484   \n5             60      1151         84.0  119.415242    1454   1369       484   \n...          ...       ...          ...         ...     ...    ...       ...   \n1456          60      1151         62.0   88.977525    1454   1369       925   \n1457          20      1151         85.0  114.782403    1454   1369       925   \n1458          70      1151         66.0   95.089432    1454   1369       925   \n1459          20      1151         68.0   98.574845    1454   1369       925   \n1460          20      1151         75.0   99.684502    1454   1369       925   \n\n      landcontour  utilities  lotconfig  ...  drivfeat1  drivfeat2  drivfeat3  \\\nId                                       ...                                    \n1            1311       1459       1052  ...         35         12         12   \n2            1311       1459         47  ...         48         12          9   \n3            1311       1459       1052  ...         35         12         12   \n4            1311       1459        263  ...         35         12          9   \n5            1311       1459         47  ...         40         12         12   \n...           ...        ...        ...  ...        ...        ...        ...   \n1456         1311       1459       1052  ...         30         12          9   \n1457         1311       1459       1052  ...         36         12          9   \n1458         1311       1459       1052  ...         63         12         20   \n1459         1311       1459       1052  ...         30          9          9   \n1460         1311       1459       1052  ...         30          9         12   \n\n      drivfeat4   drivfeat5   drivfeat6    pcafeat1  pcafeat2  pcafeat3  \\\nId                                                                        \n1            61  259.008989  524.587356    0.000000         0    259560   \n2           298    1.084862  524.587356    0.000000         3     47080   \n3            42  259.008989  524.587356    0.000000         3    259560   \n4           307    1.084862  426.857881    0.000000         4      7828   \n5           276  259.008989  524.587356    0.000000         3    259560   \n...         ...         ...         ...         ...       ...       ...   \n1456         40    1.084862  524.587356    0.000000         3    259560   \n1457        349  239.304688  524.587356  392.462963         6     15336   \n1458         60    1.084862  524.587356    0.000000         8      3660   \n1459        478    1.084862  524.587356  392.462963         0     47080   \n1460        804    1.084862  524.587356  310.739130         0     45954   \n\n      pcafeat4  \nId              \n1       6009.0  \n2       5928.0  \n3       6003.0  \n4       5994.0  \n5       6000.0  \n...        ...  \n1456    5997.0  \n1457    5934.0  \n1458    5823.0  \n1459    5850.0  \n1460    5895.0  \n\n[1460 rows x 96 columns]",
      "text/html": "<div>\n<style scoped>\n    .dataframe tbody tr th:only-of-type {\n        vertical-align: middle;\n    }\n\n    .dataframe tbody tr th {\n        vertical-align: top;\n    }\n\n    .dataframe thead th {\n        text-align: right;\n    }\n</style>\n<table border=\"1\" class=\"dataframe\">\n  <thead>\n    <tr style=\"text-align: right;\">\n      <th></th>\n      <th>mssubclass</th>\n      <th>mszoning</th>\n      <th>lotfrontage</th>\n      <th>lotarea</th>\n      <th>street</th>\n      <th>alley</th>\n      <th>lotshape</th>\n      <th>landcontour</th>\n      <th>utilities</th>\n      <th>lotconfig</th>\n      <th>...</th>\n      <th>drivfeat1</th>\n      <th>drivfeat2</th>\n      <th>drivfeat3</th>\n      <th>drivfeat4</th>\n      <th>drivfeat5</th>\n      <th>drivfeat6</th>\n      <th>pcafeat1</th>\n      <th>pcafeat2</th>\n      <th>pcafeat3</th>\n      <th>pcafeat4</th>\n    </tr>\n    <tr>\n      <th>Id</th>\n      <th></th>\n      <th></th>\n      <th></th>\n      <th></th>\n      <th></th>\n      <th></th>\n      <th></th>\n      <th></th>\n      <th></th>\n      <th></th>\n      <th></th>\n      <th></th>\n      <th></th>\n      <th></th>\n      <th></th>\n      <th></th>\n      <th></th>\n      <th></th>\n      <th></th>\n      <th></th>\n      <th></th>\n    </tr>\n  </thead>\n  <tbody>\n    <tr>\n      <th>1</th>\n      <td>60</td>\n      <td>1151</td>\n      <td>65.0</td>\n      <td>91.923882</td>\n      <td>1454</td>\n      <td>1369</td>\n      <td>925</td>\n      <td>1311</td>\n      <td>1459</td>\n      <td>1052</td>\n      <td>...</td>\n      <td>35</td>\n      <td>12</td>\n      <td>12</td>\n      <td>61</td>\n      <td>259.008989</td>\n      <td>524.587356</td>\n      <td>0.000000</td>\n      <td>0</td>\n      <td>259560</td>\n      <td>6009.0</td>\n    </tr>\n    <tr>\n      <th>2</th>\n      <td>20</td>\n      <td>1151</td>\n      <td>80.0</td>\n      <td>97.979590</td>\n      <td>1454</td>\n      <td>1369</td>\n      <td>925</td>\n      <td>1311</td>\n      <td>1459</td>\n      <td>47</td>\n      <td>...</td>\n      <td>48</td>\n      <td>12</td>\n      <td>9</td>\n      <td>298</td>\n      <td>1.084862</td>\n      <td>524.587356</td>\n      <td>0.000000</td>\n      <td>3</td>\n      <td>47080</td>\n      <td>5928.0</td>\n    </tr>\n    <tr>\n      <th>3</th>\n      <td>60</td>\n      <td>1151</td>\n      <td>68.0</td>\n      <td>106.066017</td>\n      <td>1454</td>\n      <td>1369</td>\n      <td>484</td>\n      <td>1311</td>\n      <td>1459</td>\n      <td>1052</td>\n      <td>...</td>\n      <td>35</td>\n      <td>12</td>\n      <td>12</td>\n      <td>42</td>\n      <td>259.008989</td>\n      <td>524.587356</td>\n      <td>0.000000</td>\n      <td>3</td>\n      <td>259560</td>\n      <td>6003.0</td>\n    </tr>\n    <tr>\n      <th>4</th>\n      <td>70</td>\n      <td>1151</td>\n      <td>60.0</td>\n      <td>97.724101</td>\n      <td>1454</td>\n      <td>1369</td>\n      <td>484</td>\n      <td>1311</td>\n      <td>1459</td>\n      <td>263</td>\n      <td>...</td>\n      <td>35</td>\n      <td>12</td>\n      <td>9</td>\n      <td>307</td>\n      <td>1.084862</td>\n      <td>426.857881</td>\n      <td>0.000000</td>\n      <td>4</td>\n      <td>7828</td>\n      <td>5994.0</td>\n    </tr>\n    <tr>\n      <th>5</th>\n      <td>60</td>\n      <td>1151</td>\n      <td>84.0</td>\n      <td>119.415242</td>\n      <td>1454</td>\n      <td>1369</td>\n      <td>484</td>\n      <td>1311</td>\n      <td>1459</td>\n      <td>47</td>\n      <td>...</td>\n      <td>40</td>\n      <td>12</td>\n      <td>12</td>\n      <td>276</td>\n      <td>259.008989</td>\n      <td>524.587356</td>\n      <td>0.000000</td>\n      <td>3</td>\n      <td>259560</td>\n      <td>6000.0</td>\n    </tr>\n    <tr>\n      <th>...</th>\n      <td>...</td>\n      <td>...</td>\n      <td>...</td>\n      <td>...</td>\n      <td>...</td>\n      <td>...</td>\n      <td>...</td>\n      <td>...</td>\n      <td>...</td>\n      <td>...</td>\n      <td>...</td>\n      <td>...</td>\n      <td>...</td>\n      <td>...</td>\n      <td>...</td>\n      <td>...</td>\n      <td>...</td>\n      <td>...</td>\n      <td>...</td>\n      <td>...</td>\n      <td>...</td>\n    </tr>\n    <tr>\n      <th>1456</th>\n      <td>60</td>\n      <td>1151</td>\n      <td>62.0</td>\n      <td>88.977525</td>\n      <td>1454</td>\n      <td>1369</td>\n      <td>925</td>\n      <td>1311</td>\n      <td>1459</td>\n      <td>1052</td>\n      <td>...</td>\n      <td>30</td>\n      <td>12</td>\n      <td>9</td>\n      <td>40</td>\n      <td>1.084862</td>\n      <td>524.587356</td>\n      <td>0.000000</td>\n      <td>3</td>\n      <td>259560</td>\n      <td>5997.0</td>\n    </tr>\n    <tr>\n      <th>1457</th>\n      <td>20</td>\n      <td>1151</td>\n      <td>85.0</td>\n      <td>114.782403</td>\n      <td>1454</td>\n      <td>1369</td>\n      <td>925</td>\n      <td>1311</td>\n      <td>1459</td>\n      <td>1052</td>\n      <td>...</td>\n      <td>36</td>\n      <td>12</td>\n      <td>9</td>\n      <td>349</td>\n      <td>239.304688</td>\n      <td>524.587356</td>\n      <td>392.462963</td>\n      <td>6</td>\n      <td>15336</td>\n      <td>5934.0</td>\n    </tr>\n    <tr>\n      <th>1458</th>\n      <td>70</td>\n      <td>1151</td>\n      <td>66.0</td>\n      <td>95.089432</td>\n      <td>1454</td>\n      <td>1369</td>\n      <td>925</td>\n      <td>1311</td>\n      <td>1459</td>\n      <td>1052</td>\n      <td>...</td>\n      <td>63</td>\n      <td>12</td>\n      <td>20</td>\n      <td>60</td>\n      <td>1.084862</td>\n      <td>524.587356</td>\n      <td>0.000000</td>\n      <td>8</td>\n      <td>3660</td>\n      <td>5823.0</td>\n    </tr>\n    <tr>\n      <th>1459</th>\n      <td>20</td>\n      <td>1151</td>\n      <td>68.0</td>\n      <td>98.574845</td>\n      <td>1454</td>\n      <td>1369</td>\n      <td>925</td>\n      <td>1311</td>\n      <td>1459</td>\n      <td>1052</td>\n      <td>...</td>\n      <td>30</td>\n      <td>9</td>\n      <td>9</td>\n      <td>478</td>\n      <td>1.084862</td>\n      <td>524.587356</td>\n      <td>392.462963</td>\n      <td>0</td>\n      <td>47080</td>\n      <td>5850.0</td>\n    </tr>\n    <tr>\n      <th>1460</th>\n      <td>20</td>\n      <td>1151</td>\n      <td>75.0</td>\n      <td>99.684502</td>\n      <td>1454</td>\n      <td>1369</td>\n      <td>925</td>\n      <td>1311</td>\n      <td>1459</td>\n      <td>1052</td>\n      <td>...</td>\n      <td>30</td>\n      <td>9</td>\n      <td>12</td>\n      <td>804</td>\n      <td>1.084862</td>\n      <td>524.587356</td>\n      <td>310.739130</td>\n      <td>0</td>\n      <td>45954</td>\n      <td>5895.0</td>\n    </tr>\n  </tbody>\n</table>\n<p>1460 rows × 96 columns</p>\n</div>"
     },
     "execution_count": 14,
     "metadata": {},
     "output_type": "execute_result"
    }
   ],
   "source": [
    "derived_features(train_features)\n",
    "train_features"
   ],
   "metadata": {
    "collapsed": false,
    "pycharm": {
     "name": "#%%\n"
    }
   }
  },
  {
   "cell_type": "code",
   "execution_count": 15,
   "outputs": [
    {
     "data": {
      "text/plain": "      mssubclass  mszoning  lotfrontage     lotarea  street  alley  lotshape  \\\nId                                                                             \n1461          20        10         80.0  107.805380    1453   1352       934   \n1462          20      1114         81.0  119.444548    1453   1352       484   \n1463          60      1114         74.0  117.601020    1453   1352       484   \n1464          60      1114         78.0   99.889939    1453   1352       484   \n1465         120      1114         43.0   70.746025    1453   1352       484   \n...          ...       ...          ...         ...     ...    ...       ...   \n2915         160       242         21.0   44.000000    1453   1352       934   \n2916         160       242         21.0   43.520110    1453   1352       934   \n2917          20      1114        160.0  141.421356    1453   1352       934   \n2918          85      1114         62.0  102.181212    1453   1352       934   \n2919          60      1114         74.0   98.117277    1453   1352       934   \n\n      landcontour  utilities  lotconfig  ...  drivfeat1  drivfeat2  drivfeat3  \\\nId                                       ...                                    \n1461         1311       1457       1081  ...         30          9          9   \n1462         1311       1457        248  ...         36          9          9   \n1463         1311       1457       1081  ...         25         12          9   \n1464         1311       1457       1081  ...         36          9          9   \n1465           70       1457       1081  ...         40         12         12   \n...           ...        ...        ...  ...        ...        ...        ...   \n2915         1311       1457       1081  ...         28          9          9   \n2916         1311       1457       1081  ...         20          9          9   \n2917         1311       1457       1081  ...         35          9          9   \n2918         1311       1457       1081  ...         25         12          9   \n2919         1311       1457       1081  ...         35         12          9   \n\n      drivfeat4   drivfeat5   drivfeat6    pcafeat1  pcafeat2  pcafeat3  \\\nId                                                                        \n1461        260    0.541387  527.256741  315.268293         0    260100   \n1462        429  264.403226  527.256741    0.004850         0     39770   \n1463        246    0.541387  527.256741    0.004850         3    260100   \n1464        396  264.403226  527.256741    0.004850         4    260100   \n1465        226    0.541387  527.256741    0.004850         0     43780   \n...         ...         ...         ...         ...       ...       ...   \n2915          0    0.541387    0.000000    0.004850         0      4290   \n2916         24    0.541387  353.833333    0.004850         0      4290   \n2917        474    0.541387  411.150510    0.004850         3    260100   \n2918        112    0.541387    0.000000    0.004850         0      9460   \n2919        238  264.403226  527.256741    0.004850         3     43780   \n\n      pcafeat4  \nId              \n1461    5883.0  \n1462    5874.0  \n1463    5991.0  \n1464    5994.0  \n1465    5976.0  \n...        ...  \n2915       1.0  \n2916    5910.0  \n2917    5880.0  \n2918       1.0  \n2919    5979.0  \n\n[1459 rows x 96 columns]",
      "text/html": "<div>\n<style scoped>\n    .dataframe tbody tr th:only-of-type {\n        vertical-align: middle;\n    }\n\n    .dataframe tbody tr th {\n        vertical-align: top;\n    }\n\n    .dataframe thead th {\n        text-align: right;\n    }\n</style>\n<table border=\"1\" class=\"dataframe\">\n  <thead>\n    <tr style=\"text-align: right;\">\n      <th></th>\n      <th>mssubclass</th>\n      <th>mszoning</th>\n      <th>lotfrontage</th>\n      <th>lotarea</th>\n      <th>street</th>\n      <th>alley</th>\n      <th>lotshape</th>\n      <th>landcontour</th>\n      <th>utilities</th>\n      <th>lotconfig</th>\n      <th>...</th>\n      <th>drivfeat1</th>\n      <th>drivfeat2</th>\n      <th>drivfeat3</th>\n      <th>drivfeat4</th>\n      <th>drivfeat5</th>\n      <th>drivfeat6</th>\n      <th>pcafeat1</th>\n      <th>pcafeat2</th>\n      <th>pcafeat3</th>\n      <th>pcafeat4</th>\n    </tr>\n    <tr>\n      <th>Id</th>\n      <th></th>\n      <th></th>\n      <th></th>\n      <th></th>\n      <th></th>\n      <th></th>\n      <th></th>\n      <th></th>\n      <th></th>\n      <th></th>\n      <th></th>\n      <th></th>\n      <th></th>\n      <th></th>\n      <th></th>\n      <th></th>\n      <th></th>\n      <th></th>\n      <th></th>\n      <th></th>\n      <th></th>\n    </tr>\n  </thead>\n  <tbody>\n    <tr>\n      <th>1461</th>\n      <td>20</td>\n      <td>10</td>\n      <td>80.0</td>\n      <td>107.805380</td>\n      <td>1453</td>\n      <td>1352</td>\n      <td>934</td>\n      <td>1311</td>\n      <td>1457</td>\n      <td>1081</td>\n      <td>...</td>\n      <td>30</td>\n      <td>9</td>\n      <td>9</td>\n      <td>260</td>\n      <td>0.541387</td>\n      <td>527.256741</td>\n      <td>315.268293</td>\n      <td>0</td>\n      <td>260100</td>\n      <td>5883.0</td>\n    </tr>\n    <tr>\n      <th>1462</th>\n      <td>20</td>\n      <td>1114</td>\n      <td>81.0</td>\n      <td>119.444548</td>\n      <td>1453</td>\n      <td>1352</td>\n      <td>484</td>\n      <td>1311</td>\n      <td>1457</td>\n      <td>248</td>\n      <td>...</td>\n      <td>36</td>\n      <td>9</td>\n      <td>9</td>\n      <td>429</td>\n      <td>264.403226</td>\n      <td>527.256741</td>\n      <td>0.004850</td>\n      <td>0</td>\n      <td>39770</td>\n      <td>5874.0</td>\n    </tr>\n    <tr>\n      <th>1463</th>\n      <td>60</td>\n      <td>1114</td>\n      <td>74.0</td>\n      <td>117.601020</td>\n      <td>1453</td>\n      <td>1352</td>\n      <td>484</td>\n      <td>1311</td>\n      <td>1457</td>\n      <td>1081</td>\n      <td>...</td>\n      <td>25</td>\n      <td>12</td>\n      <td>9</td>\n      <td>246</td>\n      <td>0.541387</td>\n      <td>527.256741</td>\n      <td>0.004850</td>\n      <td>3</td>\n      <td>260100</td>\n      <td>5991.0</td>\n    </tr>\n    <tr>\n      <th>1464</th>\n      <td>60</td>\n      <td>1114</td>\n      <td>78.0</td>\n      <td>99.889939</td>\n      <td>1453</td>\n      <td>1352</td>\n      <td>484</td>\n      <td>1311</td>\n      <td>1457</td>\n      <td>1081</td>\n      <td>...</td>\n      <td>36</td>\n      <td>9</td>\n      <td>9</td>\n      <td>396</td>\n      <td>264.403226</td>\n      <td>527.256741</td>\n      <td>0.004850</td>\n      <td>4</td>\n      <td>260100</td>\n      <td>5994.0</td>\n    </tr>\n    <tr>\n      <th>1465</th>\n      <td>120</td>\n      <td>1114</td>\n      <td>43.0</td>\n      <td>70.746025</td>\n      <td>1453</td>\n      <td>1352</td>\n      <td>484</td>\n      <td>70</td>\n      <td>1457</td>\n      <td>1081</td>\n      <td>...</td>\n      <td>40</td>\n      <td>12</td>\n      <td>12</td>\n      <td>226</td>\n      <td>0.541387</td>\n      <td>527.256741</td>\n      <td>0.004850</td>\n      <td>0</td>\n      <td>43780</td>\n      <td>5976.0</td>\n    </tr>\n    <tr>\n      <th>...</th>\n      <td>...</td>\n      <td>...</td>\n      <td>...</td>\n      <td>...</td>\n      <td>...</td>\n      <td>...</td>\n      <td>...</td>\n      <td>...</td>\n      <td>...</td>\n      <td>...</td>\n      <td>...</td>\n      <td>...</td>\n      <td>...</td>\n      <td>...</td>\n      <td>...</td>\n      <td>...</td>\n      <td>...</td>\n      <td>...</td>\n      <td>...</td>\n      <td>...</td>\n      <td>...</td>\n    </tr>\n    <tr>\n      <th>2915</th>\n      <td>160</td>\n      <td>242</td>\n      <td>21.0</td>\n      <td>44.000000</td>\n      <td>1453</td>\n      <td>1352</td>\n      <td>934</td>\n      <td>1311</td>\n      <td>1457</td>\n      <td>1081</td>\n      <td>...</td>\n      <td>28</td>\n      <td>9</td>\n      <td>9</td>\n      <td>0</td>\n      <td>0.541387</td>\n      <td>0.000000</td>\n      <td>0.004850</td>\n      <td>0</td>\n      <td>4290</td>\n      <td>1.0</td>\n    </tr>\n    <tr>\n      <th>2916</th>\n      <td>160</td>\n      <td>242</td>\n      <td>21.0</td>\n      <td>43.520110</td>\n      <td>1453</td>\n      <td>1352</td>\n      <td>934</td>\n      <td>1311</td>\n      <td>1457</td>\n      <td>1081</td>\n      <td>...</td>\n      <td>20</td>\n      <td>9</td>\n      <td>9</td>\n      <td>24</td>\n      <td>0.541387</td>\n      <td>353.833333</td>\n      <td>0.004850</td>\n      <td>0</td>\n      <td>4290</td>\n      <td>5910.0</td>\n    </tr>\n    <tr>\n      <th>2917</th>\n      <td>20</td>\n      <td>1114</td>\n      <td>160.0</td>\n      <td>141.421356</td>\n      <td>1453</td>\n      <td>1352</td>\n      <td>934</td>\n      <td>1311</td>\n      <td>1457</td>\n      <td>1081</td>\n      <td>...</td>\n      <td>35</td>\n      <td>9</td>\n      <td>9</td>\n      <td>474</td>\n      <td>0.541387</td>\n      <td>411.150510</td>\n      <td>0.004850</td>\n      <td>3</td>\n      <td>260100</td>\n      <td>5880.0</td>\n    </tr>\n    <tr>\n      <th>2918</th>\n      <td>85</td>\n      <td>1114</td>\n      <td>62.0</td>\n      <td>102.181212</td>\n      <td>1453</td>\n      <td>1352</td>\n      <td>934</td>\n      <td>1311</td>\n      <td>1457</td>\n      <td>1081</td>\n      <td>...</td>\n      <td>25</td>\n      <td>12</td>\n      <td>9</td>\n      <td>112</td>\n      <td>0.541387</td>\n      <td>0.000000</td>\n      <td>0.004850</td>\n      <td>0</td>\n      <td>9460</td>\n      <td>1.0</td>\n    </tr>\n    <tr>\n      <th>2919</th>\n      <td>60</td>\n      <td>1114</td>\n      <td>74.0</td>\n      <td>98.117277</td>\n      <td>1453</td>\n      <td>1352</td>\n      <td>934</td>\n      <td>1311</td>\n      <td>1457</td>\n      <td>1081</td>\n      <td>...</td>\n      <td>35</td>\n      <td>12</td>\n      <td>9</td>\n      <td>238</td>\n      <td>264.403226</td>\n      <td>527.256741</td>\n      <td>0.004850</td>\n      <td>3</td>\n      <td>43780</td>\n      <td>5979.0</td>\n    </tr>\n  </tbody>\n</table>\n<p>1459 rows × 96 columns</p>\n</div>"
     },
     "execution_count": 15,
     "metadata": {},
     "output_type": "execute_result"
    }
   ],
   "source": [
    "derived_features(test_features)\n",
    "test_features"
   ],
   "metadata": {
    "collapsed": false,
    "pycharm": {
     "name": "#%%\n"
    }
   }
  },
  {
   "cell_type": "code",
   "execution_count": 16,
   "outputs": [],
   "source": [
    "def arithmetic_features(df):\n",
    "    df_c = df.copy()\n",
    "\n",
    "    df_c['feat_1'] = df_c['bsmtfintype1'] / df_c['bsmtfintype2']\n",
    "    df_c['feat_2'] = df_c['bsmtfinsf1'] / df_c['bsmtfinsf2']\n",
    "    df_c['feat_3'] = df_c['bsmtunfsf'] + df_c['bsmtfinsf1'] + df_c['bsmtfinsf2']\n",
    "    df_c['feat_4'] = df_c['garagefinish'] / df_c['garagearea']\n",
    "\n",
    "    df_c['feat_5'] = np.sqrt(df_c[[col for col in df_c if 'sf' in col]].sum(axis=1))\n",
    "    df_c['feat_6'] = df_c[[col for col in df_c if 'sf' in col]].sum(axis=1)\n",
    "    df_c['feat_7'] = df_c[[col for col in df_c if 'abv' in col]].sum(axis=1)\n",
    "\n",
    "    df_c['feat_8'] = df_c.groupby('bsmtexposure')['bsmtfinsf1'].transform('mean')\n",
    "    df_c['feat_9'] = df_c.groupby('bsmtfintype1')['bsmtfinsf1'].transform('mean')\n",
    "    df_c['feat_10'] = df_c.groupby('bsmtfintype1')['bsmtfinsf1'].transform('std')\n",
    "    df_c['feat_11'] = df_c.groupby('bsmtfintype2')['bsmtfinsf2'].transform('std')\n",
    "    df_c['feat_12'] = df_c.groupby('neighborhood')['garagearea'].transform('mean')\n",
    "    df_c['feat_13'] = df_c.groupby('neighborhood')['garagecond'].transform('mean')\n",
    "    df_c['feat_14'] = df_c.groupby('neighborhood')['garagequal'].transform('mean')\n",
    "\n",
    "    df_c['feat_15'] = df_c.groupby('neighborhood')['lotfrontage'].transform('mean')\n",
    "    df_c['feat_16'] = df_c.groupby('neighborhood')['overallqual'].transform('mean')\n",
    "    df_c['feat_17'] = df_c.groupby('neighborhood')['overallcond'].transform('mean')\n",
    "    df_c['feat_18'] = df_c.groupby('neighborhood')['lotarea'].transform('mean')\n",
    "    df_c['feat_19'] = df_c.groupby('neighborhood')['propage'].transform('mean')\n",
    "    df_c['feat_20'] = df_c.groupby('neighborhood')['modage'].transform('mean')\n",
    "    df_c['feat_21'] = df_c.groupby('neighborhood')['feat_3'].transform('mean')\n",
    "\n",
    "    return df_c"
   ],
   "metadata": {
    "collapsed": false,
    "pycharm": {
     "name": "#%%\n"
    }
   }
  },
  {
   "cell_type": "code",
   "execution_count": 17,
   "outputs": [
    {
     "data": {
      "text/plain": "      mssubclass  mszoning  lotfrontage     lotarea  street  alley  lotshape  \\\nId                                                                             \n1             60      1151         65.0   91.923882    1454   1369       925   \n2             20      1151         80.0   97.979590    1454   1369       925   \n3             60      1151         68.0  106.066017    1454   1369       484   \n4             70      1151         60.0   97.724101    1454   1369       484   \n5             60      1151         84.0  119.415242    1454   1369       484   \n...          ...       ...          ...         ...     ...    ...       ...   \n1456          60      1151         62.0   88.977525    1454   1369       925   \n1457          20      1151         85.0  114.782403    1454   1369       925   \n1458          70      1151         66.0   95.089432    1454   1369       925   \n1459          20      1151         68.0   98.574845    1454   1369       925   \n1460          20      1151         75.0   99.684502    1454   1369       925   \n\n      landcontour  utilities  lotconfig  ...    feat_12   feat_13   feat_14  \\\nId                                       ...                                  \n1            1311       1459       1052  ...  23.143119  2.940000  2.953333   \n2            1311       1459         47  ...  23.280424  3.000000  3.000000   \n3            1311       1459       1052  ...  23.143119  2.940000  2.953333   \n4            1311       1459        263  ...  19.698430  2.882353  2.862745   \n5            1311       1459         47  ...  26.413201  3.024390  3.024390   \n...           ...        ...        ...  ...        ...       ...       ...   \n1456         1311       1459       1052  ...  21.188152  3.000000  3.000000   \n1457         1311       1459       1052  ...  23.045718  3.000000  3.027397   \n1458         1311       1459       1052  ...  19.698430  2.882353  2.862745   \n1459         1311       1459       1052  ...  20.099080  2.902222  2.902222   \n1460         1311       1459       1052  ...  15.660008  2.070000  2.080000   \n\n        feat_15   feat_16   feat_17     feat_18    feat_19    feat_20  \\\nId                                                                      \n1     70.868514  6.640000  5.240000   97.307794   9.920000   8.666667   \n2     61.532512  6.727273  6.272727  119.927309  24.636364  17.181818   \n3     70.868514  6.640000  5.240000   97.307794   9.920000   8.666667   \n4     72.297417  6.274510  6.588235  106.167553  65.941176  28.294118   \n5     87.166926  7.926829  5.219512  116.713574  12.390244  11.170732   \n...         ...       ...       ...         ...        ...        ...   \n1456  76.922746  6.556962  5.126582  104.985862   9.303797   8.734177   \n1457  77.281194  6.328767  5.945205  108.177926  32.191781  26.301370   \n1458  72.297417  6.274510  6.588235  106.167553  65.941176  28.294118   \n1459  75.643985  5.360000  5.791111   99.688647  47.871111  36.244444   \n1460  68.269600  5.080000  5.440000   97.869117  51.970000  32.830000   \n\n          feat_21  \nId                 \n1     1157.586667  \n2     1321.272727  \n3     1157.586667  \n4     1032.901961  \n5     1493.756098  \n...           ...  \n1456   869.025316  \n1457  1153.835616  \n1458  1032.901961  \n1459  1026.168889  \n1460   899.820000  \n\n[1460 rows x 117 columns]",
      "text/html": "<div>\n<style scoped>\n    .dataframe tbody tr th:only-of-type {\n        vertical-align: middle;\n    }\n\n    .dataframe tbody tr th {\n        vertical-align: top;\n    }\n\n    .dataframe thead th {\n        text-align: right;\n    }\n</style>\n<table border=\"1\" class=\"dataframe\">\n  <thead>\n    <tr style=\"text-align: right;\">\n      <th></th>\n      <th>mssubclass</th>\n      <th>mszoning</th>\n      <th>lotfrontage</th>\n      <th>lotarea</th>\n      <th>street</th>\n      <th>alley</th>\n      <th>lotshape</th>\n      <th>landcontour</th>\n      <th>utilities</th>\n      <th>lotconfig</th>\n      <th>...</th>\n      <th>feat_12</th>\n      <th>feat_13</th>\n      <th>feat_14</th>\n      <th>feat_15</th>\n      <th>feat_16</th>\n      <th>feat_17</th>\n      <th>feat_18</th>\n      <th>feat_19</th>\n      <th>feat_20</th>\n      <th>feat_21</th>\n    </tr>\n    <tr>\n      <th>Id</th>\n      <th></th>\n      <th></th>\n      <th></th>\n      <th></th>\n      <th></th>\n      <th></th>\n      <th></th>\n      <th></th>\n      <th></th>\n      <th></th>\n      <th></th>\n      <th></th>\n      <th></th>\n      <th></th>\n      <th></th>\n      <th></th>\n      <th></th>\n      <th></th>\n      <th></th>\n      <th></th>\n      <th></th>\n    </tr>\n  </thead>\n  <tbody>\n    <tr>\n      <th>1</th>\n      <td>60</td>\n      <td>1151</td>\n      <td>65.0</td>\n      <td>91.923882</td>\n      <td>1454</td>\n      <td>1369</td>\n      <td>925</td>\n      <td>1311</td>\n      <td>1459</td>\n      <td>1052</td>\n      <td>...</td>\n      <td>23.143119</td>\n      <td>2.940000</td>\n      <td>2.953333</td>\n      <td>70.868514</td>\n      <td>6.640000</td>\n      <td>5.240000</td>\n      <td>97.307794</td>\n      <td>9.920000</td>\n      <td>8.666667</td>\n      <td>1157.586667</td>\n    </tr>\n    <tr>\n      <th>2</th>\n      <td>20</td>\n      <td>1151</td>\n      <td>80.0</td>\n      <td>97.979590</td>\n      <td>1454</td>\n      <td>1369</td>\n      <td>925</td>\n      <td>1311</td>\n      <td>1459</td>\n      <td>47</td>\n      <td>...</td>\n      <td>23.280424</td>\n      <td>3.000000</td>\n      <td>3.000000</td>\n      <td>61.532512</td>\n      <td>6.727273</td>\n      <td>6.272727</td>\n      <td>119.927309</td>\n      <td>24.636364</td>\n      <td>17.181818</td>\n      <td>1321.272727</td>\n    </tr>\n    <tr>\n      <th>3</th>\n      <td>60</td>\n      <td>1151</td>\n      <td>68.0</td>\n      <td>106.066017</td>\n      <td>1454</td>\n      <td>1369</td>\n      <td>484</td>\n      <td>1311</td>\n      <td>1459</td>\n      <td>1052</td>\n      <td>...</td>\n      <td>23.143119</td>\n      <td>2.940000</td>\n      <td>2.953333</td>\n      <td>70.868514</td>\n      <td>6.640000</td>\n      <td>5.240000</td>\n      <td>97.307794</td>\n      <td>9.920000</td>\n      <td>8.666667</td>\n      <td>1157.586667</td>\n    </tr>\n    <tr>\n      <th>4</th>\n      <td>70</td>\n      <td>1151</td>\n      <td>60.0</td>\n      <td>97.724101</td>\n      <td>1454</td>\n      <td>1369</td>\n      <td>484</td>\n      <td>1311</td>\n      <td>1459</td>\n      <td>263</td>\n      <td>...</td>\n      <td>19.698430</td>\n      <td>2.882353</td>\n      <td>2.862745</td>\n      <td>72.297417</td>\n      <td>6.274510</td>\n      <td>6.588235</td>\n      <td>106.167553</td>\n      <td>65.941176</td>\n      <td>28.294118</td>\n      <td>1032.901961</td>\n    </tr>\n    <tr>\n      <th>5</th>\n      <td>60</td>\n      <td>1151</td>\n      <td>84.0</td>\n      <td>119.415242</td>\n      <td>1454</td>\n      <td>1369</td>\n      <td>484</td>\n      <td>1311</td>\n      <td>1459</td>\n      <td>47</td>\n      <td>...</td>\n      <td>26.413201</td>\n      <td>3.024390</td>\n      <td>3.024390</td>\n      <td>87.166926</td>\n      <td>7.926829</td>\n      <td>5.219512</td>\n      <td>116.713574</td>\n      <td>12.390244</td>\n      <td>11.170732</td>\n      <td>1493.756098</td>\n    </tr>\n    <tr>\n      <th>...</th>\n      <td>...</td>\n      <td>...</td>\n      <td>...</td>\n      <td>...</td>\n      <td>...</td>\n      <td>...</td>\n      <td>...</td>\n      <td>...</td>\n      <td>...</td>\n      <td>...</td>\n      <td>...</td>\n      <td>...</td>\n      <td>...</td>\n      <td>...</td>\n      <td>...</td>\n      <td>...</td>\n      <td>...</td>\n      <td>...</td>\n      <td>...</td>\n      <td>...</td>\n      <td>...</td>\n    </tr>\n    <tr>\n      <th>1456</th>\n      <td>60</td>\n      <td>1151</td>\n      <td>62.0</td>\n      <td>88.977525</td>\n      <td>1454</td>\n      <td>1369</td>\n      <td>925</td>\n      <td>1311</td>\n      <td>1459</td>\n      <td>1052</td>\n      <td>...</td>\n      <td>21.188152</td>\n      <td>3.000000</td>\n      <td>3.000000</td>\n      <td>76.922746</td>\n      <td>6.556962</td>\n      <td>5.126582</td>\n      <td>104.985862</td>\n      <td>9.303797</td>\n      <td>8.734177</td>\n      <td>869.025316</td>\n    </tr>\n    <tr>\n      <th>1457</th>\n      <td>20</td>\n      <td>1151</td>\n      <td>85.0</td>\n      <td>114.782403</td>\n      <td>1454</td>\n      <td>1369</td>\n      <td>925</td>\n      <td>1311</td>\n      <td>1459</td>\n      <td>1052</td>\n      <td>...</td>\n      <td>23.045718</td>\n      <td>3.000000</td>\n      <td>3.027397</td>\n      <td>77.281194</td>\n      <td>6.328767</td>\n      <td>5.945205</td>\n      <td>108.177926</td>\n      <td>32.191781</td>\n      <td>26.301370</td>\n      <td>1153.835616</td>\n    </tr>\n    <tr>\n      <th>1458</th>\n      <td>70</td>\n      <td>1151</td>\n      <td>66.0</td>\n      <td>95.089432</td>\n      <td>1454</td>\n      <td>1369</td>\n      <td>925</td>\n      <td>1311</td>\n      <td>1459</td>\n      <td>1052</td>\n      <td>...</td>\n      <td>19.698430</td>\n      <td>2.882353</td>\n      <td>2.862745</td>\n      <td>72.297417</td>\n      <td>6.274510</td>\n      <td>6.588235</td>\n      <td>106.167553</td>\n      <td>65.941176</td>\n      <td>28.294118</td>\n      <td>1032.901961</td>\n    </tr>\n    <tr>\n      <th>1459</th>\n      <td>20</td>\n      <td>1151</td>\n      <td>68.0</td>\n      <td>98.574845</td>\n      <td>1454</td>\n      <td>1369</td>\n      <td>925</td>\n      <td>1311</td>\n      <td>1459</td>\n      <td>1052</td>\n      <td>...</td>\n      <td>20.099080</td>\n      <td>2.902222</td>\n      <td>2.902222</td>\n      <td>75.643985</td>\n      <td>5.360000</td>\n      <td>5.791111</td>\n      <td>99.688647</td>\n      <td>47.871111</td>\n      <td>36.244444</td>\n      <td>1026.168889</td>\n    </tr>\n    <tr>\n      <th>1460</th>\n      <td>20</td>\n      <td>1151</td>\n      <td>75.0</td>\n      <td>99.684502</td>\n      <td>1454</td>\n      <td>1369</td>\n      <td>925</td>\n      <td>1311</td>\n      <td>1459</td>\n      <td>1052</td>\n      <td>...</td>\n      <td>15.660008</td>\n      <td>2.070000</td>\n      <td>2.080000</td>\n      <td>68.269600</td>\n      <td>5.080000</td>\n      <td>5.440000</td>\n      <td>97.869117</td>\n      <td>51.970000</td>\n      <td>32.830000</td>\n      <td>899.820000</td>\n    </tr>\n  </tbody>\n</table>\n<p>1460 rows × 117 columns</p>\n</div>"
     },
     "execution_count": 17,
     "metadata": {},
     "output_type": "execute_result"
    }
   ],
   "source": [
    "train_features = arithmetic_features(train_features)\n",
    "train_features"
   ],
   "metadata": {
    "collapsed": false,
    "pycharm": {
     "name": "#%%\n"
    }
   }
  },
  {
   "cell_type": "code",
   "execution_count": 18,
   "outputs": [
    {
     "data": {
      "text/plain": "      mssubclass  mszoning  lotfrontage     lotarea  street  alley  lotshape  \\\nId                                                                             \n1461          20        10         80.0  107.805380    1453   1352       934   \n1462          20      1114         81.0  119.444548    1453   1352       484   \n1463          60      1114         74.0  117.601020    1453   1352       484   \n1464          60      1114         78.0   99.889939    1453   1352       484   \n1465         120      1114         43.0   70.746025    1453   1352       484   \n...          ...       ...          ...         ...     ...    ...       ...   \n2915         160       242         21.0   44.000000    1453   1352       934   \n2916         160       242         21.0   43.520110    1453   1352       934   \n2917          20      1114        160.0  141.421356    1453   1352       934   \n2918          85      1114         62.0  102.181212    1453   1352       934   \n2919          60      1114         74.0   98.117277    1453   1352       934   \n\n      landcontour  utilities  lotconfig  ...    feat_12   feat_13   feat_14  \\\nId                                       ...                                  \n1461         1311       1457       1081  ...  19.992988  2.922018  2.917431   \n1462         1311       1457        248  ...  19.992988  2.922018  2.917431   \n1463         1311       1457       1081  ...  21.243621  3.000000  3.000000   \n1464         1311       1457       1081  ...  21.243621  3.000000  3.000000   \n1465           70       1457       1081  ...  24.762729  3.000000  3.038462   \n...           ...        ...        ...  ...        ...       ...       ...   \n2915         1311       1457       1081  ...  11.303202  1.550000  1.600000   \n2916         1311       1457       1081  ...  11.303202  1.550000  1.600000   \n2917         1311       1457       1081  ...  21.857507  2.784615  2.800000   \n2918         1311       1457       1081  ...  21.857507  2.784615  2.800000   \n2919         1311       1457       1081  ...  21.857507  2.784615  2.800000   \n\n        feat_15   feat_16   feat_17     feat_18    feat_19    feat_20  \\\nId                                                                      \n1461  73.266354  5.307339  5.834862   98.748300  47.963303  38.064220   \n1462  73.266354  5.307339  5.834862   98.748300  47.963303  38.064220   \n1463  69.443080  6.476744  5.058140  104.086420   9.476744   8.674419   \n1464  69.443080  6.476744  5.058140  104.086420   9.476744   8.674419   \n1465  61.769231  8.576923  5.000000  104.637114   6.884615   6.653846   \n...         ...       ...       ...         ...        ...        ...   \n2915  28.070975  4.300000  5.700000   43.406838  35.550000  32.050000   \n2916  28.070975  4.300000  5.700000   43.406838  35.550000  32.050000   \n2917  77.018158  5.507692  5.507692  108.096275  25.861538  22.153846   \n2918  77.018158  5.507692  5.507692  108.096275  25.861538  22.153846   \n2919  77.018158  5.507692  5.507692  108.096275  25.861538  22.153846   \n\n          feat_21  \nId                 \n1461  1036.550459  \n1462  1036.550459  \n1463   881.069767  \n1464   881.069767  \n1465  1597.461538  \n...           ...  \n2915   574.950000  \n2916   574.950000  \n2917  1067.338462  \n2918  1067.338462  \n2919  1067.338462  \n\n[1459 rows x 117 columns]",
      "text/html": "<div>\n<style scoped>\n    .dataframe tbody tr th:only-of-type {\n        vertical-align: middle;\n    }\n\n    .dataframe tbody tr th {\n        vertical-align: top;\n    }\n\n    .dataframe thead th {\n        text-align: right;\n    }\n</style>\n<table border=\"1\" class=\"dataframe\">\n  <thead>\n    <tr style=\"text-align: right;\">\n      <th></th>\n      <th>mssubclass</th>\n      <th>mszoning</th>\n      <th>lotfrontage</th>\n      <th>lotarea</th>\n      <th>street</th>\n      <th>alley</th>\n      <th>lotshape</th>\n      <th>landcontour</th>\n      <th>utilities</th>\n      <th>lotconfig</th>\n      <th>...</th>\n      <th>feat_12</th>\n      <th>feat_13</th>\n      <th>feat_14</th>\n      <th>feat_15</th>\n      <th>feat_16</th>\n      <th>feat_17</th>\n      <th>feat_18</th>\n      <th>feat_19</th>\n      <th>feat_20</th>\n      <th>feat_21</th>\n    </tr>\n    <tr>\n      <th>Id</th>\n      <th></th>\n      <th></th>\n      <th></th>\n      <th></th>\n      <th></th>\n      <th></th>\n      <th></th>\n      <th></th>\n      <th></th>\n      <th></th>\n      <th></th>\n      <th></th>\n      <th></th>\n      <th></th>\n      <th></th>\n      <th></th>\n      <th></th>\n      <th></th>\n      <th></th>\n      <th></th>\n      <th></th>\n    </tr>\n  </thead>\n  <tbody>\n    <tr>\n      <th>1461</th>\n      <td>20</td>\n      <td>10</td>\n      <td>80.0</td>\n      <td>107.805380</td>\n      <td>1453</td>\n      <td>1352</td>\n      <td>934</td>\n      <td>1311</td>\n      <td>1457</td>\n      <td>1081</td>\n      <td>...</td>\n      <td>19.992988</td>\n      <td>2.922018</td>\n      <td>2.917431</td>\n      <td>73.266354</td>\n      <td>5.307339</td>\n      <td>5.834862</td>\n      <td>98.748300</td>\n      <td>47.963303</td>\n      <td>38.064220</td>\n      <td>1036.550459</td>\n    </tr>\n    <tr>\n      <th>1462</th>\n      <td>20</td>\n      <td>1114</td>\n      <td>81.0</td>\n      <td>119.444548</td>\n      <td>1453</td>\n      <td>1352</td>\n      <td>484</td>\n      <td>1311</td>\n      <td>1457</td>\n      <td>248</td>\n      <td>...</td>\n      <td>19.992988</td>\n      <td>2.922018</td>\n      <td>2.917431</td>\n      <td>73.266354</td>\n      <td>5.307339</td>\n      <td>5.834862</td>\n      <td>98.748300</td>\n      <td>47.963303</td>\n      <td>38.064220</td>\n      <td>1036.550459</td>\n    </tr>\n    <tr>\n      <th>1463</th>\n      <td>60</td>\n      <td>1114</td>\n      <td>74.0</td>\n      <td>117.601020</td>\n      <td>1453</td>\n      <td>1352</td>\n      <td>484</td>\n      <td>1311</td>\n      <td>1457</td>\n      <td>1081</td>\n      <td>...</td>\n      <td>21.243621</td>\n      <td>3.000000</td>\n      <td>3.000000</td>\n      <td>69.443080</td>\n      <td>6.476744</td>\n      <td>5.058140</td>\n      <td>104.086420</td>\n      <td>9.476744</td>\n      <td>8.674419</td>\n      <td>881.069767</td>\n    </tr>\n    <tr>\n      <th>1464</th>\n      <td>60</td>\n      <td>1114</td>\n      <td>78.0</td>\n      <td>99.889939</td>\n      <td>1453</td>\n      <td>1352</td>\n      <td>484</td>\n      <td>1311</td>\n      <td>1457</td>\n      <td>1081</td>\n      <td>...</td>\n      <td>21.243621</td>\n      <td>3.000000</td>\n      <td>3.000000</td>\n      <td>69.443080</td>\n      <td>6.476744</td>\n      <td>5.058140</td>\n      <td>104.086420</td>\n      <td>9.476744</td>\n      <td>8.674419</td>\n      <td>881.069767</td>\n    </tr>\n    <tr>\n      <th>1465</th>\n      <td>120</td>\n      <td>1114</td>\n      <td>43.0</td>\n      <td>70.746025</td>\n      <td>1453</td>\n      <td>1352</td>\n      <td>484</td>\n      <td>70</td>\n      <td>1457</td>\n      <td>1081</td>\n      <td>...</td>\n      <td>24.762729</td>\n      <td>3.000000</td>\n      <td>3.038462</td>\n      <td>61.769231</td>\n      <td>8.576923</td>\n      <td>5.000000</td>\n      <td>104.637114</td>\n      <td>6.884615</td>\n      <td>6.653846</td>\n      <td>1597.461538</td>\n    </tr>\n    <tr>\n      <th>...</th>\n      <td>...</td>\n      <td>...</td>\n      <td>...</td>\n      <td>...</td>\n      <td>...</td>\n      <td>...</td>\n      <td>...</td>\n      <td>...</td>\n      <td>...</td>\n      <td>...</td>\n      <td>...</td>\n      <td>...</td>\n      <td>...</td>\n      <td>...</td>\n      <td>...</td>\n      <td>...</td>\n      <td>...</td>\n      <td>...</td>\n      <td>...</td>\n      <td>...</td>\n      <td>...</td>\n    </tr>\n    <tr>\n      <th>2915</th>\n      <td>160</td>\n      <td>242</td>\n      <td>21.0</td>\n      <td>44.000000</td>\n      <td>1453</td>\n      <td>1352</td>\n      <td>934</td>\n      <td>1311</td>\n      <td>1457</td>\n      <td>1081</td>\n      <td>...</td>\n      <td>11.303202</td>\n      <td>1.550000</td>\n      <td>1.600000</td>\n      <td>28.070975</td>\n      <td>4.300000</td>\n      <td>5.700000</td>\n      <td>43.406838</td>\n      <td>35.550000</td>\n      <td>32.050000</td>\n      <td>574.950000</td>\n    </tr>\n    <tr>\n      <th>2916</th>\n      <td>160</td>\n      <td>242</td>\n      <td>21.0</td>\n      <td>43.520110</td>\n      <td>1453</td>\n      <td>1352</td>\n      <td>934</td>\n      <td>1311</td>\n      <td>1457</td>\n      <td>1081</td>\n      <td>...</td>\n      <td>11.303202</td>\n      <td>1.550000</td>\n      <td>1.600000</td>\n      <td>28.070975</td>\n      <td>4.300000</td>\n      <td>5.700000</td>\n      <td>43.406838</td>\n      <td>35.550000</td>\n      <td>32.050000</td>\n      <td>574.950000</td>\n    </tr>\n    <tr>\n      <th>2917</th>\n      <td>20</td>\n      <td>1114</td>\n      <td>160.0</td>\n      <td>141.421356</td>\n      <td>1453</td>\n      <td>1352</td>\n      <td>934</td>\n      <td>1311</td>\n      <td>1457</td>\n      <td>1081</td>\n      <td>...</td>\n      <td>21.857507</td>\n      <td>2.784615</td>\n      <td>2.800000</td>\n      <td>77.018158</td>\n      <td>5.507692</td>\n      <td>5.507692</td>\n      <td>108.096275</td>\n      <td>25.861538</td>\n      <td>22.153846</td>\n      <td>1067.338462</td>\n    </tr>\n    <tr>\n      <th>2918</th>\n      <td>85</td>\n      <td>1114</td>\n      <td>62.0</td>\n      <td>102.181212</td>\n      <td>1453</td>\n      <td>1352</td>\n      <td>934</td>\n      <td>1311</td>\n      <td>1457</td>\n      <td>1081</td>\n      <td>...</td>\n      <td>21.857507</td>\n      <td>2.784615</td>\n      <td>2.800000</td>\n      <td>77.018158</td>\n      <td>5.507692</td>\n      <td>5.507692</td>\n      <td>108.096275</td>\n      <td>25.861538</td>\n      <td>22.153846</td>\n      <td>1067.338462</td>\n    </tr>\n    <tr>\n      <th>2919</th>\n      <td>60</td>\n      <td>1114</td>\n      <td>74.0</td>\n      <td>98.117277</td>\n      <td>1453</td>\n      <td>1352</td>\n      <td>934</td>\n      <td>1311</td>\n      <td>1457</td>\n      <td>1081</td>\n      <td>...</td>\n      <td>21.857507</td>\n      <td>2.784615</td>\n      <td>2.800000</td>\n      <td>77.018158</td>\n      <td>5.507692</td>\n      <td>5.507692</td>\n      <td>108.096275</td>\n      <td>25.861538</td>\n      <td>22.153846</td>\n      <td>1067.338462</td>\n    </tr>\n  </tbody>\n</table>\n<p>1459 rows × 117 columns</p>\n</div>"
     },
     "execution_count": 18,
     "metadata": {},
     "output_type": "execute_result"
    }
   ],
   "source": [
    "test_features = arithmetic_features(test_features)\n",
    "test_features"
   ],
   "metadata": {
    "collapsed": false,
    "pycharm": {
     "name": "#%%\n"
    }
   }
  },
  {
   "cell_type": "code",
   "execution_count": 19,
   "outputs": [],
   "source": [
    "train_features.replace([np.inf, -np.inf], np.nan, inplace=True)\n",
    "train_features.replace([np.inf, -np.inf], np.nan, inplace=True)\n",
    "\n",
    "train_features.fillna(0, inplace=True)\n",
    "test_features.fillna(0, inplace=True)"
   ],
   "metadata": {
    "collapsed": false,
    "pycharm": {
     "name": "#%%\n"
    }
   }
  },
  {
   "cell_type": "code",
   "execution_count": 20,
   "outputs": [
    {
     "data": {
      "text/plain": "overallqual     0.576599\nneighborhood    0.491249\ngrlivarea       0.487941\nfeat_4          0.473175\nfeat_16         0.468316\n                  ...   \nmosold          0.000000\nlowqualfinsf    0.000000\ncondition2      0.000000\nquarter         0.000000\npoolarea        0.000000\nLength: 117, dtype: float64"
     },
     "execution_count": 20,
     "metadata": {},
     "output_type": "execute_result"
    }
   ],
   "source": [
    "mask = []\n",
    "\n",
    "for t in train_features.columns:\n",
    "    if t in disc_cols:\n",
    "        mask.append(True)\n",
    "    else:\n",
    "        mask.append(False)\n",
    "\n",
    "score_mi = mi_score(train_features, target, mask)\n",
    "score_mi"
   ],
   "metadata": {
    "collapsed": false,
    "pycharm": {
     "name": "#%%\n"
    }
   }
  },
  {
   "cell_type": "code",
   "execution_count": 21,
   "outputs": [],
   "source": [
    "cols_to_trans = ['lotfrontage', 'lotarea', 'masvnrarea',\n",
    "                 'bsmtfinsf1', 'bsmtfinsf2', 'bsmtunfsf',\n",
    "                 'totalbsmtsf', '1stflrsf', '2ndflrsf',\n",
    "                 'lowqualfinsf', 'grlivarea', 'garagearea',\n",
    "                 'wooddecksf', 'screenporch', 'enclosedporch',\n",
    "                 'openporchsf', 'propage', 'modage', 'timetomod',\n",
    "                 'drivfeat4', 'pcafeat4']\n",
    "trans = train_features[cols_to_trans]"
   ],
   "metadata": {
    "collapsed": false,
    "pycharm": {
     "name": "#%%\n"
    }
   }
  },
  {
   "cell_type": "code",
   "execution_count": 22,
   "outputs": [
    {
     "data": {
      "text/plain": "QuantileTransformer(output_distribution='normal')"
     },
     "execution_count": 22,
     "metadata": {},
     "output_type": "execute_result"
    }
   ],
   "source": [
    "q_transformer = quantile_transformation(features=trans, output_distribution='normal',\n",
    "                                        n_quantiles=1000)\n",
    "q_transformer"
   ],
   "metadata": {
    "collapsed": false,
    "pycharm": {
     "name": "#%%\n"
    }
   }
  },
  {
   "cell_type": "code",
   "execution_count": 23,
   "outputs": [],
   "source": [
    "train_features[cols_to_trans] = q_transformer.transform(trans)\n",
    "test_features[cols_to_trans] = q_transformer.transform(test_features[cols_to_trans])"
   ],
   "metadata": {
    "collapsed": false,
    "pycharm": {
     "name": "#%%\n"
    }
   }
  },
  {
   "cell_type": "code",
   "execution_count": 32,
   "outputs": [],
   "source": [
    "# save processed data\n",
    "with open('../data/processed/train.pkl', 'wb') as file:\n",
    "    pd.merge(train_features,\n",
    "             pd.Series(target),\n",
    "             how='inner',\n",
    "             right_index=True,\n",
    "             left_index=True).to_pickle(file)\n",
    "\n",
    "with open('../data/processed/test.pkl', 'wb') as file:\n",
    "    test_features.to_pickle(file)"
   ],
   "metadata": {
    "collapsed": false,
    "pycharm": {
     "name": "#%%\n"
    }
   }
  },
  {
   "cell_type": "code",
   "execution_count": 84,
   "outputs": [],
   "source": [
    "least_informative = score_mi[score_mi == 0].index.tolist()\n",
    "\n",
    "final_train = train_features.drop(least_informative,\n",
    "                                  axis=1)\n",
    "final_test = test_features.drop(least_informative,\n",
    "                                axis=1)"
   ],
   "metadata": {
    "collapsed": false,
    "pycharm": {
     "name": "#%%\n"
    }
   }
  },
  {
   "cell_type": "code",
   "execution_count": 85,
   "outputs": [
    {
     "data": {
      "text/plain": "((1168, 111), (292, 111), (1168,), (292,))"
     },
     "execution_count": 85,
     "metadata": {},
     "output_type": "execute_result"
    }
   ],
   "source": [
    "trainX, validX, trainY, validY = train_test_split(final_train, target, test_size=0.2, random_state=48)\n",
    "trainX.shape, validX.shape, trainY.shape, validY.shape"
   ],
   "metadata": {
    "collapsed": false,
    "pycharm": {
     "name": "#%%\n"
    }
   }
  },
  {
   "cell_type": "code",
   "execution_count": 86,
   "outputs": [],
   "source": [
    "estimator = xgb.XGBRegressor(learning_rate=0.01)\n",
    "\n",
    "paraDis = {'max_depth': np.random.randint(1, 21, 10),\n",
    "           'n_estimators': np.random.randint(1000, 4000, 10),\n",
    "           'min_child_weight': range(1, 10),\n",
    "           'colsample_bytree': np.random.uniform(0, 1, 10),\n",
    "           'subsample': np.random.uniform(0, 1, 10),\n",
    "           }\n",
    "\n",
    "fitter = FitEstimator(estimator, random_state=48)"
   ],
   "metadata": {
    "collapsed": false,
    "pycharm": {
     "name": "#%%\n"
    }
   }
  },
  {
   "cell_type": "code",
   "execution_count": 87,
   "outputs": [],
   "source": [
    "search = fitter.random_search(param_distributions=paraDis,\n",
    "                              n_iter=10,\n",
    "                              cv=3,\n",
    "                              scoring=make_scorer(mean_squared_error, greater_is_better=False),\n",
    "                              verbose=1)"
   ],
   "metadata": {
    "collapsed": false,
    "pycharm": {
     "name": "#%%\n"
    }
   }
  },
  {
   "cell_type": "code",
   "execution_count": 88,
   "outputs": [
    {
     "name": "stdout",
     "output_type": "stream",
     "text": [
      "Fitting 3 folds for each of 10 candidates, totalling 30 fits\n"
     ]
    },
    {
     "ename": "KeyboardInterrupt",
     "evalue": "",
     "output_type": "error",
     "traceback": [
      "\u001B[1;31m---------------------------------------------------------------------------\u001B[0m",
      "\u001B[1;31mKeyboardInterrupt\u001B[0m                         Traceback (most recent call last)",
      "\u001B[1;32mc:\\program files\\python39\\lib\\site-packages\\joblib\\parallel.py\u001B[0m in \u001B[0;36mretrieve\u001B[1;34m(self)\u001B[0m\n\u001B[0;32m    934\u001B[0m                 \u001B[1;32mif\u001B[0m \u001B[0mgetattr\u001B[0m\u001B[1;33m(\u001B[0m\u001B[0mself\u001B[0m\u001B[1;33m.\u001B[0m\u001B[0m_backend\u001B[0m\u001B[1;33m,\u001B[0m \u001B[1;34m'supports_timeout'\u001B[0m\u001B[1;33m,\u001B[0m \u001B[1;32mFalse\u001B[0m\u001B[1;33m)\u001B[0m\u001B[1;33m:\u001B[0m\u001B[1;33m\u001B[0m\u001B[1;33m\u001B[0m\u001B[0m\n\u001B[1;32m--> 935\u001B[1;33m                     \u001B[0mself\u001B[0m\u001B[1;33m.\u001B[0m\u001B[0m_output\u001B[0m\u001B[1;33m.\u001B[0m\u001B[0mextend\u001B[0m\u001B[1;33m(\u001B[0m\u001B[0mjob\u001B[0m\u001B[1;33m.\u001B[0m\u001B[0mget\u001B[0m\u001B[1;33m(\u001B[0m\u001B[0mtimeout\u001B[0m\u001B[1;33m=\u001B[0m\u001B[0mself\u001B[0m\u001B[1;33m.\u001B[0m\u001B[0mtimeout\u001B[0m\u001B[1;33m)\u001B[0m\u001B[1;33m)\u001B[0m\u001B[1;33m\u001B[0m\u001B[1;33m\u001B[0m\u001B[0m\n\u001B[0m\u001B[0;32m    936\u001B[0m                 \u001B[1;32melse\u001B[0m\u001B[1;33m:\u001B[0m\u001B[1;33m\u001B[0m\u001B[1;33m\u001B[0m\u001B[0m\n",
      "\u001B[1;32mc:\\program files\\python39\\lib\\site-packages\\joblib\\_parallel_backends.py\u001B[0m in \u001B[0;36mwrap_future_result\u001B[1;34m(future, timeout)\u001B[0m\n\u001B[0;32m    541\u001B[0m         \u001B[1;32mtry\u001B[0m\u001B[1;33m:\u001B[0m\u001B[1;33m\u001B[0m\u001B[1;33m\u001B[0m\u001B[0m\n\u001B[1;32m--> 542\u001B[1;33m             \u001B[1;32mreturn\u001B[0m \u001B[0mfuture\u001B[0m\u001B[1;33m.\u001B[0m\u001B[0mresult\u001B[0m\u001B[1;33m(\u001B[0m\u001B[0mtimeout\u001B[0m\u001B[1;33m=\u001B[0m\u001B[0mtimeout\u001B[0m\u001B[1;33m)\u001B[0m\u001B[1;33m\u001B[0m\u001B[1;33m\u001B[0m\u001B[0m\n\u001B[0m\u001B[0;32m    543\u001B[0m         \u001B[1;32mexcept\u001B[0m \u001B[0mCfTimeoutError\u001B[0m \u001B[1;32mas\u001B[0m \u001B[0me\u001B[0m\u001B[1;33m:\u001B[0m\u001B[1;33m\u001B[0m\u001B[1;33m\u001B[0m\u001B[0m\n",
      "\u001B[1;32mc:\\program files\\python39\\lib\\concurrent\\futures\\_base.py\u001B[0m in \u001B[0;36mresult\u001B[1;34m(self, timeout)\u001B[0m\n\u001B[0;32m    434\u001B[0m \u001B[1;33m\u001B[0m\u001B[0m\n\u001B[1;32m--> 435\u001B[1;33m             \u001B[0mself\u001B[0m\u001B[1;33m.\u001B[0m\u001B[0m_condition\u001B[0m\u001B[1;33m.\u001B[0m\u001B[0mwait\u001B[0m\u001B[1;33m(\u001B[0m\u001B[0mtimeout\u001B[0m\u001B[1;33m)\u001B[0m\u001B[1;33m\u001B[0m\u001B[1;33m\u001B[0m\u001B[0m\n\u001B[0m\u001B[0;32m    436\u001B[0m \u001B[1;33m\u001B[0m\u001B[0m\n",
      "\u001B[1;32mc:\\program files\\python39\\lib\\threading.py\u001B[0m in \u001B[0;36mwait\u001B[1;34m(self, timeout)\u001B[0m\n\u001B[0;32m    311\u001B[0m             \u001B[1;32mif\u001B[0m \u001B[0mtimeout\u001B[0m \u001B[1;32mis\u001B[0m \u001B[1;32mNone\u001B[0m\u001B[1;33m:\u001B[0m\u001B[1;33m\u001B[0m\u001B[1;33m\u001B[0m\u001B[0m\n\u001B[1;32m--> 312\u001B[1;33m                 \u001B[0mwaiter\u001B[0m\u001B[1;33m.\u001B[0m\u001B[0macquire\u001B[0m\u001B[1;33m(\u001B[0m\u001B[1;33m)\u001B[0m\u001B[1;33m\u001B[0m\u001B[1;33m\u001B[0m\u001B[0m\n\u001B[0m\u001B[0;32m    313\u001B[0m                 \u001B[0mgotit\u001B[0m \u001B[1;33m=\u001B[0m \u001B[1;32mTrue\u001B[0m\u001B[1;33m\u001B[0m\u001B[1;33m\u001B[0m\u001B[0m\n",
      "\u001B[1;31mKeyboardInterrupt\u001B[0m: ",
      "\nDuring handling of the above exception, another exception occurred:\n",
      "\u001B[1;31mKeyboardInterrupt\u001B[0m                         Traceback (most recent call last)",
      "\u001B[1;32m~\\AppData\\Local\\Temp/ipykernel_20368/1850136955.py\u001B[0m in \u001B[0;36m<module>\u001B[1;34m\u001B[0m\n\u001B[1;32m----> 1\u001B[1;33m \u001B[0msearch\u001B[0m\u001B[1;33m.\u001B[0m\u001B[0mfit\u001B[0m\u001B[1;33m(\u001B[0m\u001B[0mtrainX\u001B[0m\u001B[1;33m,\u001B[0m \u001B[0mtrainY\u001B[0m\u001B[1;33m)\u001B[0m\u001B[1;33m\u001B[0m\u001B[1;33m\u001B[0m\u001B[0m\n\u001B[0m",
      "\u001B[1;32mc:\\program files\\python39\\lib\\site-packages\\sklearn\\model_selection\\_search.py\u001B[0m in \u001B[0;36mfit\u001B[1;34m(self, X, y, groups, **fit_params)\u001B[0m\n\u001B[0;32m    889\u001B[0m                 \u001B[1;32mreturn\u001B[0m \u001B[0mresults\u001B[0m\u001B[1;33m\u001B[0m\u001B[1;33m\u001B[0m\u001B[0m\n\u001B[0;32m    890\u001B[0m \u001B[1;33m\u001B[0m\u001B[0m\n\u001B[1;32m--> 891\u001B[1;33m             \u001B[0mself\u001B[0m\u001B[1;33m.\u001B[0m\u001B[0m_run_search\u001B[0m\u001B[1;33m(\u001B[0m\u001B[0mevaluate_candidates\u001B[0m\u001B[1;33m)\u001B[0m\u001B[1;33m\u001B[0m\u001B[1;33m\u001B[0m\u001B[0m\n\u001B[0m\u001B[0;32m    892\u001B[0m \u001B[1;33m\u001B[0m\u001B[0m\n\u001B[0;32m    893\u001B[0m             \u001B[1;31m# multimetric is determined here because in the case of a callable\u001B[0m\u001B[1;33m\u001B[0m\u001B[1;33m\u001B[0m\u001B[1;33m\u001B[0m\u001B[0m\n",
      "\u001B[1;32mc:\\program files\\python39\\lib\\site-packages\\sklearn\\model_selection\\_search.py\u001B[0m in \u001B[0;36m_run_search\u001B[1;34m(self, evaluate_candidates)\u001B[0m\n\u001B[0;32m   1764\u001B[0m     \u001B[1;32mdef\u001B[0m \u001B[0m_run_search\u001B[0m\u001B[1;33m(\u001B[0m\u001B[0mself\u001B[0m\u001B[1;33m,\u001B[0m \u001B[0mevaluate_candidates\u001B[0m\u001B[1;33m)\u001B[0m\u001B[1;33m:\u001B[0m\u001B[1;33m\u001B[0m\u001B[1;33m\u001B[0m\u001B[0m\n\u001B[0;32m   1765\u001B[0m         \u001B[1;34m\"\"\"Search n_iter candidates from param_distributions\"\"\"\u001B[0m\u001B[1;33m\u001B[0m\u001B[1;33m\u001B[0m\u001B[0m\n\u001B[1;32m-> 1766\u001B[1;33m         evaluate_candidates(\n\u001B[0m\u001B[0;32m   1767\u001B[0m             ParameterSampler(\n\u001B[0;32m   1768\u001B[0m                 \u001B[0mself\u001B[0m\u001B[1;33m.\u001B[0m\u001B[0mparam_distributions\u001B[0m\u001B[1;33m,\u001B[0m \u001B[0mself\u001B[0m\u001B[1;33m.\u001B[0m\u001B[0mn_iter\u001B[0m\u001B[1;33m,\u001B[0m \u001B[0mrandom_state\u001B[0m\u001B[1;33m=\u001B[0m\u001B[0mself\u001B[0m\u001B[1;33m.\u001B[0m\u001B[0mrandom_state\u001B[0m\u001B[1;33m\u001B[0m\u001B[1;33m\u001B[0m\u001B[0m\n",
      "\u001B[1;32mc:\\program files\\python39\\lib\\site-packages\\sklearn\\model_selection\\_search.py\u001B[0m in \u001B[0;36mevaluate_candidates\u001B[1;34m(candidate_params, cv, more_results)\u001B[0m\n\u001B[0;32m    836\u001B[0m                     )\n\u001B[0;32m    837\u001B[0m \u001B[1;33m\u001B[0m\u001B[0m\n\u001B[1;32m--> 838\u001B[1;33m                 out = parallel(\n\u001B[0m\u001B[0;32m    839\u001B[0m                     delayed(_fit_and_score)(\n\u001B[0;32m    840\u001B[0m                         \u001B[0mclone\u001B[0m\u001B[1;33m(\u001B[0m\u001B[0mbase_estimator\u001B[0m\u001B[1;33m)\u001B[0m\u001B[1;33m,\u001B[0m\u001B[1;33m\u001B[0m\u001B[1;33m\u001B[0m\u001B[0m\n",
      "\u001B[1;32mc:\\program files\\python39\\lib\\site-packages\\joblib\\parallel.py\u001B[0m in \u001B[0;36m__call__\u001B[1;34m(self, iterable)\u001B[0m\n\u001B[0;32m   1054\u001B[0m \u001B[1;33m\u001B[0m\u001B[0m\n\u001B[0;32m   1055\u001B[0m             \u001B[1;32mwith\u001B[0m \u001B[0mself\u001B[0m\u001B[1;33m.\u001B[0m\u001B[0m_backend\u001B[0m\u001B[1;33m.\u001B[0m\u001B[0mretrieval_context\u001B[0m\u001B[1;33m(\u001B[0m\u001B[1;33m)\u001B[0m\u001B[1;33m:\u001B[0m\u001B[1;33m\u001B[0m\u001B[1;33m\u001B[0m\u001B[0m\n\u001B[1;32m-> 1056\u001B[1;33m                 \u001B[0mself\u001B[0m\u001B[1;33m.\u001B[0m\u001B[0mretrieve\u001B[0m\u001B[1;33m(\u001B[0m\u001B[1;33m)\u001B[0m\u001B[1;33m\u001B[0m\u001B[1;33m\u001B[0m\u001B[0m\n\u001B[0m\u001B[0;32m   1057\u001B[0m             \u001B[1;31m# Make sure that we get a last message telling us we are done\u001B[0m\u001B[1;33m\u001B[0m\u001B[1;33m\u001B[0m\u001B[1;33m\u001B[0m\u001B[0m\n\u001B[0;32m   1058\u001B[0m             \u001B[0melapsed_time\u001B[0m \u001B[1;33m=\u001B[0m \u001B[0mtime\u001B[0m\u001B[1;33m.\u001B[0m\u001B[0mtime\u001B[0m\u001B[1;33m(\u001B[0m\u001B[1;33m)\u001B[0m \u001B[1;33m-\u001B[0m \u001B[0mself\u001B[0m\u001B[1;33m.\u001B[0m\u001B[0m_start_time\u001B[0m\u001B[1;33m\u001B[0m\u001B[1;33m\u001B[0m\u001B[0m\n",
      "\u001B[1;32mc:\\program files\\python39\\lib\\site-packages\\joblib\\parallel.py\u001B[0m in \u001B[0;36mretrieve\u001B[1;34m(self)\u001B[0m\n\u001B[0;32m    955\u001B[0m                     \u001B[1;31m# scheduling.\u001B[0m\u001B[1;33m\u001B[0m\u001B[1;33m\u001B[0m\u001B[1;33m\u001B[0m\u001B[0m\n\u001B[0;32m    956\u001B[0m                     \u001B[0mensure_ready\u001B[0m \u001B[1;33m=\u001B[0m \u001B[0mself\u001B[0m\u001B[1;33m.\u001B[0m\u001B[0m_managed_backend\u001B[0m\u001B[1;33m\u001B[0m\u001B[1;33m\u001B[0m\u001B[0m\n\u001B[1;32m--> 957\u001B[1;33m                     \u001B[0mbackend\u001B[0m\u001B[1;33m.\u001B[0m\u001B[0mabort_everything\u001B[0m\u001B[1;33m(\u001B[0m\u001B[0mensure_ready\u001B[0m\u001B[1;33m=\u001B[0m\u001B[0mensure_ready\u001B[0m\u001B[1;33m)\u001B[0m\u001B[1;33m\u001B[0m\u001B[1;33m\u001B[0m\u001B[0m\n\u001B[0m\u001B[0;32m    958\u001B[0m                 \u001B[1;32mraise\u001B[0m\u001B[1;33m\u001B[0m\u001B[1;33m\u001B[0m\u001B[0m\n\u001B[0;32m    959\u001B[0m \u001B[1;33m\u001B[0m\u001B[0m\n",
      "\u001B[1;32mc:\\program files\\python39\\lib\\site-packages\\joblib\\_parallel_backends.py\u001B[0m in \u001B[0;36mabort_everything\u001B[1;34m(self, ensure_ready)\u001B[0m\n\u001B[0;32m    559\u001B[0m         \"\"\"Shutdown the workers and restart a new one with the same parameters\n\u001B[0;32m    560\u001B[0m         \"\"\"\n\u001B[1;32m--> 561\u001B[1;33m         \u001B[0mself\u001B[0m\u001B[1;33m.\u001B[0m\u001B[0m_workers\u001B[0m\u001B[1;33m.\u001B[0m\u001B[0mterminate\u001B[0m\u001B[1;33m(\u001B[0m\u001B[0mkill_workers\u001B[0m\u001B[1;33m=\u001B[0m\u001B[1;32mTrue\u001B[0m\u001B[1;33m)\u001B[0m\u001B[1;33m\u001B[0m\u001B[1;33m\u001B[0m\u001B[0m\n\u001B[0m\u001B[0;32m    562\u001B[0m         \u001B[0mself\u001B[0m\u001B[1;33m.\u001B[0m\u001B[0m_workers\u001B[0m \u001B[1;33m=\u001B[0m \u001B[1;32mNone\u001B[0m\u001B[1;33m\u001B[0m\u001B[1;33m\u001B[0m\u001B[0m\n\u001B[0;32m    563\u001B[0m \u001B[1;33m\u001B[0m\u001B[0m\n",
      "\u001B[1;32mc:\\program files\\python39\\lib\\site-packages\\joblib\\executor.py\u001B[0m in \u001B[0;36mterminate\u001B[1;34m(self, kill_workers)\u001B[0m\n\u001B[0;32m     72\u001B[0m \u001B[1;33m\u001B[0m\u001B[0m\n\u001B[0;32m     73\u001B[0m     \u001B[1;32mdef\u001B[0m \u001B[0mterminate\u001B[0m\u001B[1;33m(\u001B[0m\u001B[0mself\u001B[0m\u001B[1;33m,\u001B[0m \u001B[0mkill_workers\u001B[0m\u001B[1;33m=\u001B[0m\u001B[1;32mFalse\u001B[0m\u001B[1;33m)\u001B[0m\u001B[1;33m:\u001B[0m\u001B[1;33m\u001B[0m\u001B[1;33m\u001B[0m\u001B[0m\n\u001B[1;32m---> 74\u001B[1;33m         \u001B[0mself\u001B[0m\u001B[1;33m.\u001B[0m\u001B[0mshutdown\u001B[0m\u001B[1;33m(\u001B[0m\u001B[0mkill_workers\u001B[0m\u001B[1;33m=\u001B[0m\u001B[0mkill_workers\u001B[0m\u001B[1;33m)\u001B[0m\u001B[1;33m\u001B[0m\u001B[1;33m\u001B[0m\u001B[0m\n\u001B[0m\u001B[0;32m     75\u001B[0m         \u001B[1;32mif\u001B[0m \u001B[0mkill_workers\u001B[0m\u001B[1;33m:\u001B[0m\u001B[1;33m\u001B[0m\u001B[1;33m\u001B[0m\u001B[0m\n\u001B[0;32m     76\u001B[0m             \u001B[1;31m# When workers are killed in such a brutal manner, they cannot\u001B[0m\u001B[1;33m\u001B[0m\u001B[1;33m\u001B[0m\u001B[1;33m\u001B[0m\u001B[0m\n",
      "\u001B[1;32mc:\\program files\\python39\\lib\\site-packages\\joblib\\externals\\loky\\process_executor.py\u001B[0m in \u001B[0;36mshutdown\u001B[1;34m(self, wait, kill_workers)\u001B[0m\n\u001B[0;32m   1183\u001B[0m \u001B[1;33m\u001B[0m\u001B[0m\n\u001B[0;32m   1184\u001B[0m         \u001B[1;32mif\u001B[0m \u001B[0mexecutor_manager_thread\u001B[0m \u001B[1;32mis\u001B[0m \u001B[1;32mnot\u001B[0m \u001B[1;32mNone\u001B[0m \u001B[1;32mand\u001B[0m \u001B[0mwait\u001B[0m\u001B[1;33m:\u001B[0m\u001B[1;33m\u001B[0m\u001B[1;33m\u001B[0m\u001B[0m\n\u001B[1;32m-> 1185\u001B[1;33m             \u001B[0mexecutor_manager_thread\u001B[0m\u001B[1;33m.\u001B[0m\u001B[0mjoin\u001B[0m\u001B[1;33m(\u001B[0m\u001B[1;33m)\u001B[0m\u001B[1;33m\u001B[0m\u001B[1;33m\u001B[0m\u001B[0m\n\u001B[0m\u001B[0;32m   1186\u001B[0m \u001B[1;33m\u001B[0m\u001B[0m\n\u001B[0;32m   1187\u001B[0m         \u001B[1;31m# To reduce the risk of opening too many files, remove references to\u001B[0m\u001B[1;33m\u001B[0m\u001B[1;33m\u001B[0m\u001B[1;33m\u001B[0m\u001B[0m\n",
      "\u001B[1;32mc:\\program files\\python39\\lib\\threading.py\u001B[0m in \u001B[0;36mjoin\u001B[1;34m(self, timeout)\u001B[0m\n\u001B[0;32m   1027\u001B[0m \u001B[1;33m\u001B[0m\u001B[0m\n\u001B[0;32m   1028\u001B[0m         \u001B[1;32mif\u001B[0m \u001B[0mtimeout\u001B[0m \u001B[1;32mis\u001B[0m \u001B[1;32mNone\u001B[0m\u001B[1;33m:\u001B[0m\u001B[1;33m\u001B[0m\u001B[1;33m\u001B[0m\u001B[0m\n\u001B[1;32m-> 1029\u001B[1;33m             \u001B[0mself\u001B[0m\u001B[1;33m.\u001B[0m\u001B[0m_wait_for_tstate_lock\u001B[0m\u001B[1;33m(\u001B[0m\u001B[1;33m)\u001B[0m\u001B[1;33m\u001B[0m\u001B[1;33m\u001B[0m\u001B[0m\n\u001B[0m\u001B[0;32m   1030\u001B[0m         \u001B[1;32melse\u001B[0m\u001B[1;33m:\u001B[0m\u001B[1;33m\u001B[0m\u001B[1;33m\u001B[0m\u001B[0m\n\u001B[0;32m   1031\u001B[0m             \u001B[1;31m# the behavior of a negative timeout isn't documented, but\u001B[0m\u001B[1;33m\u001B[0m\u001B[1;33m\u001B[0m\u001B[1;33m\u001B[0m\u001B[0m\n",
      "\u001B[1;32mc:\\program files\\python39\\lib\\threading.py\u001B[0m in \u001B[0;36m_wait_for_tstate_lock\u001B[1;34m(self, block, timeout)\u001B[0m\n\u001B[0;32m   1043\u001B[0m         \u001B[1;32mif\u001B[0m \u001B[0mlock\u001B[0m \u001B[1;32mis\u001B[0m \u001B[1;32mNone\u001B[0m\u001B[1;33m:\u001B[0m  \u001B[1;31m# already determined that the C code is done\u001B[0m\u001B[1;33m\u001B[0m\u001B[1;33m\u001B[0m\u001B[0m\n\u001B[0;32m   1044\u001B[0m             \u001B[1;32massert\u001B[0m \u001B[0mself\u001B[0m\u001B[1;33m.\u001B[0m\u001B[0m_is_stopped\u001B[0m\u001B[1;33m\u001B[0m\u001B[1;33m\u001B[0m\u001B[0m\n\u001B[1;32m-> 1045\u001B[1;33m         \u001B[1;32melif\u001B[0m \u001B[0mlock\u001B[0m\u001B[1;33m.\u001B[0m\u001B[0macquire\u001B[0m\u001B[1;33m(\u001B[0m\u001B[0mblock\u001B[0m\u001B[1;33m,\u001B[0m \u001B[0mtimeout\u001B[0m\u001B[1;33m)\u001B[0m\u001B[1;33m:\u001B[0m\u001B[1;33m\u001B[0m\u001B[1;33m\u001B[0m\u001B[0m\n\u001B[0m\u001B[0;32m   1046\u001B[0m             \u001B[0mlock\u001B[0m\u001B[1;33m.\u001B[0m\u001B[0mrelease\u001B[0m\u001B[1;33m(\u001B[0m\u001B[1;33m)\u001B[0m\u001B[1;33m\u001B[0m\u001B[1;33m\u001B[0m\u001B[0m\n\u001B[0;32m   1047\u001B[0m             \u001B[0mself\u001B[0m\u001B[1;33m.\u001B[0m\u001B[0m_stop\u001B[0m\u001B[1;33m(\u001B[0m\u001B[1;33m)\u001B[0m\u001B[1;33m\u001B[0m\u001B[1;33m\u001B[0m\u001B[0m\n",
      "\u001B[1;31mKeyboardInterrupt\u001B[0m: "
     ]
    }
   ],
   "source": [
    "search.fit(trainX, trainY)"
   ],
   "metadata": {
    "collapsed": false,
    "pycharm": {
     "name": "#%%\n"
    }
   }
  },
  {
   "cell_type": "code",
   "execution_count": null,
   "outputs": [],
   "source": [
    "search.best_estimator_"
   ],
   "metadata": {
    "collapsed": false,
    "pycharm": {
     "name": "#%%\n"
    }
   }
  },
  {
   "cell_type": "code",
   "execution_count": null,
   "outputs": [],
   "source": [
    "model = xgb.XGBRegressor(base_score=0.5, booster='gbtree', colsample_bylevel=1,\n",
    "                         colsample_bynode=1, colsample_bytree=0.30616383334574826,\n",
    "                         enable_categorical=False, gamma=0, gpu_id=-1, importance_type=None,\n",
    "                         interaction_constraints='', learning_rate=0.01, max_delta_step=0,\n",
    "                         max_depth=10, min_child_weight=1, missing=np.nan,\n",
    "                         monotone_constraints='()', n_estimators=1697, n_jobs=8,\n",
    "                         num_parallel_tree=1, predictor='auto', random_state=0, reg_alpha=0,\n",
    "                         reg_lambda=1, scale_pos_weight=1, subsample=0.2255137388719427,\n",
    "                         tree_method='exact', validate_parameters=1, verbosity=None)"
   ],
   "metadata": {
    "collapsed": false,
    "pycharm": {
     "name": "#%%\n"
    }
   }
  },
  {
   "cell_type": "code",
   "execution_count": null,
   "outputs": [],
   "source": [
    "i = 0\n",
    "models = []\n",
    "kfold = KFold(n_splits=9, shuffle=True, random_state=48)\n",
    "\n",
    "for t, v in kfold.split(trainX, trainY):\n",
    "    model.fit(trainX.iloc[t], trainY.iloc[t])\n",
    "    train_score = mean_squared_error(np.log(trainY.iloc[t]), np.log(model.predict(trainX.iloc[t])), squared=False)\n",
    "    valid_score = mean_squared_error(np.log(trainY.iloc[v]), np.log(model.predict(trainX.iloc[v])), squared=False)\n",
    "\n",
    "    i+=1\n",
    "    print(f'{i} -- complete')\n",
    "\n",
    "    models.append([model, train_score, valid_score])"
   ],
   "metadata": {
    "collapsed": false,
    "pycharm": {
     "name": "#%%\n"
    }
   }
  },
  {
   "cell_type": "code",
   "execution_count": null,
   "outputs": [],
   "source": [
    "target_t = np.zeros((validX.shape[0]))\n",
    "\n",
    "for i in models:\n",
    "    p = i[0].predict(validX)\n",
    "    target_t += p\n",
    "\n",
    "target_t = target_t / 9"
   ],
   "metadata": {
    "collapsed": false,
    "pycharm": {
     "name": "#%%\n"
    }
   }
  },
  {
   "cell_type": "code",
   "execution_count": null,
   "outputs": [],
   "source": [
    "mean_squared_error(np.log(validY), np.log(target_t), squared=False)"
   ],
   "metadata": {
    "collapsed": false,
    "pycharm": {
     "name": "#%%\n"
    }
   }
  },
  {
   "cell_type": "code",
   "execution_count": null,
   "outputs": [],
   "source": [
    "target = np.zeros((final_test.shape[0]))\n",
    "\n",
    "for i in models:\n",
    "    p = i[0].predict(final_test)\n",
    "    target += p\n",
    "\n",
    "target = target / 9\n",
    "target"
   ],
   "metadata": {
    "collapsed": false,
    "pycharm": {
     "name": "#%%\n"
    }
   }
  },
  {
   "cell_type": "code",
   "execution_count": null,
   "outputs": [],
   "source": [
    "pd.DataFrame(target, columns=['SalePrice'], index=final_test.index).reset_index().to_csv(\n",
    "    '../data/submission/submission_5_1.csv', index=False)"
   ],
   "metadata": {
    "collapsed": false,
    "pycharm": {
     "name": "#%%\n"
    }
   }
  }
 ],
 "metadata": {
  "kernelspec": {
   "display_name": "Python 3",
   "language": "python",
   "name": "python3"
  },
  "language_info": {
   "codemirror_mode": {
    "name": "ipython",
    "version": 2
   },
   "file_extension": ".py",
   "mimetype": "text/x-python",
   "name": "python",
   "nbconvert_exporter": "python",
   "pygments_lexer": "ipython2",
   "version": "2.7.6"
  }
 },
 "nbformat": 4,
 "nbformat_minor": 0
}