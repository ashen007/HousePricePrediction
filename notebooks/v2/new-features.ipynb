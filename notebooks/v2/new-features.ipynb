{
 "cells": [
  {
   "cell_type": "code",
   "execution_count": 1,
   "metadata": {
    "collapsed": true
   },
   "outputs": [],
   "source": [
    "import json\n",
    "import numpy as np\n",
    "import numpy as pn\n",
    "import pandas as pd\n",
    "import seaborn as sns\n",
    "import sklearn.metrics\n",
    "import xgboost as xgb\n",
    "import pickle\n",
    "\n",
    "from sklearn.tree import DecisionTreeRegressor\n",
    "from sklearn.linear_model import LinearRegression\n",
    "from sklearn.ensemble import RandomForestRegressor, BaggingRegressor, GradientBoostingRegressor, StackingRegressor\n",
    "from sklearn.model_selection import train_test_split, KFold\n",
    "from sklearn.metrics import mean_squared_error, make_scorer\n",
    "from sklearn.model_selection import GridSearchCV, RandomizedSearchCV\n",
    "from matplotlib import pyplot as plt\n",
    "from numpyencoder import NumpyEncoder\n",
    "from src.data.create_data import *\n",
    "from src.features.create_features import *\n",
    "from src.models.create_model import FitEstimator"
   ]
  },
  {
   "cell_type": "code",
   "execution_count": 2,
   "outputs": [],
   "source": [
    "train_features, target = load_train_data('../data/external/train.csv')\n",
    "test_features = load_test_data('../data/external/test.csv')"
   ],
   "metadata": {
    "collapsed": false
   }
  },
  {
   "cell_type": "code",
   "execution_count": 3,
   "outputs": [
    {
     "data": {
      "text/plain": "((1460, 79), (1460,))"
     },
     "execution_count": 3,
     "metadata": {},
     "output_type": "execute_result"
    }
   ],
   "source": [
    "train_features.shape, target.shape"
   ],
   "metadata": {
    "collapsed": false
   }
  },
  {
   "cell_type": "code",
   "execution_count": 4,
   "outputs": [],
   "source": [
    "cat = train_features.select_dtypes(include=object).columns\n",
    "num = train_features.select_dtypes(include=[int, float]).columns\n",
    "disc_cols = [*cat, 'mssubclass', 'overallqual', 'overallcond']"
   ],
   "metadata": {
    "collapsed": false
   }
  },
  {
   "cell_type": "code",
   "execution_count": 5,
   "outputs": [
    {
     "data": {
      "text/plain": "      mssubclass  mszoning  lotfrontage  lotarea  street  alley  lotshape  \\\nId                                                                          \n1             60      1151         65.0     8450    1454   1369       925   \n2             20      1151         80.0     9600    1454   1369       925   \n3             60      1151         68.0    11250    1454   1369       484   \n4             70      1151         60.0     9550    1454   1369       484   \n5             60      1151         84.0    14260    1454   1369       484   \n...          ...       ...          ...      ...     ...    ...       ...   \n1456          60      1151         62.0     7917    1454   1369       925   \n1457          20      1151         85.0    13175    1454   1369       925   \n1458          70      1151         66.0     9042    1454   1369       925   \n1459          20      1151         68.0     9717    1454   1369       925   \n1460          20      1151         75.0     9937    1454   1369       925   \n\n      landcontour  utilities  lotconfig  ...  screenporch  poolarea  poolqc  \\\nId                                       ...                                  \n1            1311       1459       1052  ...            0         0      -1   \n2            1311       1459         47  ...            0         0      -1   \n3            1311       1459       1052  ...            0         0      -1   \n4            1311       1459        263  ...            0         0      -1   \n5            1311       1459         47  ...            0         0      -1   \n...           ...        ...        ...  ...          ...       ...     ...   \n1456         1311       1459       1052  ...            0         0      -1   \n1457         1311       1459       1052  ...            0         0      -1   \n1458         1311       1459       1052  ...            0         0      -1   \n1459         1311       1459       1052  ...            0         0      -1   \n1460         1311       1459       1052  ...            0         0      -1   \n\n      fence  miscfeature  miscval  mosold  yrsold  saletype  salecondition  \nId                                                                          \n1      1179         1406        0       2    2008      1267           1198  \n2      1179         1406        0       5    2007      1267           1198  \n3      1179         1406        0       9    2008      1267           1198  \n4      1179         1406        0       2    2006      1267            101  \n5      1179         1406        0      12    2008      1267           1198  \n...     ...          ...      ...     ...     ...       ...            ...  \n1456   1179         1406        0       8    2007      1267           1198  \n1457    157         1406        0       2    2010      1267           1198  \n1458     59           49     2500       5    2010      1267           1198  \n1459   1179         1406        0       4    2010      1267           1198  \n1460   1179         1406        0       6    2008      1267           1198  \n\n[1460 rows x 79 columns]",
      "text/html": "<div>\n<style scoped>\n    .dataframe tbody tr th:only-of-type {\n        vertical-align: middle;\n    }\n\n    .dataframe tbody tr th {\n        vertical-align: top;\n    }\n\n    .dataframe thead th {\n        text-align: right;\n    }\n</style>\n<table border=\"1\" class=\"dataframe\">\n  <thead>\n    <tr style=\"text-align: right;\">\n      <th></th>\n      <th>mssubclass</th>\n      <th>mszoning</th>\n      <th>lotfrontage</th>\n      <th>lotarea</th>\n      <th>street</th>\n      <th>alley</th>\n      <th>lotshape</th>\n      <th>landcontour</th>\n      <th>utilities</th>\n      <th>lotconfig</th>\n      <th>...</th>\n      <th>screenporch</th>\n      <th>poolarea</th>\n      <th>poolqc</th>\n      <th>fence</th>\n      <th>miscfeature</th>\n      <th>miscval</th>\n      <th>mosold</th>\n      <th>yrsold</th>\n      <th>saletype</th>\n      <th>salecondition</th>\n    </tr>\n    <tr>\n      <th>Id</th>\n      <th></th>\n      <th></th>\n      <th></th>\n      <th></th>\n      <th></th>\n      <th></th>\n      <th></th>\n      <th></th>\n      <th></th>\n      <th></th>\n      <th></th>\n      <th></th>\n      <th></th>\n      <th></th>\n      <th></th>\n      <th></th>\n      <th></th>\n      <th></th>\n      <th></th>\n      <th></th>\n      <th></th>\n    </tr>\n  </thead>\n  <tbody>\n    <tr>\n      <th>1</th>\n      <td>60</td>\n      <td>1151</td>\n      <td>65.0</td>\n      <td>8450</td>\n      <td>1454</td>\n      <td>1369</td>\n      <td>925</td>\n      <td>1311</td>\n      <td>1459</td>\n      <td>1052</td>\n      <td>...</td>\n      <td>0</td>\n      <td>0</td>\n      <td>-1</td>\n      <td>1179</td>\n      <td>1406</td>\n      <td>0</td>\n      <td>2</td>\n      <td>2008</td>\n      <td>1267</td>\n      <td>1198</td>\n    </tr>\n    <tr>\n      <th>2</th>\n      <td>20</td>\n      <td>1151</td>\n      <td>80.0</td>\n      <td>9600</td>\n      <td>1454</td>\n      <td>1369</td>\n      <td>925</td>\n      <td>1311</td>\n      <td>1459</td>\n      <td>47</td>\n      <td>...</td>\n      <td>0</td>\n      <td>0</td>\n      <td>-1</td>\n      <td>1179</td>\n      <td>1406</td>\n      <td>0</td>\n      <td>5</td>\n      <td>2007</td>\n      <td>1267</td>\n      <td>1198</td>\n    </tr>\n    <tr>\n      <th>3</th>\n      <td>60</td>\n      <td>1151</td>\n      <td>68.0</td>\n      <td>11250</td>\n      <td>1454</td>\n      <td>1369</td>\n      <td>484</td>\n      <td>1311</td>\n      <td>1459</td>\n      <td>1052</td>\n      <td>...</td>\n      <td>0</td>\n      <td>0</td>\n      <td>-1</td>\n      <td>1179</td>\n      <td>1406</td>\n      <td>0</td>\n      <td>9</td>\n      <td>2008</td>\n      <td>1267</td>\n      <td>1198</td>\n    </tr>\n    <tr>\n      <th>4</th>\n      <td>70</td>\n      <td>1151</td>\n      <td>60.0</td>\n      <td>9550</td>\n      <td>1454</td>\n      <td>1369</td>\n      <td>484</td>\n      <td>1311</td>\n      <td>1459</td>\n      <td>263</td>\n      <td>...</td>\n      <td>0</td>\n      <td>0</td>\n      <td>-1</td>\n      <td>1179</td>\n      <td>1406</td>\n      <td>0</td>\n      <td>2</td>\n      <td>2006</td>\n      <td>1267</td>\n      <td>101</td>\n    </tr>\n    <tr>\n      <th>5</th>\n      <td>60</td>\n      <td>1151</td>\n      <td>84.0</td>\n      <td>14260</td>\n      <td>1454</td>\n      <td>1369</td>\n      <td>484</td>\n      <td>1311</td>\n      <td>1459</td>\n      <td>47</td>\n      <td>...</td>\n      <td>0</td>\n      <td>0</td>\n      <td>-1</td>\n      <td>1179</td>\n      <td>1406</td>\n      <td>0</td>\n      <td>12</td>\n      <td>2008</td>\n      <td>1267</td>\n      <td>1198</td>\n    </tr>\n    <tr>\n      <th>...</th>\n      <td>...</td>\n      <td>...</td>\n      <td>...</td>\n      <td>...</td>\n      <td>...</td>\n      <td>...</td>\n      <td>...</td>\n      <td>...</td>\n      <td>...</td>\n      <td>...</td>\n      <td>...</td>\n      <td>...</td>\n      <td>...</td>\n      <td>...</td>\n      <td>...</td>\n      <td>...</td>\n      <td>...</td>\n      <td>...</td>\n      <td>...</td>\n      <td>...</td>\n      <td>...</td>\n    </tr>\n    <tr>\n      <th>1456</th>\n      <td>60</td>\n      <td>1151</td>\n      <td>62.0</td>\n      <td>7917</td>\n      <td>1454</td>\n      <td>1369</td>\n      <td>925</td>\n      <td>1311</td>\n      <td>1459</td>\n      <td>1052</td>\n      <td>...</td>\n      <td>0</td>\n      <td>0</td>\n      <td>-1</td>\n      <td>1179</td>\n      <td>1406</td>\n      <td>0</td>\n      <td>8</td>\n      <td>2007</td>\n      <td>1267</td>\n      <td>1198</td>\n    </tr>\n    <tr>\n      <th>1457</th>\n      <td>20</td>\n      <td>1151</td>\n      <td>85.0</td>\n      <td>13175</td>\n      <td>1454</td>\n      <td>1369</td>\n      <td>925</td>\n      <td>1311</td>\n      <td>1459</td>\n      <td>1052</td>\n      <td>...</td>\n      <td>0</td>\n      <td>0</td>\n      <td>-1</td>\n      <td>157</td>\n      <td>1406</td>\n      <td>0</td>\n      <td>2</td>\n      <td>2010</td>\n      <td>1267</td>\n      <td>1198</td>\n    </tr>\n    <tr>\n      <th>1458</th>\n      <td>70</td>\n      <td>1151</td>\n      <td>66.0</td>\n      <td>9042</td>\n      <td>1454</td>\n      <td>1369</td>\n      <td>925</td>\n      <td>1311</td>\n      <td>1459</td>\n      <td>1052</td>\n      <td>...</td>\n      <td>0</td>\n      <td>0</td>\n      <td>-1</td>\n      <td>59</td>\n      <td>49</td>\n      <td>2500</td>\n      <td>5</td>\n      <td>2010</td>\n      <td>1267</td>\n      <td>1198</td>\n    </tr>\n    <tr>\n      <th>1459</th>\n      <td>20</td>\n      <td>1151</td>\n      <td>68.0</td>\n      <td>9717</td>\n      <td>1454</td>\n      <td>1369</td>\n      <td>925</td>\n      <td>1311</td>\n      <td>1459</td>\n      <td>1052</td>\n      <td>...</td>\n      <td>0</td>\n      <td>0</td>\n      <td>-1</td>\n      <td>1179</td>\n      <td>1406</td>\n      <td>0</td>\n      <td>4</td>\n      <td>2010</td>\n      <td>1267</td>\n      <td>1198</td>\n    </tr>\n    <tr>\n      <th>1460</th>\n      <td>20</td>\n      <td>1151</td>\n      <td>75.0</td>\n      <td>9937</td>\n      <td>1454</td>\n      <td>1369</td>\n      <td>925</td>\n      <td>1311</td>\n      <td>1459</td>\n      <td>1052</td>\n      <td>...</td>\n      <td>0</td>\n      <td>0</td>\n      <td>-1</td>\n      <td>1179</td>\n      <td>1406</td>\n      <td>0</td>\n      <td>6</td>\n      <td>2008</td>\n      <td>1267</td>\n      <td>1198</td>\n    </tr>\n  </tbody>\n</table>\n<p>1460 rows × 79 columns</p>\n</div>"
     },
     "execution_count": 5,
     "metadata": {},
     "output_type": "execute_result"
    }
   ],
   "source": [
    "encode_ordinal_features(train_features)\n",
    "freq_encode_nominal_features(train_features)\n",
    "train_features"
   ],
   "metadata": {
    "collapsed": false
   }
  },
  {
   "cell_type": "code",
   "execution_count": 6,
   "outputs": [
    {
     "data": {
      "text/plain": "      mssubclass  mszoning  lotfrontage  lotarea  street  alley  lotshape  \\\nId                                                                          \n1461          20        10         80.0    11622    1453   1352       934   \n1462          20      1114         81.0    14267    1453   1352       484   \n1463          60      1114         74.0    13830    1453   1352       484   \n1464          60      1114         78.0     9978    1453   1352       484   \n1465         120      1114         43.0     5005    1453   1352       484   \n...          ...       ...          ...      ...     ...    ...       ...   \n2915         160       242         21.0     1936    1453   1352       934   \n2916         160       242         21.0     1894    1453   1352       934   \n2917          20      1114        160.0    20000    1453   1352       934   \n2918          85      1114         62.0    10441    1453   1352       934   \n2919          60      1114         74.0     9627    1453   1352       934   \n\n      landcontour  utilities  lotconfig  ...  screenporch  poolarea  poolqc  \\\nId                                       ...                                  \n1461         1311       1457       1081  ...          120         0      -1   \n1462         1311       1457        248  ...            0         0      -1   \n1463         1311       1457       1081  ...            0         0      -1   \n1464         1311       1457       1081  ...            0         0      -1   \n1465           70       1457       1081  ...          144         0      -1   \n...           ...        ...        ...  ...          ...       ...     ...   \n2915         1311       1457       1081  ...            0         0      -1   \n2916         1311       1457       1081  ...            0         0      -1   \n2917         1311       1457       1081  ...            0         0      -1   \n2918         1311       1457       1081  ...            0         0      -1   \n2919         1311       1457       1081  ...            0         0      -1   \n\n      fence  miscfeature  miscval  mosold  yrsold  saletype  salecondition  \nId                                                                          \n1461    172         1408        0       6    2010      1258           1204  \n1462   1169            3    12500       6    2010      1258           1204  \n1463    172         1408        0       3    2010      1258           1204  \n1464   1169         1408        0       6    2010      1258           1204  \n1465   1169         1408        0       1    2010      1258           1204  \n...     ...          ...      ...     ...     ...       ...            ...  \n2915   1169         1408        0       6    2006      1258           1204  \n2916   1169         1408        0       4    2006      1258             89  \n2917   1169         1408        0       9    2006      1258             89  \n2918    172           46      700       7    2006      1258           1204  \n2919   1169         1408        0      11    2006      1258           1204  \n\n[1459 rows x 79 columns]",
      "text/html": "<div>\n<style scoped>\n    .dataframe tbody tr th:only-of-type {\n        vertical-align: middle;\n    }\n\n    .dataframe tbody tr th {\n        vertical-align: top;\n    }\n\n    .dataframe thead th {\n        text-align: right;\n    }\n</style>\n<table border=\"1\" class=\"dataframe\">\n  <thead>\n    <tr style=\"text-align: right;\">\n      <th></th>\n      <th>mssubclass</th>\n      <th>mszoning</th>\n      <th>lotfrontage</th>\n      <th>lotarea</th>\n      <th>street</th>\n      <th>alley</th>\n      <th>lotshape</th>\n      <th>landcontour</th>\n      <th>utilities</th>\n      <th>lotconfig</th>\n      <th>...</th>\n      <th>screenporch</th>\n      <th>poolarea</th>\n      <th>poolqc</th>\n      <th>fence</th>\n      <th>miscfeature</th>\n      <th>miscval</th>\n      <th>mosold</th>\n      <th>yrsold</th>\n      <th>saletype</th>\n      <th>salecondition</th>\n    </tr>\n    <tr>\n      <th>Id</th>\n      <th></th>\n      <th></th>\n      <th></th>\n      <th></th>\n      <th></th>\n      <th></th>\n      <th></th>\n      <th></th>\n      <th></th>\n      <th></th>\n      <th></th>\n      <th></th>\n      <th></th>\n      <th></th>\n      <th></th>\n      <th></th>\n      <th></th>\n      <th></th>\n      <th></th>\n      <th></th>\n      <th></th>\n    </tr>\n  </thead>\n  <tbody>\n    <tr>\n      <th>1461</th>\n      <td>20</td>\n      <td>10</td>\n      <td>80.0</td>\n      <td>11622</td>\n      <td>1453</td>\n      <td>1352</td>\n      <td>934</td>\n      <td>1311</td>\n      <td>1457</td>\n      <td>1081</td>\n      <td>...</td>\n      <td>120</td>\n      <td>0</td>\n      <td>-1</td>\n      <td>172</td>\n      <td>1408</td>\n      <td>0</td>\n      <td>6</td>\n      <td>2010</td>\n      <td>1258</td>\n      <td>1204</td>\n    </tr>\n    <tr>\n      <th>1462</th>\n      <td>20</td>\n      <td>1114</td>\n      <td>81.0</td>\n      <td>14267</td>\n      <td>1453</td>\n      <td>1352</td>\n      <td>484</td>\n      <td>1311</td>\n      <td>1457</td>\n      <td>248</td>\n      <td>...</td>\n      <td>0</td>\n      <td>0</td>\n      <td>-1</td>\n      <td>1169</td>\n      <td>3</td>\n      <td>12500</td>\n      <td>6</td>\n      <td>2010</td>\n      <td>1258</td>\n      <td>1204</td>\n    </tr>\n    <tr>\n      <th>1463</th>\n      <td>60</td>\n      <td>1114</td>\n      <td>74.0</td>\n      <td>13830</td>\n      <td>1453</td>\n      <td>1352</td>\n      <td>484</td>\n      <td>1311</td>\n      <td>1457</td>\n      <td>1081</td>\n      <td>...</td>\n      <td>0</td>\n      <td>0</td>\n      <td>-1</td>\n      <td>172</td>\n      <td>1408</td>\n      <td>0</td>\n      <td>3</td>\n      <td>2010</td>\n      <td>1258</td>\n      <td>1204</td>\n    </tr>\n    <tr>\n      <th>1464</th>\n      <td>60</td>\n      <td>1114</td>\n      <td>78.0</td>\n      <td>9978</td>\n      <td>1453</td>\n      <td>1352</td>\n      <td>484</td>\n      <td>1311</td>\n      <td>1457</td>\n      <td>1081</td>\n      <td>...</td>\n      <td>0</td>\n      <td>0</td>\n      <td>-1</td>\n      <td>1169</td>\n      <td>1408</td>\n      <td>0</td>\n      <td>6</td>\n      <td>2010</td>\n      <td>1258</td>\n      <td>1204</td>\n    </tr>\n    <tr>\n      <th>1465</th>\n      <td>120</td>\n      <td>1114</td>\n      <td>43.0</td>\n      <td>5005</td>\n      <td>1453</td>\n      <td>1352</td>\n      <td>484</td>\n      <td>70</td>\n      <td>1457</td>\n      <td>1081</td>\n      <td>...</td>\n      <td>144</td>\n      <td>0</td>\n      <td>-1</td>\n      <td>1169</td>\n      <td>1408</td>\n      <td>0</td>\n      <td>1</td>\n      <td>2010</td>\n      <td>1258</td>\n      <td>1204</td>\n    </tr>\n    <tr>\n      <th>...</th>\n      <td>...</td>\n      <td>...</td>\n      <td>...</td>\n      <td>...</td>\n      <td>...</td>\n      <td>...</td>\n      <td>...</td>\n      <td>...</td>\n      <td>...</td>\n      <td>...</td>\n      <td>...</td>\n      <td>...</td>\n      <td>...</td>\n      <td>...</td>\n      <td>...</td>\n      <td>...</td>\n      <td>...</td>\n      <td>...</td>\n      <td>...</td>\n      <td>...</td>\n      <td>...</td>\n    </tr>\n    <tr>\n      <th>2915</th>\n      <td>160</td>\n      <td>242</td>\n      <td>21.0</td>\n      <td>1936</td>\n      <td>1453</td>\n      <td>1352</td>\n      <td>934</td>\n      <td>1311</td>\n      <td>1457</td>\n      <td>1081</td>\n      <td>...</td>\n      <td>0</td>\n      <td>0</td>\n      <td>-1</td>\n      <td>1169</td>\n      <td>1408</td>\n      <td>0</td>\n      <td>6</td>\n      <td>2006</td>\n      <td>1258</td>\n      <td>1204</td>\n    </tr>\n    <tr>\n      <th>2916</th>\n      <td>160</td>\n      <td>242</td>\n      <td>21.0</td>\n      <td>1894</td>\n      <td>1453</td>\n      <td>1352</td>\n      <td>934</td>\n      <td>1311</td>\n      <td>1457</td>\n      <td>1081</td>\n      <td>...</td>\n      <td>0</td>\n      <td>0</td>\n      <td>-1</td>\n      <td>1169</td>\n      <td>1408</td>\n      <td>0</td>\n      <td>4</td>\n      <td>2006</td>\n      <td>1258</td>\n      <td>89</td>\n    </tr>\n    <tr>\n      <th>2917</th>\n      <td>20</td>\n      <td>1114</td>\n      <td>160.0</td>\n      <td>20000</td>\n      <td>1453</td>\n      <td>1352</td>\n      <td>934</td>\n      <td>1311</td>\n      <td>1457</td>\n      <td>1081</td>\n      <td>...</td>\n      <td>0</td>\n      <td>0</td>\n      <td>-1</td>\n      <td>1169</td>\n      <td>1408</td>\n      <td>0</td>\n      <td>9</td>\n      <td>2006</td>\n      <td>1258</td>\n      <td>89</td>\n    </tr>\n    <tr>\n      <th>2918</th>\n      <td>85</td>\n      <td>1114</td>\n      <td>62.0</td>\n      <td>10441</td>\n      <td>1453</td>\n      <td>1352</td>\n      <td>934</td>\n      <td>1311</td>\n      <td>1457</td>\n      <td>1081</td>\n      <td>...</td>\n      <td>0</td>\n      <td>0</td>\n      <td>-1</td>\n      <td>172</td>\n      <td>46</td>\n      <td>700</td>\n      <td>7</td>\n      <td>2006</td>\n      <td>1258</td>\n      <td>1204</td>\n    </tr>\n    <tr>\n      <th>2919</th>\n      <td>60</td>\n      <td>1114</td>\n      <td>74.0</td>\n      <td>9627</td>\n      <td>1453</td>\n      <td>1352</td>\n      <td>934</td>\n      <td>1311</td>\n      <td>1457</td>\n      <td>1081</td>\n      <td>...</td>\n      <td>0</td>\n      <td>0</td>\n      <td>-1</td>\n      <td>1169</td>\n      <td>1408</td>\n      <td>0</td>\n      <td>11</td>\n      <td>2006</td>\n      <td>1258</td>\n      <td>1204</td>\n    </tr>\n  </tbody>\n</table>\n<p>1459 rows × 79 columns</p>\n</div>"
     },
     "execution_count": 6,
     "metadata": {},
     "output_type": "execute_result"
    }
   ],
   "source": [
    "encode_ordinal_features(test_features)\n",
    "freq_encode_nominal_features(test_features)\n",
    "test_features"
   ],
   "metadata": {
    "collapsed": false
   }
  },
  {
   "cell_type": "code",
   "execution_count": 7,
   "outputs": [
    {
     "data": {
      "text/plain": "      mssubclass  lotfrontage  lotarea  overallqual  overallcond  yearbuilt  \\\nId                                                                            \n1             60         65.0     8450            7            5       2003   \n2             20         80.0     9600            6            8       1976   \n3             60         68.0    11250            7            5       2001   \n4             70         60.0     9550            7            5       1915   \n5             60         84.0    14260            8            5       2000   \n...          ...          ...      ...          ...          ...        ...   \n1456          60         62.0     7917            6            5       1999   \n1457          20         85.0    13175            6            6       1978   \n1458          70         66.0     9042            7            9       1941   \n1459          20         68.0     9717            5            6       1950   \n1460          20         75.0     9937            5            6       1965   \n\n      yearremodadd  masvnrarea  bsmtfinsf1  bsmtfinsf2  ...  garagearea  \\\nId                                                      ...               \n1             2003       196.0         706           0  ...         548   \n2             1976         0.0         978           0  ...         460   \n3             2002       162.0         486           0  ...         608   \n4             1970         0.0         216           0  ...         642   \n5             2000       350.0         655           0  ...         836   \n...            ...         ...         ...         ...  ...         ...   \n1456          2000         0.0           0           0  ...         460   \n1457          1988       119.0         790         163  ...         500   \n1458          2006         0.0         275           0  ...         252   \n1459          1996         0.0          49        1029  ...         240   \n1460          1965         0.0         830         290  ...         276   \n\n      wooddecksf  openporchsf  enclosedporch  3ssnporch  screenporch  \\\nId                                                                     \n1              0           61              0          0            0   \n2            298            0              0          0            0   \n3              0           42              0          0            0   \n4              0           35            272          0            0   \n5            192           84              0          0            0   \n...          ...          ...            ...        ...          ...   \n1456           0           40              0          0            0   \n1457         349            0              0          0            0   \n1458           0           60              0          0            0   \n1459         366            0            112          0            0   \n1460         736           68              0          0            0   \n\n      poolarea  miscval  mosold  yrsold  \nId                                       \n1            0        0       2    2008  \n2            0        0       5    2007  \n3            0        0       9    2008  \n4            0        0       2    2006  \n5            0        0      12    2008  \n...        ...      ...     ...     ...  \n1456         0        0       8    2007  \n1457         0        0       2    2010  \n1458         0     2500       5    2010  \n1459         0        0       4    2010  \n1460         0        0       6    2008  \n\n[1460 rows x 36 columns]",
      "text/html": "<div>\n<style scoped>\n    .dataframe tbody tr th:only-of-type {\n        vertical-align: middle;\n    }\n\n    .dataframe tbody tr th {\n        vertical-align: top;\n    }\n\n    .dataframe thead th {\n        text-align: right;\n    }\n</style>\n<table border=\"1\" class=\"dataframe\">\n  <thead>\n    <tr style=\"text-align: right;\">\n      <th></th>\n      <th>mssubclass</th>\n      <th>lotfrontage</th>\n      <th>lotarea</th>\n      <th>overallqual</th>\n      <th>overallcond</th>\n      <th>yearbuilt</th>\n      <th>yearremodadd</th>\n      <th>masvnrarea</th>\n      <th>bsmtfinsf1</th>\n      <th>bsmtfinsf2</th>\n      <th>...</th>\n      <th>garagearea</th>\n      <th>wooddecksf</th>\n      <th>openporchsf</th>\n      <th>enclosedporch</th>\n      <th>3ssnporch</th>\n      <th>screenporch</th>\n      <th>poolarea</th>\n      <th>miscval</th>\n      <th>mosold</th>\n      <th>yrsold</th>\n    </tr>\n    <tr>\n      <th>Id</th>\n      <th></th>\n      <th></th>\n      <th></th>\n      <th></th>\n      <th></th>\n      <th></th>\n      <th></th>\n      <th></th>\n      <th></th>\n      <th></th>\n      <th></th>\n      <th></th>\n      <th></th>\n      <th></th>\n      <th></th>\n      <th></th>\n      <th></th>\n      <th></th>\n      <th></th>\n      <th></th>\n      <th></th>\n    </tr>\n  </thead>\n  <tbody>\n    <tr>\n      <th>1</th>\n      <td>60</td>\n      <td>65.0</td>\n      <td>8450</td>\n      <td>7</td>\n      <td>5</td>\n      <td>2003</td>\n      <td>2003</td>\n      <td>196.0</td>\n      <td>706</td>\n      <td>0</td>\n      <td>...</td>\n      <td>548</td>\n      <td>0</td>\n      <td>61</td>\n      <td>0</td>\n      <td>0</td>\n      <td>0</td>\n      <td>0</td>\n      <td>0</td>\n      <td>2</td>\n      <td>2008</td>\n    </tr>\n    <tr>\n      <th>2</th>\n      <td>20</td>\n      <td>80.0</td>\n      <td>9600</td>\n      <td>6</td>\n      <td>8</td>\n      <td>1976</td>\n      <td>1976</td>\n      <td>0.0</td>\n      <td>978</td>\n      <td>0</td>\n      <td>...</td>\n      <td>460</td>\n      <td>298</td>\n      <td>0</td>\n      <td>0</td>\n      <td>0</td>\n      <td>0</td>\n      <td>0</td>\n      <td>0</td>\n      <td>5</td>\n      <td>2007</td>\n    </tr>\n    <tr>\n      <th>3</th>\n      <td>60</td>\n      <td>68.0</td>\n      <td>11250</td>\n      <td>7</td>\n      <td>5</td>\n      <td>2001</td>\n      <td>2002</td>\n      <td>162.0</td>\n      <td>486</td>\n      <td>0</td>\n      <td>...</td>\n      <td>608</td>\n      <td>0</td>\n      <td>42</td>\n      <td>0</td>\n      <td>0</td>\n      <td>0</td>\n      <td>0</td>\n      <td>0</td>\n      <td>9</td>\n      <td>2008</td>\n    </tr>\n    <tr>\n      <th>4</th>\n      <td>70</td>\n      <td>60.0</td>\n      <td>9550</td>\n      <td>7</td>\n      <td>5</td>\n      <td>1915</td>\n      <td>1970</td>\n      <td>0.0</td>\n      <td>216</td>\n      <td>0</td>\n      <td>...</td>\n      <td>642</td>\n      <td>0</td>\n      <td>35</td>\n      <td>272</td>\n      <td>0</td>\n      <td>0</td>\n      <td>0</td>\n      <td>0</td>\n      <td>2</td>\n      <td>2006</td>\n    </tr>\n    <tr>\n      <th>5</th>\n      <td>60</td>\n      <td>84.0</td>\n      <td>14260</td>\n      <td>8</td>\n      <td>5</td>\n      <td>2000</td>\n      <td>2000</td>\n      <td>350.0</td>\n      <td>655</td>\n      <td>0</td>\n      <td>...</td>\n      <td>836</td>\n      <td>192</td>\n      <td>84</td>\n      <td>0</td>\n      <td>0</td>\n      <td>0</td>\n      <td>0</td>\n      <td>0</td>\n      <td>12</td>\n      <td>2008</td>\n    </tr>\n    <tr>\n      <th>...</th>\n      <td>...</td>\n      <td>...</td>\n      <td>...</td>\n      <td>...</td>\n      <td>...</td>\n      <td>...</td>\n      <td>...</td>\n      <td>...</td>\n      <td>...</td>\n      <td>...</td>\n      <td>...</td>\n      <td>...</td>\n      <td>...</td>\n      <td>...</td>\n      <td>...</td>\n      <td>...</td>\n      <td>...</td>\n      <td>...</td>\n      <td>...</td>\n      <td>...</td>\n      <td>...</td>\n    </tr>\n    <tr>\n      <th>1456</th>\n      <td>60</td>\n      <td>62.0</td>\n      <td>7917</td>\n      <td>6</td>\n      <td>5</td>\n      <td>1999</td>\n      <td>2000</td>\n      <td>0.0</td>\n      <td>0</td>\n      <td>0</td>\n      <td>...</td>\n      <td>460</td>\n      <td>0</td>\n      <td>40</td>\n      <td>0</td>\n      <td>0</td>\n      <td>0</td>\n      <td>0</td>\n      <td>0</td>\n      <td>8</td>\n      <td>2007</td>\n    </tr>\n    <tr>\n      <th>1457</th>\n      <td>20</td>\n      <td>85.0</td>\n      <td>13175</td>\n      <td>6</td>\n      <td>6</td>\n      <td>1978</td>\n      <td>1988</td>\n      <td>119.0</td>\n      <td>790</td>\n      <td>163</td>\n      <td>...</td>\n      <td>500</td>\n      <td>349</td>\n      <td>0</td>\n      <td>0</td>\n      <td>0</td>\n      <td>0</td>\n      <td>0</td>\n      <td>0</td>\n      <td>2</td>\n      <td>2010</td>\n    </tr>\n    <tr>\n      <th>1458</th>\n      <td>70</td>\n      <td>66.0</td>\n      <td>9042</td>\n      <td>7</td>\n      <td>9</td>\n      <td>1941</td>\n      <td>2006</td>\n      <td>0.0</td>\n      <td>275</td>\n      <td>0</td>\n      <td>...</td>\n      <td>252</td>\n      <td>0</td>\n      <td>60</td>\n      <td>0</td>\n      <td>0</td>\n      <td>0</td>\n      <td>0</td>\n      <td>2500</td>\n      <td>5</td>\n      <td>2010</td>\n    </tr>\n    <tr>\n      <th>1459</th>\n      <td>20</td>\n      <td>68.0</td>\n      <td>9717</td>\n      <td>5</td>\n      <td>6</td>\n      <td>1950</td>\n      <td>1996</td>\n      <td>0.0</td>\n      <td>49</td>\n      <td>1029</td>\n      <td>...</td>\n      <td>240</td>\n      <td>366</td>\n      <td>0</td>\n      <td>112</td>\n      <td>0</td>\n      <td>0</td>\n      <td>0</td>\n      <td>0</td>\n      <td>4</td>\n      <td>2010</td>\n    </tr>\n    <tr>\n      <th>1460</th>\n      <td>20</td>\n      <td>75.0</td>\n      <td>9937</td>\n      <td>5</td>\n      <td>6</td>\n      <td>1965</td>\n      <td>1965</td>\n      <td>0.0</td>\n      <td>830</td>\n      <td>290</td>\n      <td>...</td>\n      <td>276</td>\n      <td>736</td>\n      <td>68</td>\n      <td>0</td>\n      <td>0</td>\n      <td>0</td>\n      <td>0</td>\n      <td>0</td>\n      <td>6</td>\n      <td>2008</td>\n    </tr>\n  </tbody>\n</table>\n<p>1460 rows × 36 columns</p>\n</div>"
     },
     "execution_count": 7,
     "metadata": {},
     "output_type": "execute_result"
    }
   ],
   "source": [
    "train_features[num]"
   ],
   "metadata": {
    "collapsed": false
   }
  },
  {
   "cell_type": "code",
   "execution_count": 8,
   "outputs": [
    {
     "data": {
      "text/plain": "      mssubclass  mszoning  lotfrontage     lotarea  street  alley  lotshape  \\\nId                                                                             \n1             60      1151         65.0   91.923882    1454   1369       925   \n2             20      1151         80.0   97.979590    1454   1369       925   \n3             60      1151         68.0  106.066017    1454   1369       484   \n4             70      1151         60.0   97.724101    1454   1369       484   \n5             60      1151         84.0  119.415242    1454   1369       484   \n...          ...       ...          ...         ...     ...    ...       ...   \n1456          60      1151         62.0   88.977525    1454   1369       925   \n1457          20      1151         85.0  114.782403    1454   1369       925   \n1458          70      1151         66.0   95.089432    1454   1369       925   \n1459          20      1151         68.0   98.574845    1454   1369       925   \n1460          20      1151         75.0   99.684502    1454   1369       925   \n\n      landcontour  utilities  lotconfig  ...  drivfeat1  drivfeat2  drivfeat3  \\\nId                                       ...                                    \n1            1311       1459       1052  ...         35         12         12   \n2            1311       1459         47  ...         48         12          9   \n3            1311       1459       1052  ...         35         12         12   \n4            1311       1459        263  ...         35         12          9   \n5            1311       1459         47  ...         40         12         12   \n...           ...        ...        ...  ...        ...        ...        ...   \n1456         1311       1459       1052  ...         30         12          9   \n1457         1311       1459       1052  ...         36         12          9   \n1458         1311       1459       1052  ...         63         12         20   \n1459         1311       1459       1052  ...         30          9          9   \n1460         1311       1459       1052  ...         30          9         12   \n\n      drivfeat4   drivfeat5   drivfeat6    pcafeat1  pcafeat2  pcafeat3  \\\nId                                                                        \n1            61  259.008989  524.587356    0.000000         0    259560   \n2           298    1.084862  524.587356    0.000000         3     47080   \n3            42  259.008989  524.587356    0.000000         3    259560   \n4           307    1.084862  426.857881    0.000000         4      7828   \n5           276  259.008989  524.587356    0.000000         3    259560   \n...         ...         ...         ...         ...       ...       ...   \n1456         40    1.084862  524.587356    0.000000         3    259560   \n1457        349  239.304688  524.587356  392.462963         6     15336   \n1458         60    1.084862  524.587356    0.000000         8      3660   \n1459        478    1.084862  524.587356  392.462963         0     47080   \n1460        804    1.084862  524.587356  310.739130         0     45954   \n\n      pcafeat4  \nId              \n1       6009.0  \n2       5928.0  \n3       6003.0  \n4       5994.0  \n5       6000.0  \n...        ...  \n1456    5997.0  \n1457    5934.0  \n1458    5823.0  \n1459    5850.0  \n1460    5895.0  \n\n[1460 rows x 96 columns]",
      "text/html": "<div>\n<style scoped>\n    .dataframe tbody tr th:only-of-type {\n        vertical-align: middle;\n    }\n\n    .dataframe tbody tr th {\n        vertical-align: top;\n    }\n\n    .dataframe thead th {\n        text-align: right;\n    }\n</style>\n<table border=\"1\" class=\"dataframe\">\n  <thead>\n    <tr style=\"text-align: right;\">\n      <th></th>\n      <th>mssubclass</th>\n      <th>mszoning</th>\n      <th>lotfrontage</th>\n      <th>lotarea</th>\n      <th>street</th>\n      <th>alley</th>\n      <th>lotshape</th>\n      <th>landcontour</th>\n      <th>utilities</th>\n      <th>lotconfig</th>\n      <th>...</th>\n      <th>drivfeat1</th>\n      <th>drivfeat2</th>\n      <th>drivfeat3</th>\n      <th>drivfeat4</th>\n      <th>drivfeat5</th>\n      <th>drivfeat6</th>\n      <th>pcafeat1</th>\n      <th>pcafeat2</th>\n      <th>pcafeat3</th>\n      <th>pcafeat4</th>\n    </tr>\n    <tr>\n      <th>Id</th>\n      <th></th>\n      <th></th>\n      <th></th>\n      <th></th>\n      <th></th>\n      <th></th>\n      <th></th>\n      <th></th>\n      <th></th>\n      <th></th>\n      <th></th>\n      <th></th>\n      <th></th>\n      <th></th>\n      <th></th>\n      <th></th>\n      <th></th>\n      <th></th>\n      <th></th>\n      <th></th>\n      <th></th>\n    </tr>\n  </thead>\n  <tbody>\n    <tr>\n      <th>1</th>\n      <td>60</td>\n      <td>1151</td>\n      <td>65.0</td>\n      <td>91.923882</td>\n      <td>1454</td>\n      <td>1369</td>\n      <td>925</td>\n      <td>1311</td>\n      <td>1459</td>\n      <td>1052</td>\n      <td>...</td>\n      <td>35</td>\n      <td>12</td>\n      <td>12</td>\n      <td>61</td>\n      <td>259.008989</td>\n      <td>524.587356</td>\n      <td>0.000000</td>\n      <td>0</td>\n      <td>259560</td>\n      <td>6009.0</td>\n    </tr>\n    <tr>\n      <th>2</th>\n      <td>20</td>\n      <td>1151</td>\n      <td>80.0</td>\n      <td>97.979590</td>\n      <td>1454</td>\n      <td>1369</td>\n      <td>925</td>\n      <td>1311</td>\n      <td>1459</td>\n      <td>47</td>\n      <td>...</td>\n      <td>48</td>\n      <td>12</td>\n      <td>9</td>\n      <td>298</td>\n      <td>1.084862</td>\n      <td>524.587356</td>\n      <td>0.000000</td>\n      <td>3</td>\n      <td>47080</td>\n      <td>5928.0</td>\n    </tr>\n    <tr>\n      <th>3</th>\n      <td>60</td>\n      <td>1151</td>\n      <td>68.0</td>\n      <td>106.066017</td>\n      <td>1454</td>\n      <td>1369</td>\n      <td>484</td>\n      <td>1311</td>\n      <td>1459</td>\n      <td>1052</td>\n      <td>...</td>\n      <td>35</td>\n      <td>12</td>\n      <td>12</td>\n      <td>42</td>\n      <td>259.008989</td>\n      <td>524.587356</td>\n      <td>0.000000</td>\n      <td>3</td>\n      <td>259560</td>\n      <td>6003.0</td>\n    </tr>\n    <tr>\n      <th>4</th>\n      <td>70</td>\n      <td>1151</td>\n      <td>60.0</td>\n      <td>97.724101</td>\n      <td>1454</td>\n      <td>1369</td>\n      <td>484</td>\n      <td>1311</td>\n      <td>1459</td>\n      <td>263</td>\n      <td>...</td>\n      <td>35</td>\n      <td>12</td>\n      <td>9</td>\n      <td>307</td>\n      <td>1.084862</td>\n      <td>426.857881</td>\n      <td>0.000000</td>\n      <td>4</td>\n      <td>7828</td>\n      <td>5994.0</td>\n    </tr>\n    <tr>\n      <th>5</th>\n      <td>60</td>\n      <td>1151</td>\n      <td>84.0</td>\n      <td>119.415242</td>\n      <td>1454</td>\n      <td>1369</td>\n      <td>484</td>\n      <td>1311</td>\n      <td>1459</td>\n      <td>47</td>\n      <td>...</td>\n      <td>40</td>\n      <td>12</td>\n      <td>12</td>\n      <td>276</td>\n      <td>259.008989</td>\n      <td>524.587356</td>\n      <td>0.000000</td>\n      <td>3</td>\n      <td>259560</td>\n      <td>6000.0</td>\n    </tr>\n    <tr>\n      <th>...</th>\n      <td>...</td>\n      <td>...</td>\n      <td>...</td>\n      <td>...</td>\n      <td>...</td>\n      <td>...</td>\n      <td>...</td>\n      <td>...</td>\n      <td>...</td>\n      <td>...</td>\n      <td>...</td>\n      <td>...</td>\n      <td>...</td>\n      <td>...</td>\n      <td>...</td>\n      <td>...</td>\n      <td>...</td>\n      <td>...</td>\n      <td>...</td>\n      <td>...</td>\n      <td>...</td>\n    </tr>\n    <tr>\n      <th>1456</th>\n      <td>60</td>\n      <td>1151</td>\n      <td>62.0</td>\n      <td>88.977525</td>\n      <td>1454</td>\n      <td>1369</td>\n      <td>925</td>\n      <td>1311</td>\n      <td>1459</td>\n      <td>1052</td>\n      <td>...</td>\n      <td>30</td>\n      <td>12</td>\n      <td>9</td>\n      <td>40</td>\n      <td>1.084862</td>\n      <td>524.587356</td>\n      <td>0.000000</td>\n      <td>3</td>\n      <td>259560</td>\n      <td>5997.0</td>\n    </tr>\n    <tr>\n      <th>1457</th>\n      <td>20</td>\n      <td>1151</td>\n      <td>85.0</td>\n      <td>114.782403</td>\n      <td>1454</td>\n      <td>1369</td>\n      <td>925</td>\n      <td>1311</td>\n      <td>1459</td>\n      <td>1052</td>\n      <td>...</td>\n      <td>36</td>\n      <td>12</td>\n      <td>9</td>\n      <td>349</td>\n      <td>239.304688</td>\n      <td>524.587356</td>\n      <td>392.462963</td>\n      <td>6</td>\n      <td>15336</td>\n      <td>5934.0</td>\n    </tr>\n    <tr>\n      <th>1458</th>\n      <td>70</td>\n      <td>1151</td>\n      <td>66.0</td>\n      <td>95.089432</td>\n      <td>1454</td>\n      <td>1369</td>\n      <td>925</td>\n      <td>1311</td>\n      <td>1459</td>\n      <td>1052</td>\n      <td>...</td>\n      <td>63</td>\n      <td>12</td>\n      <td>20</td>\n      <td>60</td>\n      <td>1.084862</td>\n      <td>524.587356</td>\n      <td>0.000000</td>\n      <td>8</td>\n      <td>3660</td>\n      <td>5823.0</td>\n    </tr>\n    <tr>\n      <th>1459</th>\n      <td>20</td>\n      <td>1151</td>\n      <td>68.0</td>\n      <td>98.574845</td>\n      <td>1454</td>\n      <td>1369</td>\n      <td>925</td>\n      <td>1311</td>\n      <td>1459</td>\n      <td>1052</td>\n      <td>...</td>\n      <td>30</td>\n      <td>9</td>\n      <td>9</td>\n      <td>478</td>\n      <td>1.084862</td>\n      <td>524.587356</td>\n      <td>392.462963</td>\n      <td>0</td>\n      <td>47080</td>\n      <td>5850.0</td>\n    </tr>\n    <tr>\n      <th>1460</th>\n      <td>20</td>\n      <td>1151</td>\n      <td>75.0</td>\n      <td>99.684502</td>\n      <td>1454</td>\n      <td>1369</td>\n      <td>925</td>\n      <td>1311</td>\n      <td>1459</td>\n      <td>1052</td>\n      <td>...</td>\n      <td>30</td>\n      <td>9</td>\n      <td>12</td>\n      <td>804</td>\n      <td>1.084862</td>\n      <td>524.587356</td>\n      <td>310.739130</td>\n      <td>0</td>\n      <td>45954</td>\n      <td>5895.0</td>\n    </tr>\n  </tbody>\n</table>\n<p>1460 rows × 96 columns</p>\n</div>"
     },
     "execution_count": 8,
     "metadata": {},
     "output_type": "execute_result"
    }
   ],
   "source": [
    "derived_features(train_features)\n",
    "train_features"
   ],
   "metadata": {
    "collapsed": false
   }
  },
  {
   "cell_type": "code",
   "execution_count": 9,
   "outputs": [
    {
     "data": {
      "text/plain": "      mssubclass  mszoning  lotfrontage     lotarea  street  alley  lotshape  \\\nId                                                                             \n1461          20        10         80.0  107.805380    1453   1352       934   \n1462          20      1114         81.0  119.444548    1453   1352       484   \n1463          60      1114         74.0  117.601020    1453   1352       484   \n1464          60      1114         78.0   99.889939    1453   1352       484   \n1465         120      1114         43.0   70.746025    1453   1352       484   \n...          ...       ...          ...         ...     ...    ...       ...   \n2915         160       242         21.0   44.000000    1453   1352       934   \n2916         160       242         21.0   43.520110    1453   1352       934   \n2917          20      1114        160.0  141.421356    1453   1352       934   \n2918          85      1114         62.0  102.181212    1453   1352       934   \n2919          60      1114         74.0   98.117277    1453   1352       934   \n\n      landcontour  utilities  lotconfig  ...  drivfeat1  drivfeat2  drivfeat3  \\\nId                                       ...                                    \n1461         1311       1457       1081  ...         30          9          9   \n1462         1311       1457        248  ...         36          9          9   \n1463         1311       1457       1081  ...         25         12          9   \n1464         1311       1457       1081  ...         36          9          9   \n1465           70       1457       1081  ...         40         12         12   \n...           ...        ...        ...  ...        ...        ...        ...   \n2915         1311       1457       1081  ...         28          9          9   \n2916         1311       1457       1081  ...         20          9          9   \n2917         1311       1457       1081  ...         35          9          9   \n2918         1311       1457       1081  ...         25         12          9   \n2919         1311       1457       1081  ...         35         12          9   \n\n      drivfeat4   drivfeat5   drivfeat6    pcafeat1  pcafeat2  pcafeat3  \\\nId                                                                        \n1461        260    0.541387  527.256741  315.268293         0    260100   \n1462        429  264.403226  527.256741    0.004850         0     39770   \n1463        246    0.541387  527.256741    0.004850         3    260100   \n1464        396  264.403226  527.256741    0.004850         4    260100   \n1465        226    0.541387  527.256741    0.004850         0     43780   \n...         ...         ...         ...         ...       ...       ...   \n2915          0    0.541387    0.000000    0.004850         0      4290   \n2916         24    0.541387  353.833333    0.004850         0      4290   \n2917        474    0.541387  411.150510    0.004850         3    260100   \n2918        112    0.541387    0.000000    0.004850         0      9460   \n2919        238  264.403226  527.256741    0.004850         3     43780   \n\n      pcafeat4  \nId              \n1461    5883.0  \n1462    5874.0  \n1463    5991.0  \n1464    5994.0  \n1465    5976.0  \n...        ...  \n2915       1.0  \n2916    5910.0  \n2917    5880.0  \n2918       1.0  \n2919    5979.0  \n\n[1459 rows x 96 columns]",
      "text/html": "<div>\n<style scoped>\n    .dataframe tbody tr th:only-of-type {\n        vertical-align: middle;\n    }\n\n    .dataframe tbody tr th {\n        vertical-align: top;\n    }\n\n    .dataframe thead th {\n        text-align: right;\n    }\n</style>\n<table border=\"1\" class=\"dataframe\">\n  <thead>\n    <tr style=\"text-align: right;\">\n      <th></th>\n      <th>mssubclass</th>\n      <th>mszoning</th>\n      <th>lotfrontage</th>\n      <th>lotarea</th>\n      <th>street</th>\n      <th>alley</th>\n      <th>lotshape</th>\n      <th>landcontour</th>\n      <th>utilities</th>\n      <th>lotconfig</th>\n      <th>...</th>\n      <th>drivfeat1</th>\n      <th>drivfeat2</th>\n      <th>drivfeat3</th>\n      <th>drivfeat4</th>\n      <th>drivfeat5</th>\n      <th>drivfeat6</th>\n      <th>pcafeat1</th>\n      <th>pcafeat2</th>\n      <th>pcafeat3</th>\n      <th>pcafeat4</th>\n    </tr>\n    <tr>\n      <th>Id</th>\n      <th></th>\n      <th></th>\n      <th></th>\n      <th></th>\n      <th></th>\n      <th></th>\n      <th></th>\n      <th></th>\n      <th></th>\n      <th></th>\n      <th></th>\n      <th></th>\n      <th></th>\n      <th></th>\n      <th></th>\n      <th></th>\n      <th></th>\n      <th></th>\n      <th></th>\n      <th></th>\n      <th></th>\n    </tr>\n  </thead>\n  <tbody>\n    <tr>\n      <th>1461</th>\n      <td>20</td>\n      <td>10</td>\n      <td>80.0</td>\n      <td>107.805380</td>\n      <td>1453</td>\n      <td>1352</td>\n      <td>934</td>\n      <td>1311</td>\n      <td>1457</td>\n      <td>1081</td>\n      <td>...</td>\n      <td>30</td>\n      <td>9</td>\n      <td>9</td>\n      <td>260</td>\n      <td>0.541387</td>\n      <td>527.256741</td>\n      <td>315.268293</td>\n      <td>0</td>\n      <td>260100</td>\n      <td>5883.0</td>\n    </tr>\n    <tr>\n      <th>1462</th>\n      <td>20</td>\n      <td>1114</td>\n      <td>81.0</td>\n      <td>119.444548</td>\n      <td>1453</td>\n      <td>1352</td>\n      <td>484</td>\n      <td>1311</td>\n      <td>1457</td>\n      <td>248</td>\n      <td>...</td>\n      <td>36</td>\n      <td>9</td>\n      <td>9</td>\n      <td>429</td>\n      <td>264.403226</td>\n      <td>527.256741</td>\n      <td>0.004850</td>\n      <td>0</td>\n      <td>39770</td>\n      <td>5874.0</td>\n    </tr>\n    <tr>\n      <th>1463</th>\n      <td>60</td>\n      <td>1114</td>\n      <td>74.0</td>\n      <td>117.601020</td>\n      <td>1453</td>\n      <td>1352</td>\n      <td>484</td>\n      <td>1311</td>\n      <td>1457</td>\n      <td>1081</td>\n      <td>...</td>\n      <td>25</td>\n      <td>12</td>\n      <td>9</td>\n      <td>246</td>\n      <td>0.541387</td>\n      <td>527.256741</td>\n      <td>0.004850</td>\n      <td>3</td>\n      <td>260100</td>\n      <td>5991.0</td>\n    </tr>\n    <tr>\n      <th>1464</th>\n      <td>60</td>\n      <td>1114</td>\n      <td>78.0</td>\n      <td>99.889939</td>\n      <td>1453</td>\n      <td>1352</td>\n      <td>484</td>\n      <td>1311</td>\n      <td>1457</td>\n      <td>1081</td>\n      <td>...</td>\n      <td>36</td>\n      <td>9</td>\n      <td>9</td>\n      <td>396</td>\n      <td>264.403226</td>\n      <td>527.256741</td>\n      <td>0.004850</td>\n      <td>4</td>\n      <td>260100</td>\n      <td>5994.0</td>\n    </tr>\n    <tr>\n      <th>1465</th>\n      <td>120</td>\n      <td>1114</td>\n      <td>43.0</td>\n      <td>70.746025</td>\n      <td>1453</td>\n      <td>1352</td>\n      <td>484</td>\n      <td>70</td>\n      <td>1457</td>\n      <td>1081</td>\n      <td>...</td>\n      <td>40</td>\n      <td>12</td>\n      <td>12</td>\n      <td>226</td>\n      <td>0.541387</td>\n      <td>527.256741</td>\n      <td>0.004850</td>\n      <td>0</td>\n      <td>43780</td>\n      <td>5976.0</td>\n    </tr>\n    <tr>\n      <th>...</th>\n      <td>...</td>\n      <td>...</td>\n      <td>...</td>\n      <td>...</td>\n      <td>...</td>\n      <td>...</td>\n      <td>...</td>\n      <td>...</td>\n      <td>...</td>\n      <td>...</td>\n      <td>...</td>\n      <td>...</td>\n      <td>...</td>\n      <td>...</td>\n      <td>...</td>\n      <td>...</td>\n      <td>...</td>\n      <td>...</td>\n      <td>...</td>\n      <td>...</td>\n      <td>...</td>\n    </tr>\n    <tr>\n      <th>2915</th>\n      <td>160</td>\n      <td>242</td>\n      <td>21.0</td>\n      <td>44.000000</td>\n      <td>1453</td>\n      <td>1352</td>\n      <td>934</td>\n      <td>1311</td>\n      <td>1457</td>\n      <td>1081</td>\n      <td>...</td>\n      <td>28</td>\n      <td>9</td>\n      <td>9</td>\n      <td>0</td>\n      <td>0.541387</td>\n      <td>0.000000</td>\n      <td>0.004850</td>\n      <td>0</td>\n      <td>4290</td>\n      <td>1.0</td>\n    </tr>\n    <tr>\n      <th>2916</th>\n      <td>160</td>\n      <td>242</td>\n      <td>21.0</td>\n      <td>43.520110</td>\n      <td>1453</td>\n      <td>1352</td>\n      <td>934</td>\n      <td>1311</td>\n      <td>1457</td>\n      <td>1081</td>\n      <td>...</td>\n      <td>20</td>\n      <td>9</td>\n      <td>9</td>\n      <td>24</td>\n      <td>0.541387</td>\n      <td>353.833333</td>\n      <td>0.004850</td>\n      <td>0</td>\n      <td>4290</td>\n      <td>5910.0</td>\n    </tr>\n    <tr>\n      <th>2917</th>\n      <td>20</td>\n      <td>1114</td>\n      <td>160.0</td>\n      <td>141.421356</td>\n      <td>1453</td>\n      <td>1352</td>\n      <td>934</td>\n      <td>1311</td>\n      <td>1457</td>\n      <td>1081</td>\n      <td>...</td>\n      <td>35</td>\n      <td>9</td>\n      <td>9</td>\n      <td>474</td>\n      <td>0.541387</td>\n      <td>411.150510</td>\n      <td>0.004850</td>\n      <td>3</td>\n      <td>260100</td>\n      <td>5880.0</td>\n    </tr>\n    <tr>\n      <th>2918</th>\n      <td>85</td>\n      <td>1114</td>\n      <td>62.0</td>\n      <td>102.181212</td>\n      <td>1453</td>\n      <td>1352</td>\n      <td>934</td>\n      <td>1311</td>\n      <td>1457</td>\n      <td>1081</td>\n      <td>...</td>\n      <td>25</td>\n      <td>12</td>\n      <td>9</td>\n      <td>112</td>\n      <td>0.541387</td>\n      <td>0.000000</td>\n      <td>0.004850</td>\n      <td>0</td>\n      <td>9460</td>\n      <td>1.0</td>\n    </tr>\n    <tr>\n      <th>2919</th>\n      <td>60</td>\n      <td>1114</td>\n      <td>74.0</td>\n      <td>98.117277</td>\n      <td>1453</td>\n      <td>1352</td>\n      <td>934</td>\n      <td>1311</td>\n      <td>1457</td>\n      <td>1081</td>\n      <td>...</td>\n      <td>35</td>\n      <td>12</td>\n      <td>9</td>\n      <td>238</td>\n      <td>264.403226</td>\n      <td>527.256741</td>\n      <td>0.004850</td>\n      <td>3</td>\n      <td>43780</td>\n      <td>5979.0</td>\n    </tr>\n  </tbody>\n</table>\n<p>1459 rows × 96 columns</p>\n</div>"
     },
     "execution_count": 9,
     "metadata": {},
     "output_type": "execute_result"
    }
   ],
   "source": [
    "derived_features(test_features)\n",
    "test_features"
   ],
   "metadata": {
    "collapsed": false
   }
  },
  {
   "cell_type": "code",
   "execution_count": 10,
   "outputs": [],
   "source": [
    "def arithmetic_features(df):\n",
    "    df_c = df.copy()\n",
    "\n",
    "    df_c['feat_1'] = df_c['bsmtfintype1'] / df_c['bsmtfintype2']\n",
    "    df_c['feat_2'] = df_c['bsmtfinsf1'] / df_c['bsmtfinsf2']\n",
    "    df_c['feat_3'] = df_c['bsmtunfsf'] + df_c['bsmtfinsf1'] + df_c['bsmtfinsf2']\n",
    "    df_c['feat_4'] = df_c['garagefinish'] / df_c['garagearea']\n",
    "\n",
    "    df_c['feat_5'] = np.sqrt(df_c[[col for col in df_c if 'sf' in col]].sum(axis=1))\n",
    "    df_c['feat_6'] = df_c[[col for col in df_c if 'sf' in col]].sum(axis=1)\n",
    "    df_c['feat_7'] = df_c[[col for col in df_c if 'abv' in col]].sum(axis=1)\n",
    "\n",
    "    df_c['feat_8'] = df_c.groupby('bsmtexposure')['bsmtfinsf1'].transform('mean')\n",
    "    df_c['feat_9'] = df_c.groupby('bsmtfintype1')['bsmtfinsf1'].transform('mean')\n",
    "    df_c['feat_10'] = df_c.groupby('bsmtfintype1')['bsmtfinsf1'].transform('std')\n",
    "    df_c['feat_11'] = df_c.groupby('bsmtfintype2')['bsmtfinsf2'].transform('std')\n",
    "    df_c['feat_12'] = df_c.groupby('neighborhood')['garagearea'].transform('mean')\n",
    "    df_c['feat_12_1'] = df_c.groupby('overallqual')['garagearea'].transform('mean')\n",
    "    df_c['feat_13'] = df_c.groupby('neighborhood')['garagecond'].transform('mean')\n",
    "    df_c['feat_13_1'] = df_c.groupby('overallqual')['garagecond'].transform('mean')\n",
    "    df_c['feat_14'] = df_c.groupby('neighborhood')['garagequal'].transform('mean')\n",
    "    df_c['feat_14_1'] = df_c.groupby('overallqual')['garagequal'].transform('mean')\n",
    "\n",
    "    df_c['feat_15'] = df_c.groupby('neighborhood')['lotfrontage'].transform('mean')\n",
    "    df_c['feat_15_1'] = df_c.groupby('overallqual')['lotfrontage'].transform('mean')\n",
    "    df_c['feat_16'] = df_c.groupby('neighborhood')['overallqual'].transform('mean')\n",
    "    df_c['feat_16_1'] = df_c.groupby('overallqual')['overallqual'].transform('mean')\n",
    "    df_c['feat_17'] = df_c.groupby('neighborhood')['overallcond'].transform('mean')\n",
    "    df_c['feat_17_1'] = df_c.groupby('overallqual')['overallcond'].transform('mean')\n",
    "    df_c['feat_18'] = df_c.groupby('neighborhood')['lotarea'].transform('mean')\n",
    "    df_c['feat_18_1'] = df_c.groupby('overallqual')['lotarea'].transform('mean')\n",
    "    df_c['feat_19'] = df_c.groupby('neighborhood')['propage'].transform('mean')\n",
    "    df_c['feat_19_1'] = df_c.groupby('overallqual')['propage'].transform('mean')\n",
    "    df_c['feat_20'] = df_c.groupby('neighborhood')['modage'].transform('mean')\n",
    "    df_c['feat_20_1'] = df_c.groupby('overallqual')['modage'].transform('mean')\n",
    "    df_c['feat_21'] = df_c.groupby('neighborhood')['feat_3'].transform('mean')\n",
    "    df_c['feat_21_1'] = df_c.groupby('overallqual')['feat_3'].transform('mean')\n",
    "\n",
    "    df_c['feat_22'] = df_c.groupby('yearbuilt')['lotfrontage'].transform('mean')\n",
    "    df_c['feat_22_1'] = df_c.groupby('yearbuilt')['lotarea'].transform('mean')\n",
    "\n",
    "    return df_c"
   ],
   "metadata": {
    "collapsed": false
   }
  },
  {
   "cell_type": "code",
   "execution_count": 11,
   "outputs": [
    {
     "data": {
      "text/plain": "      mssubclass  mszoning  lotfrontage     lotarea  street  alley  lotshape  \\\nId                                                                             \n1             60      1151         65.0   91.923882    1454   1369       925   \n2             20      1151         80.0   97.979590    1454   1369       925   \n3             60      1151         68.0  106.066017    1454   1369       484   \n4             70      1151         60.0   97.724101    1454   1369       484   \n5             60      1151         84.0  119.415242    1454   1369       484   \n...          ...       ...          ...         ...     ...    ...       ...   \n1456          60      1151         62.0   88.977525    1454   1369       925   \n1457          20      1151         85.0  114.782403    1454   1369       925   \n1458          70      1151         66.0   95.089432    1454   1369       925   \n1459          20      1151         68.0   98.574845    1454   1369       925   \n1460          20      1151         75.0   99.684502    1454   1369       925   \n\n      landcontour  utilities  lotconfig  ...     feat_18   feat_18_1  \\\nId                                       ...                           \n1            1311       1459       1052  ...   97.307794   99.493379   \n2            1311       1459         47  ...  119.927309   96.044816   \n3            1311       1459       1052  ...   97.307794   99.493379   \n4            1311       1459        263  ...  106.167553   99.493379   \n5            1311       1459         47  ...  116.713574  103.063223   \n...           ...        ...        ...  ...         ...         ...   \n1456         1311       1459       1052  ...  104.985862   96.044816   \n1457         1311       1459       1052  ...  108.177926   96.044816   \n1458         1311       1459       1052  ...  106.167553   99.493379   \n1459         1311       1459       1052  ...   99.688647   97.353790   \n1460         1311       1459       1052  ...   97.869117   97.353790   \n\n        feat_19  feat_19_1    feat_20  feat_20_1      feat_21    feat_21_1  \\\nId                                                                           \n1      9.920000  19.517241   8.666667  11.460815  1157.586667  1108.514107   \n2     24.636364  40.219251  17.181818  26.459893  1321.272727   983.526738   \n3      9.920000  19.517241   8.666667  11.460815  1157.586667  1108.514107   \n4     65.941176  19.517241  28.294118  11.460815  1032.901961  1108.514107   \n5     12.390244  10.886905  11.170732   6.464286  1493.756098  1417.886905   \n...         ...        ...        ...        ...          ...          ...   \n1456   9.303797  40.219251   8.734177  26.459893   869.025316   983.526738   \n1457  32.191781  40.219251  26.301370  26.459893  1153.835616   983.526738   \n1458  65.941176  19.517241  28.294118  11.460815  1032.901961  1108.514107   \n1459  47.871111  53.042821  36.244444  32.518892  1026.168889   929.539043   \n1460  51.970000  53.042821  32.830000  32.518892   899.820000   929.539043   \n\n        feat_22   feat_22_1  \nId                           \n1     68.547956   94.027019  \n2     68.113382   93.271920  \n3     68.191601  100.865613  \n4     68.400000   93.539145  \n5     69.009457   88.123110  \n...         ...         ...  \n1456  57.914101   83.904488  \n1457  64.094945   96.042650  \n1458  69.917032   91.768164  \n1459  67.801990   95.145714  \n1460  75.512225  130.330079  \n\n[1460 rows x 129 columns]",
      "text/html": "<div>\n<style scoped>\n    .dataframe tbody tr th:only-of-type {\n        vertical-align: middle;\n    }\n\n    .dataframe tbody tr th {\n        vertical-align: top;\n    }\n\n    .dataframe thead th {\n        text-align: right;\n    }\n</style>\n<table border=\"1\" class=\"dataframe\">\n  <thead>\n    <tr style=\"text-align: right;\">\n      <th></th>\n      <th>mssubclass</th>\n      <th>mszoning</th>\n      <th>lotfrontage</th>\n      <th>lotarea</th>\n      <th>street</th>\n      <th>alley</th>\n      <th>lotshape</th>\n      <th>landcontour</th>\n      <th>utilities</th>\n      <th>lotconfig</th>\n      <th>...</th>\n      <th>feat_18</th>\n      <th>feat_18_1</th>\n      <th>feat_19</th>\n      <th>feat_19_1</th>\n      <th>feat_20</th>\n      <th>feat_20_1</th>\n      <th>feat_21</th>\n      <th>feat_21_1</th>\n      <th>feat_22</th>\n      <th>feat_22_1</th>\n    </tr>\n    <tr>\n      <th>Id</th>\n      <th></th>\n      <th></th>\n      <th></th>\n      <th></th>\n      <th></th>\n      <th></th>\n      <th></th>\n      <th></th>\n      <th></th>\n      <th></th>\n      <th></th>\n      <th></th>\n      <th></th>\n      <th></th>\n      <th></th>\n      <th></th>\n      <th></th>\n      <th></th>\n      <th></th>\n      <th></th>\n      <th></th>\n    </tr>\n  </thead>\n  <tbody>\n    <tr>\n      <th>1</th>\n      <td>60</td>\n      <td>1151</td>\n      <td>65.0</td>\n      <td>91.923882</td>\n      <td>1454</td>\n      <td>1369</td>\n      <td>925</td>\n      <td>1311</td>\n      <td>1459</td>\n      <td>1052</td>\n      <td>...</td>\n      <td>97.307794</td>\n      <td>99.493379</td>\n      <td>9.920000</td>\n      <td>19.517241</td>\n      <td>8.666667</td>\n      <td>11.460815</td>\n      <td>1157.586667</td>\n      <td>1108.514107</td>\n      <td>68.547956</td>\n      <td>94.027019</td>\n    </tr>\n    <tr>\n      <th>2</th>\n      <td>20</td>\n      <td>1151</td>\n      <td>80.0</td>\n      <td>97.979590</td>\n      <td>1454</td>\n      <td>1369</td>\n      <td>925</td>\n      <td>1311</td>\n      <td>1459</td>\n      <td>47</td>\n      <td>...</td>\n      <td>119.927309</td>\n      <td>96.044816</td>\n      <td>24.636364</td>\n      <td>40.219251</td>\n      <td>17.181818</td>\n      <td>26.459893</td>\n      <td>1321.272727</td>\n      <td>983.526738</td>\n      <td>68.113382</td>\n      <td>93.271920</td>\n    </tr>\n    <tr>\n      <th>3</th>\n      <td>60</td>\n      <td>1151</td>\n      <td>68.0</td>\n      <td>106.066017</td>\n      <td>1454</td>\n      <td>1369</td>\n      <td>484</td>\n      <td>1311</td>\n      <td>1459</td>\n      <td>1052</td>\n      <td>...</td>\n      <td>97.307794</td>\n      <td>99.493379</td>\n      <td>9.920000</td>\n      <td>19.517241</td>\n      <td>8.666667</td>\n      <td>11.460815</td>\n      <td>1157.586667</td>\n      <td>1108.514107</td>\n      <td>68.191601</td>\n      <td>100.865613</td>\n    </tr>\n    <tr>\n      <th>4</th>\n      <td>70</td>\n      <td>1151</td>\n      <td>60.0</td>\n      <td>97.724101</td>\n      <td>1454</td>\n      <td>1369</td>\n      <td>484</td>\n      <td>1311</td>\n      <td>1459</td>\n      <td>263</td>\n      <td>...</td>\n      <td>106.167553</td>\n      <td>99.493379</td>\n      <td>65.941176</td>\n      <td>19.517241</td>\n      <td>28.294118</td>\n      <td>11.460815</td>\n      <td>1032.901961</td>\n      <td>1108.514107</td>\n      <td>68.400000</td>\n      <td>93.539145</td>\n    </tr>\n    <tr>\n      <th>5</th>\n      <td>60</td>\n      <td>1151</td>\n      <td>84.0</td>\n      <td>119.415242</td>\n      <td>1454</td>\n      <td>1369</td>\n      <td>484</td>\n      <td>1311</td>\n      <td>1459</td>\n      <td>47</td>\n      <td>...</td>\n      <td>116.713574</td>\n      <td>103.063223</td>\n      <td>12.390244</td>\n      <td>10.886905</td>\n      <td>11.170732</td>\n      <td>6.464286</td>\n      <td>1493.756098</td>\n      <td>1417.886905</td>\n      <td>69.009457</td>\n      <td>88.123110</td>\n    </tr>\n    <tr>\n      <th>...</th>\n      <td>...</td>\n      <td>...</td>\n      <td>...</td>\n      <td>...</td>\n      <td>...</td>\n      <td>...</td>\n      <td>...</td>\n      <td>...</td>\n      <td>...</td>\n      <td>...</td>\n      <td>...</td>\n      <td>...</td>\n      <td>...</td>\n      <td>...</td>\n      <td>...</td>\n      <td>...</td>\n      <td>...</td>\n      <td>...</td>\n      <td>...</td>\n      <td>...</td>\n      <td>...</td>\n    </tr>\n    <tr>\n      <th>1456</th>\n      <td>60</td>\n      <td>1151</td>\n      <td>62.0</td>\n      <td>88.977525</td>\n      <td>1454</td>\n      <td>1369</td>\n      <td>925</td>\n      <td>1311</td>\n      <td>1459</td>\n      <td>1052</td>\n      <td>...</td>\n      <td>104.985862</td>\n      <td>96.044816</td>\n      <td>9.303797</td>\n      <td>40.219251</td>\n      <td>8.734177</td>\n      <td>26.459893</td>\n      <td>869.025316</td>\n      <td>983.526738</td>\n      <td>57.914101</td>\n      <td>83.904488</td>\n    </tr>\n    <tr>\n      <th>1457</th>\n      <td>20</td>\n      <td>1151</td>\n      <td>85.0</td>\n      <td>114.782403</td>\n      <td>1454</td>\n      <td>1369</td>\n      <td>925</td>\n      <td>1311</td>\n      <td>1459</td>\n      <td>1052</td>\n      <td>...</td>\n      <td>108.177926</td>\n      <td>96.044816</td>\n      <td>32.191781</td>\n      <td>40.219251</td>\n      <td>26.301370</td>\n      <td>26.459893</td>\n      <td>1153.835616</td>\n      <td>983.526738</td>\n      <td>64.094945</td>\n      <td>96.042650</td>\n    </tr>\n    <tr>\n      <th>1458</th>\n      <td>70</td>\n      <td>1151</td>\n      <td>66.0</td>\n      <td>95.089432</td>\n      <td>1454</td>\n      <td>1369</td>\n      <td>925</td>\n      <td>1311</td>\n      <td>1459</td>\n      <td>1052</td>\n      <td>...</td>\n      <td>106.167553</td>\n      <td>99.493379</td>\n      <td>65.941176</td>\n      <td>19.517241</td>\n      <td>28.294118</td>\n      <td>11.460815</td>\n      <td>1032.901961</td>\n      <td>1108.514107</td>\n      <td>69.917032</td>\n      <td>91.768164</td>\n    </tr>\n    <tr>\n      <th>1459</th>\n      <td>20</td>\n      <td>1151</td>\n      <td>68.0</td>\n      <td>98.574845</td>\n      <td>1454</td>\n      <td>1369</td>\n      <td>925</td>\n      <td>1311</td>\n      <td>1459</td>\n      <td>1052</td>\n      <td>...</td>\n      <td>99.688647</td>\n      <td>97.353790</td>\n      <td>47.871111</td>\n      <td>53.042821</td>\n      <td>36.244444</td>\n      <td>32.518892</td>\n      <td>1026.168889</td>\n      <td>929.539043</td>\n      <td>67.801990</td>\n      <td>95.145714</td>\n    </tr>\n    <tr>\n      <th>1460</th>\n      <td>20</td>\n      <td>1151</td>\n      <td>75.0</td>\n      <td>99.684502</td>\n      <td>1454</td>\n      <td>1369</td>\n      <td>925</td>\n      <td>1311</td>\n      <td>1459</td>\n      <td>1052</td>\n      <td>...</td>\n      <td>97.869117</td>\n      <td>97.353790</td>\n      <td>51.970000</td>\n      <td>53.042821</td>\n      <td>32.830000</td>\n      <td>32.518892</td>\n      <td>899.820000</td>\n      <td>929.539043</td>\n      <td>75.512225</td>\n      <td>130.330079</td>\n    </tr>\n  </tbody>\n</table>\n<p>1460 rows × 129 columns</p>\n</div>"
     },
     "execution_count": 11,
     "metadata": {},
     "output_type": "execute_result"
    }
   ],
   "source": [
    "train_features = arithmetic_features(train_features)\n",
    "train_features"
   ],
   "metadata": {
    "collapsed": false
   }
  },
  {
   "cell_type": "code",
   "execution_count": 12,
   "outputs": [
    {
     "data": {
      "text/plain": "      mssubclass  mszoning  lotfrontage     lotarea  street  alley  lotshape  \\\nId                                                                             \n1461          20        10         80.0  107.805380    1453   1352       934   \n1462          20      1114         81.0  119.444548    1453   1352       484   \n1463          60      1114         74.0  117.601020    1453   1352       484   \n1464          60      1114         78.0   99.889939    1453   1352       484   \n1465         120      1114         43.0   70.746025    1453   1352       484   \n...          ...       ...          ...         ...     ...    ...       ...   \n2915         160       242         21.0   44.000000    1453   1352       934   \n2916         160       242         21.0   43.520110    1453   1352       934   \n2917          20      1114        160.0  141.421356    1453   1352       934   \n2918          85      1114         62.0  102.181212    1453   1352       934   \n2919          60      1114         74.0   98.117277    1453   1352       934   \n\n      landcontour  utilities  lotconfig  ...     feat_18   feat_18_1  \\\nId                                       ...                           \n1461         1311       1457       1081  ...   98.748300   97.217518   \n1462         1311       1457        248  ...   98.748300   94.358162   \n1463         1311       1457       1081  ...  104.086420   97.217518   \n1464         1311       1457       1081  ...  104.086420   94.358162   \n1465           70       1457       1081  ...  104.637114  100.553621   \n...           ...        ...        ...  ...         ...         ...   \n2915         1311       1457       1081  ...   43.406838   86.124544   \n2916         1311       1457       1081  ...   43.406838   86.124544   \n2917         1311       1457       1081  ...  108.096275   97.217518   \n2918         1311       1457       1081  ...  108.096275   97.217518   \n2919         1311       1457       1081  ...  108.096275   94.915249   \n\n        feat_19  feat_19_1    feat_20  feat_20_1      feat_21    feat_21_1  \\\nId                                                                           \n1461  47.963303  52.331776  38.064220  35.023364  1036.550459   936.432243   \n1462  47.963303  39.532213  38.064220  26.893557  1036.550459   966.414566   \n1463   9.476744  52.331776   8.674419  35.023364   881.069767   936.432243   \n1464   9.476744  39.532213   8.674419  26.893557   881.069767   966.414566   \n1465   6.884615   9.149425   6.653846   6.166667  1597.461538  1407.264368   \n...         ...        ...        ...        ...          ...          ...   \n2915  35.550000  63.945455  32.050000  40.790909   574.950000   709.545455   \n2916  35.550000  63.945455  32.050000  40.790909   574.950000   709.545455   \n2917  25.861538  52.331776  22.153846  35.023364  1067.338462   936.432243   \n2918  25.861538  52.331776  22.153846  35.023364  1067.338462   936.432243   \n2919  25.861538  19.067616  22.153846  11.604982  1067.338462  1078.950178   \n\n        feat_22   feat_22_1  \nId                           \n1461  82.181023  103.822566  \n1462  71.777155  101.258053  \n1463  71.228251   95.834676  \n1464  72.646104   99.852799  \n1465  69.546551   96.049347  \n...         ...         ...  \n2915  44.972390   63.991154  \n2916  44.972390   63.991154  \n2917  79.686762  106.194191  \n2918  69.546551   96.049347  \n2919  75.438154  102.992637  \n\n[1459 rows x 129 columns]",
      "text/html": "<div>\n<style scoped>\n    .dataframe tbody tr th:only-of-type {\n        vertical-align: middle;\n    }\n\n    .dataframe tbody tr th {\n        vertical-align: top;\n    }\n\n    .dataframe thead th {\n        text-align: right;\n    }\n</style>\n<table border=\"1\" class=\"dataframe\">\n  <thead>\n    <tr style=\"text-align: right;\">\n      <th></th>\n      <th>mssubclass</th>\n      <th>mszoning</th>\n      <th>lotfrontage</th>\n      <th>lotarea</th>\n      <th>street</th>\n      <th>alley</th>\n      <th>lotshape</th>\n      <th>landcontour</th>\n      <th>utilities</th>\n      <th>lotconfig</th>\n      <th>...</th>\n      <th>feat_18</th>\n      <th>feat_18_1</th>\n      <th>feat_19</th>\n      <th>feat_19_1</th>\n      <th>feat_20</th>\n      <th>feat_20_1</th>\n      <th>feat_21</th>\n      <th>feat_21_1</th>\n      <th>feat_22</th>\n      <th>feat_22_1</th>\n    </tr>\n    <tr>\n      <th>Id</th>\n      <th></th>\n      <th></th>\n      <th></th>\n      <th></th>\n      <th></th>\n      <th></th>\n      <th></th>\n      <th></th>\n      <th></th>\n      <th></th>\n      <th></th>\n      <th></th>\n      <th></th>\n      <th></th>\n      <th></th>\n      <th></th>\n      <th></th>\n      <th></th>\n      <th></th>\n      <th></th>\n      <th></th>\n    </tr>\n  </thead>\n  <tbody>\n    <tr>\n      <th>1461</th>\n      <td>20</td>\n      <td>10</td>\n      <td>80.0</td>\n      <td>107.805380</td>\n      <td>1453</td>\n      <td>1352</td>\n      <td>934</td>\n      <td>1311</td>\n      <td>1457</td>\n      <td>1081</td>\n      <td>...</td>\n      <td>98.748300</td>\n      <td>97.217518</td>\n      <td>47.963303</td>\n      <td>52.331776</td>\n      <td>38.064220</td>\n      <td>35.023364</td>\n      <td>1036.550459</td>\n      <td>936.432243</td>\n      <td>82.181023</td>\n      <td>103.822566</td>\n    </tr>\n    <tr>\n      <th>1462</th>\n      <td>20</td>\n      <td>1114</td>\n      <td>81.0</td>\n      <td>119.444548</td>\n      <td>1453</td>\n      <td>1352</td>\n      <td>484</td>\n      <td>1311</td>\n      <td>1457</td>\n      <td>248</td>\n      <td>...</td>\n      <td>98.748300</td>\n      <td>94.358162</td>\n      <td>47.963303</td>\n      <td>39.532213</td>\n      <td>38.064220</td>\n      <td>26.893557</td>\n      <td>1036.550459</td>\n      <td>966.414566</td>\n      <td>71.777155</td>\n      <td>101.258053</td>\n    </tr>\n    <tr>\n      <th>1463</th>\n      <td>60</td>\n      <td>1114</td>\n      <td>74.0</td>\n      <td>117.601020</td>\n      <td>1453</td>\n      <td>1352</td>\n      <td>484</td>\n      <td>1311</td>\n      <td>1457</td>\n      <td>1081</td>\n      <td>...</td>\n      <td>104.086420</td>\n      <td>97.217518</td>\n      <td>9.476744</td>\n      <td>52.331776</td>\n      <td>8.674419</td>\n      <td>35.023364</td>\n      <td>881.069767</td>\n      <td>936.432243</td>\n      <td>71.228251</td>\n      <td>95.834676</td>\n    </tr>\n    <tr>\n      <th>1464</th>\n      <td>60</td>\n      <td>1114</td>\n      <td>78.0</td>\n      <td>99.889939</td>\n      <td>1453</td>\n      <td>1352</td>\n      <td>484</td>\n      <td>1311</td>\n      <td>1457</td>\n      <td>1081</td>\n      <td>...</td>\n      <td>104.086420</td>\n      <td>94.358162</td>\n      <td>9.476744</td>\n      <td>39.532213</td>\n      <td>8.674419</td>\n      <td>26.893557</td>\n      <td>881.069767</td>\n      <td>966.414566</td>\n      <td>72.646104</td>\n      <td>99.852799</td>\n    </tr>\n    <tr>\n      <th>1465</th>\n      <td>120</td>\n      <td>1114</td>\n      <td>43.0</td>\n      <td>70.746025</td>\n      <td>1453</td>\n      <td>1352</td>\n      <td>484</td>\n      <td>70</td>\n      <td>1457</td>\n      <td>1081</td>\n      <td>...</td>\n      <td>104.637114</td>\n      <td>100.553621</td>\n      <td>6.884615</td>\n      <td>9.149425</td>\n      <td>6.653846</td>\n      <td>6.166667</td>\n      <td>1597.461538</td>\n      <td>1407.264368</td>\n      <td>69.546551</td>\n      <td>96.049347</td>\n    </tr>\n    <tr>\n      <th>...</th>\n      <td>...</td>\n      <td>...</td>\n      <td>...</td>\n      <td>...</td>\n      <td>...</td>\n      <td>...</td>\n      <td>...</td>\n      <td>...</td>\n      <td>...</td>\n      <td>...</td>\n      <td>...</td>\n      <td>...</td>\n      <td>...</td>\n      <td>...</td>\n      <td>...</td>\n      <td>...</td>\n      <td>...</td>\n      <td>...</td>\n      <td>...</td>\n      <td>...</td>\n      <td>...</td>\n    </tr>\n    <tr>\n      <th>2915</th>\n      <td>160</td>\n      <td>242</td>\n      <td>21.0</td>\n      <td>44.000000</td>\n      <td>1453</td>\n      <td>1352</td>\n      <td>934</td>\n      <td>1311</td>\n      <td>1457</td>\n      <td>1081</td>\n      <td>...</td>\n      <td>43.406838</td>\n      <td>86.124544</td>\n      <td>35.550000</td>\n      <td>63.945455</td>\n      <td>32.050000</td>\n      <td>40.790909</td>\n      <td>574.950000</td>\n      <td>709.545455</td>\n      <td>44.972390</td>\n      <td>63.991154</td>\n    </tr>\n    <tr>\n      <th>2916</th>\n      <td>160</td>\n      <td>242</td>\n      <td>21.0</td>\n      <td>43.520110</td>\n      <td>1453</td>\n      <td>1352</td>\n      <td>934</td>\n      <td>1311</td>\n      <td>1457</td>\n      <td>1081</td>\n      <td>...</td>\n      <td>43.406838</td>\n      <td>86.124544</td>\n      <td>35.550000</td>\n      <td>63.945455</td>\n      <td>32.050000</td>\n      <td>40.790909</td>\n      <td>574.950000</td>\n      <td>709.545455</td>\n      <td>44.972390</td>\n      <td>63.991154</td>\n    </tr>\n    <tr>\n      <th>2917</th>\n      <td>20</td>\n      <td>1114</td>\n      <td>160.0</td>\n      <td>141.421356</td>\n      <td>1453</td>\n      <td>1352</td>\n      <td>934</td>\n      <td>1311</td>\n      <td>1457</td>\n      <td>1081</td>\n      <td>...</td>\n      <td>108.096275</td>\n      <td>97.217518</td>\n      <td>25.861538</td>\n      <td>52.331776</td>\n      <td>22.153846</td>\n      <td>35.023364</td>\n      <td>1067.338462</td>\n      <td>936.432243</td>\n      <td>79.686762</td>\n      <td>106.194191</td>\n    </tr>\n    <tr>\n      <th>2918</th>\n      <td>85</td>\n      <td>1114</td>\n      <td>62.0</td>\n      <td>102.181212</td>\n      <td>1453</td>\n      <td>1352</td>\n      <td>934</td>\n      <td>1311</td>\n      <td>1457</td>\n      <td>1081</td>\n      <td>...</td>\n      <td>108.096275</td>\n      <td>97.217518</td>\n      <td>25.861538</td>\n      <td>52.331776</td>\n      <td>22.153846</td>\n      <td>35.023364</td>\n      <td>1067.338462</td>\n      <td>936.432243</td>\n      <td>69.546551</td>\n      <td>96.049347</td>\n    </tr>\n    <tr>\n      <th>2919</th>\n      <td>60</td>\n      <td>1114</td>\n      <td>74.0</td>\n      <td>98.117277</td>\n      <td>1453</td>\n      <td>1352</td>\n      <td>934</td>\n      <td>1311</td>\n      <td>1457</td>\n      <td>1081</td>\n      <td>...</td>\n      <td>108.096275</td>\n      <td>94.915249</td>\n      <td>25.861538</td>\n      <td>19.067616</td>\n      <td>22.153846</td>\n      <td>11.604982</td>\n      <td>1067.338462</td>\n      <td>1078.950178</td>\n      <td>75.438154</td>\n      <td>102.992637</td>\n    </tr>\n  </tbody>\n</table>\n<p>1459 rows × 129 columns</p>\n</div>"
     },
     "execution_count": 12,
     "metadata": {},
     "output_type": "execute_result"
    }
   ],
   "source": [
    "test_features = arithmetic_features(test_features)\n",
    "test_features"
   ],
   "metadata": {
    "collapsed": false
   }
  },
  {
   "cell_type": "code",
   "execution_count": 13,
   "outputs": [],
   "source": [
    "train_features.replace([np.inf, -np.inf], np.nan, inplace=True)\n",
    "test_features.replace([np.inf, -np.inf], np.nan, inplace=True)\n",
    "\n",
    "train_features.fillna(0, inplace=True)\n",
    "test_features.fillna(0, inplace=True)"
   ],
   "metadata": {
    "collapsed": false
   }
  },
  {
   "cell_type": "code",
   "execution_count": 14,
   "outputs": [
    {
     "data": {
      "text/plain": "overallqual     0.573137\nfeat_18_1       0.569403\nfeat_21_1       0.568510\nfeat_20_1       0.566330\nfeat_16_1       0.562123\n                  ...   \nfeat_2          0.000000\npoolqc          0.000000\npoolarea        0.000000\nlowqualfinsf    0.000000\nmosold          0.000000\nLength: 129, dtype: float64"
     },
     "execution_count": 14,
     "metadata": {},
     "output_type": "execute_result"
    }
   ],
   "source": [
    "mask = []\n",
    "\n",
    "for t in train_features.columns:\n",
    "    if t in disc_cols:\n",
    "        mask.append(True)\n",
    "    else:\n",
    "        mask.append(False)\n",
    "\n",
    "score_mi = mi_score(train_features, target, mask)\n",
    "score_mi"
   ],
   "metadata": {
    "collapsed": false
   }
  },
  {
   "cell_type": "code",
   "execution_count": 15,
   "outputs": [],
   "source": [
    "high_mi = score_mi[:26].index.tolist()"
   ],
   "metadata": {
    "collapsed": false
   }
  },
  {
   "cell_type": "code",
   "execution_count": 16,
   "outputs": [
    {
     "data": {
      "text/plain": "{'overallqual': 0.7909816005838052,\n 'feat_18_1': 0.7378689651969845,\n 'feat_21_1': 0.8120392658665697,\n 'feat_20_1': -0.7500935784658546,\n 'feat_16_1': 0.7909816005838052,\n 'feat_15_1': 0.7347965234027727,\n 'feat_19_1': -0.7410835287813533,\n 'feat_12_1': 0.7836259037514758,\n 'feat_17_1': -0.3657736730097563,\n 'feat_14_1': 0.5446019455086608,\n 'feat_13_1': 0.519635496035474,\n 'neighborhood': -0.19620355518024993,\n 'grlivarea': 0.7087645388955903,\n 'feat_4': -0.35635608228244897,\n 'feat_12': 0.6159344600563479,\n 'feat_16': 0.6726943942304486,\n 'feat_15': 0.3422876582474918,\n 'feat_21': 0.6349907514594413,\n 'feat_20': -0.5481790187526568,\n 'drivfeat1': 0.5652938448019195,\n 'feat_19': -0.4821895367509899,\n 'feat_17': -0.3538337218580938,\n 'feat_18': 0.2802663739404662,\n 'feat_13': 0.4291057424078436,\n 'feat_5': 0.6272389123171918,\n 'feat_6': 0.6634130915470114}"
     },
     "execution_count": 16,
     "metadata": {},
     "output_type": "execute_result"
    }
   ],
   "source": [
    "corr_ = {}\n",
    "\n",
    "for col in high_mi:\n",
    "    corr_[col] = (np.corrcoef(train_features[col], target)[0, 1])\n",
    "\n",
    "corr_"
   ],
   "metadata": {
    "collapsed": false
   }
  },
  {
   "cell_type": "code",
   "execution_count": 17,
   "outputs": [],
   "source": [
    "cols_to_trans = ['lotfrontage', 'lotarea', 'masvnrarea',\n",
    "                 'bsmtfinsf1', 'bsmtfinsf2', 'bsmtunfsf',\n",
    "                 'totalbsmtsf', '1stflrsf', '2ndflrsf',\n",
    "                 'lowqualfinsf', 'grlivarea', 'garagearea',\n",
    "                 'wooddecksf', 'screenporch', 'enclosedporch',\n",
    "                 'openporchsf', 'propage', 'modage', 'timetomod',\n",
    "                 'drivfeat4', 'pcafeat4']\n",
    "\n",
    "trans = train_features[cols_to_trans]"
   ],
   "metadata": {
    "collapsed": false
   }
  },
  {
   "cell_type": "code",
   "execution_count": 18,
   "outputs": [
    {
     "data": {
      "text/plain": "QuantileTransformer(output_distribution='normal')",
      "text/html": "<style>#sk-container-id-1 {color: black;background-color: white;}#sk-container-id-1 pre{padding: 0;}#sk-container-id-1 div.sk-toggleable {background-color: white;}#sk-container-id-1 label.sk-toggleable__label {cursor: pointer;display: block;width: 100%;margin-bottom: 0;padding: 0.3em;box-sizing: border-box;text-align: center;}#sk-container-id-1 label.sk-toggleable__label-arrow:before {content: \"▸\";float: left;margin-right: 0.25em;color: #696969;}#sk-container-id-1 label.sk-toggleable__label-arrow:hover:before {color: black;}#sk-container-id-1 div.sk-estimator:hover label.sk-toggleable__label-arrow:before {color: black;}#sk-container-id-1 div.sk-toggleable__content {max-height: 0;max-width: 0;overflow: hidden;text-align: left;background-color: #f0f8ff;}#sk-container-id-1 div.sk-toggleable__content pre {margin: 0.2em;color: black;border-radius: 0.25em;background-color: #f0f8ff;}#sk-container-id-1 input.sk-toggleable__control:checked~div.sk-toggleable__content {max-height: 200px;max-width: 100%;overflow: auto;}#sk-container-id-1 input.sk-toggleable__control:checked~label.sk-toggleable__label-arrow:before {content: \"▾\";}#sk-container-id-1 div.sk-estimator input.sk-toggleable__control:checked~label.sk-toggleable__label {background-color: #d4ebff;}#sk-container-id-1 div.sk-label input.sk-toggleable__control:checked~label.sk-toggleable__label {background-color: #d4ebff;}#sk-container-id-1 input.sk-hidden--visually {border: 0;clip: rect(1px 1px 1px 1px);clip: rect(1px, 1px, 1px, 1px);height: 1px;margin: -1px;overflow: hidden;padding: 0;position: absolute;width: 1px;}#sk-container-id-1 div.sk-estimator {font-family: monospace;background-color: #f0f8ff;border: 1px dotted black;border-radius: 0.25em;box-sizing: border-box;margin-bottom: 0.5em;}#sk-container-id-1 div.sk-estimator:hover {background-color: #d4ebff;}#sk-container-id-1 div.sk-parallel-item::after {content: \"\";width: 100%;border-bottom: 1px solid gray;flex-grow: 1;}#sk-container-id-1 div.sk-label:hover label.sk-toggleable__label {background-color: #d4ebff;}#sk-container-id-1 div.sk-serial::before {content: \"\";position: absolute;border-left: 1px solid gray;box-sizing: border-box;top: 0;bottom: 0;left: 50%;z-index: 0;}#sk-container-id-1 div.sk-serial {display: flex;flex-direction: column;align-items: center;background-color: white;padding-right: 0.2em;padding-left: 0.2em;position: relative;}#sk-container-id-1 div.sk-item {position: relative;z-index: 1;}#sk-container-id-1 div.sk-parallel {display: flex;align-items: stretch;justify-content: center;background-color: white;position: relative;}#sk-container-id-1 div.sk-item::before, #sk-container-id-1 div.sk-parallel-item::before {content: \"\";position: absolute;border-left: 1px solid gray;box-sizing: border-box;top: 0;bottom: 0;left: 50%;z-index: -1;}#sk-container-id-1 div.sk-parallel-item {display: flex;flex-direction: column;z-index: 1;position: relative;background-color: white;}#sk-container-id-1 div.sk-parallel-item:first-child::after {align-self: flex-end;width: 50%;}#sk-container-id-1 div.sk-parallel-item:last-child::after {align-self: flex-start;width: 50%;}#sk-container-id-1 div.sk-parallel-item:only-child::after {width: 0;}#sk-container-id-1 div.sk-dashed-wrapped {border: 1px dashed gray;margin: 0 0.4em 0.5em 0.4em;box-sizing: border-box;padding-bottom: 0.4em;background-color: white;}#sk-container-id-1 div.sk-label label {font-family: monospace;font-weight: bold;display: inline-block;line-height: 1.2em;}#sk-container-id-1 div.sk-label-container {text-align: center;}#sk-container-id-1 div.sk-container {/* jupyter's `normalize.less` sets `[hidden] { display: none; }` but bootstrap.min.css set `[hidden] { display: none !important; }` so we also need the `!important` here to be able to override the default hidden behavior on the sphinx rendered scikit-learn.org. See: https://github.com/scikit-learn/scikit-learn/issues/21755 */display: inline-block !important;position: relative;}#sk-container-id-1 div.sk-text-repr-fallback {display: none;}</style><div id=\"sk-container-id-1\" class=\"sk-top-container\"><div class=\"sk-text-repr-fallback\"><pre>QuantileTransformer(output_distribution=&#x27;normal&#x27;)</pre><b>In a Jupyter environment, please rerun this cell to show the HTML representation or trust the notebook. <br />On GitHub, the HTML representation is unable to render, please try loading this page with nbviewer.org.</b></div><div class=\"sk-container\" hidden><div class=\"sk-item\"><div class=\"sk-estimator sk-toggleable\"><input class=\"sk-toggleable__control sk-hidden--visually\" id=\"sk-estimator-id-1\" type=\"checkbox\" checked><label for=\"sk-estimator-id-1\" class=\"sk-toggleable__label sk-toggleable__label-arrow\">QuantileTransformer</label><div class=\"sk-toggleable__content\"><pre>QuantileTransformer(output_distribution=&#x27;normal&#x27;)</pre></div></div></div></div></div>"
     },
     "execution_count": 18,
     "metadata": {},
     "output_type": "execute_result"
    }
   ],
   "source": [
    "q_transformer = quantile_transformation(features=trans, output_distribution='normal',\n",
    "                                        n_quantiles=1000)\n",
    "q_transformer"
   ],
   "metadata": {
    "collapsed": false
   }
  },
  {
   "cell_type": "code",
   "execution_count": 19,
   "outputs": [],
   "source": [
    "train_features[cols_to_trans] = q_transformer.fit_transform(trans)\n",
    "test_features[cols_to_trans] = q_transformer.transform(test_features[cols_to_trans])"
   ],
   "metadata": {
    "collapsed": false
   }
  },
  {
   "cell_type": "code",
   "execution_count": 20,
   "outputs": [],
   "source": [
    "# save processed data\n",
    "with open('../data/processed/train.pkl', 'wb') as file:\n",
    "    pd.merge(train_features,\n",
    "             pd.Series(target),\n",
    "             how='inner',\n",
    "             right_index=True,\n",
    "             left_index=True).to_pickle(file)\n",
    "\n",
    "with open('../data/processed/test.pkl', 'wb') as file:\n",
    "    test_features.to_pickle(file)"
   ],
   "metadata": {
    "collapsed": false
   }
  },
  {
   "cell_type": "code",
   "execution_count": 21,
   "outputs": [],
   "source": [
    "least_informative = score_mi[score_mi == 0].index.tolist()\n",
    "\n",
    "final_train = train_features.drop(least_informative,\n",
    "                                  axis=1)\n",
    "final_test = test_features.drop(least_informative,\n",
    "                                axis=1)"
   ],
   "metadata": {
    "collapsed": false
   }
  },
  {
   "cell_type": "code",
   "execution_count": 22,
   "outputs": [
    {
     "data": {
      "text/plain": "((1168, 122), (292, 122), (1168,), (292,))"
     },
     "execution_count": 22,
     "metadata": {},
     "output_type": "execute_result"
    }
   ],
   "source": [
    "trainX, validX, trainY, validY = train_test_split(final_train, target, test_size=0.2, random_state=48)\n",
    "trainX.shape, validX.shape, trainY.shape, validY.shape"
   ],
   "metadata": {
    "collapsed": false
   }
  },
  {
   "cell_type": "code",
   "execution_count": 23,
   "outputs": [],
   "source": [
    "estimator = xgb.XGBRegressor(learning_rate=0.01)\n",
    "\n",
    "paraDis = {'max_depth': np.random.randint(1, 21, 10),\n",
    "           'n_estimators': np.random.randint(1000, 4000, 10),\n",
    "           'min_child_weight': range(1, 10),\n",
    "           'colsample_bytree': np.random.uniform(0, 1, 10),\n",
    "           'subsample': np.random.uniform(0, 1, 10),\n",
    "           }\n",
    "\n",
    "fitter = FitEstimator(estimator, random_state=48)"
   ],
   "metadata": {
    "collapsed": false
   }
  },
  {
   "cell_type": "code",
   "execution_count": 24,
   "outputs": [],
   "source": [
    "search = fitter.random_search(param_distributions=paraDis,\n",
    "                              n_iter=25,\n",
    "                              cv=3,\n",
    "                              scoring=make_scorer(mean_squared_error, greater_is_better=False),\n",
    "                              verbose=1)"
   ],
   "metadata": {
    "collapsed": false
   }
  },
  {
   "cell_type": "code",
   "execution_count": 25,
   "outputs": [
    {
     "name": "stdout",
     "output_type": "stream",
     "text": [
      "Fitting 3 folds for each of 25 candidates, totalling 75 fits\n"
     ]
    },
    {
     "data": {
      "text/plain": "RandomizedSearchCV(cv=3,\n                   estimator=XGBRegressor(base_score=None, booster=None,\n                                          colsample_bylevel=None,\n                                          colsample_bynode=None,\n                                          colsample_bytree=None,\n                                          enable_categorical=False, gamma=None,\n                                          gpu_id=None, importance_type=None,\n                                          interaction_constraints=None,\n                                          learning_rate=0.01,\n                                          max_delta_step=None, max_depth=None,\n                                          min_child_weight=None, missing=nan,\n                                          monotone_constraints=...\n                                        'max_depth': array([20, 19, 20, 19, 14,  3,  4, 15,  1, 12]),\n                                        'min_child_weight': range(1, 10),\n                                        'n_estimators': array([2711, 3611, 2410, 1812, 2830, 2370, 1785, 3030, 3233, 3921]),\n                                        'subsample': array([0.32279086, 0.8676757 , 0.44412737, 0.82830209, 0.91747983,\n       0.34014001, 0.96688954, 0.0941159 , 0.67505934, 0.96908295])},\n                   return_train_score=True,\n                   scoring=make_scorer(mean_squared_error, greater_is_better=False),\n                   verbose=1)",
      "text/html": "<style>#sk-container-id-2 {color: black;background-color: white;}#sk-container-id-2 pre{padding: 0;}#sk-container-id-2 div.sk-toggleable {background-color: white;}#sk-container-id-2 label.sk-toggleable__label {cursor: pointer;display: block;width: 100%;margin-bottom: 0;padding: 0.3em;box-sizing: border-box;text-align: center;}#sk-container-id-2 label.sk-toggleable__label-arrow:before {content: \"▸\";float: left;margin-right: 0.25em;color: #696969;}#sk-container-id-2 label.sk-toggleable__label-arrow:hover:before {color: black;}#sk-container-id-2 div.sk-estimator:hover label.sk-toggleable__label-arrow:before {color: black;}#sk-container-id-2 div.sk-toggleable__content {max-height: 0;max-width: 0;overflow: hidden;text-align: left;background-color: #f0f8ff;}#sk-container-id-2 div.sk-toggleable__content pre {margin: 0.2em;color: black;border-radius: 0.25em;background-color: #f0f8ff;}#sk-container-id-2 input.sk-toggleable__control:checked~div.sk-toggleable__content {max-height: 200px;max-width: 100%;overflow: auto;}#sk-container-id-2 input.sk-toggleable__control:checked~label.sk-toggleable__label-arrow:before {content: \"▾\";}#sk-container-id-2 div.sk-estimator input.sk-toggleable__control:checked~label.sk-toggleable__label {background-color: #d4ebff;}#sk-container-id-2 div.sk-label input.sk-toggleable__control:checked~label.sk-toggleable__label {background-color: #d4ebff;}#sk-container-id-2 input.sk-hidden--visually {border: 0;clip: rect(1px 1px 1px 1px);clip: rect(1px, 1px, 1px, 1px);height: 1px;margin: -1px;overflow: hidden;padding: 0;position: absolute;width: 1px;}#sk-container-id-2 div.sk-estimator {font-family: monospace;background-color: #f0f8ff;border: 1px dotted black;border-radius: 0.25em;box-sizing: border-box;margin-bottom: 0.5em;}#sk-container-id-2 div.sk-estimator:hover {background-color: #d4ebff;}#sk-container-id-2 div.sk-parallel-item::after {content: \"\";width: 100%;border-bottom: 1px solid gray;flex-grow: 1;}#sk-container-id-2 div.sk-label:hover label.sk-toggleable__label {background-color: #d4ebff;}#sk-container-id-2 div.sk-serial::before {content: \"\";position: absolute;border-left: 1px solid gray;box-sizing: border-box;top: 0;bottom: 0;left: 50%;z-index: 0;}#sk-container-id-2 div.sk-serial {display: flex;flex-direction: column;align-items: center;background-color: white;padding-right: 0.2em;padding-left: 0.2em;position: relative;}#sk-container-id-2 div.sk-item {position: relative;z-index: 1;}#sk-container-id-2 div.sk-parallel {display: flex;align-items: stretch;justify-content: center;background-color: white;position: relative;}#sk-container-id-2 div.sk-item::before, #sk-container-id-2 div.sk-parallel-item::before {content: \"\";position: absolute;border-left: 1px solid gray;box-sizing: border-box;top: 0;bottom: 0;left: 50%;z-index: -1;}#sk-container-id-2 div.sk-parallel-item {display: flex;flex-direction: column;z-index: 1;position: relative;background-color: white;}#sk-container-id-2 div.sk-parallel-item:first-child::after {align-self: flex-end;width: 50%;}#sk-container-id-2 div.sk-parallel-item:last-child::after {align-self: flex-start;width: 50%;}#sk-container-id-2 div.sk-parallel-item:only-child::after {width: 0;}#sk-container-id-2 div.sk-dashed-wrapped {border: 1px dashed gray;margin: 0 0.4em 0.5em 0.4em;box-sizing: border-box;padding-bottom: 0.4em;background-color: white;}#sk-container-id-2 div.sk-label label {font-family: monospace;font-weight: bold;display: inline-block;line-height: 1.2em;}#sk-container-id-2 div.sk-label-container {text-align: center;}#sk-container-id-2 div.sk-container {/* jupyter's `normalize.less` sets `[hidden] { display: none; }` but bootstrap.min.css set `[hidden] { display: none !important; }` so we also need the `!important` here to be able to override the default hidden behavior on the sphinx rendered scikit-learn.org. See: https://github.com/scikit-learn/scikit-learn/issues/21755 */display: inline-block !important;position: relative;}#sk-container-id-2 div.sk-text-repr-fallback {display: none;}</style><div id=\"sk-container-id-2\" class=\"sk-top-container\"><div class=\"sk-text-repr-fallback\"><pre>RandomizedSearchCV(cv=3,\n                   estimator=XGBRegressor(base_score=None, booster=None,\n                                          colsample_bylevel=None,\n                                          colsample_bynode=None,\n                                          colsample_bytree=None,\n                                          enable_categorical=False, gamma=None,\n                                          gpu_id=None, importance_type=None,\n                                          interaction_constraints=None,\n                                          learning_rate=0.01,\n                                          max_delta_step=None, max_depth=None,\n                                          min_child_weight=None, missing=nan,\n                                          monotone_constraints=...\n                                        &#x27;max_depth&#x27;: array([20, 19, 20, 19, 14,  3,  4, 15,  1, 12]),\n                                        &#x27;min_child_weight&#x27;: range(1, 10),\n                                        &#x27;n_estimators&#x27;: array([2711, 3611, 2410, 1812, 2830, 2370, 1785, 3030, 3233, 3921]),\n                                        &#x27;subsample&#x27;: array([0.32279086, 0.8676757 , 0.44412737, 0.82830209, 0.91747983,\n       0.34014001, 0.96688954, 0.0941159 , 0.67505934, 0.96908295])},\n                   return_train_score=True,\n                   scoring=make_scorer(mean_squared_error, greater_is_better=False),\n                   verbose=1)</pre><b>In a Jupyter environment, please rerun this cell to show the HTML representation or trust the notebook. <br />On GitHub, the HTML representation is unable to render, please try loading this page with nbviewer.org.</b></div><div class=\"sk-container\" hidden><div class=\"sk-item sk-dashed-wrapped\"><div class=\"sk-label-container\"><div class=\"sk-label sk-toggleable\"><input class=\"sk-toggleable__control sk-hidden--visually\" id=\"sk-estimator-id-2\" type=\"checkbox\" ><label for=\"sk-estimator-id-2\" class=\"sk-toggleable__label sk-toggleable__label-arrow\">RandomizedSearchCV</label><div class=\"sk-toggleable__content\"><pre>RandomizedSearchCV(cv=3,\n                   estimator=XGBRegressor(base_score=None, booster=None,\n                                          colsample_bylevel=None,\n                                          colsample_bynode=None,\n                                          colsample_bytree=None,\n                                          enable_categorical=False, gamma=None,\n                                          gpu_id=None, importance_type=None,\n                                          interaction_constraints=None,\n                                          learning_rate=0.01,\n                                          max_delta_step=None, max_depth=None,\n                                          min_child_weight=None, missing=nan,\n                                          monotone_constraints=...\n                                        &#x27;max_depth&#x27;: array([20, 19, 20, 19, 14,  3,  4, 15,  1, 12]),\n                                        &#x27;min_child_weight&#x27;: range(1, 10),\n                                        &#x27;n_estimators&#x27;: array([2711, 3611, 2410, 1812, 2830, 2370, 1785, 3030, 3233, 3921]),\n                                        &#x27;subsample&#x27;: array([0.32279086, 0.8676757 , 0.44412737, 0.82830209, 0.91747983,\n       0.34014001, 0.96688954, 0.0941159 , 0.67505934, 0.96908295])},\n                   return_train_score=True,\n                   scoring=make_scorer(mean_squared_error, greater_is_better=False),\n                   verbose=1)</pre></div></div></div><div class=\"sk-parallel\"><div class=\"sk-parallel-item\"><div class=\"sk-item\"><div class=\"sk-label-container\"><div class=\"sk-label sk-toggleable\"><input class=\"sk-toggleable__control sk-hidden--visually\" id=\"sk-estimator-id-3\" type=\"checkbox\" ><label for=\"sk-estimator-id-3\" class=\"sk-toggleable__label sk-toggleable__label-arrow\">estimator: XGBRegressor</label><div class=\"sk-toggleable__content\"><pre>XGBRegressor(base_score=None, booster=None, colsample_bylevel=None,\n             colsample_bynode=None, colsample_bytree=None,\n             enable_categorical=False, gamma=None, gpu_id=None,\n             importance_type=None, interaction_constraints=None,\n             learning_rate=0.01, max_delta_step=None, max_depth=None,\n             min_child_weight=None, missing=nan, monotone_constraints=None,\n             n_estimators=100, n_jobs=None, num_parallel_tree=None,\n             predictor=None, random_state=None, reg_alpha=None, reg_lambda=None,\n             scale_pos_weight=None, subsample=None, tree_method=None,\n             validate_parameters=None, verbosity=None)</pre></div></div></div><div class=\"sk-serial\"><div class=\"sk-item\"><div class=\"sk-estimator sk-toggleable\"><input class=\"sk-toggleable__control sk-hidden--visually\" id=\"sk-estimator-id-4\" type=\"checkbox\" ><label for=\"sk-estimator-id-4\" class=\"sk-toggleable__label sk-toggleable__label-arrow\">XGBRegressor</label><div class=\"sk-toggleable__content\"><pre>XGBRegressor(base_score=None, booster=None, colsample_bylevel=None,\n             colsample_bynode=None, colsample_bytree=None,\n             enable_categorical=False, gamma=None, gpu_id=None,\n             importance_type=None, interaction_constraints=None,\n             learning_rate=0.01, max_delta_step=None, max_depth=None,\n             min_child_weight=None, missing=nan, monotone_constraints=None,\n             n_estimators=100, n_jobs=None, num_parallel_tree=None,\n             predictor=None, random_state=None, reg_alpha=None, reg_lambda=None,\n             scale_pos_weight=None, subsample=None, tree_method=None,\n             validate_parameters=None, verbosity=None)</pre></div></div></div></div></div></div></div></div></div></div>"
     },
     "execution_count": 25,
     "metadata": {},
     "output_type": "execute_result"
    }
   ],
   "source": [
    "search.fit(trainX, trainY)"
   ],
   "metadata": {
    "collapsed": false
   }
  },
  {
   "cell_type": "code",
   "execution_count": 26,
   "outputs": [
    {
     "data": {
      "text/plain": "{'subsample': 0.3227908605588724,\n 'n_estimators': 1785,\n 'min_child_weight': 7,\n 'max_depth': 20,\n 'colsample_bytree': 0.4633756731718641}"
     },
     "execution_count": 26,
     "metadata": {},
     "output_type": "execute_result"
    }
   ],
   "source": [
    "search.best_params_"
   ],
   "metadata": {
    "collapsed": false
   }
  },
  {
   "cell_type": "code",
   "execution_count": 27,
   "outputs": [],
   "source": [
    "model = xgb.XGBRegressor(learning_rate=0.01,\n",
    "                         subsample=0.3227908605588724,\n",
    "                         n_estimators=1785,\n",
    "                         min_child_weight=7,\n",
    "                         max_depth=20,\n",
    "                         colsample_bytree=0.4633756731718641)"
   ],
   "metadata": {
    "collapsed": false
   }
  },
  {
   "cell_type": "code",
   "execution_count": 41,
   "outputs": [],
   "source": [
    "model.fit(trainX, trainY)\n",
    "\n",
    "with open('../model/xbg_reg_v2.pkl', 'wb') as file:\n",
    "    pickle.dump(model, file)"
   ],
   "metadata": {
    "collapsed": false
   }
  },
  {
   "cell_type": "code",
   "execution_count": 28,
   "outputs": [
    {
     "name": "stdout",
     "output_type": "stream",
     "text": [
      "1 -- train score:0.04218789922579955 -- validation score:0.12698517088258124-- complete\n",
      "2 -- train score:0.04194420467002328 -- validation score:0.12039740454019082-- complete\n",
      "3 -- train score:0.0320988957898333 -- validation score:0.1505269603511499-- complete\n",
      "4 -- train score:0.04194956762545456 -- validation score:0.11579608800452901-- complete\n",
      "5 -- train score:0.04110829705238722 -- validation score:0.10282860098969857-- complete\n",
      "6 -- train score:0.04146482277837838 -- validation score:0.09168640683061599-- complete\n",
      "7 -- train score:0.04011996170610958 -- validation score:0.11772181402518442-- complete\n",
      "8 -- train score:0.0404528368055187 -- validation score:0.13006810778209463-- complete\n",
      "9 -- train score:0.038533769210921394 -- validation score:0.15071230438776137-- complete\n"
     ]
    }
   ],
   "source": [
    "i = 0\n",
    "models = []\n",
    "kfold = KFold(n_splits=9, shuffle=True, random_state=48)\n",
    "\n",
    "for t, v in kfold.split(trainX, trainY):\n",
    "    model.fit(trainX.iloc[t], trainY.iloc[t])\n",
    "    train_score = mean_squared_error(np.log(trainY.iloc[t]), np.log(model.predict(trainX.iloc[t])), squared=False)\n",
    "    valid_score = mean_squared_error(np.log(trainY.iloc[v]), np.log(model.predict(trainX.iloc[v])), squared=False)\n",
    "\n",
    "    i += 1\n",
    "    print(f'{i} -- train score:{train_score} -- validation score:{valid_score}-- complete')\n",
    "\n",
    "    models.append([model, train_score, valid_score])"
   ],
   "metadata": {
    "collapsed": false
   }
  },
  {
   "cell_type": "code",
   "execution_count": 29,
   "outputs": [],
   "source": [
    "target_t = np.zeros((validX.shape[0]))\n",
    "\n",
    "for i in models:\n",
    "    p = i[0].predict(validX)\n",
    "    target_t += p\n",
    "\n",
    "target_t = target_t / 9"
   ],
   "metadata": {
    "collapsed": false
   }
  },
  {
   "cell_type": "code",
   "execution_count": 30,
   "outputs": [
    {
     "data": {
      "text/plain": "0.13010283281798274"
     },
     "execution_count": 30,
     "metadata": {},
     "output_type": "execute_result"
    }
   ],
   "source": [
    "mean_squared_error(np.log(validY), np.log(target_t), squared=False)"
   ],
   "metadata": {
    "collapsed": false
   }
  },
  {
   "cell_type": "code",
   "execution_count": 31,
   "outputs": [
    {
     "data": {
      "text/plain": "XGBRegressor(base_score=0.5, booster='gbtree', colsample_bylevel=1,\n             colsample_bynode=1, colsample_bytree=0.4633756731718641,\n             enable_categorical=False, gamma=0, gpu_id=-1, importance_type=None,\n             interaction_constraints='', learning_rate=0.01, max_delta_step=0,\n             max_depth=20, min_child_weight=7, missing=nan,\n             monotone_constraints='()', n_estimators=1785, n_jobs=8,\n             num_parallel_tree=1, predictor='auto', random_state=0, reg_alpha=0,\n             reg_lambda=1, scale_pos_weight=1, subsample=0.3227908605588724,\n             tree_method='exact', validate_parameters=1, verbosity=None)",
      "text/html": "<style>#sk-container-id-3 {color: black;background-color: white;}#sk-container-id-3 pre{padding: 0;}#sk-container-id-3 div.sk-toggleable {background-color: white;}#sk-container-id-3 label.sk-toggleable__label {cursor: pointer;display: block;width: 100%;margin-bottom: 0;padding: 0.3em;box-sizing: border-box;text-align: center;}#sk-container-id-3 label.sk-toggleable__label-arrow:before {content: \"▸\";float: left;margin-right: 0.25em;color: #696969;}#sk-container-id-3 label.sk-toggleable__label-arrow:hover:before {color: black;}#sk-container-id-3 div.sk-estimator:hover label.sk-toggleable__label-arrow:before {color: black;}#sk-container-id-3 div.sk-toggleable__content {max-height: 0;max-width: 0;overflow: hidden;text-align: left;background-color: #f0f8ff;}#sk-container-id-3 div.sk-toggleable__content pre {margin: 0.2em;color: black;border-radius: 0.25em;background-color: #f0f8ff;}#sk-container-id-3 input.sk-toggleable__control:checked~div.sk-toggleable__content {max-height: 200px;max-width: 100%;overflow: auto;}#sk-container-id-3 input.sk-toggleable__control:checked~label.sk-toggleable__label-arrow:before {content: \"▾\";}#sk-container-id-3 div.sk-estimator input.sk-toggleable__control:checked~label.sk-toggleable__label {background-color: #d4ebff;}#sk-container-id-3 div.sk-label input.sk-toggleable__control:checked~label.sk-toggleable__label {background-color: #d4ebff;}#sk-container-id-3 input.sk-hidden--visually {border: 0;clip: rect(1px 1px 1px 1px);clip: rect(1px, 1px, 1px, 1px);height: 1px;margin: -1px;overflow: hidden;padding: 0;position: absolute;width: 1px;}#sk-container-id-3 div.sk-estimator {font-family: monospace;background-color: #f0f8ff;border: 1px dotted black;border-radius: 0.25em;box-sizing: border-box;margin-bottom: 0.5em;}#sk-container-id-3 div.sk-estimator:hover {background-color: #d4ebff;}#sk-container-id-3 div.sk-parallel-item::after {content: \"\";width: 100%;border-bottom: 1px solid gray;flex-grow: 1;}#sk-container-id-3 div.sk-label:hover label.sk-toggleable__label {background-color: #d4ebff;}#sk-container-id-3 div.sk-serial::before {content: \"\";position: absolute;border-left: 1px solid gray;box-sizing: border-box;top: 0;bottom: 0;left: 50%;z-index: 0;}#sk-container-id-3 div.sk-serial {display: flex;flex-direction: column;align-items: center;background-color: white;padding-right: 0.2em;padding-left: 0.2em;position: relative;}#sk-container-id-3 div.sk-item {position: relative;z-index: 1;}#sk-container-id-3 div.sk-parallel {display: flex;align-items: stretch;justify-content: center;background-color: white;position: relative;}#sk-container-id-3 div.sk-item::before, #sk-container-id-3 div.sk-parallel-item::before {content: \"\";position: absolute;border-left: 1px solid gray;box-sizing: border-box;top: 0;bottom: 0;left: 50%;z-index: -1;}#sk-container-id-3 div.sk-parallel-item {display: flex;flex-direction: column;z-index: 1;position: relative;background-color: white;}#sk-container-id-3 div.sk-parallel-item:first-child::after {align-self: flex-end;width: 50%;}#sk-container-id-3 div.sk-parallel-item:last-child::after {align-self: flex-start;width: 50%;}#sk-container-id-3 div.sk-parallel-item:only-child::after {width: 0;}#sk-container-id-3 div.sk-dashed-wrapped {border: 1px dashed gray;margin: 0 0.4em 0.5em 0.4em;box-sizing: border-box;padding-bottom: 0.4em;background-color: white;}#sk-container-id-3 div.sk-label label {font-family: monospace;font-weight: bold;display: inline-block;line-height: 1.2em;}#sk-container-id-3 div.sk-label-container {text-align: center;}#sk-container-id-3 div.sk-container {/* jupyter's `normalize.less` sets `[hidden] { display: none; }` but bootstrap.min.css set `[hidden] { display: none !important; }` so we also need the `!important` here to be able to override the default hidden behavior on the sphinx rendered scikit-learn.org. See: https://github.com/scikit-learn/scikit-learn/issues/21755 */display: inline-block !important;position: relative;}#sk-container-id-3 div.sk-text-repr-fallback {display: none;}</style><div id=\"sk-container-id-3\" class=\"sk-top-container\"><div class=\"sk-text-repr-fallback\"><pre>XGBRegressor(base_score=0.5, booster=&#x27;gbtree&#x27;, colsample_bylevel=1,\n             colsample_bynode=1, colsample_bytree=0.4633756731718641,\n             enable_categorical=False, gamma=0, gpu_id=-1, importance_type=None,\n             interaction_constraints=&#x27;&#x27;, learning_rate=0.01, max_delta_step=0,\n             max_depth=20, min_child_weight=7, missing=nan,\n             monotone_constraints=&#x27;()&#x27;, n_estimators=1785, n_jobs=8,\n             num_parallel_tree=1, predictor=&#x27;auto&#x27;, random_state=0, reg_alpha=0,\n             reg_lambda=1, scale_pos_weight=1, subsample=0.3227908605588724,\n             tree_method=&#x27;exact&#x27;, validate_parameters=1, verbosity=None)</pre><b>In a Jupyter environment, please rerun this cell to show the HTML representation or trust the notebook. <br />On GitHub, the HTML representation is unable to render, please try loading this page with nbviewer.org.</b></div><div class=\"sk-container\" hidden><div class=\"sk-item\"><div class=\"sk-estimator sk-toggleable\"><input class=\"sk-toggleable__control sk-hidden--visually\" id=\"sk-estimator-id-5\" type=\"checkbox\" checked><label for=\"sk-estimator-id-5\" class=\"sk-toggleable__label sk-toggleable__label-arrow\">XGBRegressor</label><div class=\"sk-toggleable__content\"><pre>XGBRegressor(base_score=0.5, booster=&#x27;gbtree&#x27;, colsample_bylevel=1,\n             colsample_bynode=1, colsample_bytree=0.4633756731718641,\n             enable_categorical=False, gamma=0, gpu_id=-1, importance_type=None,\n             interaction_constraints=&#x27;&#x27;, learning_rate=0.01, max_delta_step=0,\n             max_depth=20, min_child_weight=7, missing=nan,\n             monotone_constraints=&#x27;()&#x27;, n_estimators=1785, n_jobs=8,\n             num_parallel_tree=1, predictor=&#x27;auto&#x27;, random_state=0, reg_alpha=0,\n             reg_lambda=1, scale_pos_weight=1, subsample=0.3227908605588724,\n             tree_method=&#x27;exact&#x27;, validate_parameters=1, verbosity=None)</pre></div></div></div></div></div>"
     },
     "execution_count": 31,
     "metadata": {},
     "output_type": "execute_result"
    }
   ],
   "source": [
    "model.fit(trainX, trainY)"
   ],
   "metadata": {
    "collapsed": false
   }
  },
  {
   "cell_type": "code",
   "execution_count": 31,
   "outputs": [
    {
     "data": {
      "text/plain": "array([122917.8359375, 160221.890625 , 183111.109375 , ...,\n       234829.59375  , 119948.9296875, 222015.953125 ])"
     },
     "execution_count": 31,
     "metadata": {},
     "output_type": "execute_result"
    }
   ],
   "source": [
    "target = np.zeros((final_test.shape[0]))\n",
    "\n",
    "for i in models:\n",
    "    p = i[0].predict(final_test)\n",
    "    target += p\n",
    "\n",
    "target = target / 9\n",
    "target"
   ],
   "metadata": {
    "collapsed": false
   }
  },
  {
   "cell_type": "code",
   "execution_count": 32,
   "outputs": [],
   "source": [
    "target = model.predict(final_test)"
   ],
   "metadata": {
    "collapsed": false
   }
  },
  {
   "cell_type": "code",
   "execution_count": 33,
   "outputs": [],
   "source": [
    "pd.DataFrame(target, columns=['SalePrice'], index=final_test.index).reset_index().to_csv(\n",
    "    '../data/submission/submission_5_5.csv', index=False)"
   ],
   "metadata": {
    "collapsed": false
   }
  }
 ],
 "metadata": {
  "kernelspec": {
   "display_name": "Python 3",
   "language": "python",
   "name": "python3"
  },
  "language_info": {
   "codemirror_mode": {
    "name": "ipython",
    "version": 2
   },
   "file_extension": ".py",
   "mimetype": "text/x-python",
   "name": "python",
   "nbconvert_exporter": "python",
   "pygments_lexer": "ipython2",
   "version": "2.7.6"
  }
 },
 "nbformat": 4,
 "nbformat_minor": 0
}
