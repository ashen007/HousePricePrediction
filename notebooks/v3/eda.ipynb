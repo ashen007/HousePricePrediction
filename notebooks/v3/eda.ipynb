{
 "cells": [
  {
   "cell_type": "code",
   "execution_count": 27,
   "metadata": {
    "collapsed": true
   },
   "outputs": [],
   "source": [
    "import numpy as np\n",
    "import pandas as pd\n",
    "import seaborn as sns\n",
    "\n",
    "from matplotlib import pyplot as plt\n",
    "from sklearn.impute import SimpleImputer"
   ]
  },
  {
   "cell_type": "markdown",
   "source": [
    "### load data into dataframe"
   ],
   "metadata": {
    "collapsed": false
   }
  },
  {
   "cell_type": "code",
   "execution_count": 5,
   "outputs": [],
   "source": [
    "house_data = pd.read_csv('../../data/external/train.csv', index_col='Id')"
   ],
   "metadata": {
    "collapsed": false
   }
  },
  {
   "cell_type": "code",
   "execution_count": 7,
   "outputs": [
    {
     "data": {
      "text/plain": "    MSSubClass MSZoning  LotFrontage  LotArea Street Alley LotShape  \\\nId                                                                    \n1           60       RL         65.0     8450   Pave   NaN      Reg   \n2           20       RL         80.0     9600   Pave   NaN      Reg   \n3           60       RL         68.0    11250   Pave   NaN      IR1   \n4           70       RL         60.0     9550   Pave   NaN      IR1   \n5           60       RL         84.0    14260   Pave   NaN      IR1   \n\n   LandContour Utilities LotConfig  ... PoolArea PoolQC Fence MiscFeature  \\\nId                                  ...                                     \n1          Lvl    AllPub    Inside  ...        0    NaN   NaN         NaN   \n2          Lvl    AllPub       FR2  ...        0    NaN   NaN         NaN   \n3          Lvl    AllPub    Inside  ...        0    NaN   NaN         NaN   \n4          Lvl    AllPub    Corner  ...        0    NaN   NaN         NaN   \n5          Lvl    AllPub       FR2  ...        0    NaN   NaN         NaN   \n\n   MiscVal MoSold  YrSold  SaleType  SaleCondition  SalePrice  \nId                                                             \n1        0      2    2008        WD         Normal     208500  \n2        0      5    2007        WD         Normal     181500  \n3        0      9    2008        WD         Normal     223500  \n4        0      2    2006        WD        Abnorml     140000  \n5        0     12    2008        WD         Normal     250000  \n\n[5 rows x 80 columns]",
      "text/html": "<div>\n<style scoped>\n    .dataframe tbody tr th:only-of-type {\n        vertical-align: middle;\n    }\n\n    .dataframe tbody tr th {\n        vertical-align: top;\n    }\n\n    .dataframe thead th {\n        text-align: right;\n    }\n</style>\n<table border=\"1\" class=\"dataframe\">\n  <thead>\n    <tr style=\"text-align: right;\">\n      <th></th>\n      <th>MSSubClass</th>\n      <th>MSZoning</th>\n      <th>LotFrontage</th>\n      <th>LotArea</th>\n      <th>Street</th>\n      <th>Alley</th>\n      <th>LotShape</th>\n      <th>LandContour</th>\n      <th>Utilities</th>\n      <th>LotConfig</th>\n      <th>...</th>\n      <th>PoolArea</th>\n      <th>PoolQC</th>\n      <th>Fence</th>\n      <th>MiscFeature</th>\n      <th>MiscVal</th>\n      <th>MoSold</th>\n      <th>YrSold</th>\n      <th>SaleType</th>\n      <th>SaleCondition</th>\n      <th>SalePrice</th>\n    </tr>\n    <tr>\n      <th>Id</th>\n      <th></th>\n      <th></th>\n      <th></th>\n      <th></th>\n      <th></th>\n      <th></th>\n      <th></th>\n      <th></th>\n      <th></th>\n      <th></th>\n      <th></th>\n      <th></th>\n      <th></th>\n      <th></th>\n      <th></th>\n      <th></th>\n      <th></th>\n      <th></th>\n      <th></th>\n      <th></th>\n      <th></th>\n    </tr>\n  </thead>\n  <tbody>\n    <tr>\n      <th>1</th>\n      <td>60</td>\n      <td>RL</td>\n      <td>65.0</td>\n      <td>8450</td>\n      <td>Pave</td>\n      <td>NaN</td>\n      <td>Reg</td>\n      <td>Lvl</td>\n      <td>AllPub</td>\n      <td>Inside</td>\n      <td>...</td>\n      <td>0</td>\n      <td>NaN</td>\n      <td>NaN</td>\n      <td>NaN</td>\n      <td>0</td>\n      <td>2</td>\n      <td>2008</td>\n      <td>WD</td>\n      <td>Normal</td>\n      <td>208500</td>\n    </tr>\n    <tr>\n      <th>2</th>\n      <td>20</td>\n      <td>RL</td>\n      <td>80.0</td>\n      <td>9600</td>\n      <td>Pave</td>\n      <td>NaN</td>\n      <td>Reg</td>\n      <td>Lvl</td>\n      <td>AllPub</td>\n      <td>FR2</td>\n      <td>...</td>\n      <td>0</td>\n      <td>NaN</td>\n      <td>NaN</td>\n      <td>NaN</td>\n      <td>0</td>\n      <td>5</td>\n      <td>2007</td>\n      <td>WD</td>\n      <td>Normal</td>\n      <td>181500</td>\n    </tr>\n    <tr>\n      <th>3</th>\n      <td>60</td>\n      <td>RL</td>\n      <td>68.0</td>\n      <td>11250</td>\n      <td>Pave</td>\n      <td>NaN</td>\n      <td>IR1</td>\n      <td>Lvl</td>\n      <td>AllPub</td>\n      <td>Inside</td>\n      <td>...</td>\n      <td>0</td>\n      <td>NaN</td>\n      <td>NaN</td>\n      <td>NaN</td>\n      <td>0</td>\n      <td>9</td>\n      <td>2008</td>\n      <td>WD</td>\n      <td>Normal</td>\n      <td>223500</td>\n    </tr>\n    <tr>\n      <th>4</th>\n      <td>70</td>\n      <td>RL</td>\n      <td>60.0</td>\n      <td>9550</td>\n      <td>Pave</td>\n      <td>NaN</td>\n      <td>IR1</td>\n      <td>Lvl</td>\n      <td>AllPub</td>\n      <td>Corner</td>\n      <td>...</td>\n      <td>0</td>\n      <td>NaN</td>\n      <td>NaN</td>\n      <td>NaN</td>\n      <td>0</td>\n      <td>2</td>\n      <td>2006</td>\n      <td>WD</td>\n      <td>Abnorml</td>\n      <td>140000</td>\n    </tr>\n    <tr>\n      <th>5</th>\n      <td>60</td>\n      <td>RL</td>\n      <td>84.0</td>\n      <td>14260</td>\n      <td>Pave</td>\n      <td>NaN</td>\n      <td>IR1</td>\n      <td>Lvl</td>\n      <td>AllPub</td>\n      <td>FR2</td>\n      <td>...</td>\n      <td>0</td>\n      <td>NaN</td>\n      <td>NaN</td>\n      <td>NaN</td>\n      <td>0</td>\n      <td>12</td>\n      <td>2008</td>\n      <td>WD</td>\n      <td>Normal</td>\n      <td>250000</td>\n    </tr>\n  </tbody>\n</table>\n<p>5 rows × 80 columns</p>\n</div>"
     },
     "execution_count": 7,
     "metadata": {},
     "output_type": "execute_result"
    }
   ],
   "source": [
    "house_data.head()"
   ],
   "metadata": {
    "collapsed": false
   }
  },
  {
   "cell_type": "markdown",
   "source": [
    "### levels of data"
   ],
   "metadata": {
    "collapsed": false
   }
  },
  {
   "cell_type": "code",
   "execution_count": 8,
   "outputs": [
    {
     "name": "stdout",
     "output_type": "stream",
     "text": [
      "<class 'pandas.core.frame.DataFrame'>\n",
      "Int64Index: 1460 entries, 1 to 1460\n",
      "Data columns (total 80 columns):\n",
      " #   Column         Non-Null Count  Dtype  \n",
      "---  ------         --------------  -----  \n",
      " 0   MSSubClass     1460 non-null   int64  \n",
      " 1   MSZoning       1460 non-null   object \n",
      " 2   LotFrontage    1201 non-null   float64\n",
      " 3   LotArea        1460 non-null   int64  \n",
      " 4   Street         1460 non-null   object \n",
      " 5   Alley          91 non-null     object \n",
      " 6   LotShape       1460 non-null   object \n",
      " 7   LandContour    1460 non-null   object \n",
      " 8   Utilities      1460 non-null   object \n",
      " 9   LotConfig      1460 non-null   object \n",
      " 10  LandSlope      1460 non-null   object \n",
      " 11  Neighborhood   1460 non-null   object \n",
      " 12  Condition1     1460 non-null   object \n",
      " 13  Condition2     1460 non-null   object \n",
      " 14  BldgType       1460 non-null   object \n",
      " 15  HouseStyle     1460 non-null   object \n",
      " 16  OverallQual    1460 non-null   int64  \n",
      " 17  OverallCond    1460 non-null   int64  \n",
      " 18  YearBuilt      1460 non-null   int64  \n",
      " 19  YearRemodAdd   1460 non-null   int64  \n",
      " 20  RoofStyle      1460 non-null   object \n",
      " 21  RoofMatl       1460 non-null   object \n",
      " 22  Exterior1st    1460 non-null   object \n",
      " 23  Exterior2nd    1460 non-null   object \n",
      " 24  MasVnrType     1452 non-null   object \n",
      " 25  MasVnrArea     1452 non-null   float64\n",
      " 26  ExterQual      1460 non-null   object \n",
      " 27  ExterCond      1460 non-null   object \n",
      " 28  Foundation     1460 non-null   object \n",
      " 29  BsmtQual       1423 non-null   object \n",
      " 30  BsmtCond       1423 non-null   object \n",
      " 31  BsmtExposure   1422 non-null   object \n",
      " 32  BsmtFinType1   1423 non-null   object \n",
      " 33  BsmtFinSF1     1460 non-null   int64  \n",
      " 34  BsmtFinType2   1422 non-null   object \n",
      " 35  BsmtFinSF2     1460 non-null   int64  \n",
      " 36  BsmtUnfSF      1460 non-null   int64  \n",
      " 37  TotalBsmtSF    1460 non-null   int64  \n",
      " 38  Heating        1460 non-null   object \n",
      " 39  HeatingQC      1460 non-null   object \n",
      " 40  CentralAir     1460 non-null   object \n",
      " 41  Electrical     1459 non-null   object \n",
      " 42  1stFlrSF       1460 non-null   int64  \n",
      " 43  2ndFlrSF       1460 non-null   int64  \n",
      " 44  LowQualFinSF   1460 non-null   int64  \n",
      " 45  GrLivArea      1460 non-null   int64  \n",
      " 46  BsmtFullBath   1460 non-null   int64  \n",
      " 47  BsmtHalfBath   1460 non-null   int64  \n",
      " 48  FullBath       1460 non-null   int64  \n",
      " 49  HalfBath       1460 non-null   int64  \n",
      " 50  BedroomAbvGr   1460 non-null   int64  \n",
      " 51  KitchenAbvGr   1460 non-null   int64  \n",
      " 52  KitchenQual    1460 non-null   object \n",
      " 53  TotRmsAbvGrd   1460 non-null   int64  \n",
      " 54  Functional     1460 non-null   object \n",
      " 55  Fireplaces     1460 non-null   int64  \n",
      " 56  FireplaceQu    770 non-null    object \n",
      " 57  GarageType     1379 non-null   object \n",
      " 58  GarageYrBlt    1379 non-null   float64\n",
      " 59  GarageFinish   1379 non-null   object \n",
      " 60  GarageCars     1460 non-null   int64  \n",
      " 61  GarageArea     1460 non-null   int64  \n",
      " 62  GarageQual     1379 non-null   object \n",
      " 63  GarageCond     1379 non-null   object \n",
      " 64  PavedDrive     1460 non-null   object \n",
      " 65  WoodDeckSF     1460 non-null   int64  \n",
      " 66  OpenPorchSF    1460 non-null   int64  \n",
      " 67  EnclosedPorch  1460 non-null   int64  \n",
      " 68  3SsnPorch      1460 non-null   int64  \n",
      " 69  ScreenPorch    1460 non-null   int64  \n",
      " 70  PoolArea       1460 non-null   int64  \n",
      " 71  PoolQC         7 non-null      object \n",
      " 72  Fence          281 non-null    object \n",
      " 73  MiscFeature    54 non-null     object \n",
      " 74  MiscVal        1460 non-null   int64  \n",
      " 75  MoSold         1460 non-null   int64  \n",
      " 76  YrSold         1460 non-null   int64  \n",
      " 77  SaleType       1460 non-null   object \n",
      " 78  SaleCondition  1460 non-null   object \n",
      " 79  SalePrice      1460 non-null   int64  \n",
      "dtypes: float64(3), int64(34), object(43)\n",
      "memory usage: 923.9+ KB\n"
     ]
    }
   ],
   "source": [
    "house_data.info()"
   ],
   "metadata": {
    "collapsed": false
   }
  },
  {
   "cell_type": "code",
   "execution_count": 9,
   "outputs": [],
   "source": [
    "categorical_columns = house_data.select_dtypes(include=object).columns.tolist()\n",
    "numerical_columns = house_data.select_dtypes(include=[np.int16, np.int32, np.int64,\n",
    "                                                      np.float16, np.float32, np.float64]).columns.tolist()"
   ],
   "metadata": {
    "collapsed": false
   }
  },
  {
   "cell_type": "code",
   "execution_count": 12,
   "outputs": [
    {
     "data": {
      "text/plain": "array(['MSZoning', 'Street', 'Alley', 'LotShape', 'LandContour',\n       'Utilities', 'LotConfig', 'LandSlope', 'Neighborhood',\n       'Condition1', 'Condition2', 'BldgType', 'HouseStyle', 'RoofStyle',\n       'RoofMatl', 'Exterior1st', 'Exterior2nd', 'MasVnrType',\n       'ExterQual', 'ExterCond', 'Foundation', 'BsmtQual', 'BsmtCond',\n       'BsmtExposure', 'BsmtFinType1', 'BsmtFinType2', 'Heating',\n       'HeatingQC', 'CentralAir', 'Electrical', 'KitchenQual',\n       'Functional', 'FireplaceQu', 'GarageType', 'GarageFinish',\n       'GarageQual', 'GarageCond', 'PavedDrive', 'PoolQC', 'Fence',\n       'MiscFeature', 'SaleType', 'SaleCondition'], dtype='<U13')"
     },
     "execution_count": 12,
     "metadata": {},
     "output_type": "execute_result"
    }
   ],
   "source": [
    "np.array(categorical_columns)"
   ],
   "metadata": {
    "collapsed": false
   }
  },
  {
   "cell_type": "code",
   "execution_count": 13,
   "outputs": [
    {
     "data": {
      "text/plain": "array(['MSSubClass', 'LotFrontage', 'LotArea', 'OverallQual',\n       'OverallCond', 'YearBuilt', 'YearRemodAdd', 'MasVnrArea',\n       'BsmtFinSF1', 'BsmtFinSF2', 'BsmtUnfSF', 'TotalBsmtSF', '1stFlrSF',\n       '2ndFlrSF', 'LowQualFinSF', 'GrLivArea', 'BsmtFullBath',\n       'BsmtHalfBath', 'FullBath', 'HalfBath', 'BedroomAbvGr',\n       'KitchenAbvGr', 'TotRmsAbvGrd', 'Fireplaces', 'GarageYrBlt',\n       'GarageCars', 'GarageArea', 'WoodDeckSF', 'OpenPorchSF',\n       'EnclosedPorch', '3SsnPorch', 'ScreenPorch', 'PoolArea', 'MiscVal',\n       'MoSold', 'YrSold', 'SalePrice'], dtype='<U13')"
     },
     "execution_count": 13,
     "metadata": {},
     "output_type": "execute_result"
    }
   ],
   "source": [
    "np.array(numerical_columns)"
   ],
   "metadata": {
    "collapsed": false
   }
  },
  {
   "cell_type": "code",
   "execution_count": 16,
   "outputs": [
    {
     "name": "stdout",
     "output_type": "stream",
     "text": [
      "=========================\n",
      "MSZoning\n",
      "=========================\n",
      "RL         0.788356\n",
      "RM         0.149315\n",
      "FV         0.044521\n",
      "RH         0.010959\n",
      "C (all)    0.006849\n",
      "Name: MSZoning, dtype: float64\n",
      "-------------------------\n",
      "=========================\n",
      "Street\n",
      "=========================\n",
      "Pave    0.99589\n",
      "Grvl    0.00411\n",
      "Name: Street, dtype: float64\n",
      "-------------------------\n",
      "=========================\n",
      "Alley\n",
      "=========================\n",
      "NaN     0.937671\n",
      "Grvl    0.034247\n",
      "Pave    0.028082\n",
      "Name: Alley, dtype: float64\n",
      "-------------------------\n",
      "=========================\n",
      "LotShape\n",
      "=========================\n",
      "Reg    0.633562\n",
      "IR1    0.331507\n",
      "IR2    0.028082\n",
      "IR3    0.006849\n",
      "Name: LotShape, dtype: float64\n",
      "-------------------------\n",
      "=========================\n",
      "LandContour\n",
      "=========================\n",
      "Lvl    0.897945\n",
      "Bnk    0.043151\n",
      "HLS    0.034247\n",
      "Low    0.024658\n",
      "Name: LandContour, dtype: float64\n",
      "-------------------------\n",
      "=========================\n",
      "Utilities\n",
      "=========================\n",
      "AllPub    0.999315\n",
      "NoSeWa    0.000685\n",
      "Name: Utilities, dtype: float64\n",
      "-------------------------\n",
      "=========================\n",
      "LotConfig\n",
      "=========================\n",
      "Inside     0.720548\n",
      "Corner     0.180137\n",
      "CulDSac    0.064384\n",
      "FR2        0.032192\n",
      "FR3        0.002740\n",
      "Name: LotConfig, dtype: float64\n",
      "-------------------------\n",
      "=========================\n",
      "LandSlope\n",
      "=========================\n",
      "Gtl    0.946575\n",
      "Mod    0.044521\n",
      "Sev    0.008904\n",
      "Name: LandSlope, dtype: float64\n",
      "-------------------------\n",
      "=========================\n",
      "Neighborhood\n",
      "=========================\n",
      "NAmes      0.154110\n",
      "CollgCr    0.102740\n",
      "OldTown    0.077397\n",
      "Edwards    0.068493\n",
      "Somerst    0.058904\n",
      "Gilbert    0.054110\n",
      "NridgHt    0.052740\n",
      "Sawyer     0.050685\n",
      "NWAmes     0.050000\n",
      "SawyerW    0.040411\n",
      "BrkSide    0.039726\n",
      "Crawfor    0.034932\n",
      "Mitchel    0.033562\n",
      "NoRidge    0.028082\n",
      "Timber     0.026027\n",
      "IDOTRR     0.025342\n",
      "ClearCr    0.019178\n",
      "StoneBr    0.017123\n",
      "SWISU      0.017123\n",
      "MeadowV    0.011644\n",
      "Blmngtn    0.011644\n",
      "BrDale     0.010959\n",
      "Veenker    0.007534\n",
      "NPkVill    0.006164\n",
      "Blueste    0.001370\n",
      "Name: Neighborhood, dtype: float64\n",
      "-------------------------\n",
      "=========================\n",
      "Condition1\n",
      "=========================\n",
      "Norm      0.863014\n",
      "Feedr     0.055479\n",
      "Artery    0.032877\n",
      "RRAn      0.017808\n",
      "PosN      0.013014\n",
      "RRAe      0.007534\n",
      "PosA      0.005479\n",
      "RRNn      0.003425\n",
      "RRNe      0.001370\n",
      "Name: Condition1, dtype: float64\n",
      "-------------------------\n",
      "=========================\n",
      "Condition2\n",
      "=========================\n",
      "Norm      0.989726\n",
      "Feedr     0.004110\n",
      "Artery    0.001370\n",
      "RRNn      0.001370\n",
      "PosN      0.001370\n",
      "PosA      0.000685\n",
      "RRAn      0.000685\n",
      "RRAe      0.000685\n",
      "Name: Condition2, dtype: float64\n",
      "-------------------------\n",
      "=========================\n",
      "BldgType\n",
      "=========================\n",
      "1Fam      0.835616\n",
      "TwnhsE    0.078082\n",
      "Duplex    0.035616\n",
      "Twnhs     0.029452\n",
      "2fmCon    0.021233\n",
      "Name: BldgType, dtype: float64\n",
      "-------------------------\n",
      "=========================\n",
      "HouseStyle\n",
      "=========================\n",
      "1Story    0.497260\n",
      "2Story    0.304795\n",
      "1.5Fin    0.105479\n",
      "SLvl      0.044521\n",
      "SFoyer    0.025342\n",
      "1.5Unf    0.009589\n",
      "2.5Unf    0.007534\n",
      "2.5Fin    0.005479\n",
      "Name: HouseStyle, dtype: float64\n",
      "-------------------------\n",
      "=========================\n",
      "RoofStyle\n",
      "=========================\n",
      "Gable      0.781507\n",
      "Hip        0.195890\n",
      "Flat       0.008904\n",
      "Gambrel    0.007534\n",
      "Mansard    0.004795\n",
      "Shed       0.001370\n",
      "Name: RoofStyle, dtype: float64\n",
      "-------------------------\n",
      "=========================\n",
      "RoofMatl\n",
      "=========================\n",
      "CompShg    0.982192\n",
      "Tar&Grv    0.007534\n",
      "WdShngl    0.004110\n",
      "WdShake    0.003425\n",
      "Metal      0.000685\n",
      "Membran    0.000685\n",
      "Roll       0.000685\n",
      "ClyTile    0.000685\n",
      "Name: RoofMatl, dtype: float64\n",
      "-------------------------\n",
      "=========================\n",
      "Exterior1st\n",
      "=========================\n",
      "VinylSd    0.352740\n",
      "HdBoard    0.152055\n",
      "MetalSd    0.150685\n",
      "Wd Sdng    0.141096\n",
      "Plywood    0.073973\n",
      "CemntBd    0.041781\n",
      "BrkFace    0.034247\n",
      "WdShing    0.017808\n",
      "Stucco     0.017123\n",
      "AsbShng    0.013699\n",
      "BrkComm    0.001370\n",
      "Stone      0.001370\n",
      "AsphShn    0.000685\n",
      "ImStucc    0.000685\n",
      "CBlock     0.000685\n",
      "Name: Exterior1st, dtype: float64\n",
      "-------------------------\n",
      "=========================\n",
      "Exterior2nd\n",
      "=========================\n",
      "VinylSd    0.345205\n",
      "MetalSd    0.146575\n",
      "HdBoard    0.141781\n",
      "Wd Sdng    0.134932\n",
      "Plywood    0.097260\n",
      "CmentBd    0.041096\n",
      "Wd Shng    0.026027\n",
      "Stucco     0.017808\n",
      "BrkFace    0.017123\n",
      "AsbShng    0.013699\n",
      "ImStucc    0.006849\n",
      "Brk Cmn    0.004795\n",
      "Stone      0.003425\n",
      "AsphShn    0.002055\n",
      "Other      0.000685\n",
      "CBlock     0.000685\n",
      "Name: Exterior2nd, dtype: float64\n",
      "-------------------------\n",
      "=========================\n",
      "MasVnrType\n",
      "=========================\n",
      "None       0.591781\n",
      "BrkFace    0.304795\n",
      "Stone      0.087671\n",
      "BrkCmn     0.010274\n",
      "NaN        0.005479\n",
      "Name: MasVnrType, dtype: float64\n",
      "-------------------------\n",
      "=========================\n",
      "ExterQual\n",
      "=========================\n",
      "TA    0.620548\n",
      "Gd    0.334247\n",
      "Ex    0.035616\n",
      "Fa    0.009589\n",
      "Name: ExterQual, dtype: float64\n",
      "-------------------------\n",
      "=========================\n",
      "ExterCond\n",
      "=========================\n",
      "TA    0.878082\n",
      "Gd    0.100000\n",
      "Fa    0.019178\n",
      "Ex    0.002055\n",
      "Po    0.000685\n",
      "Name: ExterCond, dtype: float64\n",
      "-------------------------\n",
      "=========================\n",
      "Foundation\n",
      "=========================\n",
      "PConc     0.443151\n",
      "CBlock    0.434247\n",
      "BrkTil    0.100000\n",
      "Slab      0.016438\n",
      "Stone     0.004110\n",
      "Wood      0.002055\n",
      "Name: Foundation, dtype: float64\n",
      "-------------------------\n",
      "=========================\n",
      "BsmtQual\n",
      "=========================\n",
      "TA     0.444521\n",
      "Gd     0.423288\n",
      "Ex     0.082877\n",
      "NaN    0.025342\n",
      "Fa     0.023973\n",
      "Name: BsmtQual, dtype: float64\n",
      "-------------------------\n",
      "=========================\n",
      "BsmtCond\n",
      "=========================\n",
      "TA     0.897945\n",
      "Gd     0.044521\n",
      "Fa     0.030822\n",
      "NaN    0.025342\n",
      "Po     0.001370\n",
      "Name: BsmtCond, dtype: float64\n",
      "-------------------------\n",
      "=========================\n",
      "BsmtExposure\n",
      "=========================\n",
      "No     0.652740\n",
      "Av     0.151370\n",
      "Gd     0.091781\n",
      "Mn     0.078082\n",
      "NaN    0.026027\n",
      "Name: BsmtExposure, dtype: float64\n",
      "-------------------------\n",
      "=========================\n",
      "BsmtFinType1\n",
      "=========================\n",
      "Unf    0.294521\n",
      "GLQ    0.286301\n",
      "ALQ    0.150685\n",
      "BLQ    0.101370\n",
      "Rec    0.091096\n",
      "LwQ    0.050685\n",
      "NaN    0.025342\n",
      "Name: BsmtFinType1, dtype: float64\n",
      "-------------------------\n",
      "=========================\n",
      "BsmtFinType2\n",
      "=========================\n",
      "Unf    0.860274\n",
      "Rec    0.036986\n",
      "LwQ    0.031507\n",
      "NaN    0.026027\n",
      "BLQ    0.022603\n",
      "ALQ    0.013014\n",
      "GLQ    0.009589\n",
      "Name: BsmtFinType2, dtype: float64\n",
      "-------------------------\n",
      "=========================\n",
      "Heating\n",
      "=========================\n",
      "GasA     0.978082\n",
      "GasW     0.012329\n",
      "Grav     0.004795\n",
      "Wall     0.002740\n",
      "OthW     0.001370\n",
      "Floor    0.000685\n",
      "Name: Heating, dtype: float64\n",
      "-------------------------\n",
      "=========================\n",
      "HeatingQC\n",
      "=========================\n",
      "Ex    0.507534\n",
      "TA    0.293151\n",
      "Gd    0.165068\n",
      "Fa    0.033562\n",
      "Po    0.000685\n",
      "Name: HeatingQC, dtype: float64\n",
      "-------------------------\n",
      "=========================\n",
      "CentralAir\n",
      "=========================\n",
      "Y    0.934932\n",
      "N    0.065068\n",
      "Name: CentralAir, dtype: float64\n",
      "-------------------------\n",
      "=========================\n",
      "Electrical\n",
      "=========================\n",
      "SBrkr    0.913699\n",
      "FuseA    0.064384\n",
      "FuseF    0.018493\n",
      "FuseP    0.002055\n",
      "Mix      0.000685\n",
      "NaN      0.000685\n",
      "Name: Electrical, dtype: float64\n",
      "-------------------------\n",
      "=========================\n",
      "KitchenQual\n",
      "=========================\n",
      "TA    0.503425\n",
      "Gd    0.401370\n",
      "Ex    0.068493\n",
      "Fa    0.026712\n",
      "Name: KitchenQual, dtype: float64\n",
      "-------------------------\n",
      "=========================\n",
      "Functional\n",
      "=========================\n",
      "Typ     0.931507\n",
      "Min2    0.023288\n",
      "Min1    0.021233\n",
      "Mod     0.010274\n",
      "Maj1    0.009589\n",
      "Maj2    0.003425\n",
      "Sev     0.000685\n",
      "Name: Functional, dtype: float64\n",
      "-------------------------\n",
      "=========================\n",
      "FireplaceQu\n",
      "=========================\n",
      "NaN    0.472603\n",
      "Gd     0.260274\n",
      "TA     0.214384\n",
      "Fa     0.022603\n",
      "Ex     0.016438\n",
      "Po     0.013699\n",
      "Name: FireplaceQu, dtype: float64\n",
      "-------------------------\n",
      "=========================\n",
      "GarageType\n",
      "=========================\n",
      "Attchd     0.595890\n",
      "Detchd     0.265068\n",
      "BuiltIn    0.060274\n",
      "NaN        0.055479\n",
      "Basment    0.013014\n",
      "CarPort    0.006164\n",
      "2Types     0.004110\n",
      "Name: GarageType, dtype: float64\n",
      "-------------------------\n",
      "=========================\n",
      "GarageFinish\n",
      "=========================\n",
      "Unf    0.414384\n",
      "RFn    0.289041\n",
      "Fin    0.241096\n",
      "NaN    0.055479\n",
      "Name: GarageFinish, dtype: float64\n",
      "-------------------------\n",
      "=========================\n",
      "GarageQual\n",
      "=========================\n",
      "TA     0.897945\n",
      "NaN    0.055479\n",
      "Fa     0.032877\n",
      "Gd     0.009589\n",
      "Ex     0.002055\n",
      "Po     0.002055\n",
      "Name: GarageQual, dtype: float64\n",
      "-------------------------\n",
      "=========================\n",
      "GarageCond\n",
      "=========================\n",
      "TA     0.908219\n",
      "NaN    0.055479\n",
      "Fa     0.023973\n",
      "Gd     0.006164\n",
      "Po     0.004795\n",
      "Ex     0.001370\n",
      "Name: GarageCond, dtype: float64\n",
      "-------------------------\n",
      "=========================\n",
      "PavedDrive\n",
      "=========================\n",
      "Y    0.917808\n",
      "N    0.061644\n",
      "P    0.020548\n",
      "Name: PavedDrive, dtype: float64\n",
      "-------------------------\n",
      "=========================\n",
      "PoolQC\n",
      "=========================\n",
      "NaN    0.995205\n",
      "Gd     0.002055\n",
      "Ex     0.001370\n",
      "Fa     0.001370\n",
      "Name: PoolQC, dtype: float64\n",
      "-------------------------\n",
      "=========================\n",
      "Fence\n",
      "=========================\n",
      "NaN      0.807534\n",
      "MnPrv    0.107534\n",
      "GdPrv    0.040411\n",
      "GdWo     0.036986\n",
      "MnWw     0.007534\n",
      "Name: Fence, dtype: float64\n",
      "-------------------------\n",
      "=========================\n",
      "MiscFeature\n",
      "=========================\n",
      "NaN     0.963014\n",
      "Shed    0.033562\n",
      "Gar2    0.001370\n",
      "Othr    0.001370\n",
      "TenC    0.000685\n",
      "Name: MiscFeature, dtype: float64\n",
      "-------------------------\n",
      "=========================\n",
      "SaleType\n",
      "=========================\n",
      "WD       0.867808\n",
      "New      0.083562\n",
      "COD      0.029452\n",
      "ConLD    0.006164\n",
      "ConLI    0.003425\n",
      "ConLw    0.003425\n",
      "CWD      0.002740\n",
      "Oth      0.002055\n",
      "Con      0.001370\n",
      "Name: SaleType, dtype: float64\n",
      "-------------------------\n",
      "=========================\n",
      "SaleCondition\n",
      "=========================\n",
      "Normal     0.820548\n",
      "Partial    0.085616\n",
      "Abnorml    0.069178\n",
      "Family     0.013699\n",
      "Alloca     0.008219\n",
      "AdjLand    0.002740\n",
      "Name: SaleCondition, dtype: float64\n",
      "-------------------------\n"
     ]
    }
   ],
   "source": [
    "for col in categorical_columns:\n",
    "    print('=' * 25, end='')\n",
    "    print()\n",
    "    print(col)\n",
    "    print('=' * 25, end='')\n",
    "    print()\n",
    "    print(house_data[col].value_counts(normalize=True, dropna=False))\n",
    "    print('-' * 25, end='')\n",
    "    print()"
   ],
   "metadata": {
    "collapsed": false
   }
  },
  {
   "cell_type": "code",
   "execution_count": 21,
   "outputs": [],
   "source": [
    "binary_columns = ['PavedDrive', 'CentralAir', 'Street']\n",
    "nominal_columns = ['MSZoning', 'Alley', 'LandContour', 'Utilities',\n",
    "                   'LotConfig', 'Neighborhood', 'Condition1',\n",
    "                   'Condition2', 'BldgType', 'HouseStyle',\n",
    "                   'RoofStyle', 'RoofMatl', 'Exterior1st', 'Exterior2nd',\n",
    "                   'MasVnrType', 'Foundation', 'Heating', 'Electrical',\n",
    "                   'Functional', 'GarageType', 'Fence', 'MiscFeature',\n",
    "                   'SaleType']\n",
    "ordinal_columns = ['MSSubClass', 'LotShape', 'LandSlope', 'OverallQual',\n",
    "                   'OverallCond', 'ExterQual', 'ExterCond', 'BsmtQual',\n",
    "                   'BsmtCond', 'BsmtExposure', 'BsmtFinType1', 'BsmtFinType2',\n",
    "                   'HeatingQC', 'KitchenQual', 'FireplaceQu', 'GarageQual',\n",
    "                   'GarageCond', 'PoolQC']"
   ],
   "metadata": {
    "collapsed": false
   }
  },
  {
   "cell_type": "code",
   "execution_count": 20,
   "outputs": [
    {
     "data": {
      "text/plain": "LotFrontage      0.177397\nGarageYrBlt      0.055479\nMasVnrArea       0.005479\nOpenPorchSF      0.000000\nKitchenAbvGr     0.000000\nTotRmsAbvGrd     0.000000\nFireplaces       0.000000\nGarageCars       0.000000\nGarageArea       0.000000\nWoodDeckSF       0.000000\nMSSubClass       0.000000\nBedroomAbvGr     0.000000\n3SsnPorch        0.000000\nScreenPorch      0.000000\nPoolArea         0.000000\nMiscVal          0.000000\nMoSold           0.000000\nYrSold           0.000000\nEnclosedPorch    0.000000\nFullBath         0.000000\nHalfBath         0.000000\nBsmtFinSF2       0.000000\nLotArea          0.000000\nOverallQual      0.000000\nOverallCond      0.000000\nYearBuilt        0.000000\nYearRemodAdd     0.000000\nBsmtFinSF1       0.000000\nBsmtUnfSF        0.000000\nBsmtHalfBath     0.000000\nTotalBsmtSF      0.000000\n1stFlrSF         0.000000\n2ndFlrSF         0.000000\nLowQualFinSF     0.000000\nGrLivArea        0.000000\nBsmtFullBath     0.000000\nSalePrice        0.000000\ndtype: float64"
     },
     "execution_count": 20,
     "metadata": {},
     "output_type": "execute_result"
    }
   ],
   "source": [
    "house_data[numerical_columns].isnull().mean().sort_values(ascending=False)"
   ],
   "metadata": {
    "collapsed": false
   }
  },
  {
   "cell_type": "code",
   "execution_count": 24,
   "outputs": [
    {
     "data": {
      "text/plain": "PoolQC           0.995205\nMiscFeature      0.963014\nAlley            0.937671\nFence            0.807534\nFireplaceQu      0.472603\nGarageType       0.055479\nGarageCond       0.055479\nGarageQual       0.055479\nGarageFinish     0.055479\nBsmtFinType2     0.026027\nBsmtExposure     0.026027\nBsmtFinType1     0.025342\nBsmtQual         0.025342\nBsmtCond         0.025342\nMasVnrType       0.005479\nElectrical       0.000685\nFunctional       0.000000\nKitchenQual      0.000000\nCentralAir       0.000000\nHeatingQC        0.000000\nHeating          0.000000\nPavedDrive       0.000000\nSaleType         0.000000\nMSZoning         0.000000\nStreet           0.000000\nCondition2       0.000000\nLotShape         0.000000\nLandContour      0.000000\nUtilities        0.000000\nLotConfig        0.000000\nLandSlope        0.000000\nNeighborhood     0.000000\nCondition1       0.000000\nBldgType         0.000000\nFoundation       0.000000\nHouseStyle       0.000000\nRoofStyle        0.000000\nRoofMatl         0.000000\nExterior1st      0.000000\nExterior2nd      0.000000\nExterQual        0.000000\nExterCond        0.000000\nSaleCondition    0.000000\ndtype: float64"
     },
     "execution_count": 24,
     "metadata": {},
     "output_type": "execute_result"
    }
   ],
   "source": [
    "house_data[categorical_columns].isnull().mean().sort_values(ascending=False)"
   ],
   "metadata": {
    "collapsed": false
   }
  },
  {
   "cell_type": "code",
   "execution_count": 30,
   "outputs": [],
   "source": [
    "missing_cat_columns = ['Alley', 'MasVnrType', 'BsmtQual', 'BsmtCond',\n",
    "                       'BsmtExposure', 'BsmtFinType1', 'BsmtFinType2',\n",
    "                       'FireplaceQu', 'GarageType', 'GarageFinish',\n",
    "                       'GarageQual', 'GarageCond', 'PoolQC',\n",
    "                       'Fence', 'MiscFeature']\n",
    "missing_num_columns = ['LotFrontage', 'GarageYrBlt', 'MasVnrArea']"
   ],
   "metadata": {
    "collapsed": false
   }
  },
  {
   "cell_type": "code",
   "execution_count": 31,
   "outputs": [
    {
     "data": {
      "text/plain": "     Alley MasVnrType BsmtQual BsmtCond BsmtExposure BsmtFinType1  \\\nId                                                                  \n1      NaN    BrkFace       Gd       TA           No          GLQ   \n2      NaN       None       Gd       TA           Gd          ALQ   \n3      NaN    BrkFace       Gd       TA           Mn          GLQ   \n4      NaN       None       TA       Gd           No          ALQ   \n5      NaN    BrkFace       Gd       TA           Av          GLQ   \n...    ...        ...      ...      ...          ...          ...   \n1456   NaN       None       Gd       TA           No          Unf   \n1457   NaN      Stone       Gd       TA           No          ALQ   \n1458   NaN       None       TA       Gd           No          GLQ   \n1459   NaN       None       TA       TA           Mn          GLQ   \n1460   NaN       None       TA       TA           No          BLQ   \n\n     BsmtFinType2 FireplaceQu GarageType GarageFinish GarageQual GarageCond  \\\nId                                                                            \n1             Unf         NaN     Attchd          RFn         TA         TA   \n2             Unf          TA     Attchd          RFn         TA         TA   \n3             Unf          TA     Attchd          RFn         TA         TA   \n4             Unf          Gd     Detchd          Unf         TA         TA   \n5             Unf          TA     Attchd          RFn         TA         TA   \n...           ...         ...        ...          ...        ...        ...   \n1456          Unf          TA     Attchd          RFn         TA         TA   \n1457          Rec          TA     Attchd          Unf         TA         TA   \n1458          Unf          Gd     Attchd          RFn         TA         TA   \n1459          Rec         NaN     Attchd          Unf         TA         TA   \n1460          LwQ         NaN     Attchd          Fin         TA         TA   \n\n     PoolQC  Fence MiscFeature  \nId                              \n1       NaN    NaN         NaN  \n2       NaN    NaN         NaN  \n3       NaN    NaN         NaN  \n4       NaN    NaN         NaN  \n5       NaN    NaN         NaN  \n...     ...    ...         ...  \n1456    NaN    NaN         NaN  \n1457    NaN  MnPrv         NaN  \n1458    NaN  GdPrv        Shed  \n1459    NaN    NaN         NaN  \n1460    NaN    NaN         NaN  \n\n[1460 rows x 15 columns]",
      "text/html": "<div>\n<style scoped>\n    .dataframe tbody tr th:only-of-type {\n        vertical-align: middle;\n    }\n\n    .dataframe tbody tr th {\n        vertical-align: top;\n    }\n\n    .dataframe thead th {\n        text-align: right;\n    }\n</style>\n<table border=\"1\" class=\"dataframe\">\n  <thead>\n    <tr style=\"text-align: right;\">\n      <th></th>\n      <th>Alley</th>\n      <th>MasVnrType</th>\n      <th>BsmtQual</th>\n      <th>BsmtCond</th>\n      <th>BsmtExposure</th>\n      <th>BsmtFinType1</th>\n      <th>BsmtFinType2</th>\n      <th>FireplaceQu</th>\n      <th>GarageType</th>\n      <th>GarageFinish</th>\n      <th>GarageQual</th>\n      <th>GarageCond</th>\n      <th>PoolQC</th>\n      <th>Fence</th>\n      <th>MiscFeature</th>\n    </tr>\n    <tr>\n      <th>Id</th>\n      <th></th>\n      <th></th>\n      <th></th>\n      <th></th>\n      <th></th>\n      <th></th>\n      <th></th>\n      <th></th>\n      <th></th>\n      <th></th>\n      <th></th>\n      <th></th>\n      <th></th>\n      <th></th>\n      <th></th>\n    </tr>\n  </thead>\n  <tbody>\n    <tr>\n      <th>1</th>\n      <td>NaN</td>\n      <td>BrkFace</td>\n      <td>Gd</td>\n      <td>TA</td>\n      <td>No</td>\n      <td>GLQ</td>\n      <td>Unf</td>\n      <td>NaN</td>\n      <td>Attchd</td>\n      <td>RFn</td>\n      <td>TA</td>\n      <td>TA</td>\n      <td>NaN</td>\n      <td>NaN</td>\n      <td>NaN</td>\n    </tr>\n    <tr>\n      <th>2</th>\n      <td>NaN</td>\n      <td>None</td>\n      <td>Gd</td>\n      <td>TA</td>\n      <td>Gd</td>\n      <td>ALQ</td>\n      <td>Unf</td>\n      <td>TA</td>\n      <td>Attchd</td>\n      <td>RFn</td>\n      <td>TA</td>\n      <td>TA</td>\n      <td>NaN</td>\n      <td>NaN</td>\n      <td>NaN</td>\n    </tr>\n    <tr>\n      <th>3</th>\n      <td>NaN</td>\n      <td>BrkFace</td>\n      <td>Gd</td>\n      <td>TA</td>\n      <td>Mn</td>\n      <td>GLQ</td>\n      <td>Unf</td>\n      <td>TA</td>\n      <td>Attchd</td>\n      <td>RFn</td>\n      <td>TA</td>\n      <td>TA</td>\n      <td>NaN</td>\n      <td>NaN</td>\n      <td>NaN</td>\n    </tr>\n    <tr>\n      <th>4</th>\n      <td>NaN</td>\n      <td>None</td>\n      <td>TA</td>\n      <td>Gd</td>\n      <td>No</td>\n      <td>ALQ</td>\n      <td>Unf</td>\n      <td>Gd</td>\n      <td>Detchd</td>\n      <td>Unf</td>\n      <td>TA</td>\n      <td>TA</td>\n      <td>NaN</td>\n      <td>NaN</td>\n      <td>NaN</td>\n    </tr>\n    <tr>\n      <th>5</th>\n      <td>NaN</td>\n      <td>BrkFace</td>\n      <td>Gd</td>\n      <td>TA</td>\n      <td>Av</td>\n      <td>GLQ</td>\n      <td>Unf</td>\n      <td>TA</td>\n      <td>Attchd</td>\n      <td>RFn</td>\n      <td>TA</td>\n      <td>TA</td>\n      <td>NaN</td>\n      <td>NaN</td>\n      <td>NaN</td>\n    </tr>\n    <tr>\n      <th>...</th>\n      <td>...</td>\n      <td>...</td>\n      <td>...</td>\n      <td>...</td>\n      <td>...</td>\n      <td>...</td>\n      <td>...</td>\n      <td>...</td>\n      <td>...</td>\n      <td>...</td>\n      <td>...</td>\n      <td>...</td>\n      <td>...</td>\n      <td>...</td>\n      <td>...</td>\n    </tr>\n    <tr>\n      <th>1456</th>\n      <td>NaN</td>\n      <td>None</td>\n      <td>Gd</td>\n      <td>TA</td>\n      <td>No</td>\n      <td>Unf</td>\n      <td>Unf</td>\n      <td>TA</td>\n      <td>Attchd</td>\n      <td>RFn</td>\n      <td>TA</td>\n      <td>TA</td>\n      <td>NaN</td>\n      <td>NaN</td>\n      <td>NaN</td>\n    </tr>\n    <tr>\n      <th>1457</th>\n      <td>NaN</td>\n      <td>Stone</td>\n      <td>Gd</td>\n      <td>TA</td>\n      <td>No</td>\n      <td>ALQ</td>\n      <td>Rec</td>\n      <td>TA</td>\n      <td>Attchd</td>\n      <td>Unf</td>\n      <td>TA</td>\n      <td>TA</td>\n      <td>NaN</td>\n      <td>MnPrv</td>\n      <td>NaN</td>\n    </tr>\n    <tr>\n      <th>1458</th>\n      <td>NaN</td>\n      <td>None</td>\n      <td>TA</td>\n      <td>Gd</td>\n      <td>No</td>\n      <td>GLQ</td>\n      <td>Unf</td>\n      <td>Gd</td>\n      <td>Attchd</td>\n      <td>RFn</td>\n      <td>TA</td>\n      <td>TA</td>\n      <td>NaN</td>\n      <td>GdPrv</td>\n      <td>Shed</td>\n    </tr>\n    <tr>\n      <th>1459</th>\n      <td>NaN</td>\n      <td>None</td>\n      <td>TA</td>\n      <td>TA</td>\n      <td>Mn</td>\n      <td>GLQ</td>\n      <td>Rec</td>\n      <td>NaN</td>\n      <td>Attchd</td>\n      <td>Unf</td>\n      <td>TA</td>\n      <td>TA</td>\n      <td>NaN</td>\n      <td>NaN</td>\n      <td>NaN</td>\n    </tr>\n    <tr>\n      <th>1460</th>\n      <td>NaN</td>\n      <td>None</td>\n      <td>TA</td>\n      <td>TA</td>\n      <td>No</td>\n      <td>BLQ</td>\n      <td>LwQ</td>\n      <td>NaN</td>\n      <td>Attchd</td>\n      <td>Fin</td>\n      <td>TA</td>\n      <td>TA</td>\n      <td>NaN</td>\n      <td>NaN</td>\n      <td>NaN</td>\n    </tr>\n  </tbody>\n</table>\n<p>1460 rows × 15 columns</p>\n</div>"
     },
     "execution_count": 31,
     "metadata": {},
     "output_type": "execute_result"
    }
   ],
   "source": [
    "house_data[missing_cat_columns]"
   ],
   "metadata": {
    "collapsed": false
   }
  },
  {
   "cell_type": "markdown",
   "source": [
    "In categorical missing values there are two types. one is columns has a defined meaning of NA and other type is didn't have a defined meaning to NA's. we can classify first type as missing not at random and second as missing at random."
   ],
   "metadata": {
    "collapsed": false
   }
  },
  {
   "cell_type": "code",
   "execution_count": 35,
   "outputs": [],
   "source": [
    "arbitrary_impute = SimpleImputer(strategy='constant', fill_value='None')\n",
    "most_freq_impute = SimpleImputer(strategy='most_frequent')"
   ],
   "metadata": {
    "collapsed": false
   }
  },
  {
   "cell_type": "code",
   "execution_count": 33,
   "outputs": [
    {
     "data": {
      "text/plain": "array([['RL', 'Pave', 'None', ..., 'None', 'WD', 'Normal'],\n       ['RL', 'Pave', 'None', ..., 'None', 'WD', 'Normal'],\n       ['RL', 'Pave', 'None', ..., 'None', 'WD', 'Normal'],\n       ...,\n       ['RL', 'Pave', 'None', ..., 'Shed', 'WD', 'Normal'],\n       ['RL', 'Pave', 'None', ..., 'None', 'WD', 'Normal'],\n       ['RL', 'Pave', 'None', ..., 'None', 'WD', 'Normal']], dtype=object)"
     },
     "execution_count": 33,
     "metadata": {},
     "output_type": "execute_result"
    }
   ],
   "source": [
    "arbitrary_impute.fit_transform(house_data[categorical_columns])"
   ],
   "metadata": {
    "collapsed": false
   }
  },
  {
   "cell_type": "code",
   "execution_count": 36,
   "outputs": [
    {
     "data": {
      "text/plain": "array([['SBrkr'],\n       ['SBrkr'],\n       ['SBrkr'],\n       ...,\n       ['SBrkr'],\n       ['FuseA'],\n       ['SBrkr']], dtype=object)"
     },
     "execution_count": 36,
     "metadata": {},
     "output_type": "execute_result"
    }
   ],
   "source": [
    "most_freq_impute.fit_transform(house_data[['Electrical']])"
   ],
   "metadata": {
    "collapsed": false
   }
  }
 ],
 "metadata": {
  "kernelspec": {
   "display_name": "Python 3",
   "language": "python",
   "name": "python3"
  },
  "language_info": {
   "codemirror_mode": {
    "name": "ipython",
    "version": 2
   },
   "file_extension": ".py",
   "mimetype": "text/x-python",
   "name": "python",
   "nbconvert_exporter": "python",
   "pygments_lexer": "ipython2",
   "version": "2.7.6"
  }
 },
 "nbformat": 4,
 "nbformat_minor": 0
}
